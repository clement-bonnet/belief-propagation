{
 "cells": [
  {
   "cell_type": "code",
   "execution_count": 1,
   "id": "plain-liverpool",
   "metadata": {},
   "outputs": [],
   "source": [
    "import numpy as np\n",
    "from functools import reduce\n",
    "\n",
    "\"\"\"Adapted from https://towardsdatascience.com/belief-propagation-in-bayesian-networks-29f51fdc839c\"\"\"\n",
    "\n",
    "class Node:\n",
    "    def __init__(self, name):\n",
    "        self.name = name\n",
    "        self.cardinality = None\n",
    "        self.likelihood = None\n",
    "        self.priors = None\n",
    "        self.belief = None\n",
    "        self.parents = []\n",
    "        self.children = []\n",
    "        self.m = None\n",
    "\n",
    "    def add_parent(self, node):\n",
    "        self.parents.append(node)\n",
    "        node.children.append(self)\n",
    "\n",
    "    def __str__(self):\n",
    "        return self.name\n",
    "\n",
    "    def message_to_parent(self, parent):\n",
    "        \"\"\"\n",
    "        returns marginalized out parent message:\n",
    "            - in m: group all entries by receiver parent values (all with 0 together, all with 1 together)\n",
    "            - use other values in groups to get likelihood and messages from other parents\n",
    "            - multiply those values in each group element\n",
    "            - sum each group\n",
    "        \"\"\"\n",
    "        likelihood = self.get_likelihood()\n",
    "        parents_priors = np.array([p.message_to_child(self)\n",
    "                                   for p in self.parents\n",
    "                                   if p != parent])\n",
    "        parent_i = self.parents.index(parent)\n",
    "\n",
    "        stack = np.vstack([np.dot(self.m.take(r, axis=parent_i).transpose(),\n",
    "                                  parents_priors.prod(axis=0))\n",
    "                           for r in range(parent.cardinality)])\n",
    "\n",
    "        return np.dot(stack, likelihood)\n",
    "\n",
    "    def message_to_child(self, child):\n",
    "        children_messages = np.array([c.message_to_parent(self)\n",
    "                                      for c in self.children\n",
    "                                      if c != child])\n",
    "        if len(children_messages) > 0:\n",
    "            unnormalized = (children_messages * self.get_priors()).prod(axis=0)\n",
    "            message = unnormalized/unnormalized.sum()\n",
    "            return message\n",
    "        return self.get_priors()\n",
    "\n",
    "    def get_likelihood(self):\n",
    "        if self.likelihood is not None:\n",
    "            return self.likelihood\n",
    "\n",
    "        incoming_children_messages = np.array([c.message_to_parent(self)\n",
    "                                               for c in self.children])\n",
    "        return incoming_children_messages.prod(axis=0)\n",
    "\n",
    "    def get_priors(self):\n",
    "        # Union over the partition of intersections of parents priors\n",
    "        if self.priors is not None:\n",
    "            return self.priors\n",
    "\n",
    "        parents_messages = [p.message_to_child(self)\n",
    "                            for p in self.parents]\n",
    "        priors = reduce(np.dot, [self.m.transpose()]+parents_messages)\n",
    "        return priors\n",
    "\n",
    "    def get_belief(self):\n",
    "        if self.belief is not None:\n",
    "            return self.belief\n",
    "\n",
    "        unnormalized = self.get_likelihood() * self.get_priors()\n",
    "        return unnormalized/unnormalized.sum()\n",
    "\n",
    "def dot_T(x, y):\n",
    "    return np.dot(x.transpose(), y)"
   ]
  },
  {
   "cell_type": "code",
   "execution_count": 2,
   "id": "herbal-burton",
   "metadata": {},
   "outputs": [],
   "source": [
    "rain = Node(\"rain\")\n",
    "rain.cardinality = 2\n",
    "rain.priors = np.array([0.2, 0.8]) #  no=0 yes=1\n",
    "\n",
    "sprinkler = Node(\"sprinkler\")\n",
    "sprinkler.cardinality = 2\n",
    "sprinkler.priors = np.array([0.1, 0.9]) #  no=0 yes=1\n",
    "\n",
    "m = np.zeros((2, 2, 2)) #  rain, sprinkler, holmes' grass\n",
    "m[1, 1, 1] = 1\n",
    "m[0, 1, 1] = 0.9\n",
    "m[0, 1, 0] = 0.1\n",
    "m[1, 0, 1] = 1\n",
    "m[0, 0, 0] = 1\n",
    "holmes = Node(\"holmes\")\n",
    "holmes.cardinality = 2\n",
    "holmes.m = m\n",
    "\n",
    "m = np.zeros((2, 2)) # rain, watson's grass\n",
    "m[1, 1] = 1\n",
    "m[0, 1] = 0.2\n",
    "m[0, 0] = 0.8\n",
    "watson = Node(\"watson\")\n",
    "watson.cardinality = 2\n",
    "watson.m = m\n",
    "\n",
    "\n",
    "holmes.add_parent(rain)\n",
    "holmes.add_parent(sprinkler)\n",
    "watson.add_parent(rain)"
   ]
  },
  {
   "cell_type": "markdown",
   "id": "approximate-canadian",
   "metadata": {},
   "source": [
    "No evidence from neither Holmes nor Watson"
   ]
  },
  {
   "cell_type": "code",
   "execution_count": 3,
   "id": "varied-directory",
   "metadata": {},
   "outputs": [
    {
     "output_type": "stream",
     "name": "stdout",
     "text": [
      "Belief about Watson's: 0.840\nBelief about Holmes': 0.962\nBelief about the rain: 0.800\nBelief about the sprinkler: 0.900\n"
     ]
    }
   ],
   "source": [
    "holmes.likelihood = np.array([1, 1])\n",
    "watson.likelihood = np.array([1, 1])\n",
    "print(\"Belief about Watson's: {:.3f}\".format(watson.get_belief()[1]))\n",
    "print(\"Belief about Holmes': {:.3f}\".format(holmes.get_belief()[1]))\n",
    "print(\"Belief about the rain: {:.3f}\".format(rain.get_belief()[1]))\n",
    "print(\"Belief about the sprinkler: {:.3f}\".format(sprinkler.get_belief()[1]))"
   ]
  },
  {
   "source": [
    "Holmes' grass is wet, yet don't know about Watson"
   ],
   "cell_type": "markdown",
   "metadata": {}
  },
  {
   "cell_type": "code",
   "execution_count": 4,
   "metadata": {},
   "outputs": [
    {
     "output_type": "stream",
     "name": "stdout",
     "text": [
      "Belief about Watson's: 0.865\nBelief about Holmes': 1.000\nBelief about the rain: 0.832\nBelief about the sprinkler: 0.917\n"
     ]
    }
   ],
   "source": [
    "holmes.likelihood = np.array([0, 1])\n",
    "watson.likelihood = np.array([1, 1])\n",
    "print(\"Belief about Watson's: {:.3f}\".format(watson.get_belief()[1]))\n",
    "print(\"Belief about Holmes': {:.3f}\".format(holmes.get_belief()[1]))\n",
    "print(\"Belief about the rain: {:.3f}\".format(rain.get_belief()[1]))\n",
    "print(\"Belief about the sprinkler: {:.3f}\".format(sprinkler.get_belief()[1]))"
   ]
  }
 ],
 "metadata": {
  "kernelspec": {
   "display_name": "Python 3",
   "language": "python",
   "name": "python3"
  },
  "language_info": {
   "codemirror_mode": {
    "name": "ipython",
    "version": 3
   },
   "file_extension": ".py",
   "mimetype": "text/x-python",
   "name": "python",
   "nbconvert_exporter": "python",
   "pygments_lexer": "ipython3",
   "version": "3.8.5"
  }
 },
 "nbformat": 4,
 "nbformat_minor": 5
}