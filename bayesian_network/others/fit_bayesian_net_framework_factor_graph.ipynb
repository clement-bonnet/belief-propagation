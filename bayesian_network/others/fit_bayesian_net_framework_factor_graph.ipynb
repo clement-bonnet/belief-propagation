{
 "cells": [
  {
   "cell_type": "code",
   "execution_count": 1,
   "metadata": {},
   "outputs": [],
   "source": [
    "import sys\n",
    "sys.path.append('../../')\n",
    "import warnings\n",
    "warnings.filterwarnings('ignore')\n",
    "import numpy as np\n",
    "\n",
    "from src.graph import Graph, Node"
   ]
  },
  {
   "cell_type": "code",
   "execution_count": 2,
   "metadata": {},
   "outputs": [],
   "source": [
    "dic_nodes = {}\n",
    "edge_names = []\n",
    "\n",
    "tab_name_V = [\"Sprinkler\", \"Rain\", \"My_grass\", \"His_grass\"]\n",
    "for name_V in tab_name_V:\n",
    "    node_V = Node(name_V, \"V\", nb_states=2)\n",
    "    dic_nodes[name_V] = node_V\n",
    "\n",
    "# By convention, small letters represent small variable ie. < 0.3\n",
    "a, b = 0, 0.1\n",
    "c, d = 0.01, 0.01\n",
    "e, f = 0.09, 0.01\n",
    "g, h = 0.15, 0.2\n",
    "# a, b, c, d, e, f, g, h = np.random.rand(8)\n",
    "\n",
    "dist_list = [\n",
    "    [\n",
    "        [1-a, b],\n",
    "        [a, 1-b]\n",
    "    ],\n",
    "    [\n",
    "        [1-c, d],\n",
    "        [c, 1-d]\n",
    "    ],\n",
    "    [\n",
    "        [1-e, f],\n",
    "        [e, 1-f]\n",
    "    ],\n",
    "]\n",
    "\n",
    "tab_dist_index = [\n",
    "    [\"My_grass\", \"Sprinkler\"],\n",
    "    [\"My_grass\", \"Rain\"],\n",
    "    [\"His_grass\", \"Rain\"],\n",
    "]\n",
    "\n",
    "for dist, dist_index in zip(dist_list, tab_dist_index):\n",
    "    dist = np.array(dist)\n",
    "    first_letters = dist_index[1][0] + dist_index[0][0]\n",
    "    name_F = f\"F_{first_letters}\"\n",
    "    node_F = Node(name_F, \"F\", dist=dist, dist_index=dist_index)\n",
    "    dic_nodes[name_F] = node_F\n",
    "    edge_names.append((dist_index[1], name_F))\n",
    "    edge_names.append((name_F, dist_index[0]))\n",
    "\n",
    "\n",
    "# Priors on parents nodes\n",
    "dist_list = [\n",
    "    [g, 1-g],\n",
    "    [1-h, h],\n",
    "]\n",
    "\n",
    "tab_dist_index = [\n",
    "    [\"Sprinkler\"],\n",
    "    [\"Rain\"],\n",
    "]\n",
    "\n",
    "for dist, dist_index in zip(dist_list, tab_dist_index):\n",
    "    dist = np.array(dist)\n",
    "    name_V = dist_index[0]\n",
    "    name_F = f\"F_{name_V[0]}\"\n",
    "    node_F = Node(name_F, \"F\", dist=dist, dist_index=dist_index)\n",
    "    dic_nodes[name_F] = node_F\n",
    "    edge_names.append((name_F, name_V))\n",
    "\n",
    "\n",
    "graph = Graph(dic_nodes, edge_names)"
   ]
  },
  {
   "cell_type": "code",
   "execution_count": 3,
   "metadata": {},
   "outputs": [
    {
     "output_type": "display_data",
     "data": {
      "text/plain": "<Figure size 432x288 with 1 Axes>",
      "image/svg+xml": "<?xml version=\"1.0\" encoding=\"utf-8\" standalone=\"no\"?>\n<!DOCTYPE svg PUBLIC \"-//W3C//DTD SVG 1.1//EN\"\n  \"http://www.w3.org/Graphics/SVG/1.1/DTD/svg11.dtd\">\n<!-- Created with matplotlib (https://matplotlib.org/) -->\n<svg height=\"302.4pt\" version=\"1.1\" viewBox=\"0 0 446.4 302.4\" width=\"446.4pt\" xmlns=\"http://www.w3.org/2000/svg\" xmlns:xlink=\"http://www.w3.org/1999/xlink\">\n <metadata>\n  <rdf:RDF xmlns:cc=\"http://creativecommons.org/ns#\" xmlns:dc=\"http://purl.org/dc/elements/1.1/\" xmlns:rdf=\"http://www.w3.org/1999/02/22-rdf-syntax-ns#\">\n   <cc:Work>\n    <dc:type rdf:resource=\"http://purl.org/dc/dcmitype/StillImage\"/>\n    <dc:date>2021-03-31T01:20:08.872920</dc:date>\n    <dc:format>image/svg+xml</dc:format>\n    <dc:creator>\n     <cc:Agent>\n      <dc:title>Matplotlib v3.3.4, https://matplotlib.org/</dc:title>\n     </cc:Agent>\n    </dc:creator>\n   </cc:Work>\n  </rdf:RDF>\n </metadata>\n <defs>\n  <style type=\"text/css\">*{stroke-linecap:butt;stroke-linejoin:round;}</style>\n </defs>\n <g id=\"figure_1\">\n  <g id=\"patch_1\">\n   <path d=\"M 0 302.4 \nL 446.4 302.4 \nL 446.4 0 \nL 0 0 \nz\n\" style=\"fill:#ffffff;\"/>\n  </g>\n  <g id=\"axes_1\">\n   <g id=\"LineCollection_1\">\n    <path clip-path=\"url(#p6c91cfb180)\" d=\"M 63.248016 52.099616 \nL 104.13504 90.602331 \n\" style=\"fill:none;stroke:#000000;\"/>\n    <path clip-path=\"url(#p6c91cfb180)\" d=\"M 63.248016 52.099616 \nL 26.836364 20.290909 \n\" style=\"fill:none;stroke:#000000;\"/>\n    <path clip-path=\"url(#p6c91cfb180)\" d=\"M 210.277749 220.52547 \nL 179.559193 175.586195 \n\" style=\"fill:none;stroke:#000000;\"/>\n    <path clip-path=\"url(#p6c91cfb180)\" d=\"M 210.277749 220.52547 \nL 328.163992 254.048799 \n\" style=\"fill:none;stroke:#000000;\"/>\n    <path clip-path=\"url(#p6c91cfb180)\" d=\"M 210.277749 220.52547 \nL 82.98122 240.369343 \n\" style=\"fill:none;stroke:#000000;\"/>\n    <path clip-path=\"url(#p6c91cfb180)\" d=\"M 143.170728 132.123666 \nL 104.13504 90.602331 \n\" style=\"fill:none;stroke:#000000;\"/>\n    <path clip-path=\"url(#p6c91cfb180)\" d=\"M 143.170728 132.123666 \nL 179.559193 175.586195 \n\" style=\"fill:none;stroke:#000000;\"/>\n    <path clip-path=\"url(#p6c91cfb180)\" d=\"M 419.563636 282.109091 \nL 328.163992 254.048799 \n\" style=\"fill:none;stroke:#000000;\"/>\n   </g>\n   <g id=\"PathCollection_1\">\n    <defs>\n     <path d=\"M 0 8.660254 \nC 2.296726 8.660254 4.499694 7.747755 6.123724 6.123724 \nC 7.747755 4.499694 8.660254 2.296726 8.660254 0 \nC 8.660254 -2.296726 7.747755 -4.499694 6.123724 -6.123724 \nC 4.499694 -7.747755 2.296726 -8.660254 0 -8.660254 \nC -2.296726 -8.660254 -4.499694 -7.747755 -6.123724 -6.123724 \nC -7.747755 -4.499694 -8.660254 -2.296726 -8.660254 0 \nC -8.660254 2.296726 -7.747755 4.499694 -6.123724 6.123724 \nC -4.499694 7.747755 -2.296726 8.660254 0 8.660254 \nz\n\" id=\"m22f0c0ad0f\" style=\"stroke:#1f78b4;\"/>\n    </defs>\n    <g clip-path=\"url(#p6c91cfb180)\">\n     <use style=\"fill:#1f78b4;stroke:#1f78b4;\" x=\"63.248016\" xlink:href=\"#m22f0c0ad0f\" y=\"52.099616\"/>\n     <use style=\"fill:#1f78b4;stroke:#1f78b4;\" x=\"210.277749\" xlink:href=\"#m22f0c0ad0f\" y=\"220.52547\"/>\n     <use style=\"fill:#1f78b4;stroke:#1f78b4;\" x=\"143.170728\" xlink:href=\"#m22f0c0ad0f\" y=\"132.123666\"/>\n     <use style=\"fill:#1f78b4;stroke:#1f78b4;\" x=\"419.563636\" xlink:href=\"#m22f0c0ad0f\" y=\"282.109091\"/>\n     <use style=\"fill:#1f78b4;stroke:#1f78b4;\" x=\"104.13504\" xlink:href=\"#m22f0c0ad0f\" y=\"90.602331\"/>\n     <use style=\"fill:#1f78b4;stroke:#1f78b4;\" x=\"179.559193\" xlink:href=\"#m22f0c0ad0f\" y=\"175.586195\"/>\n     <use style=\"fill:#1f78b4;stroke:#1f78b4;\" x=\"328.163992\" xlink:href=\"#m22f0c0ad0f\" y=\"254.048799\"/>\n     <use style=\"fill:#1f78b4;stroke:#1f78b4;\" x=\"26.836364\" xlink:href=\"#m22f0c0ad0f\" y=\"20.290909\"/>\n     <use style=\"fill:#1f78b4;stroke:#1f78b4;\" x=\"82.98122\" xlink:href=\"#m22f0c0ad0f\" y=\"240.369343\"/>\n    </g>\n   </g>\n   <g id=\"text_1\">\n    <g clip-path=\"url(#p6c91cfb180)\">\n     <!-- Sprinkler -->\n     <g transform=\"translate(36.394266 55.410866)scale(0.12 -0.12)\">\n      <defs>\n       <path d=\"M 53.515625 70.515625 \nL 53.515625 60.890625 \nQ 47.90625 63.578125 42.921875 64.890625 \nQ 37.9375 66.21875 33.296875 66.21875 \nQ 25.25 66.21875 20.875 63.09375 \nQ 16.5 59.96875 16.5 54.203125 \nQ 16.5 49.359375 19.40625 46.890625 \nQ 22.3125 44.4375 30.421875 42.921875 \nL 36.375 41.703125 \nQ 47.40625 39.59375 52.65625 34.296875 \nQ 57.90625 29 57.90625 20.125 \nQ 57.90625 9.515625 50.796875 4.046875 \nQ 43.703125 -1.421875 29.984375 -1.421875 \nQ 24.8125 -1.421875 18.96875 -0.25 \nQ 13.140625 0.921875 6.890625 3.21875 \nL 6.890625 13.375 \nQ 12.890625 10.015625 18.65625 8.296875 \nQ 24.421875 6.59375 29.984375 6.59375 \nQ 38.421875 6.59375 43.015625 9.90625 \nQ 47.609375 13.234375 47.609375 19.390625 \nQ 47.609375 24.75 44.3125 27.78125 \nQ 41.015625 30.8125 33.5 32.328125 \nL 27.484375 33.5 \nQ 16.453125 35.6875 11.515625 40.375 \nQ 6.59375 45.0625 6.59375 53.421875 \nQ 6.59375 63.09375 13.40625 68.65625 \nQ 20.21875 74.21875 32.171875 74.21875 \nQ 37.3125 74.21875 42.625 73.28125 \nQ 47.953125 72.359375 53.515625 70.515625 \nz\n\" id=\"DejaVuSans-83\"/>\n       <path d=\"M 18.109375 8.203125 \nL 18.109375 -20.796875 \nL 9.078125 -20.796875 \nL 9.078125 54.6875 \nL 18.109375 54.6875 \nL 18.109375 46.390625 \nQ 20.953125 51.265625 25.265625 53.625 \nQ 29.59375 56 35.59375 56 \nQ 45.5625 56 51.78125 48.09375 \nQ 58.015625 40.1875 58.015625 27.296875 \nQ 58.015625 14.40625 51.78125 6.484375 \nQ 45.5625 -1.421875 35.59375 -1.421875 \nQ 29.59375 -1.421875 25.265625 0.953125 \nQ 20.953125 3.328125 18.109375 8.203125 \nz\nM 48.6875 27.296875 \nQ 48.6875 37.203125 44.609375 42.84375 \nQ 40.53125 48.484375 33.40625 48.484375 \nQ 26.265625 48.484375 22.1875 42.84375 \nQ 18.109375 37.203125 18.109375 27.296875 \nQ 18.109375 17.390625 22.1875 11.75 \nQ 26.265625 6.109375 33.40625 6.109375 \nQ 40.53125 6.109375 44.609375 11.75 \nQ 48.6875 17.390625 48.6875 27.296875 \nz\n\" id=\"DejaVuSans-112\"/>\n       <path d=\"M 41.109375 46.296875 \nQ 39.59375 47.171875 37.8125 47.578125 \nQ 36.03125 48 33.890625 48 \nQ 26.265625 48 22.1875 43.046875 \nQ 18.109375 38.09375 18.109375 28.8125 \nL 18.109375 0 \nL 9.078125 0 \nL 9.078125 54.6875 \nL 18.109375 54.6875 \nL 18.109375 46.1875 \nQ 20.953125 51.171875 25.484375 53.578125 \nQ 30.03125 56 36.53125 56 \nQ 37.453125 56 38.578125 55.875 \nQ 39.703125 55.765625 41.0625 55.515625 \nz\n\" id=\"DejaVuSans-114\"/>\n       <path d=\"M 9.421875 54.6875 \nL 18.40625 54.6875 \nL 18.40625 0 \nL 9.421875 0 \nz\nM 9.421875 75.984375 \nL 18.40625 75.984375 \nL 18.40625 64.59375 \nL 9.421875 64.59375 \nz\n\" id=\"DejaVuSans-105\"/>\n       <path d=\"M 54.890625 33.015625 \nL 54.890625 0 \nL 45.90625 0 \nL 45.90625 32.71875 \nQ 45.90625 40.484375 42.875 44.328125 \nQ 39.84375 48.1875 33.796875 48.1875 \nQ 26.515625 48.1875 22.3125 43.546875 \nQ 18.109375 38.921875 18.109375 30.90625 \nL 18.109375 0 \nL 9.078125 0 \nL 9.078125 54.6875 \nL 18.109375 54.6875 \nL 18.109375 46.1875 \nQ 21.34375 51.125 25.703125 53.5625 \nQ 30.078125 56 35.796875 56 \nQ 45.21875 56 50.046875 50.171875 \nQ 54.890625 44.34375 54.890625 33.015625 \nz\n\" id=\"DejaVuSans-110\"/>\n       <path d=\"M 9.078125 75.984375 \nL 18.109375 75.984375 \nL 18.109375 31.109375 \nL 44.921875 54.6875 \nL 56.390625 54.6875 \nL 27.390625 29.109375 \nL 57.625 0 \nL 45.90625 0 \nL 18.109375 26.703125 \nL 18.109375 0 \nL 9.078125 0 \nz\n\" id=\"DejaVuSans-107\"/>\n       <path d=\"M 9.421875 75.984375 \nL 18.40625 75.984375 \nL 18.40625 0 \nL 9.421875 0 \nz\n\" id=\"DejaVuSans-108\"/>\n       <path d=\"M 56.203125 29.59375 \nL 56.203125 25.203125 \nL 14.890625 25.203125 \nQ 15.484375 15.921875 20.484375 11.0625 \nQ 25.484375 6.203125 34.421875 6.203125 \nQ 39.59375 6.203125 44.453125 7.46875 \nQ 49.3125 8.734375 54.109375 11.28125 \nL 54.109375 2.78125 \nQ 49.265625 0.734375 44.1875 -0.34375 \nQ 39.109375 -1.421875 33.890625 -1.421875 \nQ 20.796875 -1.421875 13.15625 6.1875 \nQ 5.515625 13.8125 5.515625 26.8125 \nQ 5.515625 40.234375 12.765625 48.109375 \nQ 20.015625 56 32.328125 56 \nQ 43.359375 56 49.78125 48.890625 \nQ 56.203125 41.796875 56.203125 29.59375 \nz\nM 47.21875 32.234375 \nQ 47.125 39.59375 43.09375 43.984375 \nQ 39.0625 48.390625 32.421875 48.390625 \nQ 24.90625 48.390625 20.390625 44.140625 \nQ 15.875 39.890625 15.1875 32.171875 \nz\n\" id=\"DejaVuSans-101\"/>\n      </defs>\n      <use xlink:href=\"#DejaVuSans-83\"/>\n      <use x=\"63.476562\" xlink:href=\"#DejaVuSans-112\"/>\n      <use x=\"126.953125\" xlink:href=\"#DejaVuSans-114\"/>\n      <use x=\"168.066406\" xlink:href=\"#DejaVuSans-105\"/>\n      <use x=\"195.849609\" xlink:href=\"#DejaVuSans-110\"/>\n      <use x=\"259.228516\" xlink:href=\"#DejaVuSans-107\"/>\n      <use x=\"317.138672\" xlink:href=\"#DejaVuSans-108\"/>\n      <use x=\"344.921875\" xlink:href=\"#DejaVuSans-101\"/>\n      <use x=\"406.445312\" xlink:href=\"#DejaVuSans-114\"/>\n     </g>\n    </g>\n   </g>\n   <g id=\"text_2\">\n    <g clip-path=\"url(#p6c91cfb180)\">\n     <!-- Rain -->\n     <g transform=\"translate(197.097436 223.83672)scale(0.12 -0.12)\">\n      <defs>\n       <path d=\"M 44.390625 34.1875 \nQ 47.5625 33.109375 50.5625 29.59375 \nQ 53.5625 26.078125 56.59375 19.921875 \nL 66.609375 0 \nL 56 0 \nL 46.6875 18.703125 \nQ 43.0625 26.03125 39.671875 28.421875 \nQ 36.28125 30.8125 30.421875 30.8125 \nL 19.671875 30.8125 \nL 19.671875 0 \nL 9.8125 0 \nL 9.8125 72.90625 \nL 32.078125 72.90625 \nQ 44.578125 72.90625 50.734375 67.671875 \nQ 56.890625 62.453125 56.890625 51.90625 \nQ 56.890625 45.015625 53.6875 40.46875 \nQ 50.484375 35.9375 44.390625 34.1875 \nz\nM 19.671875 64.796875 \nL 19.671875 38.921875 \nL 32.078125 38.921875 \nQ 39.203125 38.921875 42.84375 42.21875 \nQ 46.484375 45.515625 46.484375 51.90625 \nQ 46.484375 58.296875 42.84375 61.546875 \nQ 39.203125 64.796875 32.078125 64.796875 \nz\n\" id=\"DejaVuSans-82\"/>\n       <path d=\"M 34.28125 27.484375 \nQ 23.390625 27.484375 19.1875 25 \nQ 14.984375 22.515625 14.984375 16.5 \nQ 14.984375 11.71875 18.140625 8.90625 \nQ 21.296875 6.109375 26.703125 6.109375 \nQ 34.1875 6.109375 38.703125 11.40625 \nQ 43.21875 16.703125 43.21875 25.484375 \nL 43.21875 27.484375 \nz\nM 52.203125 31.203125 \nL 52.203125 0 \nL 43.21875 0 \nL 43.21875 8.296875 \nQ 40.140625 3.328125 35.546875 0.953125 \nQ 30.953125 -1.421875 24.3125 -1.421875 \nQ 15.921875 -1.421875 10.953125 3.296875 \nQ 6 8.015625 6 15.921875 \nQ 6 25.140625 12.171875 29.828125 \nQ 18.359375 34.515625 30.609375 34.515625 \nL 43.21875 34.515625 \nL 43.21875 35.40625 \nQ 43.21875 41.609375 39.140625 45 \nQ 35.0625 48.390625 27.6875 48.390625 \nQ 23 48.390625 18.546875 47.265625 \nQ 14.109375 46.140625 10.015625 43.890625 \nL 10.015625 52.203125 \nQ 14.9375 54.109375 19.578125 55.046875 \nQ 24.21875 56 28.609375 56 \nQ 40.484375 56 46.34375 49.84375 \nQ 52.203125 43.703125 52.203125 31.203125 \nz\n\" id=\"DejaVuSans-97\"/>\n      </defs>\n      <use xlink:href=\"#DejaVuSans-82\"/>\n      <use x=\"67.232422\" xlink:href=\"#DejaVuSans-97\"/>\n      <use x=\"128.511719\" xlink:href=\"#DejaVuSans-105\"/>\n      <use x=\"156.294922\" xlink:href=\"#DejaVuSans-110\"/>\n     </g>\n    </g>\n   </g>\n   <g id=\"text_3\">\n    <g clip-path=\"url(#p6c91cfb180)\">\n     <!-- My_grass -->\n     <g transform=\"translate(115.238853 135.101166)scale(0.12 -0.12)\">\n      <defs>\n       <path d=\"M 9.8125 72.90625 \nL 24.515625 72.90625 \nL 43.109375 23.296875 \nL 61.8125 72.90625 \nL 76.515625 72.90625 \nL 76.515625 0 \nL 66.890625 0 \nL 66.890625 64.015625 \nL 48.09375 14.015625 \nL 38.1875 14.015625 \nL 19.390625 64.015625 \nL 19.390625 0 \nL 9.8125 0 \nz\n\" id=\"DejaVuSans-77\"/>\n       <path d=\"M 32.171875 -5.078125 \nQ 28.375 -14.84375 24.75 -17.8125 \nQ 21.140625 -20.796875 15.09375 -20.796875 \nL 7.90625 -20.796875 \nL 7.90625 -13.28125 \nL 13.1875 -13.28125 \nQ 16.890625 -13.28125 18.9375 -11.515625 \nQ 21 -9.765625 23.484375 -3.21875 \nL 25.09375 0.875 \nL 2.984375 54.6875 \nL 12.5 54.6875 \nL 29.59375 11.921875 \nL 46.6875 54.6875 \nL 56.203125 54.6875 \nz\n\" id=\"DejaVuSans-121\"/>\n       <path d=\"M 50.984375 -16.609375 \nL 50.984375 -23.578125 \nL -0.984375 -23.578125 \nL -0.984375 -16.609375 \nz\n\" id=\"DejaVuSans-95\"/>\n       <path d=\"M 45.40625 27.984375 \nQ 45.40625 37.75 41.375 43.109375 \nQ 37.359375 48.484375 30.078125 48.484375 \nQ 22.859375 48.484375 18.828125 43.109375 \nQ 14.796875 37.75 14.796875 27.984375 \nQ 14.796875 18.265625 18.828125 12.890625 \nQ 22.859375 7.515625 30.078125 7.515625 \nQ 37.359375 7.515625 41.375 12.890625 \nQ 45.40625 18.265625 45.40625 27.984375 \nz\nM 54.390625 6.78125 \nQ 54.390625 -7.171875 48.1875 -13.984375 \nQ 42 -20.796875 29.203125 -20.796875 \nQ 24.46875 -20.796875 20.265625 -20.09375 \nQ 16.0625 -19.390625 12.109375 -17.921875 \nL 12.109375 -9.1875 \nQ 16.0625 -11.328125 19.921875 -12.34375 \nQ 23.78125 -13.375 27.78125 -13.375 \nQ 36.625 -13.375 41.015625 -8.765625 \nQ 45.40625 -4.15625 45.40625 5.171875 \nL 45.40625 9.625 \nQ 42.625 4.78125 38.28125 2.390625 \nQ 33.9375 0 27.875 0 \nQ 17.828125 0 11.671875 7.65625 \nQ 5.515625 15.328125 5.515625 27.984375 \nQ 5.515625 40.671875 11.671875 48.328125 \nQ 17.828125 56 27.875 56 \nQ 33.9375 56 38.28125 53.609375 \nQ 42.625 51.21875 45.40625 46.390625 \nL 45.40625 54.6875 \nL 54.390625 54.6875 \nz\n\" id=\"DejaVuSans-103\"/>\n       <path d=\"M 44.28125 53.078125 \nL 44.28125 44.578125 \nQ 40.484375 46.53125 36.375 47.5 \nQ 32.28125 48.484375 27.875 48.484375 \nQ 21.1875 48.484375 17.84375 46.4375 \nQ 14.5 44.390625 14.5 40.28125 \nQ 14.5 37.15625 16.890625 35.375 \nQ 19.28125 33.59375 26.515625 31.984375 \nL 29.59375 31.296875 \nQ 39.15625 29.25 43.1875 25.515625 \nQ 47.21875 21.78125 47.21875 15.09375 \nQ 47.21875 7.46875 41.1875 3.015625 \nQ 35.15625 -1.421875 24.609375 -1.421875 \nQ 20.21875 -1.421875 15.453125 -0.5625 \nQ 10.6875 0.296875 5.421875 2 \nL 5.421875 11.28125 \nQ 10.40625 8.6875 15.234375 7.390625 \nQ 20.0625 6.109375 24.8125 6.109375 \nQ 31.15625 6.109375 34.5625 8.28125 \nQ 37.984375 10.453125 37.984375 14.40625 \nQ 37.984375 18.0625 35.515625 20.015625 \nQ 33.0625 21.96875 24.703125 23.78125 \nL 21.578125 24.515625 \nQ 13.234375 26.265625 9.515625 29.90625 \nQ 5.8125 33.546875 5.8125 39.890625 \nQ 5.8125 47.609375 11.28125 51.796875 \nQ 16.75 56 26.8125 56 \nQ 31.78125 56 36.171875 55.265625 \nQ 40.578125 54.546875 44.28125 53.078125 \nz\n\" id=\"DejaVuSans-115\"/>\n      </defs>\n      <use xlink:href=\"#DejaVuSans-77\"/>\n      <use x=\"86.279297\" xlink:href=\"#DejaVuSans-121\"/>\n      <use x=\"145.458984\" xlink:href=\"#DejaVuSans-95\"/>\n      <use x=\"195.458984\" xlink:href=\"#DejaVuSans-103\"/>\n      <use x=\"258.935547\" xlink:href=\"#DejaVuSans-114\"/>\n      <use x=\"300.048828\" xlink:href=\"#DejaVuSans-97\"/>\n      <use x=\"361.328125\" xlink:href=\"#DejaVuSans-115\"/>\n      <use x=\"413.427734\" xlink:href=\"#DejaVuSans-115\"/>\n     </g>\n    </g>\n   </g>\n   <g id=\"text_4\">\n    <g clip-path=\"url(#p6c91cfb180)\">\n     <!-- His_grass -->\n     <g transform=\"translate(391.055199 285.253466)scale(0.12 -0.12)\">\n      <defs>\n       <path d=\"M 9.8125 72.90625 \nL 19.671875 72.90625 \nL 19.671875 43.015625 \nL 55.515625 43.015625 \nL 55.515625 72.90625 \nL 65.375 72.90625 \nL 65.375 0 \nL 55.515625 0 \nL 55.515625 34.71875 \nL 19.671875 34.71875 \nL 19.671875 0 \nL 9.8125 0 \nz\n\" id=\"DejaVuSans-72\"/>\n      </defs>\n      <use xlink:href=\"#DejaVuSans-72\"/>\n      <use x=\"75.195312\" xlink:href=\"#DejaVuSans-105\"/>\n      <use x=\"102.978516\" xlink:href=\"#DejaVuSans-115\"/>\n      <use x=\"155.078125\" xlink:href=\"#DejaVuSans-95\"/>\n      <use x=\"205.078125\" xlink:href=\"#DejaVuSans-103\"/>\n      <use x=\"268.554688\" xlink:href=\"#DejaVuSans-114\"/>\n      <use x=\"309.667969\" xlink:href=\"#DejaVuSans-97\"/>\n      <use x=\"370.947266\" xlink:href=\"#DejaVuSans-115\"/>\n      <use x=\"423.046875\" xlink:href=\"#DejaVuSans-115\"/>\n     </g>\n    </g>\n   </g>\n   <g id=\"text_5\">\n    <g clip-path=\"url(#p6c91cfb180)\">\n     <!-- F_SM -->\n     <g transform=\"translate(88.698165 93.640768)scale(0.12 -0.12)\">\n      <defs>\n       <path d=\"M 9.8125 72.90625 \nL 51.703125 72.90625 \nL 51.703125 64.59375 \nL 19.671875 64.59375 \nL 19.671875 43.109375 \nL 48.578125 43.109375 \nL 48.578125 34.8125 \nL 19.671875 34.8125 \nL 19.671875 0 \nL 9.8125 0 \nz\n\" id=\"DejaVuSans-70\"/>\n      </defs>\n      <use xlink:href=\"#DejaVuSans-70\"/>\n      <use x=\"57.519531\" xlink:href=\"#DejaVuSans-95\"/>\n      <use x=\"107.519531\" xlink:href=\"#DejaVuSans-83\"/>\n      <use x=\"170.996094\" xlink:href=\"#DejaVuSans-77\"/>\n     </g>\n    </g>\n   </g>\n   <g id=\"text_6\">\n    <g clip-path=\"url(#p6c91cfb180)\">\n     <!-- F_RM -->\n     <g transform=\"translate(163.762318 178.563695)scale(0.12 -0.12)\">\n      <use xlink:href=\"#DejaVuSans-70\"/>\n      <use x=\"57.519531\" xlink:href=\"#DejaVuSans-95\"/>\n      <use x=\"107.519531\" xlink:href=\"#DejaVuSans-82\"/>\n      <use x=\"177.001953\" xlink:href=\"#DejaVuSans-77\"/>\n     </g>\n    </g>\n   </g>\n   <g id=\"text_7\">\n    <g clip-path=\"url(#p6c91cfb180)\">\n     <!-- F_RH -->\n     <g transform=\"translate(313.031805 257.026299)scale(0.12 -0.12)\">\n      <use xlink:href=\"#DejaVuSans-70\"/>\n      <use x=\"57.519531\" xlink:href=\"#DejaVuSans-95\"/>\n      <use x=\"107.519531\" xlink:href=\"#DejaVuSans-82\"/>\n      <use x=\"177.001953\" xlink:href=\"#DejaVuSans-72\"/>\n     </g>\n    </g>\n   </g>\n   <g id=\"text_8\">\n    <g clip-path=\"url(#p6c91cfb180)\">\n     <!-- F_S -->\n     <g transform=\"translate(16.576364 23.329347)scale(0.12 -0.12)\">\n      <use xlink:href=\"#DejaVuSans-70\"/>\n      <use x=\"57.519531\" xlink:href=\"#DejaVuSans-95\"/>\n      <use x=\"107.519531\" xlink:href=\"#DejaVuSans-83\"/>\n     </g>\n    </g>\n   </g>\n   <g id=\"text_9\">\n    <g clip-path=\"url(#p6c91cfb180)\">\n     <!-- F_R -->\n     <g transform=\"translate(72.36122 243.346843)scale(0.12 -0.12)\">\n      <use xlink:href=\"#DejaVuSans-70\"/>\n      <use x=\"57.519531\" xlink:href=\"#DejaVuSans-95\"/>\n      <use x=\"107.519531\" xlink:href=\"#DejaVuSans-82\"/>\n     </g>\n    </g>\n   </g>\n  </g>\n </g>\n <defs>\n  <clipPath id=\"p6c91cfb180\">\n   <rect height=\"288\" width=\"432\" x=\"7.2\" y=\"7.2\"/>\n  </clipPath>\n </defs>\n</svg>\n",
      "image/png": "[encoded data removed]"
     },
     "metadata": {}
    }
   ],
   "source": [
    "graph.plot()"
   ]
  },
  {
   "cell_type": "code",
   "execution_count": 4,
   "metadata": {},
   "outputs": [],
   "source": [
    "def plot_proba(dic):\n",
    "    return {key: [np.round(np.exp(log_proba),4) for log_proba in value][1] for key, value in dic.items()}"
   ]
  },
  {
   "cell_type": "code",
   "execution_count": 5,
   "metadata": {},
   "outputs": [],
   "source": [
    "graph.edges[1].message = np.array([0.5,1])"
   ]
  },
  {
   "cell_type": "code",
   "execution_count": 6,
   "metadata": {},
   "outputs": [
    {
     "output_type": "execute_result",
     "data": {
      "text/plain": [
       "[((Sprinkler -> F_SM), array([0., 0.])),\n",
       " ((F_SM -> My_grass), array([0.5, 1. ])),\n",
       " ((Rain -> F_RM), array([0., 0.])),\n",
       " ((F_RM -> My_grass), array([0., 0.])),\n",
       " ((Rain -> F_RH), array([0., 0.])),\n",
       " ((F_RH -> His_grass), array([0., 0.])),\n",
       " ((F_S -> Sprinkler), array([0., 0.])),\n",
       " ((F_R -> Rain), array([0., 0.])),\n",
       " ((F_SM -> Sprinkler), array([0., 0.])),\n",
       " ((My_grass -> F_SM), array([0., 0.])),\n",
       " ((F_RM -> Rain), array([0., 0.])),\n",
       " ((My_grass -> F_RM), array([0., 0.])),\n",
       " ((F_RH -> Rain), array([0., 0.])),\n",
       " ((His_grass -> F_RH), array([0., 0.])),\n",
       " ((Sprinkler -> F_S), array([0., 0.])),\n",
       " ((Rain -> F_R), array([0., 0.]))]"
      ]
     },
     "metadata": {},
     "execution_count": 6
    }
   ],
   "source": [
    "[(edge, edge.message) for edge in graph.edges]"
   ]
  },
  {
   "cell_type": "code",
   "execution_count": 7,
   "metadata": {},
   "outputs": [
    {
     "output_type": "stream",
     "name": "stdout",
     "text": [
      "6 (F_S -> Sprinkler)\n7 (F_R -> Rain)\n13 (His_grass -> F_RH)\n"
     ]
    },
    {
     "output_type": "execute_result",
     "data": {
      "text/plain": [
       "{'Sprinkler': 1.0, 'Rain': 0.1078, 'My_grass': 0.0, 'His_grass': 0.9073}"
      ]
     },
     "metadata": {},
     "execution_count": 7
    }
   ],
   "source": [
    "graph.belief_propagation()\n",
    "plot_proba(graph.compute_belief_nodes())"
   ]
  },
  {
   "cell_type": "code",
   "execution_count": 8,
   "metadata": {},
   "outputs": [
    {
     "output_type": "execute_result",
     "data": {
      "text/plain": [
       "[((Sprinkler -> F_SM), array([0., 0.])),\n",
       " ((F_SM -> My_grass), array([-1.80258509,        -inf])),\n",
       " ((Rain -> F_RM), array([0., 0.])),\n",
       " ((F_RM -> My_grass), array([-4.61522052, -4.61522052])),\n",
       " ((Rain -> F_RH), array([0., 0.])),\n",
       " ((F_RH -> His_grass), array([-4.69948087, -2.41799594])),\n",
       " ((F_S -> Sprinkler), array([0., 0.])),\n",
       " ((F_R -> Rain), array([0., 0.])),\n",
       " ((F_SM -> Sprinkler), array([       -inf, -2.40794561])),\n",
       " ((My_grass -> F_SM), array([-4.61522052, -4.61522052])),\n",
       " ((F_RM -> Rain), array([-4.61522052, -4.61522052])),\n",
       " ((My_grass -> F_RM), array([-1.80258509,        -inf])),\n",
       " ((F_RH -> Rain), array([-2.50225629, -4.61522052])),\n",
       " ((His_grass -> F_RH), array([0., 0.])),\n",
       " ((Sprinkler -> F_S), array([       -inf, -2.40794561])),\n",
       " ((Rain -> F_R), array([-7.11747681, -9.23044104]))]"
      ]
     },
     "metadata": {},
     "execution_count": 8
    }
   ],
   "source": [
    "[(edge, edge.message) for edge in graph.edges]"
   ]
  },
  {
   "cell_type": "raw",
   "metadata": {},
   "source": []
  }
 ],
 "metadata": {
  "kernelspec": {
   "display_name": "Python 3",
   "language": "python",
   "name": "python3"
  },
  "language_info": {
   "codemirror_mode": {
    "name": "ipython",
    "version": 3
   },
   "file_extension": ".py",
   "mimetype": "text/x-python",
   "name": "python",
   "nbconvert_exporter": "python",
   "pygments_lexer": "ipython3",
   "version": "3.8.5"
  }
 },
 "nbformat": 4,
 "nbformat_minor": 4
}