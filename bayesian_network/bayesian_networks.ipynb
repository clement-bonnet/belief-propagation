{
 "cells": [
  {
   "source": [
    "# Belief Propagation on a Bayesian Network"
   ],
   "cell_type": "markdown",
   "metadata": {}
  },
  {
   "source": [
    "## The Wet Grass Example"
   ],
   "cell_type": "markdown",
   "metadata": {}
  },
  {
   "cell_type": "code",
   "execution_count": 1,
   "metadata": {},
   "outputs": [],
   "source": [
    "import numpy as np\n",
    "\n",
    "from utils import Node"
   ]
  },
  {
   "cell_type": "code",
   "execution_count": 2,
   "id": "herbal-burton",
   "metadata": {},
   "outputs": [],
   "source": [
    "rain = Node(\"rain\")\n",
    "rain.cardinality = 2\n",
    "rain.priors = np.array([0.2, 0.8]) #  no=0 yes=1\n",
    "\n",
    "sprinkler = Node(\"sprinkler\")\n",
    "sprinkler.cardinality = 2\n",
    "sprinkler.priors = np.array([0.1, 0.9]) #  no=0 yes=1\n",
    "\n",
    "m = np.zeros((2, 2, 2)) #  rain, sprinkler, holmes' grass\n",
    "m[1, 1, 1] = 1\n",
    "m[0, 1, 1] = 0.9\n",
    "m[0, 1, 0] = 0.1\n",
    "m[1, 0, 1] = 1\n",
    "m[0, 0, 0] = 1\n",
    "holmes = Node(\"holmes\")\n",
    "holmes.cardinality = 2\n",
    "holmes.m = m\n",
    "\n",
    "m = np.zeros((2, 2)) # rain, watson's grass\n",
    "m[1, 1] = 1\n",
    "m[0, 1] = 0.2\n",
    "m[0, 0] = 0.8\n",
    "watson = Node(\"watson\")\n",
    "watson.cardinality = 2\n",
    "watson.m = m\n",
    "\n",
    "\n",
    "holmes.add_parent(rain)\n",
    "holmes.add_parent(sprinkler)\n",
    "watson.add_parent(rain)"
   ]
  },
  {
   "cell_type": "markdown",
   "id": "approximate-canadian",
   "metadata": {},
   "source": [
    "- No evidence from neither Holmes nor Watson"
   ]
  },
  {
   "cell_type": "code",
   "execution_count": 3,
   "id": "varied-directory",
   "metadata": {},
   "outputs": [
    {
     "output_type": "stream",
     "name": "stdout",
     "text": [
      "Belief about Watson's: 0.840\nBelief about Holmes': 0.962\nBelief about the rain: 0.800\nBelief about the sprinkler: 0.900\n"
     ]
    }
   ],
   "source": [
    "holmes.likelihood = np.array([1, 1])\n",
    "watson.likelihood = np.array([1, 1])\n",
    "print(\"Belief about Watson's: {:.3f}\".format(watson.get_belief()[1]))\n",
    "print(\"Belief about Holmes': {:.3f}\".format(holmes.get_belief()[1]))\n",
    "print(\"Belief about the rain: {:.3f}\".format(rain.get_belief()[1]))\n",
    "print(\"Belief about the sprinkler: {:.3f}\".format(sprinkler.get_belief()[1]))"
   ]
  },
  {
   "source": [
    "- Holmes' grass is wet, yet don't know about Watson"
   ],
   "cell_type": "markdown",
   "metadata": {}
  },
  {
   "cell_type": "code",
   "execution_count": 4,
   "metadata": {},
   "outputs": [
    {
     "output_type": "stream",
     "name": "stdout",
     "text": [
      "Belief about Watson's: 0.865\nBelief about Holmes': 1.000\nBelief about the rain: 0.832\nBelief about the sprinkler: 0.917\n"
     ]
    }
   ],
   "source": [
    "holmes.likelihood = np.array([0, 1])\n",
    "watson.likelihood = np.array([1, 1])\n",
    "print(\"Belief about Watson's: {:.3f}\".format(watson.get_belief()[1]))\n",
    "print(\"Belief about Holmes': {:.3f}\".format(holmes.get_belief()[1]))\n",
    "print(\"Belief about the rain: {:.3f}\".format(rain.get_belief()[1]))\n",
    "print(\"Belief about the sprinkler: {:.3f}\".format(sprinkler.get_belief()[1]))"
   ]
  }
 ],
 "metadata": {
  "kernelspec": {
   "display_name": "Python 3",
   "language": "python",
   "name": "python3"
  },
  "language_info": {
   "codemirror_mode": {
    "name": "ipython",
    "version": 3
   },
   "file_extension": ".py",
   "mimetype": "text/x-python",
   "name": "python",
   "nbconvert_exporter": "python",
   "pygments_lexer": "ipython3",
   "version": "3.8.5"
  }
 },
 "nbformat": 4,
 "nbformat_minor": 5
}