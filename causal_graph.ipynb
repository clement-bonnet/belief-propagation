{
 "cells": [
  {
   "cell_type": "code",
   "execution_count": 1,
   "metadata": {},
   "outputs": [],
   "source": [
    "import warnings\n",
    "warnings.filterwarnings('ignore')\n",
    "\n",
    "import numpy as np\n",
    "\n",
    "from graph import Graph, Node"
   ]
  },
  {
   "cell_type": "code",
   "execution_count": 2,
   "metadata": {},
   "outputs": [],
   "source": [
    "dic_nodes = {}\n",
    "edge_names = []\n",
    "\n",
    "tab_name_V = [\"Sprinkler\", \"Rain\", \"My_grass\", \"His_grass\"]\n",
    "for name_V in tab_name_V:\n",
    "    node_V = Node(name_V, \"V\", nb_states=2)\n",
    "    dic_nodes[name_V] = node_V\n",
    "\n",
    "# By convention, small letters represent small variable ie. < 0.3\n",
    "a, b = 0, 0.1\n",
    "c, d = 0.01, 0.01\n",
    "e, f = 0.09, 0.01\n",
    "g, h = 0.15, 0.2\n",
    "a, b, c, d, e, f, g, h = np.random.rand(8)\n",
    "\n",
    "dist_list = [\n",
    "    [\n",
    "        [1-a, b],\n",
    "        [a, 1-b]\n",
    "    ],\n",
    "    [\n",
    "        [1-c, d],\n",
    "        [c, 1-d]\n",
    "    ],\n",
    "    [\n",
    "        [1-e, f],\n",
    "        [e, 1-f]\n",
    "    ],\n",
    "]\n",
    "\n",
    "tab_dist_index = [\n",
    "    [\"My_grass\", \"Sprinkler\"],\n",
    "    [\"My_grass\", \"Rain\"],\n",
    "    [\"His_grass\", \"Rain\"],\n",
    "]\n",
    "\n",
    "for dist, dist_index in zip(dist_list, tab_dist_index):\n",
    "    dist = np.array(dist)\n",
    "    first_letters = dist_index[1][0] + dist_index[0][0]\n",
    "    name_F = f\"F_{first_letters}\"\n",
    "    node_F = Node(name_F, \"F\", dist=dist, dist_index=dist_index)\n",
    "    dic_nodes[name_F] = node_F\n",
    "    edge_names.append((dist_index[1], name_F))\n",
    "    edge_names.append((name_F, dist_index[0]))\n",
    "\n",
    "\n",
    "# Priors on parents nodes\n",
    "dist_list = [\n",
    "    [g, 1-g],\n",
    "    [1-h, h],\n",
    "]\n",
    "\n",
    "tab_dist_index = [\n",
    "    [\"Sprinkler\"],\n",
    "    [\"Rain\"],\n",
    "]\n",
    "\n",
    "for dist, dist_index in zip(dist_list, tab_dist_index):\n",
    "    dist = np.array(dist)\n",
    "    name_V = dist_index[0]\n",
    "    name_F = f\"F_{name_V[0]}\"\n",
    "    node_F = Node(name_F, \"F\", dist=dist, dist_index=dist_index)\n",
    "    dic_nodes[name_F] = node_F\n",
    "    edge_names.append((name_F, name_V))\n",
    "\n",
    "\n",
    "graph = Graph(dic_nodes, edge_names)"
   ]
  },
  {
   "cell_type": "code",
   "execution_count": 3,
   "metadata": {},
   "outputs": [
    {
     "data": {
      "image/png": "[encoded data removed]",
      "text/plain": [
       "<Figure size 432x288 with 1 Axes>"
      ]
     },
     "metadata": {},
     "output_type": "display_data"
    }
   ],
   "source": [
    "graph.plot()"
   ]
  },
  {
   "cell_type": "code",
   "execution_count": 4,
   "metadata": {},
   "outputs": [],
   "source": [
    "def plot_proba(dic):\n",
    "    return {key: [np.round(np.exp(log_proba),4) for log_proba in value][1] for key, value in dic.items()}"
   ]
  },
  {
   "cell_type": "code",
   "execution_count": 9,
   "metadata": {},
   "outputs": [],
   "source": [
    "graph.edges[1].message = np.array([0,1])"
   ]
  },
  {
   "cell_type": "code",
   "execution_count": 10,
   "metadata": {},
   "outputs": [
    {
     "data": {
      "text/plain": [
       "[((Sprinkler -> F_SM), array([0., 0.])),\n",
       " ((F_SM -> My_grass), array([0, 1])),\n",
       " ((Rain -> F_RM), array([0., 0.])),\n",
       " ((F_RM -> My_grass), array([0., 0.])),\n",
       " ((Rain -> F_RH), array([0., 0.])),\n",
       " ((F_RH -> His_grass), array([0., 0.])),\n",
       " ((F_S -> Sprinkler), array([0., 0.])),\n",
       " ((F_R -> Rain), array([0., 0.])),\n",
       " ((F_SM -> Sprinkler), array([0., 0.])),\n",
       " ((My_grass -> F_SM), array([0., 0.])),\n",
       " ((F_RM -> Rain), array([0., 0.])),\n",
       " ((My_grass -> F_RM), array([0., 0.])),\n",
       " ((F_RH -> Rain), array([0., 0.])),\n",
       " ((His_grass -> F_RH), array([0., 0.])),\n",
       " ((Sprinkler -> F_S), array([0., 0.])),\n",
       " ((Rain -> F_R), array([0., 0.]))]"
      ]
     },
     "execution_count": 10,
     "metadata": {},
     "output_type": "execute_result"
    }
   ],
   "source": [
    "[(edge, edge.message) for edge in graph.edges]"
   ]
  },
  {
   "cell_type": "code",
   "execution_count": 11,
   "metadata": {},
   "outputs": [
    {
     "name": "stdout",
     "output_type": "stream",
     "text": [
      "6 (F_S -> Sprinkler)\n",
      "7 (F_R -> Rain)\n",
      "13 (His_grass -> F_RH)\n"
     ]
    },
    {
     "data": {
      "text/plain": [
       "{'Sprinkler': 0.846, 'Rain': 0.2019, 'My_grass': 0.0001, 'His_grass': 0.2998}"
      ]
     },
     "execution_count": 11,
     "metadata": {},
     "output_type": "execute_result"
    }
   ],
   "source": [
    "graph.belief_propagation()\n",
    "plot_proba(graph.compute_belief_nodes())"
   ]
  },
  {
   "cell_type": "code",
   "execution_count": 8,
   "metadata": {},
   "outputs": [
    {
     "data": {
      "text/plain": [
       "[((Sprinkler -> F_SM), array([0., 0.])),\n",
       " ((F_SM -> My_grass), array([-0.92044733, -3.95420772])),\n",
       " ((Rain -> F_RM), array([0., 0.])),\n",
       " ((F_RM -> My_grass), array([-5.28467525, -0.67295011])),\n",
       " ((Rain -> F_RH), array([0., 0.])),\n",
       " ((F_RH -> His_grass), array([-3.80922127, -0.35401717])),\n",
       " ((F_S -> Sprinkler), array([0., 0.])),\n",
       " ((F_R -> Rain), array([0., 0.])),\n",
       " ((F_SM -> Sprinkler), array([-1.41793314, -3.45672191])),\n",
       " ((My_grass -> F_SM), array([-5.28467525, -0.67295011])),\n",
       " ((F_RM -> Rain), array([-4.57035755, -1.38726781])),\n",
       " ((My_grass -> F_RM), array([-0.92044733, -3.95420772])),\n",
       " ((F_RH -> Rain), array([-1.76531152, -2.39792693])),\n",
       " ((His_grass -> F_RH), array([0., 0.])),\n",
       " ((Sprinkler -> F_S), array([-1.41793314, -3.45672191])),\n",
       " ((Rain -> F_R), array([-6.33566907, -3.78519474]))]"
      ]
     },
     "execution_count": 8,
     "metadata": {},
     "output_type": "execute_result"
    }
   ],
   "source": [
    "[(edge, edge.message) for edge in graph.edges]"
   ]
  },
  {
   "cell_type": "raw",
   "metadata": {},
   "source": []
  }
 ],
 "metadata": {
  "kernelspec": {
   "display_name": "Python 3",
   "language": "python",
   "name": "python3"
  },
  "language_info": {
   "codemirror_mode": {
    "name": "ipython",
    "version": 3
   },
   "file_extension": ".py",
   "mimetype": "text/x-python",
   "name": "python",
   "nbconvert_exporter": "python",
   "pygments_lexer": "ipython3",
   "version": "3.8.5"
  }
 },
 "nbformat": 4,
 "nbformat_minor": 4
}
