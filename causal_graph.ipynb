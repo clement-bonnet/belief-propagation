{
 "cells": [
  {
   "cell_type": "code",
   "execution_count": 1,
   "metadata": {},
   "outputs": [],
   "source": [
    "import warnings\n",
    "warnings.filterwarnings('ignore')\n",
    "\n",
    "import numpy as np\n",
    "\n",
    "from graph import Graph, Node"
   ]
  },
  {
   "cell_type": "code",
   "execution_count": 2,
   "metadata": {},
   "outputs": [],
   "source": [
    "dic_nodes = {}\n",
    "edge_names = []\n",
    "\n",
    "tab_name_V = [\"Sprinkler\", \"Rain\", \"My_grass\", \"His_grass\"]\n",
    "for name_V in tab_name_V:\n",
    "    node_V = Node(name_V, \"V\", nb_states=2)\n",
    "    dic_nodes[name_V] = node_V\n",
    "\n",
    "# By convention, small letters represent small variable ie. < 0.3\n",
    "a, b = 0, 0.1\n",
    "c, d = 0.01, 0.01\n",
    "e, f = 0.09, 0.01\n",
    "g, h = 0.15, 0.2\n",
    "# a, b, c, d, e, f, g, h = np.random.rand(8)\n",
    "\n",
    "dist_list = [\n",
    "    [\n",
    "        [1-a, b],\n",
    "        [a, 1-b]\n",
    "    ],\n",
    "    [\n",
    "        [1-c, d],\n",
    "        [c, 1-d]\n",
    "    ],\n",
    "    [\n",
    "        [1-e, f],\n",
    "        [e, 1-f]\n",
    "    ],\n",
    "]\n",
    "\n",
    "tab_dist_index = [\n",
    "    [\"My_grass\", \"Sprinkler\"],\n",
    "    [\"My_grass\", \"Rain\"],\n",
    "    [\"His_grass\", \"Rain\"],\n",
    "]\n",
    "\n",
    "for dist, dist_index in zip(dist_list, tab_dist_index):\n",
    "    dist = np.array(dist)\n",
    "    first_letters = dist_index[1][0] + dist_index[0][0]\n",
    "    name_F = f\"F_{first_letters}\"\n",
    "    node_F = Node(name_F, \"F\", dist=dist, dist_index=dist_index)\n",
    "    dic_nodes[name_F] = node_F\n",
    "    edge_names.append((dist_index[1], name_F))\n",
    "    edge_names.append((name_F, dist_index[0]))\n",
    "\n",
    "\n",
    "# Priors on parents nodes\n",
    "dist_list = [\n",
    "    [g, 1-g],\n",
    "    [1-h, h],\n",
    "]\n",
    "\n",
    "tab_dist_index = [\n",
    "    [\"Sprinkler\"],\n",
    "    [\"Rain\"],\n",
    "]\n",
    "\n",
    "for dist, dist_index in zip(dist_list, tab_dist_index):\n",
    "    dist = np.array(dist)\n",
    "    name_V = dist_index[0]\n",
    "    name_F = f\"F_{name_V[0]}\"\n",
    "    node_F = Node(name_F, \"F\", dist=dist, dist_index=dist_index)\n",
    "    dic_nodes[name_F] = node_F\n",
    "    edge_names.append((name_F, name_V))\n",
    "\n",
    "\n",
    "graph = Graph(dic_nodes, edge_names)"
   ]
  },
  {
   "cell_type": "code",
   "execution_count": 3,
   "metadata": {},
   "outputs": [
    {
     "data": {
      "image/png": "[encoded data removed]",
      "text/plain": [
       "<Figure size 432x288 with 1 Axes>"
      ]
     },
     "metadata": {},
     "output_type": "display_data"
    }
   ],
   "source": [
    "graph.plot()"
   ]
  },
  {
   "cell_type": "code",
   "execution_count": 4,
   "metadata": {},
   "outputs": [],
   "source": [
    "def plot_proba(dic):\n",
    "    return {key: [np.round(np.exp(log_proba),4) for log_proba in value][1] for key, value in dic.items()}"
   ]
  },
  {
   "cell_type": "code",
   "execution_count": 5,
   "metadata": {},
   "outputs": [],
   "source": [
    "graph.edges[1].message = np.array([0.5,1])"
   ]
  },
  {
   "cell_type": "code",
   "execution_count": 6,
   "metadata": {},
   "outputs": [
    {
     "data": {
      "text/plain": [
       "[((Sprinkler -> F_SM), array([0., 0.])),\n",
       " ((F_SM -> My_grass), array([0.5, 1. ])),\n",
       " ((Rain -> F_RM), array([0., 0.])),\n",
       " ((F_RM -> My_grass), array([0., 0.])),\n",
       " ((Rain -> F_RH), array([0., 0.])),\n",
       " ((F_RH -> His_grass), array([0., 0.])),\n",
       " ((F_S -> Sprinkler), array([0., 0.])),\n",
       " ((F_R -> Rain), array([0., 0.])),\n",
       " ((F_SM -> Sprinkler), array([0., 0.])),\n",
       " ((My_grass -> F_SM), array([0., 0.])),\n",
       " ((F_RM -> Rain), array([0., 0.])),\n",
       " ((My_grass -> F_RM), array([0., 0.])),\n",
       " ((F_RH -> Rain), array([0., 0.])),\n",
       " ((His_grass -> F_RH), array([0., 0.])),\n",
       " ((Sprinkler -> F_S), array([0., 0.])),\n",
       " ((Rain -> F_R), array([0., 0.]))]"
      ]
     },
     "execution_count": 6,
     "metadata": {},
     "output_type": "execute_result"
    }
   ],
   "source": [
    "[(edge, edge.message) for edge in graph.edges]"
   ]
  },
  {
   "cell_type": "code",
   "execution_count": 7,
   "metadata": {},
   "outputs": [
    {
     "name": "stdout",
     "output_type": "stream",
     "text": [
      "6 (F_S -> Sprinkler)\n",
      "7 (F_R -> Rain)\n",
      "13 (His_grass -> F_RH)\n"
     ]
    },
    {
     "data": {
      "text/plain": [
       "{'Sprinkler': 1.0, 'Rain': 0.1078, 'My_grass': 0.0, 'His_grass': 0.9073}"
      ]
     },
     "execution_count": 7,
     "metadata": {},
     "output_type": "execute_result"
    }
   ],
   "source": [
    "graph.belief_propagation()\n",
    "plot_proba(graph.compute_belief_nodes())"
   ]
  },
  {
   "cell_type": "code",
   "execution_count": 8,
   "metadata": {},
   "outputs": [
    {
     "data": {
      "text/plain": [
       "[((Sprinkler -> F_SM), array([0., 0.])),\n",
       " ((F_SM -> My_grass), array([-1.80258509,        -inf])),\n",
       " ((Rain -> F_RM), array([0., 0.])),\n",
       " ((F_RM -> My_grass), array([-4.61522052, -4.61522052])),\n",
       " ((Rain -> F_RH), array([0., 0.])),\n",
       " ((F_RH -> His_grass), array([-4.69948087, -2.41799594])),\n",
       " ((F_S -> Sprinkler), array([0., 0.])),\n",
       " ((F_R -> Rain), array([0., 0.])),\n",
       " ((F_SM -> Sprinkler), array([       -inf, -2.40794561])),\n",
       " ((My_grass -> F_SM), array([-4.61522052, -4.61522052])),\n",
       " ((F_RM -> Rain), array([-4.61522052, -4.61522052])),\n",
       " ((My_grass -> F_RM), array([-1.80258509,        -inf])),\n",
       " ((F_RH -> Rain), array([-2.50225629, -4.61522052])),\n",
       " ((His_grass -> F_RH), array([0., 0.])),\n",
       " ((Sprinkler -> F_S), array([       -inf, -2.40794561])),\n",
       " ((Rain -> F_R), array([-7.11747681, -9.23044104]))]"
      ]
     },
     "execution_count": 8,
     "metadata": {},
     "output_type": "execute_result"
    }
   ],
   "source": [
    "[(edge, edge.message) for edge in graph.edges]"
   ]
  },
  {
   "cell_type": "raw",
   "metadata": {},
   "source": []
  }
 ],
 "metadata": {
  "kernelspec": {
   "display_name": "Python 3",
   "language": "python",
   "name": "python3"
  },
  "language_info": {
   "codemirror_mode": {
    "name": "ipython",
    "version": 3
   },
   "file_extension": ".py",
   "mimetype": "text/x-python",
   "name": "python",
   "nbconvert_exporter": "python",
   "pygments_lexer": "ipython3",
   "version": "3.8.5"
  }
 },
 "nbformat": 4,
 "nbformat_minor": 4
}
