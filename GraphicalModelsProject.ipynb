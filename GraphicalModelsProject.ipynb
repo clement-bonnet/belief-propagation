{
  "nbformat": 4,
  "nbformat_minor": 0,
  "metadata": {
    "colab": {
      "name": "GraphicalModelsProject.ipynb",
      "provenance": [],
      "collapsed_sections": [
        "3P-qTQ2yXnh4",
        "H8qtoniXmrKA"
      ]
    },
    "kernelspec": {
      "name": "python3",
      "display_name": "Python 3",
      "language": "python"
    }
  },
  "cells": [
    {
      "cell_type": "code",
      "execution_count": 22,
      "metadata": {},
      "outputs": [],
      "source": [
        "%%capture\n",
        "import warnings\n",
        "warnings.filterwarnings('ignore')\n",
        "\n",
        "import numpy as np\n",
        "import pandas as pd\n",
        "\n",
        "from processing import process_embedding_from_words\n",
        "from taxonomy import (phi_edge, build_state, proba_state, TaxonomyModule,\n",
        "                    plot_state_likelihood_and_gradient, plot_nx_graph)\n",
        "\n",
        "%load_ext autoreload\n",
        "%autoreload 2"
      ]
    },
    {
      "source": [
        "## Training Data"
      ],
      "cell_type": "markdown",
      "metadata": {}
    },
    {
      "cell_type": "code",
      "metadata": {
        "id": "Q54bBkIS9nYd"
      },
      "source": [
        "# Training data\n",
        "\n",
        "\"\"\" train_words = [\n",
        "    \"vertebrate\", \"mammal\", \"placental\", \"cow\", \"rodent\", \"rat\", \"metatherian\",\n",
        "    \"marsupial\", \"kangaroo\", \"reptile\", \"diapsid\", \"squirrel\", \"snake\",\n",
        "    \"crocodilian\", \"anapsid\", \"chelonian\", \"turtle\"\n",
        "] \"\"\"\n",
        "\n",
        "\n",
        "# Curated\n",
        "train_words = [\n",
        "    \"vertebrate\", \"mammal\", \"placental\", \"cow\", \"rodent\", \"rat\",\n",
        "    \"marsupial\", \"kangaroo\", \"reptile\", \"diapsid\", \"squirrel\", \"snake\",\n",
        "    \"crocodilian\", \"turtle\"\n",
        "]"
      ],
      "execution_count": 2,
      "outputs": []
    },
    {
      "cell_type": "code",
      "metadata": {
        "colab": {
          "base_uri": "https://localhost:8080/",
          "height": 215
        },
        "id": "FrHEJ1aJNWRf",
        "outputId": "279a3cee-d933-42d8-dba4-ef921e0c4cba"
      },
      "source": [
        "train_df_graph = pd.DataFrame(index=train_words, columns=train_words)\n",
        "\n",
        "train_df_graph.loc[\"vertebrate\", \"mammal\"] = 1\n",
        "train_df_graph.loc[\"vertebrate\", \"reptile\"] = 1\n",
        "train_df_graph.loc[\"mammal\", \"placental\"] = 1\n",
        "# train_df_graph.loc[\"mammal\", \"metatherian\"] = 1\n",
        "train_df_graph.loc[\"placental\", \"cow\"] = 1\n",
        "train_df_graph.loc[\"placental\", \"rodent\"] = 1\n",
        "train_df_graph.loc[\"rodent\", \"squirrel\"] = 1\n",
        "train_df_graph.loc[\"rodent\", \"rat\"] = 1\n",
        "# train_df_graph.loc[\"metatherian\", \"marsupial\"] = 1\n",
        "train_df_graph.loc[\"marsupial\", \"kangaroo\"] = 1\n",
        "train_df_graph.loc[\"reptile\", \"diapsid\"] = 1\n",
        "# train_df_graph.loc[\"reptile\", \"anapsid\"] = 1\n",
        "train_df_graph.loc[\"diapsid\", \"snake\"] = 1\n",
        "train_df_graph.loc[\"diapsid\", \"crocodilian\"] = 1\n",
        "# train_df_graph.loc[\"anapsid\", \"chelonian\"] = 1\n",
        "# train_df_graph.loc[\"chelonian\", \"turtle\"] = 1\n",
        "\n",
        "# Correction\n",
        "train_df_graph.loc[\"reptile\", \"turtle\"] = 1\n",
        "train_df_graph.loc[\"mammal\", \"marsupial\"] = 1\n",
        "\n",
        "train_df_graph = train_df_graph.fillna(0)\n",
        "# train_df_graph.head()"
      ],
      "execution_count": 3,
      "outputs": []
    },
    {
      "source": [
        "## Play around"
      ],
      "cell_type": "markdown",
      "metadata": {}
    },
    {
      "cell_type": "code",
      "execution_count": 4,
      "metadata": {},
      "outputs": [],
      "source": [
        "train_embedd = process_embedding_from_words(train_words)"
      ]
    },
    {
      "cell_type": "code",
      "metadata": {
        "colab": {
          "base_uri": "https://localhost:8080/"
        },
        "id": "PIhRHU5YPM9q",
        "outputId": "f6bacb10-947b-430d-9bbb-f9cd7b0b74f6"
      },
      "source": [
        "w = np.random.randn(train_embedd.shape[-1])\n",
        "phi_edge(0, 1, w, train_embedd, y=1), phi_edge(0, 1, w, train_embedd, y=0)"
      ],
      "execution_count": 5,
      "outputs": [
        {
          "output_type": "execute_result",
          "data": {
            "text/plain": [
              "(0.004338661002179776, 1)"
            ]
          },
          "metadata": {},
          "execution_count": 5
        }
      ]
    },
    {
      "cell_type": "code",
      "metadata": {
        "colab": {
          "base_uri": "https://localhost:8080/"
        },
        "id": "RQ3BaEJlvF-m",
        "outputId": "010da515-4152-4ebd-c244-551736c5d185"
      },
      "source": [
        "w = np.random.randn(train_embedd.shape[-1])\n",
        "train_state = build_state(train_words, train_df_graph)\n",
        "proba_state(w, train_state, train_words, train_embedd)"
      ],
      "execution_count": 6,
      "outputs": [
        {
          "output_type": "execute_result",
          "data": {
            "text/plain": [
              "-344.98430106010574"
            ]
          },
          "metadata": {},
          "execution_count": 6
        }
      ]
    },
    {
      "cell_type": "code",
      "metadata": {
        "colab": {
          "base_uri": "https://localhost:8080/"
        },
        "id": "SMJdKR4akT-y",
        "outputId": "3bbbb2f7-f762-4e06-dca5-f3aea0d248e7"
      },
      "source": [
        "dim_embedding = train_embedd.shape[-1]\n",
        "proba_state(np.zeros(dim_embedding), train_state, train_words, train_embedd), (len(train_words)**2 - len(train_words))*np.log(0.5)"
      ],
      "execution_count": 7,
      "outputs": [
        {
          "output_type": "execute_result",
          "data": {
            "text/plain": [
              "(-126.15278686191026, -126.15278686191004)"
            ]
          },
          "metadata": {},
          "execution_count": 7
        }
      ]
    },
    {
      "cell_type": "markdown",
      "metadata": {
        "id": "ZQepzmeX-KCG"
      },
      "source": [
        "### Plots\n"
      ]
    },
    {
      "cell_type": "code",
      "metadata": {
        "colab": {
          "base_uri": "https://localhost:8080/",
          "height": 441
        },
        "id": "0uB4ilr6aCCp",
        "outputId": "959c1fb2-c466-4448-cb35-87beeda626b5",
        "tags": []
      },
      "source": [
        "W_X, W_Y = np.meshgrid(np.linspace(-15, 10, 5), np.linspace(-15, 10, 5))\n",
        "\n",
        "plot_state_likelihood_and_gradient(\n",
        "    train_state, train_words, train_embedd, W_X, W_Y)"
      ],
      "execution_count": 8,
      "outputs": [
        {
          "output_type": "display_data",
          "data": {
            "text/plain": "<Figure size 1008x432 with 4 Axes>",
            "image/svg+xml": "<?xml version=\"1.0\" encoding=\"utf-8\" standalone=\"no\"?>\n<!DOCTYPE svg PUBLIC \"-//W3C//DTD SVG 1.1//EN\"\n  \"http://www.w3.org/Graphics/SVG/1.1/DTD/svg11.dtd\">\n<!-- Created with matplotlib (https://matplotlib.org/) -->\n<svg height=\"420.785pt\" version=\"1.1\" viewBox=\"0 0 975.24114 420.785\" width=\"975.24114pt\" xmlns=\"http://www.w3.org/2000/svg\" xmlns:xlink=\"http://www.w3.org/1999/xlink\">\n <metadata>\n  <rdf:RDF xmlns:cc=\"http://creativecommons.org/ns#\" xmlns:dc=\"http://purl.org/dc/elements/1.1/\" xmlns:rdf=\"http://www.w3.org/1999/02/22-rdf-syntax-ns#\">\n   <cc:Work>\n    <dc:type rdf:resource=\"http://purl.org/dc/dcmitype/StillImage\"/>\n    <dc:date>2021-03-08T21:52:31.073848</dc:date>\n    <dc:format>image/svg+xml</dc:format>\n    <dc:creator>\n     <cc:Agent>\n      <dc:title>Matplotlib v3.3.4, https://matplotlib.org/</dc:title>\n     </cc:Agent>\n    </dc:creator>\n   </cc:Work>\n  </rdf:RDF>\n </metadata>\n <defs>\n  <style type=\"text/css\">*{stroke-linecap:butt;stroke-linejoin:round;}</style>\n </defs>\n <g id=\"figure_1\">\n  <g id=\"patch_1\">\n   <path d=\"M 0 420.785 \nL 975.24114 420.785 \nL 975.24114 0 \nL 0 0 \nz\n\" style=\"fill:none;\"/>\n  </g>\n  <g id=\"axes_1\">\n   <g id=\"patch_2\">\n    <path d=\"M 52.854063 379.3575 \nL 402.056317 379.3575 \nL 402.056317 25.3575 \nL 52.854063 25.3575 \nz\n\" style=\"fill:#ffffff;\"/>\n   </g>\n   <g id=\"QuadMesh_1\">\n    <path clip-path=\"url(#p3cade436d6)\" d=\"M 52.854063 379.3575 \nL 140.154626 379.3575 \nL 140.154626 290.8575 \nL 52.854063 290.8575 \nL 52.854063 379.3575 \n\" style=\"fill:#ffff2e;\"/>\n    <path clip-path=\"url(#p3cade436d6)\" d=\"M 140.154626 379.3575 \nL 227.45519 379.3575 \nL 227.45519 290.8575 \nL 140.154626 290.8575 \nL 140.154626 379.3575 \n\" style=\"fill:#ffff17;\"/>\n    <path clip-path=\"url(#p3cade436d6)\" d=\"M 227.45519 379.3575 \nL 314.755753 379.3575 \nL 314.755753 290.8575 \nL 227.45519 290.8575 \nL 227.45519 379.3575 \n\" style=\"fill:#ff8600;\"/>\n    <path clip-path=\"url(#p3cade436d6)\" d=\"M 314.755753 379.3575 \nL 402.056317 379.3575 \nL 402.056317 290.8575 \nL 314.755753 290.8575 \nL 314.755753 379.3575 \n\" style=\"fill:#0b0000;\"/>\n    <path clip-path=\"url(#p3cade436d6)\" d=\"M 52.854063 290.8575 \nL 140.154626 290.8575 \nL 140.154626 202.3575 \nL 52.854063 202.3575 \nL 52.854063 290.8575 \n\" style=\"fill:#ffff5a;\"/>\n    <path clip-path=\"url(#p3cade436d6)\" d=\"M 140.154626 290.8575 \nL 227.45519 290.8575 \nL 227.45519 202.3575 \nL 140.154626 202.3575 \nL 140.154626 290.8575 \n\" style=\"fill:#ffffa0;\"/>\n    <path clip-path=\"url(#p3cade436d6)\" d=\"M 227.45519 290.8575 \nL 314.755753 290.8575 \nL 314.755753 202.3575 \nL 227.45519 202.3575 \nL 227.45519 290.8575 \n\" style=\"fill:#ffff42;\"/>\n    <path clip-path=\"url(#p3cade436d6)\" d=\"M 314.755753 290.8575 \nL 402.056317 290.8575 \nL 402.056317 202.3575 \nL 314.755753 202.3575 \nL 314.755753 290.8575 \n\" style=\"fill:#a30000;\"/>\n    <path clip-path=\"url(#p3cade436d6)\" d=\"M 52.854063 202.3575 \nL 140.154626 202.3575 \nL 140.154626 113.8575 \nL 52.854063 113.8575 \nL 52.854063 202.3575 \n\" style=\"fill:#ffff71;\"/>\n    <path clip-path=\"url(#p3cade436d6)\" d=\"M 140.154626 202.3575 \nL 227.45519 202.3575 \nL 227.45519 113.8575 \nL 140.154626 113.8575 \nL 140.154626 202.3575 \n\" style=\"fill:#ffffc8;\"/>\n    <path clip-path=\"url(#p3cade436d6)\" d=\"M 227.45519 202.3575 \nL 314.755753 202.3575 \nL 314.755753 113.8575 \nL 227.45519 113.8575 \nL 227.45519 202.3575 \n\" style=\"fill:#ffffff;\"/>\n    <path clip-path=\"url(#p3cade436d6)\" d=\"M 314.755753 202.3575 \nL 402.056317 202.3575 \nL 402.056317 113.8575 \nL 314.755753 113.8575 \nL 314.755753 202.3575 \n\" style=\"fill:#ff0800;\"/>\n    <path clip-path=\"url(#p3cade436d6)\" d=\"M 52.854063 113.8575 \nL 140.154626 113.8575 \nL 140.154626 25.3575 \nL 52.854063 25.3575 \nL 52.854063 113.8575 \n\" style=\"fill:#ffff85;\"/>\n    <path clip-path=\"url(#p3cade436d6)\" d=\"M 140.154626 113.8575 \nL 227.45519 113.8575 \nL 227.45519 25.3575 \nL 140.154626 25.3575 \nL 140.154626 113.8575 \n\" style=\"fill:#ffffdc;\"/>\n    <path clip-path=\"url(#p3cade436d6)\" d=\"M 227.45519 113.8575 \nL 314.755753 113.8575 \nL 314.755753 25.3575 \nL 227.45519 25.3575 \nL 227.45519 113.8575 \n\" style=\"fill:#ffffff;\"/>\n    <path clip-path=\"url(#p3cade436d6)\" d=\"M 314.755753 113.8575 \nL 402.056317 113.8575 \nL 402.056317 25.3575 \nL 314.755753 25.3575 \nL 314.755753 113.8575 \n\" style=\"fill:#ff0d00;\"/>\n   </g>\n   <g id=\"matplotlib.axis_1\">\n    <g id=\"xtick_1\">\n     <g id=\"line2d_1\">\n      <defs>\n       <path d=\"M 0 0 \nL 0 3.5 \n\" id=\"m606d1b791d\" style=\"stroke:#000000;stroke-width:0.8;\"/>\n      </defs>\n      <g>\n       <use style=\"stroke:#000000;stroke-width:0.8;\" x=\"52.854063\" xlink:href=\"#m606d1b791d\" y=\"379.3575\"/>\n      </g>\n     </g>\n     <g id=\"text_1\">\n      <!-- −15 -->\n      <g transform=\"translate(42.301719 393.955937)scale(0.1 -0.1)\">\n       <defs>\n        <path d=\"M 10.59375 35.5 \nL 73.1875 35.5 \nL 73.1875 27.203125 \nL 10.59375 27.203125 \nz\n\" id=\"DejaVuSans-8722\"/>\n        <path d=\"M 12.40625 8.296875 \nL 28.515625 8.296875 \nL 28.515625 63.921875 \nL 10.984375 60.40625 \nL 10.984375 69.390625 \nL 28.421875 72.90625 \nL 38.28125 72.90625 \nL 38.28125 8.296875 \nL 54.390625 8.296875 \nL 54.390625 0 \nL 12.40625 0 \nz\n\" id=\"DejaVuSans-49\"/>\n        <path d=\"M 10.796875 72.90625 \nL 49.515625 72.90625 \nL 49.515625 64.59375 \nL 19.828125 64.59375 \nL 19.828125 46.734375 \nQ 21.96875 47.46875 24.109375 47.828125 \nQ 26.265625 48.1875 28.421875 48.1875 \nQ 40.625 48.1875 47.75 41.5 \nQ 54.890625 34.8125 54.890625 23.390625 \nQ 54.890625 11.625 47.5625 5.09375 \nQ 40.234375 -1.421875 26.90625 -1.421875 \nQ 22.3125 -1.421875 17.546875 -0.640625 \nQ 12.796875 0.140625 7.71875 1.703125 \nL 7.71875 11.625 \nQ 12.109375 9.234375 16.796875 8.0625 \nQ 21.484375 6.890625 26.703125 6.890625 \nQ 35.15625 6.890625 40.078125 11.328125 \nQ 45.015625 15.765625 45.015625 23.390625 \nQ 45.015625 31 40.078125 35.4375 \nQ 35.15625 39.890625 26.703125 39.890625 \nQ 22.75 39.890625 18.8125 39.015625 \nQ 14.890625 38.140625 10.796875 36.28125 \nz\n\" id=\"DejaVuSans-53\"/>\n       </defs>\n       <use xlink:href=\"#DejaVuSans-8722\"/>\n       <use x=\"83.789062\" xlink:href=\"#DejaVuSans-49\"/>\n       <use x=\"147.412109\" xlink:href=\"#DejaVuSans-53\"/>\n      </g>\n     </g>\n    </g>\n    <g id=\"xtick_2\">\n     <g id=\"line2d_2\">\n      <g>\n       <use style=\"stroke:#000000;stroke-width:0.8;\" x=\"122.694513\" xlink:href=\"#m606d1b791d\" y=\"379.3575\"/>\n      </g>\n     </g>\n     <g id=\"text_2\">\n      <!-- −10 -->\n      <g transform=\"translate(112.14217 393.955937)scale(0.1 -0.1)\">\n       <defs>\n        <path d=\"M 31.78125 66.40625 \nQ 24.171875 66.40625 20.328125 58.90625 \nQ 16.5 51.421875 16.5 36.375 \nQ 16.5 21.390625 20.328125 13.890625 \nQ 24.171875 6.390625 31.78125 6.390625 \nQ 39.453125 6.390625 43.28125 13.890625 \nQ 47.125 21.390625 47.125 36.375 \nQ 47.125 51.421875 43.28125 58.90625 \nQ 39.453125 66.40625 31.78125 66.40625 \nz\nM 31.78125 74.21875 \nQ 44.046875 74.21875 50.515625 64.515625 \nQ 56.984375 54.828125 56.984375 36.375 \nQ 56.984375 17.96875 50.515625 8.265625 \nQ 44.046875 -1.421875 31.78125 -1.421875 \nQ 19.53125 -1.421875 13.0625 8.265625 \nQ 6.59375 17.96875 6.59375 36.375 \nQ 6.59375 54.828125 13.0625 64.515625 \nQ 19.53125 74.21875 31.78125 74.21875 \nz\n\" id=\"DejaVuSans-48\"/>\n       </defs>\n       <use xlink:href=\"#DejaVuSans-8722\"/>\n       <use x=\"83.789062\" xlink:href=\"#DejaVuSans-49\"/>\n       <use x=\"147.412109\" xlink:href=\"#DejaVuSans-48\"/>\n      </g>\n     </g>\n    </g>\n    <g id=\"xtick_3\">\n     <g id=\"line2d_3\">\n      <g>\n       <use style=\"stroke:#000000;stroke-width:0.8;\" x=\"192.534964\" xlink:href=\"#m606d1b791d\" y=\"379.3575\"/>\n      </g>\n     </g>\n     <g id=\"text_3\">\n      <!-- −5 -->\n      <g transform=\"translate(185.163871 393.955937)scale(0.1 -0.1)\">\n       <use xlink:href=\"#DejaVuSans-8722\"/>\n       <use x=\"83.789062\" xlink:href=\"#DejaVuSans-53\"/>\n      </g>\n     </g>\n    </g>\n    <g id=\"xtick_4\">\n     <g id=\"line2d_4\">\n      <g>\n       <use style=\"stroke:#000000;stroke-width:0.8;\" x=\"262.375415\" xlink:href=\"#m606d1b791d\" y=\"379.3575\"/>\n      </g>\n     </g>\n     <g id=\"text_4\">\n      <!-- 0 -->\n      <g transform=\"translate(259.194165 393.955937)scale(0.1 -0.1)\">\n       <use xlink:href=\"#DejaVuSans-48\"/>\n      </g>\n     </g>\n    </g>\n    <g id=\"xtick_5\">\n     <g id=\"line2d_5\">\n      <g>\n       <use style=\"stroke:#000000;stroke-width:0.8;\" x=\"332.215866\" xlink:href=\"#m606d1b791d\" y=\"379.3575\"/>\n      </g>\n     </g>\n     <g id=\"text_5\">\n      <!-- 5 -->\n      <g transform=\"translate(329.034616 393.955937)scale(0.1 -0.1)\">\n       <use xlink:href=\"#DejaVuSans-53\"/>\n      </g>\n     </g>\n    </g>\n    <g id=\"xtick_6\">\n     <g id=\"line2d_6\">\n      <g>\n       <use style=\"stroke:#000000;stroke-width:0.8;\" x=\"402.056317\" xlink:href=\"#m606d1b791d\" y=\"379.3575\"/>\n      </g>\n     </g>\n     <g id=\"text_6\">\n      <!-- 10 -->\n      <g transform=\"translate(395.693817 393.955937)scale(0.1 -0.1)\">\n       <use xlink:href=\"#DejaVuSans-49\"/>\n       <use x=\"63.623047\" xlink:href=\"#DejaVuSans-48\"/>\n      </g>\n     </g>\n    </g>\n    <g id=\"text_7\">\n     <!-- $W_0$: offset -->\n     <g transform=\"translate(192.66519 410.673437)scale(0.14 -0.14)\">\n      <defs>\n       <path d=\"M 9.625 72.90625 \nL 19.1875 72.90625 \nL 22.703125 10.890625 \nL 50.203125 72.90625 \nL 61.1875 72.90625 \nL 64.796875 10.890625 \nL 92 72.90625 \nL 102 72.90625 \nL 69.578125 0 \nL 57.171875 0 \nL 53.8125 60.796875 \nL 26.515625 0 \nL 14.109375 0 \nz\n\" id=\"DejaVuSans-Oblique-87\"/>\n       <path d=\"M 11.71875 12.40625 \nL 22.015625 12.40625 \nL 22.015625 0 \nL 11.71875 0 \nz\nM 11.71875 51.703125 \nL 22.015625 51.703125 \nL 22.015625 39.3125 \nL 11.71875 39.3125 \nz\n\" id=\"DejaVuSans-58\"/>\n       <path id=\"DejaVuSans-32\"/>\n       <path d=\"M 30.609375 48.390625 \nQ 23.390625 48.390625 19.1875 42.75 \nQ 14.984375 37.109375 14.984375 27.296875 \nQ 14.984375 17.484375 19.15625 11.84375 \nQ 23.34375 6.203125 30.609375 6.203125 \nQ 37.796875 6.203125 41.984375 11.859375 \nQ 46.1875 17.53125 46.1875 27.296875 \nQ 46.1875 37.015625 41.984375 42.703125 \nQ 37.796875 48.390625 30.609375 48.390625 \nz\nM 30.609375 56 \nQ 42.328125 56 49.015625 48.375 \nQ 55.71875 40.765625 55.71875 27.296875 \nQ 55.71875 13.875 49.015625 6.21875 \nQ 42.328125 -1.421875 30.609375 -1.421875 \nQ 18.84375 -1.421875 12.171875 6.21875 \nQ 5.515625 13.875 5.515625 27.296875 \nQ 5.515625 40.765625 12.171875 48.375 \nQ 18.84375 56 30.609375 56 \nz\n\" id=\"DejaVuSans-111\"/>\n       <path d=\"M 37.109375 75.984375 \nL 37.109375 68.5 \nL 28.515625 68.5 \nQ 23.6875 68.5 21.796875 66.546875 \nQ 19.921875 64.59375 19.921875 59.515625 \nL 19.921875 54.6875 \nL 34.71875 54.6875 \nL 34.71875 47.703125 \nL 19.921875 47.703125 \nL 19.921875 0 \nL 10.890625 0 \nL 10.890625 47.703125 \nL 2.296875 47.703125 \nL 2.296875 54.6875 \nL 10.890625 54.6875 \nL 10.890625 58.5 \nQ 10.890625 67.625 15.140625 71.796875 \nQ 19.390625 75.984375 28.609375 75.984375 \nz\n\" id=\"DejaVuSans-102\"/>\n       <path d=\"M 44.28125 53.078125 \nL 44.28125 44.578125 \nQ 40.484375 46.53125 36.375 47.5 \nQ 32.28125 48.484375 27.875 48.484375 \nQ 21.1875 48.484375 17.84375 46.4375 \nQ 14.5 44.390625 14.5 40.28125 \nQ 14.5 37.15625 16.890625 35.375 \nQ 19.28125 33.59375 26.515625 31.984375 \nL 29.59375 31.296875 \nQ 39.15625 29.25 43.1875 25.515625 \nQ 47.21875 21.78125 47.21875 15.09375 \nQ 47.21875 7.46875 41.1875 3.015625 \nQ 35.15625 -1.421875 24.609375 -1.421875 \nQ 20.21875 -1.421875 15.453125 -0.5625 \nQ 10.6875 0.296875 5.421875 2 \nL 5.421875 11.28125 \nQ 10.40625 8.6875 15.234375 7.390625 \nQ 20.0625 6.109375 24.8125 6.109375 \nQ 31.15625 6.109375 34.5625 8.28125 \nQ 37.984375 10.453125 37.984375 14.40625 \nQ 37.984375 18.0625 35.515625 20.015625 \nQ 33.0625 21.96875 24.703125 23.78125 \nL 21.578125 24.515625 \nQ 13.234375 26.265625 9.515625 29.90625 \nQ 5.8125 33.546875 5.8125 39.890625 \nQ 5.8125 47.609375 11.28125 51.796875 \nQ 16.75 56 26.8125 56 \nQ 31.78125 56 36.171875 55.265625 \nQ 40.578125 54.546875 44.28125 53.078125 \nz\n\" id=\"DejaVuSans-115\"/>\n       <path d=\"M 56.203125 29.59375 \nL 56.203125 25.203125 \nL 14.890625 25.203125 \nQ 15.484375 15.921875 20.484375 11.0625 \nQ 25.484375 6.203125 34.421875 6.203125 \nQ 39.59375 6.203125 44.453125 7.46875 \nQ 49.3125 8.734375 54.109375 11.28125 \nL 54.109375 2.78125 \nQ 49.265625 0.734375 44.1875 -0.34375 \nQ 39.109375 -1.421875 33.890625 -1.421875 \nQ 20.796875 -1.421875 13.15625 6.1875 \nQ 5.515625 13.8125 5.515625 26.8125 \nQ 5.515625 40.234375 12.765625 48.109375 \nQ 20.015625 56 32.328125 56 \nQ 43.359375 56 49.78125 48.890625 \nQ 56.203125 41.796875 56.203125 29.59375 \nz\nM 47.21875 32.234375 \nQ 47.125 39.59375 43.09375 43.984375 \nQ 39.0625 48.390625 32.421875 48.390625 \nQ 24.90625 48.390625 20.390625 44.140625 \nQ 15.875 39.890625 15.1875 32.171875 \nz\n\" id=\"DejaVuSans-101\"/>\n       <path d=\"M 18.3125 70.21875 \nL 18.3125 54.6875 \nL 36.8125 54.6875 \nL 36.8125 47.703125 \nL 18.3125 47.703125 \nL 18.3125 18.015625 \nQ 18.3125 11.328125 20.140625 9.421875 \nQ 21.96875 7.515625 27.59375 7.515625 \nL 36.8125 7.515625 \nL 36.8125 0 \nL 27.59375 0 \nQ 17.1875 0 13.234375 3.875 \nQ 9.28125 7.765625 9.28125 18.015625 \nL 9.28125 47.703125 \nL 2.6875 47.703125 \nL 2.6875 54.6875 \nL 9.28125 54.6875 \nL 9.28125 70.21875 \nz\n\" id=\"DejaVuSans-116\"/>\n      </defs>\n      <use transform=\"translate(0 0.015625)\" xlink:href=\"#DejaVuSans-Oblique-87\"/>\n      <use transform=\"translate(98.876953 -16.390625)scale(0.7)\" xlink:href=\"#DejaVuSans-48\"/>\n      <use transform=\"translate(146.147461 0.015625)\" xlink:href=\"#DejaVuSans-58\"/>\n      <use transform=\"translate(179.838867 0.015625)\" xlink:href=\"#DejaVuSans-32\"/>\n      <use transform=\"translate(211.625977 0.015625)\" xlink:href=\"#DejaVuSans-111\"/>\n      <use transform=\"translate(272.807617 0.015625)\" xlink:href=\"#DejaVuSans-102\"/>\n      <use transform=\"translate(308.012695 0.015625)\" xlink:href=\"#DejaVuSans-102\"/>\n      <use transform=\"translate(343.217773 0.015625)\" xlink:href=\"#DejaVuSans-115\"/>\n      <use transform=\"translate(395.317383 0.015625)\" xlink:href=\"#DejaVuSans-101\"/>\n      <use transform=\"translate(456.84082 0.015625)\" xlink:href=\"#DejaVuSans-116\"/>\n     </g>\n    </g>\n   </g>\n   <g id=\"matplotlib.axis_2\">\n    <g id=\"ytick_1\">\n     <g id=\"line2d_7\">\n      <defs>\n       <path d=\"M 0 0 \nL -3.5 0 \n\" id=\"m64d02a8579\" style=\"stroke:#000000;stroke-width:0.8;\"/>\n      </defs>\n      <g>\n       <use style=\"stroke:#000000;stroke-width:0.8;\" x=\"52.854063\" xlink:href=\"#m64d02a8579\" y=\"379.3575\"/>\n      </g>\n     </g>\n     <g id=\"text_8\">\n      <!-- −15 -->\n      <g transform=\"translate(24.749375 383.156719)scale(0.1 -0.1)\">\n       <use xlink:href=\"#DejaVuSans-8722\"/>\n       <use x=\"83.789062\" xlink:href=\"#DejaVuSans-49\"/>\n       <use x=\"147.412109\" xlink:href=\"#DejaVuSans-53\"/>\n      </g>\n     </g>\n    </g>\n    <g id=\"ytick_2\">\n     <g id=\"line2d_8\">\n      <g>\n       <use style=\"stroke:#000000;stroke-width:0.8;\" x=\"52.854063\" xlink:href=\"#m64d02a8579\" y=\"308.5575\"/>\n      </g>\n     </g>\n     <g id=\"text_9\">\n      <!-- −10 -->\n      <g transform=\"translate(24.749375 312.356719)scale(0.1 -0.1)\">\n       <use xlink:href=\"#DejaVuSans-8722\"/>\n       <use x=\"83.789062\" xlink:href=\"#DejaVuSans-49\"/>\n       <use x=\"147.412109\" xlink:href=\"#DejaVuSans-48\"/>\n      </g>\n     </g>\n    </g>\n    <g id=\"ytick_3\">\n     <g id=\"line2d_9\">\n      <g>\n       <use style=\"stroke:#000000;stroke-width:0.8;\" x=\"52.854063\" xlink:href=\"#m64d02a8579\" y=\"237.7575\"/>\n      </g>\n     </g>\n     <g id=\"text_10\">\n      <!-- −5 -->\n      <g transform=\"translate(31.111875 241.556719)scale(0.1 -0.1)\">\n       <use xlink:href=\"#DejaVuSans-8722\"/>\n       <use x=\"83.789062\" xlink:href=\"#DejaVuSans-53\"/>\n      </g>\n     </g>\n    </g>\n    <g id=\"ytick_4\">\n     <g id=\"line2d_10\">\n      <g>\n       <use style=\"stroke:#000000;stroke-width:0.8;\" x=\"52.854063\" xlink:href=\"#m64d02a8579\" y=\"166.9575\"/>\n      </g>\n     </g>\n     <g id=\"text_11\">\n      <!-- 0 -->\n      <g transform=\"translate(39.491563 170.756719)scale(0.1 -0.1)\">\n       <use xlink:href=\"#DejaVuSans-48\"/>\n      </g>\n     </g>\n    </g>\n    <g id=\"ytick_5\">\n     <g id=\"line2d_11\">\n      <g>\n       <use style=\"stroke:#000000;stroke-width:0.8;\" x=\"52.854063\" xlink:href=\"#m64d02a8579\" y=\"96.1575\"/>\n      </g>\n     </g>\n     <g id=\"text_12\">\n      <!-- 5 -->\n      <g transform=\"translate(39.491563 99.956719)scale(0.1 -0.1)\">\n       <use xlink:href=\"#DejaVuSans-53\"/>\n      </g>\n     </g>\n    </g>\n    <g id=\"ytick_6\">\n     <g id=\"line2d_12\">\n      <g>\n       <use style=\"stroke:#000000;stroke-width:0.8;\" x=\"52.854063\" xlink:href=\"#m64d02a8579\" y=\"25.3575\"/>\n      </g>\n     </g>\n     <g id=\"text_13\">\n      <!-- 10 -->\n      <g transform=\"translate(33.129063 29.156719)scale(0.1 -0.1)\">\n       <use xlink:href=\"#DejaVuSans-49\"/>\n       <use x=\"63.623047\" xlink:href=\"#DejaVuSans-48\"/>\n      </g>\n     </g>\n    </g>\n    <g id=\"text_14\">\n     <!-- $W_1$: feature -->\n     <g transform=\"translate(17.837813 242.6075)rotate(-90)scale(0.14 -0.14)\">\n      <defs>\n       <path d=\"M 34.28125 27.484375 \nQ 23.390625 27.484375 19.1875 25 \nQ 14.984375 22.515625 14.984375 16.5 \nQ 14.984375 11.71875 18.140625 8.90625 \nQ 21.296875 6.109375 26.703125 6.109375 \nQ 34.1875 6.109375 38.703125 11.40625 \nQ 43.21875 16.703125 43.21875 25.484375 \nL 43.21875 27.484375 \nz\nM 52.203125 31.203125 \nL 52.203125 0 \nL 43.21875 0 \nL 43.21875 8.296875 \nQ 40.140625 3.328125 35.546875 0.953125 \nQ 30.953125 -1.421875 24.3125 -1.421875 \nQ 15.921875 -1.421875 10.953125 3.296875 \nQ 6 8.015625 6 15.921875 \nQ 6 25.140625 12.171875 29.828125 \nQ 18.359375 34.515625 30.609375 34.515625 \nL 43.21875 34.515625 \nL 43.21875 35.40625 \nQ 43.21875 41.609375 39.140625 45 \nQ 35.0625 48.390625 27.6875 48.390625 \nQ 23 48.390625 18.546875 47.265625 \nQ 14.109375 46.140625 10.015625 43.890625 \nL 10.015625 52.203125 \nQ 14.9375 54.109375 19.578125 55.046875 \nQ 24.21875 56 28.609375 56 \nQ 40.484375 56 46.34375 49.84375 \nQ 52.203125 43.703125 52.203125 31.203125 \nz\n\" id=\"DejaVuSans-97\"/>\n       <path d=\"M 8.5 21.578125 \nL 8.5 54.6875 \nL 17.484375 54.6875 \nL 17.484375 21.921875 \nQ 17.484375 14.15625 20.5 10.265625 \nQ 23.53125 6.390625 29.59375 6.390625 \nQ 36.859375 6.390625 41.078125 11.03125 \nQ 45.3125 15.671875 45.3125 23.6875 \nL 45.3125 54.6875 \nL 54.296875 54.6875 \nL 54.296875 0 \nL 45.3125 0 \nL 45.3125 8.40625 \nQ 42.046875 3.421875 37.71875 1 \nQ 33.40625 -1.421875 27.6875 -1.421875 \nQ 18.265625 -1.421875 13.375 4.4375 \nQ 8.5 10.296875 8.5 21.578125 \nz\nM 31.109375 56 \nz\n\" id=\"DejaVuSans-117\"/>\n       <path d=\"M 41.109375 46.296875 \nQ 39.59375 47.171875 37.8125 47.578125 \nQ 36.03125 48 33.890625 48 \nQ 26.265625 48 22.1875 43.046875 \nQ 18.109375 38.09375 18.109375 28.8125 \nL 18.109375 0 \nL 9.078125 0 \nL 9.078125 54.6875 \nL 18.109375 54.6875 \nL 18.109375 46.1875 \nQ 20.953125 51.171875 25.484375 53.578125 \nQ 30.03125 56 36.53125 56 \nQ 37.453125 56 38.578125 55.875 \nQ 39.703125 55.765625 41.0625 55.515625 \nz\n\" id=\"DejaVuSans-114\"/>\n      </defs>\n      <use transform=\"translate(0 0.015625)\" xlink:href=\"#DejaVuSans-Oblique-87\"/>\n      <use transform=\"translate(98.876953 -16.390625)scale(0.7)\" xlink:href=\"#DejaVuSans-49\"/>\n      <use transform=\"translate(146.147461 0.015625)\" xlink:href=\"#DejaVuSans-58\"/>\n      <use transform=\"translate(179.838867 0.015625)\" xlink:href=\"#DejaVuSans-32\"/>\n      <use transform=\"translate(211.625977 0.015625)\" xlink:href=\"#DejaVuSans-102\"/>\n      <use transform=\"translate(246.831055 0.015625)\" xlink:href=\"#DejaVuSans-101\"/>\n      <use transform=\"translate(308.354492 0.015625)\" xlink:href=\"#DejaVuSans-97\"/>\n      <use transform=\"translate(369.633789 0.015625)\" xlink:href=\"#DejaVuSans-116\"/>\n      <use transform=\"translate(408.842773 0.015625)\" xlink:href=\"#DejaVuSans-117\"/>\n      <use transform=\"translate(472.22168 0.015625)\" xlink:href=\"#DejaVuSans-114\"/>\n      <use transform=\"translate(513.334961 0.015625)\" xlink:href=\"#DejaVuSans-101\"/>\n     </g>\n    </g>\n   </g>\n   <g id=\"patch_3\">\n    <path d=\"M 52.854063 379.3575 \nL 52.854063 25.3575 \n\" style=\"fill:none;stroke:#000000;stroke-linecap:square;stroke-linejoin:miter;stroke-width:0.8;\"/>\n   </g>\n   <g id=\"patch_4\">\n    <path d=\"M 402.056317 379.3575 \nL 402.056317 25.3575 \n\" style=\"fill:none;stroke:#000000;stroke-linecap:square;stroke-linejoin:miter;stroke-width:0.8;\"/>\n   </g>\n   <g id=\"patch_5\">\n    <path d=\"M 52.854063 379.3575 \nL 402.056317 379.3575 \n\" style=\"fill:none;stroke:#000000;stroke-linecap:square;stroke-linejoin:miter;stroke-width:0.8;\"/>\n   </g>\n   <g id=\"patch_6\">\n    <path d=\"M 52.854063 25.3575 \nL 402.056317 25.3575 \n\" style=\"fill:none;stroke:#000000;stroke-linecap:square;stroke-linejoin:miter;stroke-width:0.8;\"/>\n   </g>\n   <g id=\"text_15\">\n    <!-- Log-likelihood of the state as a function of w -->\n    <g transform=\"translate(49.83394 19.3575)scale(0.16 -0.16)\">\n     <defs>\n      <path d=\"M 9.8125 72.90625 \nL 19.671875 72.90625 \nL 19.671875 8.296875 \nL 55.171875 8.296875 \nL 55.171875 0 \nL 9.8125 0 \nz\n\" id=\"DejaVuSans-76\"/>\n      <path d=\"M 45.40625 27.984375 \nQ 45.40625 37.75 41.375 43.109375 \nQ 37.359375 48.484375 30.078125 48.484375 \nQ 22.859375 48.484375 18.828125 43.109375 \nQ 14.796875 37.75 14.796875 27.984375 \nQ 14.796875 18.265625 18.828125 12.890625 \nQ 22.859375 7.515625 30.078125 7.515625 \nQ 37.359375 7.515625 41.375 12.890625 \nQ 45.40625 18.265625 45.40625 27.984375 \nz\nM 54.390625 6.78125 \nQ 54.390625 -7.171875 48.1875 -13.984375 \nQ 42 -20.796875 29.203125 -20.796875 \nQ 24.46875 -20.796875 20.265625 -20.09375 \nQ 16.0625 -19.390625 12.109375 -17.921875 \nL 12.109375 -9.1875 \nQ 16.0625 -11.328125 19.921875 -12.34375 \nQ 23.78125 -13.375 27.78125 -13.375 \nQ 36.625 -13.375 41.015625 -8.765625 \nQ 45.40625 -4.15625 45.40625 5.171875 \nL 45.40625 9.625 \nQ 42.625 4.78125 38.28125 2.390625 \nQ 33.9375 0 27.875 0 \nQ 17.828125 0 11.671875 7.65625 \nQ 5.515625 15.328125 5.515625 27.984375 \nQ 5.515625 40.671875 11.671875 48.328125 \nQ 17.828125 56 27.875 56 \nQ 33.9375 56 38.28125 53.609375 \nQ 42.625 51.21875 45.40625 46.390625 \nL 45.40625 54.6875 \nL 54.390625 54.6875 \nz\n\" id=\"DejaVuSans-103\"/>\n      <path d=\"M 4.890625 31.390625 \nL 31.203125 31.390625 \nL 31.203125 23.390625 \nL 4.890625 23.390625 \nz\n\" id=\"DejaVuSans-45\"/>\n      <path d=\"M 9.421875 75.984375 \nL 18.40625 75.984375 \nL 18.40625 0 \nL 9.421875 0 \nz\n\" id=\"DejaVuSans-108\"/>\n      <path d=\"M 9.421875 54.6875 \nL 18.40625 54.6875 \nL 18.40625 0 \nL 9.421875 0 \nz\nM 9.421875 75.984375 \nL 18.40625 75.984375 \nL 18.40625 64.59375 \nL 9.421875 64.59375 \nz\n\" id=\"DejaVuSans-105\"/>\n      <path d=\"M 9.078125 75.984375 \nL 18.109375 75.984375 \nL 18.109375 31.109375 \nL 44.921875 54.6875 \nL 56.390625 54.6875 \nL 27.390625 29.109375 \nL 57.625 0 \nL 45.90625 0 \nL 18.109375 26.703125 \nL 18.109375 0 \nL 9.078125 0 \nz\n\" id=\"DejaVuSans-107\"/>\n      <path d=\"M 54.890625 33.015625 \nL 54.890625 0 \nL 45.90625 0 \nL 45.90625 32.71875 \nQ 45.90625 40.484375 42.875 44.328125 \nQ 39.84375 48.1875 33.796875 48.1875 \nQ 26.515625 48.1875 22.3125 43.546875 \nQ 18.109375 38.921875 18.109375 30.90625 \nL 18.109375 0 \nL 9.078125 0 \nL 9.078125 75.984375 \nL 18.109375 75.984375 \nL 18.109375 46.1875 \nQ 21.34375 51.125 25.703125 53.5625 \nQ 30.078125 56 35.796875 56 \nQ 45.21875 56 50.046875 50.171875 \nQ 54.890625 44.34375 54.890625 33.015625 \nz\n\" id=\"DejaVuSans-104\"/>\n      <path d=\"M 45.40625 46.390625 \nL 45.40625 75.984375 \nL 54.390625 75.984375 \nL 54.390625 0 \nL 45.40625 0 \nL 45.40625 8.203125 \nQ 42.578125 3.328125 38.25 0.953125 \nQ 33.9375 -1.421875 27.875 -1.421875 \nQ 17.96875 -1.421875 11.734375 6.484375 \nQ 5.515625 14.40625 5.515625 27.296875 \nQ 5.515625 40.1875 11.734375 48.09375 \nQ 17.96875 56 27.875 56 \nQ 33.9375 56 38.25 53.625 \nQ 42.578125 51.265625 45.40625 46.390625 \nz\nM 14.796875 27.296875 \nQ 14.796875 17.390625 18.875 11.75 \nQ 22.953125 6.109375 30.078125 6.109375 \nQ 37.203125 6.109375 41.296875 11.75 \nQ 45.40625 17.390625 45.40625 27.296875 \nQ 45.40625 37.203125 41.296875 42.84375 \nQ 37.203125 48.484375 30.078125 48.484375 \nQ 22.953125 48.484375 18.875 42.84375 \nQ 14.796875 37.203125 14.796875 27.296875 \nz\n\" id=\"DejaVuSans-100\"/>\n      <path d=\"M 54.890625 33.015625 \nL 54.890625 0 \nL 45.90625 0 \nL 45.90625 32.71875 \nQ 45.90625 40.484375 42.875 44.328125 \nQ 39.84375 48.1875 33.796875 48.1875 \nQ 26.515625 48.1875 22.3125 43.546875 \nQ 18.109375 38.921875 18.109375 30.90625 \nL 18.109375 0 \nL 9.078125 0 \nL 9.078125 54.6875 \nL 18.109375 54.6875 \nL 18.109375 46.1875 \nQ 21.34375 51.125 25.703125 53.5625 \nQ 30.078125 56 35.796875 56 \nQ 45.21875 56 50.046875 50.171875 \nQ 54.890625 44.34375 54.890625 33.015625 \nz\n\" id=\"DejaVuSans-110\"/>\n      <path d=\"M 48.78125 52.59375 \nL 48.78125 44.1875 \nQ 44.96875 46.296875 41.140625 47.34375 \nQ 37.3125 48.390625 33.40625 48.390625 \nQ 24.65625 48.390625 19.8125 42.84375 \nQ 14.984375 37.3125 14.984375 27.296875 \nQ 14.984375 17.28125 19.8125 11.734375 \nQ 24.65625 6.203125 33.40625 6.203125 \nQ 37.3125 6.203125 41.140625 7.25 \nQ 44.96875 8.296875 48.78125 10.40625 \nL 48.78125 2.09375 \nQ 45.015625 0.34375 40.984375 -0.53125 \nQ 36.96875 -1.421875 32.421875 -1.421875 \nQ 20.0625 -1.421875 12.78125 6.34375 \nQ 5.515625 14.109375 5.515625 27.296875 \nQ 5.515625 40.671875 12.859375 48.328125 \nQ 20.21875 56 33.015625 56 \nQ 37.15625 56 41.109375 55.140625 \nQ 45.0625 54.296875 48.78125 52.59375 \nz\n\" id=\"DejaVuSans-99\"/>\n      <path d=\"M 4.203125 54.6875 \nL 13.1875 54.6875 \nL 24.421875 12.015625 \nL 35.59375 54.6875 \nL 46.1875 54.6875 \nL 57.421875 12.015625 \nL 68.609375 54.6875 \nL 77.59375 54.6875 \nL 63.28125 0 \nL 52.6875 0 \nL 40.921875 44.828125 \nL 29.109375 0 \nL 18.5 0 \nz\n\" id=\"DejaVuSans-119\"/>\n     </defs>\n     <use xlink:href=\"#DejaVuSans-76\"/>\n     <use x=\"53.962891\" xlink:href=\"#DejaVuSans-111\"/>\n     <use x=\"115.144531\" xlink:href=\"#DejaVuSans-103\"/>\n     <use x=\"178.621094\" xlink:href=\"#DejaVuSans-45\"/>\n     <use x=\"214.705078\" xlink:href=\"#DejaVuSans-108\"/>\n     <use x=\"242.488281\" xlink:href=\"#DejaVuSans-105\"/>\n     <use x=\"270.271484\" xlink:href=\"#DejaVuSans-107\"/>\n     <use x=\"324.556641\" xlink:href=\"#DejaVuSans-101\"/>\n     <use x=\"386.080078\" xlink:href=\"#DejaVuSans-108\"/>\n     <use x=\"413.863281\" xlink:href=\"#DejaVuSans-105\"/>\n     <use x=\"441.646484\" xlink:href=\"#DejaVuSans-104\"/>\n     <use x=\"505.025391\" xlink:href=\"#DejaVuSans-111\"/>\n     <use x=\"566.207031\" xlink:href=\"#DejaVuSans-111\"/>\n     <use x=\"627.388672\" xlink:href=\"#DejaVuSans-100\"/>\n     <use x=\"690.865234\" xlink:href=\"#DejaVuSans-32\"/>\n     <use x=\"722.652344\" xlink:href=\"#DejaVuSans-111\"/>\n     <use x=\"783.833984\" xlink:href=\"#DejaVuSans-102\"/>\n     <use x=\"819.039062\" xlink:href=\"#DejaVuSans-32\"/>\n     <use x=\"850.826172\" xlink:href=\"#DejaVuSans-116\"/>\n     <use x=\"890.035156\" xlink:href=\"#DejaVuSans-104\"/>\n     <use x=\"953.414062\" xlink:href=\"#DejaVuSans-101\"/>\n     <use x=\"1014.9375\" xlink:href=\"#DejaVuSans-32\"/>\n     <use x=\"1046.724609\" xlink:href=\"#DejaVuSans-115\"/>\n     <use x=\"1098.824219\" xlink:href=\"#DejaVuSans-116\"/>\n     <use x=\"1138.033203\" xlink:href=\"#DejaVuSans-97\"/>\n     <use x=\"1199.3125\" xlink:href=\"#DejaVuSans-116\"/>\n     <use x=\"1238.521484\" xlink:href=\"#DejaVuSans-101\"/>\n     <use x=\"1300.044922\" xlink:href=\"#DejaVuSans-32\"/>\n     <use x=\"1331.832031\" xlink:href=\"#DejaVuSans-97\"/>\n     <use x=\"1393.111328\" xlink:href=\"#DejaVuSans-115\"/>\n     <use x=\"1445.210938\" xlink:href=\"#DejaVuSans-32\"/>\n     <use x=\"1476.998047\" xlink:href=\"#DejaVuSans-97\"/>\n     <use x=\"1538.277344\" xlink:href=\"#DejaVuSans-32\"/>\n     <use x=\"1570.064453\" xlink:href=\"#DejaVuSans-102\"/>\n     <use x=\"1605.269531\" xlink:href=\"#DejaVuSans-117\"/>\n     <use x=\"1668.648438\" xlink:href=\"#DejaVuSans-110\"/>\n     <use x=\"1732.027344\" xlink:href=\"#DejaVuSans-99\"/>\n     <use x=\"1787.007812\" xlink:href=\"#DejaVuSans-116\"/>\n     <use x=\"1826.216797\" xlink:href=\"#DejaVuSans-105\"/>\n     <use x=\"1854\" xlink:href=\"#DejaVuSans-111\"/>\n     <use x=\"1915.181641\" xlink:href=\"#DejaVuSans-110\"/>\n     <use x=\"1978.560547\" xlink:href=\"#DejaVuSans-32\"/>\n     <use x=\"2010.347656\" xlink:href=\"#DejaVuSans-111\"/>\n     <use x=\"2071.529297\" xlink:href=\"#DejaVuSans-102\"/>\n     <use x=\"2106.734375\" xlink:href=\"#DejaVuSans-32\"/>\n     <use x=\"2138.521484\" xlink:href=\"#DejaVuSans-119\"/>\n    </g>\n   </g>\n  </g>\n  <g id=\"axes_2\">\n   <g id=\"patch_7\">\n    <path d=\"M 553.226244 379.3575 \nL 902.428499 379.3575 \nL 902.428499 25.3575 \nL 553.226244 25.3575 \nz\n\" style=\"fill:#ffffff;\"/>\n   </g>\n   <g id=\"QuadMesh_2\">\n    <path clip-path=\"url(#pd0bdbfdae1)\" d=\"M 553.226244 379.3575 \nL 640.526808 379.3575 \nL 640.526808 290.8575 \nL 553.226244 290.8575 \nL 553.226244 379.3575 \n\" style=\"fill:#0b0000;\"/>\n    <path clip-path=\"url(#pd0bdbfdae1)\" d=\"M 640.526808 379.3575 \nL 727.827372 379.3575 \nL 727.827372 290.8575 \nL 640.526808 290.8575 \nL 640.526808 379.3575 \n\" style=\"fill:#570000;\"/>\n    <path clip-path=\"url(#pd0bdbfdae1)\" d=\"M 727.827372 379.3575 \nL 815.127935 379.3575 \nL 815.127935 290.8575 \nL 727.827372 290.8575 \nL 727.827372 379.3575 \n\" style=\"fill:#fc0000;\"/>\n    <path clip-path=\"url(#pd0bdbfdae1)\" d=\"M 815.127935 379.3575 \nL 902.428499 379.3575 \nL 902.428499 290.8575 \nL 815.127935 290.8575 \nL 815.127935 379.3575 \n\" style=\"fill:#ffef00;\"/>\n    <path clip-path=\"url(#pd0bdbfdae1)\" d=\"M 553.226244 290.8575 \nL 640.526808 290.8575 \nL 640.526808 202.3575 \nL 553.226244 202.3575 \nL 553.226244 290.8575 \n\" style=\"fill:#0b0000;\"/>\n    <path clip-path=\"url(#pd0bdbfdae1)\" d=\"M 640.526808 290.8575 \nL 727.827372 290.8575 \nL 727.827372 202.3575 \nL 640.526808 202.3575 \nL 640.526808 290.8575 \n\" style=\"fill:#0b0000;\"/>\n    <path clip-path=\"url(#pd0bdbfdae1)\" d=\"M 727.827372 290.8575 \nL 815.127935 290.8575 \nL 815.127935 202.3575 \nL 727.827372 202.3575 \nL 727.827372 290.8575 \n\" style=\"fill:#c50000;\"/>\n    <path clip-path=\"url(#pd0bdbfdae1)\" d=\"M 815.127935 290.8575 \nL 902.428499 290.8575 \nL 902.428499 202.3575 \nL 815.127935 202.3575 \nL 815.127935 290.8575 \n\" style=\"fill:#ffff46;\"/>\n    <path clip-path=\"url(#pd0bdbfdae1)\" d=\"M 553.226244 202.3575 \nL 640.526808 202.3575 \nL 640.526808 113.8575 \nL 553.226244 113.8575 \nL 553.226244 202.3575 \n\" style=\"fill:#0b0000;\"/>\n    <path clip-path=\"url(#pd0bdbfdae1)\" d=\"M 640.526808 202.3575 \nL 727.827372 202.3575 \nL 727.827372 113.8575 \nL 640.526808 113.8575 \nL 640.526808 202.3575 \n\" style=\"fill:#0b0000;\"/>\n    <path clip-path=\"url(#pd0bdbfdae1)\" d=\"M 727.827372 202.3575 \nL 815.127935 202.3575 \nL 815.127935 113.8575 \nL 727.827372 113.8575 \nL 727.827372 202.3575 \n\" style=\"fill:#250000;\"/>\n    <path clip-path=\"url(#pd0bdbfdae1)\" d=\"M 815.127935 202.3575 \nL 902.428499 202.3575 \nL 902.428499 113.8575 \nL 815.127935 113.8575 \nL 815.127935 202.3575 \n\" style=\"fill:#ffffff;\"/>\n    <path clip-path=\"url(#pd0bdbfdae1)\" d=\"M 553.226244 113.8575 \nL 640.526808 113.8575 \nL 640.526808 25.3575 \nL 553.226244 25.3575 \nL 553.226244 113.8575 \n\" style=\"fill:#0b0000;\"/>\n    <path clip-path=\"url(#pd0bdbfdae1)\" d=\"M 640.526808 113.8575 \nL 727.827372 113.8575 \nL 727.827372 25.3575 \nL 640.526808 25.3575 \nL 640.526808 113.8575 \n\" style=\"fill:#0b0000;\"/>\n    <path clip-path=\"url(#pd0bdbfdae1)\" d=\"M 727.827372 113.8575 \nL 815.127935 113.8575 \nL 815.127935 25.3575 \nL 727.827372 25.3575 \nL 727.827372 113.8575 \n\" style=\"fill:#420000;\"/>\n    <path clip-path=\"url(#pd0bdbfdae1)\" d=\"M 815.127935 113.8575 \nL 902.428499 113.8575 \nL 902.428499 25.3575 \nL 815.127935 25.3575 \nL 815.127935 113.8575 \n\" style=\"fill:#ffffd4;\"/>\n   </g>\n   <g id=\"matplotlib.axis_3\">\n    <g id=\"xtick_7\">\n     <g id=\"line2d_13\">\n      <g>\n       <use style=\"stroke:#000000;stroke-width:0.8;\" x=\"553.226244\" xlink:href=\"#m606d1b791d\" y=\"379.3575\"/>\n      </g>\n     </g>\n     <g id=\"text_16\">\n      <!-- −15 -->\n      <g transform=\"translate(542.673901 393.955937)scale(0.1 -0.1)\">\n       <use xlink:href=\"#DejaVuSans-8722\"/>\n       <use x=\"83.789062\" xlink:href=\"#DejaVuSans-49\"/>\n       <use x=\"147.412109\" xlink:href=\"#DejaVuSans-53\"/>\n      </g>\n     </g>\n    </g>\n    <g id=\"xtick_8\">\n     <g id=\"line2d_14\">\n      <g>\n       <use style=\"stroke:#000000;stroke-width:0.8;\" x=\"623.066695\" xlink:href=\"#m606d1b791d\" y=\"379.3575\"/>\n      </g>\n     </g>\n     <g id=\"text_17\">\n      <!-- −10 -->\n      <g transform=\"translate(612.514351 393.955937)scale(0.1 -0.1)\">\n       <use xlink:href=\"#DejaVuSans-8722\"/>\n       <use x=\"83.789062\" xlink:href=\"#DejaVuSans-49\"/>\n       <use x=\"147.412109\" xlink:href=\"#DejaVuSans-48\"/>\n      </g>\n     </g>\n    </g>\n    <g id=\"xtick_9\">\n     <g id=\"line2d_15\">\n      <g>\n       <use style=\"stroke:#000000;stroke-width:0.8;\" x=\"692.907146\" xlink:href=\"#m606d1b791d\" y=\"379.3575\"/>\n      </g>\n     </g>\n     <g id=\"text_18\">\n      <!-- −5 -->\n      <g transform=\"translate(685.536052 393.955937)scale(0.1 -0.1)\">\n       <use xlink:href=\"#DejaVuSans-8722\"/>\n       <use x=\"83.789062\" xlink:href=\"#DejaVuSans-53\"/>\n      </g>\n     </g>\n    </g>\n    <g id=\"xtick_10\">\n     <g id=\"line2d_16\">\n      <g>\n       <use style=\"stroke:#000000;stroke-width:0.8;\" x=\"762.747597\" xlink:href=\"#m606d1b791d\" y=\"379.3575\"/>\n      </g>\n     </g>\n     <g id=\"text_19\">\n      <!-- 0 -->\n      <g transform=\"translate(759.566347 393.955937)scale(0.1 -0.1)\">\n       <use xlink:href=\"#DejaVuSans-48\"/>\n      </g>\n     </g>\n    </g>\n    <g id=\"xtick_11\">\n     <g id=\"line2d_17\">\n      <g>\n       <use style=\"stroke:#000000;stroke-width:0.8;\" x=\"832.588048\" xlink:href=\"#m606d1b791d\" y=\"379.3575\"/>\n      </g>\n     </g>\n     <g id=\"text_20\">\n      <!-- 5 -->\n      <g transform=\"translate(829.406798 393.955937)scale(0.1 -0.1)\">\n       <use xlink:href=\"#DejaVuSans-53\"/>\n      </g>\n     </g>\n    </g>\n    <g id=\"xtick_12\">\n     <g id=\"line2d_18\">\n      <g>\n       <use style=\"stroke:#000000;stroke-width:0.8;\" x=\"902.428499\" xlink:href=\"#m606d1b791d\" y=\"379.3575\"/>\n      </g>\n     </g>\n     <g id=\"text_21\">\n      <!-- 10 -->\n      <g transform=\"translate(896.065999 393.955937)scale(0.1 -0.1)\">\n       <use xlink:href=\"#DejaVuSans-49\"/>\n       <use x=\"63.623047\" xlink:href=\"#DejaVuSans-48\"/>\n      </g>\n     </g>\n    </g>\n    <g id=\"text_22\">\n     <!-- $W_0$: offset -->\n     <g transform=\"translate(693.037372 410.673437)scale(0.14 -0.14)\">\n      <use transform=\"translate(0 0.015625)\" xlink:href=\"#DejaVuSans-Oblique-87\"/>\n      <use transform=\"translate(98.876953 -16.390625)scale(0.7)\" xlink:href=\"#DejaVuSans-48\"/>\n      <use transform=\"translate(146.147461 0.015625)\" xlink:href=\"#DejaVuSans-58\"/>\n      <use transform=\"translate(179.838867 0.015625)\" xlink:href=\"#DejaVuSans-32\"/>\n      <use transform=\"translate(211.625977 0.015625)\" xlink:href=\"#DejaVuSans-111\"/>\n      <use transform=\"translate(272.807617 0.015625)\" xlink:href=\"#DejaVuSans-102\"/>\n      <use transform=\"translate(308.012695 0.015625)\" xlink:href=\"#DejaVuSans-102\"/>\n      <use transform=\"translate(343.217773 0.015625)\" xlink:href=\"#DejaVuSans-115\"/>\n      <use transform=\"translate(395.317383 0.015625)\" xlink:href=\"#DejaVuSans-101\"/>\n      <use transform=\"translate(456.84082 0.015625)\" xlink:href=\"#DejaVuSans-116\"/>\n     </g>\n    </g>\n   </g>\n   <g id=\"matplotlib.axis_4\">\n    <g id=\"ytick_7\">\n     <g id=\"line2d_19\">\n      <g>\n       <use style=\"stroke:#000000;stroke-width:0.8;\" x=\"553.226244\" xlink:href=\"#m64d02a8579\" y=\"379.3575\"/>\n      </g>\n     </g>\n     <g id=\"text_23\">\n      <!-- −15 -->\n      <g transform=\"translate(525.121557 383.156719)scale(0.1 -0.1)\">\n       <use xlink:href=\"#DejaVuSans-8722\"/>\n       <use x=\"83.789062\" xlink:href=\"#DejaVuSans-49\"/>\n       <use x=\"147.412109\" xlink:href=\"#DejaVuSans-53\"/>\n      </g>\n     </g>\n    </g>\n    <g id=\"ytick_8\">\n     <g id=\"line2d_20\">\n      <g>\n       <use style=\"stroke:#000000;stroke-width:0.8;\" x=\"553.226244\" xlink:href=\"#m64d02a8579\" y=\"308.5575\"/>\n      </g>\n     </g>\n     <g id=\"text_24\">\n      <!-- −10 -->\n      <g transform=\"translate(525.121557 312.356719)scale(0.1 -0.1)\">\n       <use xlink:href=\"#DejaVuSans-8722\"/>\n       <use x=\"83.789062\" xlink:href=\"#DejaVuSans-49\"/>\n       <use x=\"147.412109\" xlink:href=\"#DejaVuSans-48\"/>\n      </g>\n     </g>\n    </g>\n    <g id=\"ytick_9\">\n     <g id=\"line2d_21\">\n      <g>\n       <use style=\"stroke:#000000;stroke-width:0.8;\" x=\"553.226244\" xlink:href=\"#m64d02a8579\" y=\"237.7575\"/>\n      </g>\n     </g>\n     <g id=\"text_25\">\n      <!-- −5 -->\n      <g transform=\"translate(531.484057 241.556719)scale(0.1 -0.1)\">\n       <use xlink:href=\"#DejaVuSans-8722\"/>\n       <use x=\"83.789062\" xlink:href=\"#DejaVuSans-53\"/>\n      </g>\n     </g>\n    </g>\n    <g id=\"ytick_10\">\n     <g id=\"line2d_22\">\n      <g>\n       <use style=\"stroke:#000000;stroke-width:0.8;\" x=\"553.226244\" xlink:href=\"#m64d02a8579\" y=\"166.9575\"/>\n      </g>\n     </g>\n     <g id=\"text_26\">\n      <!-- 0 -->\n      <g transform=\"translate(539.863744 170.756719)scale(0.1 -0.1)\">\n       <use xlink:href=\"#DejaVuSans-48\"/>\n      </g>\n     </g>\n    </g>\n    <g id=\"ytick_11\">\n     <g id=\"line2d_23\">\n      <g>\n       <use style=\"stroke:#000000;stroke-width:0.8;\" x=\"553.226244\" xlink:href=\"#m64d02a8579\" y=\"96.1575\"/>\n      </g>\n     </g>\n     <g id=\"text_27\">\n      <!-- 5 -->\n      <g transform=\"translate(539.863744 99.956719)scale(0.1 -0.1)\">\n       <use xlink:href=\"#DejaVuSans-53\"/>\n      </g>\n     </g>\n    </g>\n    <g id=\"ytick_12\">\n     <g id=\"line2d_24\">\n      <g>\n       <use style=\"stroke:#000000;stroke-width:0.8;\" x=\"553.226244\" xlink:href=\"#m64d02a8579\" y=\"25.3575\"/>\n      </g>\n     </g>\n     <g id=\"text_28\">\n      <!-- 10 -->\n      <g transform=\"translate(533.501244 29.156719)scale(0.1 -0.1)\">\n       <use xlink:href=\"#DejaVuSans-49\"/>\n       <use x=\"63.623047\" xlink:href=\"#DejaVuSans-48\"/>\n      </g>\n     </g>\n    </g>\n    <g id=\"text_29\">\n     <!-- $W_1$: feature -->\n     <g transform=\"translate(518.209994 242.6075)rotate(-90)scale(0.14 -0.14)\">\n      <use transform=\"translate(0 0.015625)\" xlink:href=\"#DejaVuSans-Oblique-87\"/>\n      <use transform=\"translate(98.876953 -16.390625)scale(0.7)\" xlink:href=\"#DejaVuSans-49\"/>\n      <use transform=\"translate(146.147461 0.015625)\" xlink:href=\"#DejaVuSans-58\"/>\n      <use transform=\"translate(179.838867 0.015625)\" xlink:href=\"#DejaVuSans-32\"/>\n      <use transform=\"translate(211.625977 0.015625)\" xlink:href=\"#DejaVuSans-102\"/>\n      <use transform=\"translate(246.831055 0.015625)\" xlink:href=\"#DejaVuSans-101\"/>\n      <use transform=\"translate(308.354492 0.015625)\" xlink:href=\"#DejaVuSans-97\"/>\n      <use transform=\"translate(369.633789 0.015625)\" xlink:href=\"#DejaVuSans-116\"/>\n      <use transform=\"translate(408.842773 0.015625)\" xlink:href=\"#DejaVuSans-117\"/>\n      <use transform=\"translate(472.22168 0.015625)\" xlink:href=\"#DejaVuSans-114\"/>\n      <use transform=\"translate(513.334961 0.015625)\" xlink:href=\"#DejaVuSans-101\"/>\n     </g>\n    </g>\n   </g>\n   <g id=\"patch_8\">\n    <path d=\"M 553.226244 379.3575 \nL 553.226244 25.3575 \n\" style=\"fill:none;stroke:#000000;stroke-linecap:square;stroke-linejoin:miter;stroke-width:0.8;\"/>\n   </g>\n   <g id=\"patch_9\">\n    <path d=\"M 902.428499 379.3575 \nL 902.428499 25.3575 \n\" style=\"fill:none;stroke:#000000;stroke-linecap:square;stroke-linejoin:miter;stroke-width:0.8;\"/>\n   </g>\n   <g id=\"patch_10\">\n    <path d=\"M 553.226244 379.3575 \nL 902.428499 379.3575 \n\" style=\"fill:none;stroke:#000000;stroke-linecap:square;stroke-linejoin:miter;stroke-width:0.8;\"/>\n   </g>\n   <g id=\"patch_11\">\n    <path d=\"M 553.226244 25.3575 \nL 902.428499 25.3575 \n\" style=\"fill:none;stroke:#000000;stroke-linecap:square;stroke-linejoin:miter;stroke-width:0.8;\"/>\n   </g>\n   <g id=\"text_30\">\n    <!-- Gradient of the log-likelihood of the graph -->\n    <g transform=\"translate(559.477372 19.3575)scale(0.16 -0.16)\">\n     <defs>\n      <path d=\"M 59.515625 10.40625 \nL 59.515625 29.984375 \nL 43.40625 29.984375 \nL 43.40625 38.09375 \nL 69.28125 38.09375 \nL 69.28125 6.78125 \nQ 63.578125 2.734375 56.6875 0.65625 \nQ 49.8125 -1.421875 42 -1.421875 \nQ 24.90625 -1.421875 15.25 8.5625 \nQ 5.609375 18.5625 5.609375 36.375 \nQ 5.609375 54.25 15.25 64.234375 \nQ 24.90625 74.21875 42 74.21875 \nQ 49.125 74.21875 55.546875 72.453125 \nQ 61.96875 70.703125 67.390625 67.28125 \nL 67.390625 56.78125 \nQ 61.921875 61.421875 55.765625 63.765625 \nQ 49.609375 66.109375 42.828125 66.109375 \nQ 29.4375 66.109375 22.71875 58.640625 \nQ 16.015625 51.171875 16.015625 36.375 \nQ 16.015625 21.625 22.71875 14.15625 \nQ 29.4375 6.6875 42.828125 6.6875 \nQ 48.046875 6.6875 52.140625 7.59375 \nQ 56.25 8.5 59.515625 10.40625 \nz\n\" id=\"DejaVuSans-71\"/>\n      <path d=\"M 18.109375 8.203125 \nL 18.109375 -20.796875 \nL 9.078125 -20.796875 \nL 9.078125 54.6875 \nL 18.109375 54.6875 \nL 18.109375 46.390625 \nQ 20.953125 51.265625 25.265625 53.625 \nQ 29.59375 56 35.59375 56 \nQ 45.5625 56 51.78125 48.09375 \nQ 58.015625 40.1875 58.015625 27.296875 \nQ 58.015625 14.40625 51.78125 6.484375 \nQ 45.5625 -1.421875 35.59375 -1.421875 \nQ 29.59375 -1.421875 25.265625 0.953125 \nQ 20.953125 3.328125 18.109375 8.203125 \nz\nM 48.6875 27.296875 \nQ 48.6875 37.203125 44.609375 42.84375 \nQ 40.53125 48.484375 33.40625 48.484375 \nQ 26.265625 48.484375 22.1875 42.84375 \nQ 18.109375 37.203125 18.109375 27.296875 \nQ 18.109375 17.390625 22.1875 11.75 \nQ 26.265625 6.109375 33.40625 6.109375 \nQ 40.53125 6.109375 44.609375 11.75 \nQ 48.6875 17.390625 48.6875 27.296875 \nz\n\" id=\"DejaVuSans-112\"/>\n     </defs>\n     <use xlink:href=\"#DejaVuSans-71\"/>\n     <use x=\"77.490234\" xlink:href=\"#DejaVuSans-114\"/>\n     <use x=\"118.603516\" xlink:href=\"#DejaVuSans-97\"/>\n     <use x=\"179.882812\" xlink:href=\"#DejaVuSans-100\"/>\n     <use x=\"243.359375\" xlink:href=\"#DejaVuSans-105\"/>\n     <use x=\"271.142578\" xlink:href=\"#DejaVuSans-101\"/>\n     <use x=\"332.666016\" xlink:href=\"#DejaVuSans-110\"/>\n     <use x=\"396.044922\" xlink:href=\"#DejaVuSans-116\"/>\n     <use x=\"435.253906\" xlink:href=\"#DejaVuSans-32\"/>\n     <use x=\"467.041016\" xlink:href=\"#DejaVuSans-111\"/>\n     <use x=\"528.222656\" xlink:href=\"#DejaVuSans-102\"/>\n     <use x=\"563.427734\" xlink:href=\"#DejaVuSans-32\"/>\n     <use x=\"595.214844\" xlink:href=\"#DejaVuSans-116\"/>\n     <use x=\"634.423828\" xlink:href=\"#DejaVuSans-104\"/>\n     <use x=\"697.802734\" xlink:href=\"#DejaVuSans-101\"/>\n     <use x=\"759.326172\" xlink:href=\"#DejaVuSans-32\"/>\n     <use x=\"791.113281\" xlink:href=\"#DejaVuSans-108\"/>\n     <use x=\"818.896484\" xlink:href=\"#DejaVuSans-111\"/>\n     <use x=\"880.078125\" xlink:href=\"#DejaVuSans-103\"/>\n     <use x=\"943.554688\" xlink:href=\"#DejaVuSans-45\"/>\n     <use x=\"979.638672\" xlink:href=\"#DejaVuSans-108\"/>\n     <use x=\"1007.421875\" xlink:href=\"#DejaVuSans-105\"/>\n     <use x=\"1035.205078\" xlink:href=\"#DejaVuSans-107\"/>\n     <use x=\"1089.490234\" xlink:href=\"#DejaVuSans-101\"/>\n     <use x=\"1151.013672\" xlink:href=\"#DejaVuSans-108\"/>\n     <use x=\"1178.796875\" xlink:href=\"#DejaVuSans-105\"/>\n     <use x=\"1206.580078\" xlink:href=\"#DejaVuSans-104\"/>\n     <use x=\"1269.958984\" xlink:href=\"#DejaVuSans-111\"/>\n     <use x=\"1331.140625\" xlink:href=\"#DejaVuSans-111\"/>\n     <use x=\"1392.322266\" xlink:href=\"#DejaVuSans-100\"/>\n     <use x=\"1455.798828\" xlink:href=\"#DejaVuSans-32\"/>\n     <use x=\"1487.585938\" xlink:href=\"#DejaVuSans-111\"/>\n     <use x=\"1548.767578\" xlink:href=\"#DejaVuSans-102\"/>\n     <use x=\"1583.972656\" xlink:href=\"#DejaVuSans-32\"/>\n     <use x=\"1615.759766\" xlink:href=\"#DejaVuSans-116\"/>\n     <use x=\"1654.96875\" xlink:href=\"#DejaVuSans-104\"/>\n     <use x=\"1718.347656\" xlink:href=\"#DejaVuSans-101\"/>\n     <use x=\"1779.871094\" xlink:href=\"#DejaVuSans-32\"/>\n     <use x=\"1811.658203\" xlink:href=\"#DejaVuSans-103\"/>\n     <use x=\"1875.134766\" xlink:href=\"#DejaVuSans-114\"/>\n     <use x=\"1916.248047\" xlink:href=\"#DejaVuSans-97\"/>\n     <use x=\"1977.527344\" xlink:href=\"#DejaVuSans-112\"/>\n     <use x=\"2041.003906\" xlink:href=\"#DejaVuSans-104\"/>\n    </g>\n   </g>\n  </g>\n  <g id=\"axes_3\">\n   <g id=\"patch_12\">\n    <path clip-path=\"url(#p305b6d7b54)\" d=\"M 423.881458 379.3575 \nL 423.881458 377.974688 \nL 423.881458 26.740313 \nL 423.881458 25.3575 \nL 441.581458 25.3575 \nL 441.581458 26.740313 \nL 441.581458 377.974688 \nL 441.581458 379.3575 \nz\n\" style=\"fill:#ffffff;stroke:#ffffff;stroke-linejoin:miter;stroke-width:0.01;\"/>\n   </g>\n   <image height=\"354\" id=\"imageace0f49528\" transform=\"scale(1 -1)translate(0 -354)\" width=\"18\" x=\"424\" xlink:href=\"data:image/png;base64,\niVBORw0KGgoAAAANSUhEUgAAABIAAAFiCAYAAAD7m4giAAABVklEQVR4nO2bwW3EMBDE5ES/9F+vU8L4MVgsCE4BhIaLPelxfv7OeU8h96dBOee0OOf+tkCtI9VOBHa0sJqOMghcTUeDILAjcDUdDYLAjsDVdDQH6lVb9/J3/B9AOopxRXIcf87C8esog1yRGPL4dRQDrqajQRDYEbiajgZBYEfgajrKWfg8BjtaV01HOa5IjuPPed7WH5laZ7qnJKk3/taJdPQFVDoTuJrjz9lYTUcZ5IpkEHj8OsogVySDwOPXUQaBq+loEAR2BK6mozFQsdq2Z43j/wLSUYorkgMeP9oRuJqOxkD+QuaAx6+jHFckx/HnbBy/jjLIFUlBj19HKeBqaEdPp9s951ZARUelE1ltELTSkSsyBQJX01EOuJqOBkErHXVukZXVloHAjsDVdDQIAjsCV/MWyQFX09EgCOwIXE1Hn0DeIiHgajrKKX7f/76V7/v/ASDYDqsdPBk6AAAAAElFTkSuQmCC\" y=\"-25\"/>\n   <g id=\"matplotlib.axis_5\"/>\n   <g id=\"matplotlib.axis_6\">\n    <g id=\"ytick_13\">\n     <g id=\"line2d_25\">\n      <defs>\n       <path d=\"M 0 0 \nL 3.5 0 \n\" id=\"m4e52e8ada8\" style=\"stroke:#000000;stroke-width:0.8;\"/>\n      </defs>\n      <g>\n       <use style=\"stroke:#000000;stroke-width:0.8;\" x=\"441.581458\" xlink:href=\"#m4e52e8ada8\" y=\"378.86549\"/>\n      </g>\n     </g>\n     <g id=\"text_31\">\n      <!-- −1000 -->\n      <g transform=\"translate(448.581458 382.664708)scale(0.1 -0.1)\">\n       <use xlink:href=\"#DejaVuSans-8722\"/>\n       <use x=\"83.789062\" xlink:href=\"#DejaVuSans-49\"/>\n       <use x=\"147.412109\" xlink:href=\"#DejaVuSans-48\"/>\n       <use x=\"211.035156\" xlink:href=\"#DejaVuSans-48\"/>\n       <use x=\"274.658203\" xlink:href=\"#DejaVuSans-48\"/>\n      </g>\n     </g>\n    </g>\n    <g id=\"ytick_14\">\n     <g id=\"line2d_26\">\n      <g>\n       <use style=\"stroke:#000000;stroke-width:0.8;\" x=\"441.581458\" xlink:href=\"#m4e52e8ada8\" y=\"302.944128\"/>\n      </g>\n     </g>\n     <g id=\"text_32\">\n      <!-- −800 -->\n      <g transform=\"translate(448.581458 306.743346)scale(0.1 -0.1)\">\n       <defs>\n        <path d=\"M 31.78125 34.625 \nQ 24.75 34.625 20.71875 30.859375 \nQ 16.703125 27.09375 16.703125 20.515625 \nQ 16.703125 13.921875 20.71875 10.15625 \nQ 24.75 6.390625 31.78125 6.390625 \nQ 38.8125 6.390625 42.859375 10.171875 \nQ 46.921875 13.96875 46.921875 20.515625 \nQ 46.921875 27.09375 42.890625 30.859375 \nQ 38.875 34.625 31.78125 34.625 \nz\nM 21.921875 38.8125 \nQ 15.578125 40.375 12.03125 44.71875 \nQ 8.5 49.078125 8.5 55.328125 \nQ 8.5 64.0625 14.71875 69.140625 \nQ 20.953125 74.21875 31.78125 74.21875 \nQ 42.671875 74.21875 48.875 69.140625 \nQ 55.078125 64.0625 55.078125 55.328125 \nQ 55.078125 49.078125 51.53125 44.71875 \nQ 48 40.375 41.703125 38.8125 \nQ 48.828125 37.15625 52.796875 32.3125 \nQ 56.78125 27.484375 56.78125 20.515625 \nQ 56.78125 9.90625 50.3125 4.234375 \nQ 43.84375 -1.421875 31.78125 -1.421875 \nQ 19.734375 -1.421875 13.25 4.234375 \nQ 6.78125 9.90625 6.78125 20.515625 \nQ 6.78125 27.484375 10.78125 32.3125 \nQ 14.796875 37.15625 21.921875 38.8125 \nz\nM 18.3125 54.390625 \nQ 18.3125 48.734375 21.84375 45.5625 \nQ 25.390625 42.390625 31.78125 42.390625 \nQ 38.140625 42.390625 41.71875 45.5625 \nQ 45.3125 48.734375 45.3125 54.390625 \nQ 45.3125 60.0625 41.71875 63.234375 \nQ 38.140625 66.40625 31.78125 66.40625 \nQ 25.390625 66.40625 21.84375 63.234375 \nQ 18.3125 60.0625 18.3125 54.390625 \nz\n\" id=\"DejaVuSans-56\"/>\n       </defs>\n       <use xlink:href=\"#DejaVuSans-8722\"/>\n       <use x=\"83.789062\" xlink:href=\"#DejaVuSans-56\"/>\n       <use x=\"147.412109\" xlink:href=\"#DejaVuSans-48\"/>\n       <use x=\"211.035156\" xlink:href=\"#DejaVuSans-48\"/>\n      </g>\n     </g>\n    </g>\n    <g id=\"ytick_15\">\n     <g id=\"line2d_27\">\n      <g>\n       <use style=\"stroke:#000000;stroke-width:0.8;\" x=\"441.581458\" xlink:href=\"#m4e52e8ada8\" y=\"227.022766\"/>\n      </g>\n     </g>\n     <g id=\"text_33\">\n      <!-- −600 -->\n      <g transform=\"translate(448.581458 230.821984)scale(0.1 -0.1)\">\n       <defs>\n        <path d=\"M 33.015625 40.375 \nQ 26.375 40.375 22.484375 35.828125 \nQ 18.609375 31.296875 18.609375 23.390625 \nQ 18.609375 15.53125 22.484375 10.953125 \nQ 26.375 6.390625 33.015625 6.390625 \nQ 39.65625 6.390625 43.53125 10.953125 \nQ 47.40625 15.53125 47.40625 23.390625 \nQ 47.40625 31.296875 43.53125 35.828125 \nQ 39.65625 40.375 33.015625 40.375 \nz\nM 52.59375 71.296875 \nL 52.59375 62.3125 \nQ 48.875 64.0625 45.09375 64.984375 \nQ 41.3125 65.921875 37.59375 65.921875 \nQ 27.828125 65.921875 22.671875 59.328125 \nQ 17.53125 52.734375 16.796875 39.40625 \nQ 19.671875 43.65625 24.015625 45.921875 \nQ 28.375 48.1875 33.59375 48.1875 \nQ 44.578125 48.1875 50.953125 41.515625 \nQ 57.328125 34.859375 57.328125 23.390625 \nQ 57.328125 12.15625 50.6875 5.359375 \nQ 44.046875 -1.421875 33.015625 -1.421875 \nQ 20.359375 -1.421875 13.671875 8.265625 \nQ 6.984375 17.96875 6.984375 36.375 \nQ 6.984375 53.65625 15.1875 63.9375 \nQ 23.390625 74.21875 37.203125 74.21875 \nQ 40.921875 74.21875 44.703125 73.484375 \nQ 48.484375 72.75 52.59375 71.296875 \nz\n\" id=\"DejaVuSans-54\"/>\n       </defs>\n       <use xlink:href=\"#DejaVuSans-8722\"/>\n       <use x=\"83.789062\" xlink:href=\"#DejaVuSans-54\"/>\n       <use x=\"147.412109\" xlink:href=\"#DejaVuSans-48\"/>\n       <use x=\"211.035156\" xlink:href=\"#DejaVuSans-48\"/>\n      </g>\n     </g>\n    </g>\n    <g id=\"ytick_16\">\n     <g id=\"line2d_28\">\n      <g>\n       <use style=\"stroke:#000000;stroke-width:0.8;\" x=\"441.581458\" xlink:href=\"#m4e52e8ada8\" y=\"151.101404\"/>\n      </g>\n     </g>\n     <g id=\"text_34\">\n      <!-- −400 -->\n      <g transform=\"translate(448.581458 154.900622)scale(0.1 -0.1)\">\n       <defs>\n        <path d=\"M 37.796875 64.3125 \nL 12.890625 25.390625 \nL 37.796875 25.390625 \nz\nM 35.203125 72.90625 \nL 47.609375 72.90625 \nL 47.609375 25.390625 \nL 58.015625 25.390625 \nL 58.015625 17.1875 \nL 47.609375 17.1875 \nL 47.609375 0 \nL 37.796875 0 \nL 37.796875 17.1875 \nL 4.890625 17.1875 \nL 4.890625 26.703125 \nz\n\" id=\"DejaVuSans-52\"/>\n       </defs>\n       <use xlink:href=\"#DejaVuSans-8722\"/>\n       <use x=\"83.789062\" xlink:href=\"#DejaVuSans-52\"/>\n       <use x=\"147.412109\" xlink:href=\"#DejaVuSans-48\"/>\n       <use x=\"211.035156\" xlink:href=\"#DejaVuSans-48\"/>\n      </g>\n     </g>\n    </g>\n    <g id=\"ytick_17\">\n     <g id=\"line2d_29\">\n      <g>\n       <use style=\"stroke:#000000;stroke-width:0.8;\" x=\"441.581458\" xlink:href=\"#m4e52e8ada8\" y=\"75.180042\"/>\n      </g>\n     </g>\n     <g id=\"text_35\">\n      <!-- −200 -->\n      <g transform=\"translate(448.581458 78.979261)scale(0.1 -0.1)\">\n       <defs>\n        <path d=\"M 19.1875 8.296875 \nL 53.609375 8.296875 \nL 53.609375 0 \nL 7.328125 0 \nL 7.328125 8.296875 \nQ 12.9375 14.109375 22.625 23.890625 \nQ 32.328125 33.6875 34.8125 36.53125 \nQ 39.546875 41.84375 41.421875 45.53125 \nQ 43.3125 49.21875 43.3125 52.78125 \nQ 43.3125 58.59375 39.234375 62.25 \nQ 35.15625 65.921875 28.609375 65.921875 \nQ 23.96875 65.921875 18.8125 64.3125 \nQ 13.671875 62.703125 7.8125 59.421875 \nL 7.8125 69.390625 \nQ 13.765625 71.78125 18.9375 73 \nQ 24.125 74.21875 28.421875 74.21875 \nQ 39.75 74.21875 46.484375 68.546875 \nQ 53.21875 62.890625 53.21875 53.421875 \nQ 53.21875 48.921875 51.53125 44.890625 \nQ 49.859375 40.875 45.40625 35.40625 \nQ 44.1875 33.984375 37.640625 27.21875 \nQ 31.109375 20.453125 19.1875 8.296875 \nz\n\" id=\"DejaVuSans-50\"/>\n       </defs>\n       <use xlink:href=\"#DejaVuSans-8722\"/>\n       <use x=\"83.789062\" xlink:href=\"#DejaVuSans-50\"/>\n       <use x=\"147.412109\" xlink:href=\"#DejaVuSans-48\"/>\n       <use x=\"211.035156\" xlink:href=\"#DejaVuSans-48\"/>\n      </g>\n     </g>\n    </g>\n   </g>\n   <g id=\"patch_13\">\n    <path d=\"M 423.881458 379.3575 \nL 423.881458 377.974688 \nL 423.881458 26.740313 \nL 423.881458 25.3575 \nL 441.581458 25.3575 \nL 441.581458 26.740313 \nL 441.581458 377.974688 \nL 441.581458 379.3575 \nz\n\" style=\"fill:none;stroke:#000000;stroke-linejoin:miter;stroke-width:0.8;\"/>\n   </g>\n  </g>\n  <g id=\"axes_4\">\n   <g id=\"patch_14\">\n    <path clip-path=\"url(#p87dd4ca382)\" d=\"M 924.25364 379.3575 \nL 924.25364 377.974687 \nL 924.25364 26.740312 \nL 924.25364 25.3575 \nL 941.95364 25.3575 \nL 941.95364 26.740312 \nL 941.95364 377.974687 \nL 941.95364 379.3575 \nz\n\" style=\"fill:#ffffff;stroke:#ffffff;stroke-linejoin:miter;stroke-width:0.01;\"/>\n   </g>\n   <image height=\"354\" id=\"image7d7411479e\" transform=\"scale(1 -1)translate(0 -354)\" width=\"18\" x=\"924\" xlink:href=\"data:image/png;base64,\niVBORw0KGgoAAAANSUhEUgAAABIAAAFiCAYAAAD7m4giAAABVklEQVR4nO2bwW3EMBDE5ES/9F+vU8L4MVgsCE4BhIaLPelxfv7OeU8h96dBOee0OOf+tkCtI9VOBHa0sJqOMghcTUeDILAjcDUdDYLAjsDVdDQH6lVb9/J3/B9AOopxRXIcf87C8esog1yRGPL4dRQDrqajQRDYEbiajgZBYEfgajrKWfg8BjtaV01HOa5IjuPPed7WH5laZ7qnJKk3/taJdPQFVDoTuJrjz9lYTUcZ5IpkEHj8OsogVySDwOPXUQaBq+loEAR2BK6mozFQsdq2Z43j/wLSUYorkgMeP9oRuJqOxkD+QuaAx6+jHFckx/HnbBy/jjLIFUlBj19HKeBqaEdPp9s951ZARUelE1ltELTSkSsyBQJX01EOuJqOBkErHXVukZXVloHAjsDVdDQIAjsCV/MWyQFX09EgCOwIXE1Hn0DeIiHgajrKKX7f/76V7/v/ASDYDqsdPBk6AAAAAElFTkSuQmCC\" y=\"-25\"/>\n   <g id=\"matplotlib.axis_7\"/>\n   <g id=\"matplotlib.axis_8\">\n    <g id=\"ytick_18\">\n     <g id=\"line2d_30\">\n      <g>\n       <use style=\"stroke:#000000;stroke-width:0.8;\" x=\"941.95364\" xlink:href=\"#m4e52e8ada8\" y=\"362.12366\"/>\n      </g>\n     </g>\n     <g id=\"text_36\">\n      <!-- 20 -->\n      <g transform=\"translate(948.95364 365.922879)scale(0.1 -0.1)\">\n       <use xlink:href=\"#DejaVuSans-50\"/>\n       <use x=\"63.623047\" xlink:href=\"#DejaVuSans-48\"/>\n      </g>\n     </g>\n    </g>\n    <g id=\"ytick_19\">\n     <g id=\"line2d_31\">\n      <g>\n       <use style=\"stroke:#000000;stroke-width:0.8;\" x=\"941.95364\" xlink:href=\"#m4e52e8ada8\" y=\"314.157005\"/>\n      </g>\n     </g>\n     <g id=\"text_37\">\n      <!-- 40 -->\n      <g transform=\"translate(948.95364 317.956223)scale(0.1 -0.1)\">\n       <use xlink:href=\"#DejaVuSans-52\"/>\n       <use x=\"63.623047\" xlink:href=\"#DejaVuSans-48\"/>\n      </g>\n     </g>\n    </g>\n    <g id=\"ytick_20\">\n     <g id=\"line2d_32\">\n      <g>\n       <use style=\"stroke:#000000;stroke-width:0.8;\" x=\"941.95364\" xlink:href=\"#m4e52e8ada8\" y=\"266.190349\"/>\n      </g>\n     </g>\n     <g id=\"text_38\">\n      <!-- 60 -->\n      <g transform=\"translate(948.95364 269.989568)scale(0.1 -0.1)\">\n       <use xlink:href=\"#DejaVuSans-54\"/>\n       <use x=\"63.623047\" xlink:href=\"#DejaVuSans-48\"/>\n      </g>\n     </g>\n    </g>\n    <g id=\"ytick_21\">\n     <g id=\"line2d_33\">\n      <g>\n       <use style=\"stroke:#000000;stroke-width:0.8;\" x=\"941.95364\" xlink:href=\"#m4e52e8ada8\" y=\"218.223694\"/>\n      </g>\n     </g>\n     <g id=\"text_39\">\n      <!-- 80 -->\n      <g transform=\"translate(948.95364 222.022913)scale(0.1 -0.1)\">\n       <use xlink:href=\"#DejaVuSans-56\"/>\n       <use x=\"63.623047\" xlink:href=\"#DejaVuSans-48\"/>\n      </g>\n     </g>\n    </g>\n    <g id=\"ytick_22\">\n     <g id=\"line2d_34\">\n      <g>\n       <use style=\"stroke:#000000;stroke-width:0.8;\" x=\"941.95364\" xlink:href=\"#m4e52e8ada8\" y=\"170.257039\"/>\n      </g>\n     </g>\n     <g id=\"text_40\">\n      <!-- 100 -->\n      <g transform=\"translate(948.95364 174.056258)scale(0.1 -0.1)\">\n       <use xlink:href=\"#DejaVuSans-49\"/>\n       <use x=\"63.623047\" xlink:href=\"#DejaVuSans-48\"/>\n       <use x=\"127.246094\" xlink:href=\"#DejaVuSans-48\"/>\n      </g>\n     </g>\n    </g>\n    <g id=\"ytick_23\">\n     <g id=\"line2d_35\">\n      <g>\n       <use style=\"stroke:#000000;stroke-width:0.8;\" x=\"941.95364\" xlink:href=\"#m4e52e8ada8\" y=\"122.290384\"/>\n      </g>\n     </g>\n     <g id=\"text_41\">\n      <!-- 120 -->\n      <g transform=\"translate(948.95364 126.089603)scale(0.1 -0.1)\">\n       <use xlink:href=\"#DejaVuSans-49\"/>\n       <use x=\"63.623047\" xlink:href=\"#DejaVuSans-50\"/>\n       <use x=\"127.246094\" xlink:href=\"#DejaVuSans-48\"/>\n      </g>\n     </g>\n    </g>\n    <g id=\"ytick_24\">\n     <g id=\"line2d_36\">\n      <g>\n       <use style=\"stroke:#000000;stroke-width:0.8;\" x=\"941.95364\" xlink:href=\"#m4e52e8ada8\" y=\"74.323729\"/>\n      </g>\n     </g>\n     <g id=\"text_42\">\n      <!-- 140 -->\n      <g transform=\"translate(948.95364 78.122948)scale(0.1 -0.1)\">\n       <use xlink:href=\"#DejaVuSans-49\"/>\n       <use x=\"63.623047\" xlink:href=\"#DejaVuSans-52\"/>\n       <use x=\"127.246094\" xlink:href=\"#DejaVuSans-48\"/>\n      </g>\n     </g>\n    </g>\n    <g id=\"ytick_25\">\n     <g id=\"line2d_37\">\n      <g>\n       <use style=\"stroke:#000000;stroke-width:0.8;\" x=\"941.95364\" xlink:href=\"#m4e52e8ada8\" y=\"26.357074\"/>\n      </g>\n     </g>\n     <g id=\"text_43\">\n      <!-- 160 -->\n      <g transform=\"translate(948.95364 30.156292)scale(0.1 -0.1)\">\n       <use xlink:href=\"#DejaVuSans-49\"/>\n       <use x=\"63.623047\" xlink:href=\"#DejaVuSans-54\"/>\n       <use x=\"127.246094\" xlink:href=\"#DejaVuSans-48\"/>\n      </g>\n     </g>\n    </g>\n   </g>\n   <g id=\"patch_15\">\n    <path d=\"M 924.25364 379.3575 \nL 924.25364 377.974687 \nL 924.25364 26.740312 \nL 924.25364 25.3575 \nL 941.95364 25.3575 \nL 941.95364 26.740312 \nL 941.95364 377.974687 \nL 941.95364 379.3575 \nz\n\" style=\"fill:none;stroke:#000000;stroke-linejoin:miter;stroke-width:0.8;\"/>\n   </g>\n  </g>\n </g>\n <defs>\n  <clipPath id=\"p3cade436d6\">\n   <rect height=\"354\" width=\"349.202255\" x=\"52.854063\" y=\"25.3575\"/>\n  </clipPath>\n  <clipPath id=\"pd0bdbfdae1\">\n   <rect height=\"354\" width=\"349.202255\" x=\"553.226244\" y=\"25.3575\"/>\n  </clipPath>\n  <clipPath id=\"p305b6d7b54\">\n   <rect height=\"354\" width=\"17.7\" x=\"423.881458\" y=\"25.3575\"/>\n  </clipPath>\n  <clipPath id=\"p87dd4ca382\">\n   <rect height=\"354\" width=\"17.7\" x=\"924.25364\" y=\"25.3575\"/>\n  </clipPath>\n </defs>\n</svg>\n",
            "image/png": "[encoded data removed]"
          },
          "metadata": {
            "needs_background": "light"
          }
        }
      ]
    },
    {
      "cell_type": "markdown",
      "metadata": {
        "id": "TDC05i_QxzW2"
      },
      "source": [
        "## Visualization"
      ]
    },
    {
      "cell_type": "code",
      "metadata": {
        "colab": {
          "base_uri": "https://localhost:8080/",
          "height": 319
        },
        "id": "RA91GKqp_kgW",
        "outputId": "dcb02c5c-c89a-450d-9e15-e8a28818d27c"
      },
      "source": [
        "ground_truth = np.array([\n",
        "    np.ones((train_df_graph.shape[0], train_df_graph.shape[1])),\n",
        "    train_df_graph]).transpose(1, 2, 0)\n",
        "plot_nx_graph(w=np.array([-3, 6]), words=train_words, embedding=ground_truth);"
      ],
      "execution_count": 4,
      "outputs": [
        {
          "output_type": "display_data",
          "data": {
            "text/plain": "<Figure size 432x288 with 1 Axes>",
            "image/svg+xml": "<?xml version=\"1.0\" encoding=\"utf-8\" standalone=\"no\"?>\n<!DOCTYPE svg PUBLIC \"-//W3C//DTD SVG 1.1//EN\"\n  \"http://www.w3.org/Graphics/SVG/1.1/DTD/svg11.dtd\">\n<!-- Created with matplotlib (https://matplotlib.org/) -->\n<svg height=\"302.4pt\" version=\"1.1\" viewBox=\"0 0 446.4 302.4\" width=\"446.4pt\" xmlns=\"http://www.w3.org/2000/svg\" xmlns:xlink=\"http://www.w3.org/1999/xlink\">\n <metadata>\n  <rdf:RDF xmlns:cc=\"http://creativecommons.org/ns#\" xmlns:dc=\"http://purl.org/dc/elements/1.1/\" xmlns:rdf=\"http://www.w3.org/1999/02/22-rdf-syntax-ns#\">\n   <cc:Work>\n    <dc:type rdf:resource=\"http://purl.org/dc/dcmitype/StillImage\"/>\n    <dc:date>2021-03-08T21:57:47.785183</dc:date>\n    <dc:format>image/svg+xml</dc:format>\n    <dc:creator>\n     <cc:Agent>\n      <dc:title>Matplotlib v3.3.4, https://matplotlib.org/</dc:title>\n     </cc:Agent>\n    </dc:creator>\n   </cc:Work>\n  </rdf:RDF>\n </metadata>\n <defs>\n  <style type=\"text/css\">*{stroke-linecap:butt;stroke-linejoin:round;}</style>\n </defs>\n <g id=\"figure_1\">\n  <g id=\"patch_1\">\n   <path d=\"M 0 302.4 \nL 446.4 302.4 \nL 446.4 0 \nL 0 0 \nz\n\" style=\"fill:#ffffff;\"/>\n  </g>\n  <g id=\"axes_1\">\n   <g id=\"LineCollection_1\">\n    <path clip-path=\"url(#pb1cd4de249)\" d=\"M 233.167332 109.403231 \nL 180.071151 152.431006 \n\" style=\"fill:none;stroke:#000000;\"/>\n    <path clip-path=\"url(#pb1cd4de249)\" d=\"M 233.167332 109.403231 \nL 288.874384 68.666122 \n\" style=\"fill:none;stroke:#000000;\"/>\n    <path clip-path=\"url(#pb1cd4de249)\" d=\"M 180.071151 152.431006 \nL 202.499507 202.395704 \n\" style=\"fill:none;stroke:#000000;\"/>\n    <path clip-path=\"url(#pb1cd4de249)\" d=\"M 180.071151 152.431006 \nL 95.176772 145.115062 \n\" style=\"fill:none;stroke:#000000;\"/>\n    <path clip-path=\"url(#pb1cd4de249)\" d=\"M 202.499507 202.395704 \nL 260.764608 217.38247 \n\" style=\"fill:none;stroke:#000000;\"/>\n    <path clip-path=\"url(#pb1cd4de249)\" d=\"M 202.499507 202.395704 \nL 183.129249 246.062282 \n\" style=\"fill:none;stroke:#000000;\"/>\n    <path clip-path=\"url(#pb1cd4de249)\" d=\"M 183.129249 246.062282 \nL 131.702788 242.860461 \n\" style=\"fill:none;stroke:#000000;\"/>\n    <path clip-path=\"url(#pb1cd4de249)\" d=\"M 183.129249 246.062282 \nL 185.740438 282.109091 \n\" style=\"fill:none;stroke:#000000;\"/>\n    <path clip-path=\"url(#pb1cd4de249)\" d=\"M 95.176772 145.115062 \nL 26.836364 139.735613 \n\" style=\"fill:none;stroke:#000000;\"/>\n    <path clip-path=\"url(#pb1cd4de249)\" d=\"M 288.874384 68.666122 \nL 368.865554 48.835714 \n\" style=\"fill:none;stroke:#000000;\"/>\n    <path clip-path=\"url(#pb1cd4de249)\" d=\"M 288.874384 68.666122 \nL 263.024175 38.242384 \n\" style=\"fill:none;stroke:#000000;\"/>\n    <path clip-path=\"url(#pb1cd4de249)\" d=\"M 368.865554 48.835714 \nL 409.705331 20.290909 \n\" style=\"fill:none;stroke:#000000;\"/>\n    <path clip-path=\"url(#pb1cd4de249)\" d=\"M 368.865554 48.835714 \nL 419.563636 66.750337 \n\" style=\"fill:none;stroke:#000000;\"/>\n   </g>\n   <g id=\"PathCollection_1\">\n    <defs>\n     <path d=\"M 0 8.660254 \nC 2.296726 8.660254 4.499694 7.747755 6.123724 6.123724 \nC 7.747755 4.499694 8.660254 2.296726 8.660254 0 \nC 8.660254 -2.296726 7.747755 -4.499694 6.123724 -6.123724 \nC 4.499694 -7.747755 2.296726 -8.660254 0 -8.660254 \nC -2.296726 -8.660254 -4.499694 -7.747755 -6.123724 -6.123724 \nC -7.747755 -4.499694 -8.660254 -2.296726 -8.660254 0 \nC -8.660254 2.296726 -7.747755 4.499694 -6.123724 6.123724 \nC -4.499694 7.747755 -2.296726 8.660254 0 8.660254 \nz\n\" id=\"mbdead2e5ee\" style=\"stroke:#1f78b4;\"/>\n    </defs>\n    <g clip-path=\"url(#pb1cd4de249)\">\n     <use style=\"fill:#1f78b4;stroke:#1f78b4;\" x=\"233.167332\" xlink:href=\"#mbdead2e5ee\" y=\"109.403231\"/>\n     <use style=\"fill:#1f78b4;stroke:#1f78b4;\" x=\"180.071151\" xlink:href=\"#mbdead2e5ee\" y=\"152.431006\"/>\n     <use style=\"fill:#1f78b4;stroke:#1f78b4;\" x=\"202.499507\" xlink:href=\"#mbdead2e5ee\" y=\"202.395704\"/>\n     <use style=\"fill:#1f78b4;stroke:#1f78b4;\" x=\"260.764608\" xlink:href=\"#mbdead2e5ee\" y=\"217.38247\"/>\n     <use style=\"fill:#1f78b4;stroke:#1f78b4;\" x=\"183.129249\" xlink:href=\"#mbdead2e5ee\" y=\"246.062282\"/>\n     <use style=\"fill:#1f78b4;stroke:#1f78b4;\" x=\"131.702788\" xlink:href=\"#mbdead2e5ee\" y=\"242.860461\"/>\n     <use style=\"fill:#1f78b4;stroke:#1f78b4;\" x=\"95.176772\" xlink:href=\"#mbdead2e5ee\" y=\"145.115062\"/>\n     <use style=\"fill:#1f78b4;stroke:#1f78b4;\" x=\"26.836364\" xlink:href=\"#mbdead2e5ee\" y=\"139.735613\"/>\n     <use style=\"fill:#1f78b4;stroke:#1f78b4;\" x=\"288.874384\" xlink:href=\"#mbdead2e5ee\" y=\"68.666122\"/>\n     <use style=\"fill:#1f78b4;stroke:#1f78b4;\" x=\"368.865554\" xlink:href=\"#mbdead2e5ee\" y=\"48.835714\"/>\n     <use style=\"fill:#1f78b4;stroke:#1f78b4;\" x=\"185.740438\" xlink:href=\"#mbdead2e5ee\" y=\"282.109091\"/>\n     <use style=\"fill:#1f78b4;stroke:#1f78b4;\" x=\"409.705331\" xlink:href=\"#mbdead2e5ee\" y=\"20.290909\"/>\n     <use style=\"fill:#1f78b4;stroke:#1f78b4;\" x=\"419.563636\" xlink:href=\"#mbdead2e5ee\" y=\"66.750337\"/>\n     <use style=\"fill:#1f78b4;stroke:#1f78b4;\" x=\"263.024175\" xlink:href=\"#mbdead2e5ee\" y=\"38.242384\"/>\n    </g>\n   </g>\n   <g id=\"text_1\">\n    <g clip-path=\"url(#pb1cd4de249)\">\n     <!-- vertebrate -->\n     <g transform=\"translate(201.41702 112.714481)scale(0.12 -0.12)\">\n      <defs>\n       <path d=\"M 2.984375 54.6875 \nL 12.5 54.6875 \nL 29.59375 8.796875 \nL 46.6875 54.6875 \nL 56.203125 54.6875 \nL 35.6875 0 \nL 23.484375 0 \nz\n\" id=\"DejaVuSans-118\"/>\n       <path d=\"M 56.203125 29.59375 \nL 56.203125 25.203125 \nL 14.890625 25.203125 \nQ 15.484375 15.921875 20.484375 11.0625 \nQ 25.484375 6.203125 34.421875 6.203125 \nQ 39.59375 6.203125 44.453125 7.46875 \nQ 49.3125 8.734375 54.109375 11.28125 \nL 54.109375 2.78125 \nQ 49.265625 0.734375 44.1875 -0.34375 \nQ 39.109375 -1.421875 33.890625 -1.421875 \nQ 20.796875 -1.421875 13.15625 6.1875 \nQ 5.515625 13.8125 5.515625 26.8125 \nQ 5.515625 40.234375 12.765625 48.109375 \nQ 20.015625 56 32.328125 56 \nQ 43.359375 56 49.78125 48.890625 \nQ 56.203125 41.796875 56.203125 29.59375 \nz\nM 47.21875 32.234375 \nQ 47.125 39.59375 43.09375 43.984375 \nQ 39.0625 48.390625 32.421875 48.390625 \nQ 24.90625 48.390625 20.390625 44.140625 \nQ 15.875 39.890625 15.1875 32.171875 \nz\n\" id=\"DejaVuSans-101\"/>\n       <path d=\"M 41.109375 46.296875 \nQ 39.59375 47.171875 37.8125 47.578125 \nQ 36.03125 48 33.890625 48 \nQ 26.265625 48 22.1875 43.046875 \nQ 18.109375 38.09375 18.109375 28.8125 \nL 18.109375 0 \nL 9.078125 0 \nL 9.078125 54.6875 \nL 18.109375 54.6875 \nL 18.109375 46.1875 \nQ 20.953125 51.171875 25.484375 53.578125 \nQ 30.03125 56 36.53125 56 \nQ 37.453125 56 38.578125 55.875 \nQ 39.703125 55.765625 41.0625 55.515625 \nz\n\" id=\"DejaVuSans-114\"/>\n       <path d=\"M 18.3125 70.21875 \nL 18.3125 54.6875 \nL 36.8125 54.6875 \nL 36.8125 47.703125 \nL 18.3125 47.703125 \nL 18.3125 18.015625 \nQ 18.3125 11.328125 20.140625 9.421875 \nQ 21.96875 7.515625 27.59375 7.515625 \nL 36.8125 7.515625 \nL 36.8125 0 \nL 27.59375 0 \nQ 17.1875 0 13.234375 3.875 \nQ 9.28125 7.765625 9.28125 18.015625 \nL 9.28125 47.703125 \nL 2.6875 47.703125 \nL 2.6875 54.6875 \nL 9.28125 54.6875 \nL 9.28125 70.21875 \nz\n\" id=\"DejaVuSans-116\"/>\n       <path d=\"M 48.6875 27.296875 \nQ 48.6875 37.203125 44.609375 42.84375 \nQ 40.53125 48.484375 33.40625 48.484375 \nQ 26.265625 48.484375 22.1875 42.84375 \nQ 18.109375 37.203125 18.109375 27.296875 \nQ 18.109375 17.390625 22.1875 11.75 \nQ 26.265625 6.109375 33.40625 6.109375 \nQ 40.53125 6.109375 44.609375 11.75 \nQ 48.6875 17.390625 48.6875 27.296875 \nz\nM 18.109375 46.390625 \nQ 20.953125 51.265625 25.265625 53.625 \nQ 29.59375 56 35.59375 56 \nQ 45.5625 56 51.78125 48.09375 \nQ 58.015625 40.1875 58.015625 27.296875 \nQ 58.015625 14.40625 51.78125 6.484375 \nQ 45.5625 -1.421875 35.59375 -1.421875 \nQ 29.59375 -1.421875 25.265625 0.953125 \nQ 20.953125 3.328125 18.109375 8.203125 \nL 18.109375 0 \nL 9.078125 0 \nL 9.078125 75.984375 \nL 18.109375 75.984375 \nz\n\" id=\"DejaVuSans-98\"/>\n       <path d=\"M 34.28125 27.484375 \nQ 23.390625 27.484375 19.1875 25 \nQ 14.984375 22.515625 14.984375 16.5 \nQ 14.984375 11.71875 18.140625 8.90625 \nQ 21.296875 6.109375 26.703125 6.109375 \nQ 34.1875 6.109375 38.703125 11.40625 \nQ 43.21875 16.703125 43.21875 25.484375 \nL 43.21875 27.484375 \nz\nM 52.203125 31.203125 \nL 52.203125 0 \nL 43.21875 0 \nL 43.21875 8.296875 \nQ 40.140625 3.328125 35.546875 0.953125 \nQ 30.953125 -1.421875 24.3125 -1.421875 \nQ 15.921875 -1.421875 10.953125 3.296875 \nQ 6 8.015625 6 15.921875 \nQ 6 25.140625 12.171875 29.828125 \nQ 18.359375 34.515625 30.609375 34.515625 \nL 43.21875 34.515625 \nL 43.21875 35.40625 \nQ 43.21875 41.609375 39.140625 45 \nQ 35.0625 48.390625 27.6875 48.390625 \nQ 23 48.390625 18.546875 47.265625 \nQ 14.109375 46.140625 10.015625 43.890625 \nL 10.015625 52.203125 \nQ 14.9375 54.109375 19.578125 55.046875 \nQ 24.21875 56 28.609375 56 \nQ 40.484375 56 46.34375 49.84375 \nQ 52.203125 43.703125 52.203125 31.203125 \nz\n\" id=\"DejaVuSans-97\"/>\n      </defs>\n      <use xlink:href=\"#DejaVuSans-118\"/>\n      <use x=\"59.179688\" xlink:href=\"#DejaVuSans-101\"/>\n      <use x=\"120.703125\" xlink:href=\"#DejaVuSans-114\"/>\n      <use x=\"161.816406\" xlink:href=\"#DejaVuSans-116\"/>\n      <use x=\"201.025391\" xlink:href=\"#DejaVuSans-101\"/>\n      <use x=\"262.548828\" xlink:href=\"#DejaVuSans-98\"/>\n      <use x=\"326.025391\" xlink:href=\"#DejaVuSans-114\"/>\n      <use x=\"367.138672\" xlink:href=\"#DejaVuSans-97\"/>\n      <use x=\"428.417969\" xlink:href=\"#DejaVuSans-116\"/>\n      <use x=\"467.626953\" xlink:href=\"#DejaVuSans-101\"/>\n     </g>\n    </g>\n   </g>\n   <g id=\"text_2\">\n    <g clip-path=\"url(#pb1cd4de249)\">\n     <!-- mammal -->\n     <g transform=\"translate(153.517401 155.742256)scale(0.12 -0.12)\">\n      <defs>\n       <path d=\"M 52 44.1875 \nQ 55.375 50.25 60.0625 53.125 \nQ 64.75 56 71.09375 56 \nQ 79.640625 56 84.28125 50.015625 \nQ 88.921875 44.046875 88.921875 33.015625 \nL 88.921875 0 \nL 79.890625 0 \nL 79.890625 32.71875 \nQ 79.890625 40.578125 77.09375 44.375 \nQ 74.3125 48.1875 68.609375 48.1875 \nQ 61.625 48.1875 57.5625 43.546875 \nQ 53.515625 38.921875 53.515625 30.90625 \nL 53.515625 0 \nL 44.484375 0 \nL 44.484375 32.71875 \nQ 44.484375 40.625 41.703125 44.40625 \nQ 38.921875 48.1875 33.109375 48.1875 \nQ 26.21875 48.1875 22.15625 43.53125 \nQ 18.109375 38.875 18.109375 30.90625 \nL 18.109375 0 \nL 9.078125 0 \nL 9.078125 54.6875 \nL 18.109375 54.6875 \nL 18.109375 46.1875 \nQ 21.1875 51.21875 25.484375 53.609375 \nQ 29.78125 56 35.6875 56 \nQ 41.65625 56 45.828125 52.96875 \nQ 50 49.953125 52 44.1875 \nz\n\" id=\"DejaVuSans-109\"/>\n       <path d=\"M 9.421875 75.984375 \nL 18.40625 75.984375 \nL 18.40625 0 \nL 9.421875 0 \nz\n\" id=\"DejaVuSans-108\"/>\n      </defs>\n      <use xlink:href=\"#DejaVuSans-109\"/>\n      <use x=\"97.412109\" xlink:href=\"#DejaVuSans-97\"/>\n      <use x=\"158.691406\" xlink:href=\"#DejaVuSans-109\"/>\n      <use x=\"256.103516\" xlink:href=\"#DejaVuSans-109\"/>\n      <use x=\"353.515625\" xlink:href=\"#DejaVuSans-97\"/>\n      <use x=\"414.794922\" xlink:href=\"#DejaVuSans-108\"/>\n     </g>\n    </g>\n   </g>\n   <g id=\"text_3\">\n    <g clip-path=\"url(#pb1cd4de249)\">\n     <!-- placental -->\n     <g transform=\"translate(174.857319 205.706954)scale(0.12 -0.12)\">\n      <defs>\n       <path d=\"M 18.109375 8.203125 \nL 18.109375 -20.796875 \nL 9.078125 -20.796875 \nL 9.078125 54.6875 \nL 18.109375 54.6875 \nL 18.109375 46.390625 \nQ 20.953125 51.265625 25.265625 53.625 \nQ 29.59375 56 35.59375 56 \nQ 45.5625 56 51.78125 48.09375 \nQ 58.015625 40.1875 58.015625 27.296875 \nQ 58.015625 14.40625 51.78125 6.484375 \nQ 45.5625 -1.421875 35.59375 -1.421875 \nQ 29.59375 -1.421875 25.265625 0.953125 \nQ 20.953125 3.328125 18.109375 8.203125 \nz\nM 48.6875 27.296875 \nQ 48.6875 37.203125 44.609375 42.84375 \nQ 40.53125 48.484375 33.40625 48.484375 \nQ 26.265625 48.484375 22.1875 42.84375 \nQ 18.109375 37.203125 18.109375 27.296875 \nQ 18.109375 17.390625 22.1875 11.75 \nQ 26.265625 6.109375 33.40625 6.109375 \nQ 40.53125 6.109375 44.609375 11.75 \nQ 48.6875 17.390625 48.6875 27.296875 \nz\n\" id=\"DejaVuSans-112\"/>\n       <path d=\"M 48.78125 52.59375 \nL 48.78125 44.1875 \nQ 44.96875 46.296875 41.140625 47.34375 \nQ 37.3125 48.390625 33.40625 48.390625 \nQ 24.65625 48.390625 19.8125 42.84375 \nQ 14.984375 37.3125 14.984375 27.296875 \nQ 14.984375 17.28125 19.8125 11.734375 \nQ 24.65625 6.203125 33.40625 6.203125 \nQ 37.3125 6.203125 41.140625 7.25 \nQ 44.96875 8.296875 48.78125 10.40625 \nL 48.78125 2.09375 \nQ 45.015625 0.34375 40.984375 -0.53125 \nQ 36.96875 -1.421875 32.421875 -1.421875 \nQ 20.0625 -1.421875 12.78125 6.34375 \nQ 5.515625 14.109375 5.515625 27.296875 \nQ 5.515625 40.671875 12.859375 48.328125 \nQ 20.21875 56 33.015625 56 \nQ 37.15625 56 41.109375 55.140625 \nQ 45.0625 54.296875 48.78125 52.59375 \nz\n\" id=\"DejaVuSans-99\"/>\n       <path d=\"M 54.890625 33.015625 \nL 54.890625 0 \nL 45.90625 0 \nL 45.90625 32.71875 \nQ 45.90625 40.484375 42.875 44.328125 \nQ 39.84375 48.1875 33.796875 48.1875 \nQ 26.515625 48.1875 22.3125 43.546875 \nQ 18.109375 38.921875 18.109375 30.90625 \nL 18.109375 0 \nL 9.078125 0 \nL 9.078125 54.6875 \nL 18.109375 54.6875 \nL 18.109375 46.1875 \nQ 21.34375 51.125 25.703125 53.5625 \nQ 30.078125 56 35.796875 56 \nQ 45.21875 56 50.046875 50.171875 \nQ 54.890625 44.34375 54.890625 33.015625 \nz\n\" id=\"DejaVuSans-110\"/>\n      </defs>\n      <use xlink:href=\"#DejaVuSans-112\"/>\n      <use x=\"63.476562\" xlink:href=\"#DejaVuSans-108\"/>\n      <use x=\"91.259766\" xlink:href=\"#DejaVuSans-97\"/>\n      <use x=\"152.539062\" xlink:href=\"#DejaVuSans-99\"/>\n      <use x=\"207.519531\" xlink:href=\"#DejaVuSans-101\"/>\n      <use x=\"269.042969\" xlink:href=\"#DejaVuSans-110\"/>\n      <use x=\"332.421875\" xlink:href=\"#DejaVuSans-116\"/>\n      <use x=\"371.630859\" xlink:href=\"#DejaVuSans-97\"/>\n      <use x=\"432.910156\" xlink:href=\"#DejaVuSans-108\"/>\n     </g>\n    </g>\n   </g>\n   <g id=\"text_4\">\n    <g clip-path=\"url(#pb1cd4de249)\">\n     <!-- cow -->\n     <g transform=\"translate(248.88742 220.69372)scale(0.12 -0.12)\">\n      <defs>\n       <path d=\"M 30.609375 48.390625 \nQ 23.390625 48.390625 19.1875 42.75 \nQ 14.984375 37.109375 14.984375 27.296875 \nQ 14.984375 17.484375 19.15625 11.84375 \nQ 23.34375 6.203125 30.609375 6.203125 \nQ 37.796875 6.203125 41.984375 11.859375 \nQ 46.1875 17.53125 46.1875 27.296875 \nQ 46.1875 37.015625 41.984375 42.703125 \nQ 37.796875 48.390625 30.609375 48.390625 \nz\nM 30.609375 56 \nQ 42.328125 56 49.015625 48.375 \nQ 55.71875 40.765625 55.71875 27.296875 \nQ 55.71875 13.875 49.015625 6.21875 \nQ 42.328125 -1.421875 30.609375 -1.421875 \nQ 18.84375 -1.421875 12.171875 6.21875 \nQ 5.515625 13.875 5.515625 27.296875 \nQ 5.515625 40.765625 12.171875 48.375 \nQ 18.84375 56 30.609375 56 \nz\n\" id=\"DejaVuSans-111\"/>\n       <path d=\"M 4.203125 54.6875 \nL 13.1875 54.6875 \nL 24.421875 12.015625 \nL 35.59375 54.6875 \nL 46.1875 54.6875 \nL 57.421875 12.015625 \nL 68.609375 54.6875 \nL 77.59375 54.6875 \nL 63.28125 0 \nL 52.6875 0 \nL 40.921875 44.828125 \nL 29.109375 0 \nL 18.5 0 \nz\n\" id=\"DejaVuSans-119\"/>\n      </defs>\n      <use xlink:href=\"#DejaVuSans-99\"/>\n      <use x=\"54.980469\" xlink:href=\"#DejaVuSans-111\"/>\n      <use x=\"116.162109\" xlink:href=\"#DejaVuSans-119\"/>\n     </g>\n    </g>\n   </g>\n   <g id=\"text_5\">\n    <g clip-path=\"url(#pb1cd4de249)\">\n     <!-- rodent -->\n     <g transform=\"translate(163.470812 249.373532)scale(0.12 -0.12)\">\n      <defs>\n       <path d=\"M 45.40625 46.390625 \nL 45.40625 75.984375 \nL 54.390625 75.984375 \nL 54.390625 0 \nL 45.40625 0 \nL 45.40625 8.203125 \nQ 42.578125 3.328125 38.25 0.953125 \nQ 33.9375 -1.421875 27.875 -1.421875 \nQ 17.96875 -1.421875 11.734375 6.484375 \nQ 5.515625 14.40625 5.515625 27.296875 \nQ 5.515625 40.1875 11.734375 48.09375 \nQ 17.96875 56 27.875 56 \nQ 33.9375 56 38.25 53.625 \nQ 42.578125 51.265625 45.40625 46.390625 \nz\nM 14.796875 27.296875 \nQ 14.796875 17.390625 18.875 11.75 \nQ 22.953125 6.109375 30.078125 6.109375 \nQ 37.203125 6.109375 41.296875 11.75 \nQ 45.40625 17.390625 45.40625 27.296875 \nQ 45.40625 37.203125 41.296875 42.84375 \nQ 37.203125 48.484375 30.078125 48.484375 \nQ 22.953125 48.484375 18.875 42.84375 \nQ 14.796875 37.203125 14.796875 27.296875 \nz\n\" id=\"DejaVuSans-100\"/>\n      </defs>\n      <use xlink:href=\"#DejaVuSans-114\"/>\n      <use x=\"38.863281\" xlink:href=\"#DejaVuSans-111\"/>\n      <use x=\"100.044922\" xlink:href=\"#DejaVuSans-100\"/>\n      <use x=\"163.521484\" xlink:href=\"#DejaVuSans-101\"/>\n      <use x=\"225.044922\" xlink:href=\"#DejaVuSans-110\"/>\n      <use x=\"288.423828\" xlink:href=\"#DejaVuSans-116\"/>\n     </g>\n    </g>\n   </g>\n   <g id=\"text_6\">\n    <g clip-path=\"url(#pb1cd4de249)\">\n     <!-- rat -->\n     <g transform=\"translate(123.207163 246.171711)scale(0.12 -0.12)\">\n      <use xlink:href=\"#DejaVuSans-114\"/>\n      <use x=\"41.113281\" xlink:href=\"#DejaVuSans-97\"/>\n      <use x=\"102.392578\" xlink:href=\"#DejaVuSans-116\"/>\n     </g>\n    </g>\n   </g>\n   <g id=\"text_7\">\n    <g clip-path=\"url(#pb1cd4de249)\">\n     <!-- marsupial -->\n     <g transform=\"translate(65.441147 148.426312)scale(0.12 -0.12)\">\n      <defs>\n       <path d=\"M 44.28125 53.078125 \nL 44.28125 44.578125 \nQ 40.484375 46.53125 36.375 47.5 \nQ 32.28125 48.484375 27.875 48.484375 \nQ 21.1875 48.484375 17.84375 46.4375 \nQ 14.5 44.390625 14.5 40.28125 \nQ 14.5 37.15625 16.890625 35.375 \nQ 19.28125 33.59375 26.515625 31.984375 \nL 29.59375 31.296875 \nQ 39.15625 29.25 43.1875 25.515625 \nQ 47.21875 21.78125 47.21875 15.09375 \nQ 47.21875 7.46875 41.1875 3.015625 \nQ 35.15625 -1.421875 24.609375 -1.421875 \nQ 20.21875 -1.421875 15.453125 -0.5625 \nQ 10.6875 0.296875 5.421875 2 \nL 5.421875 11.28125 \nQ 10.40625 8.6875 15.234375 7.390625 \nQ 20.0625 6.109375 24.8125 6.109375 \nQ 31.15625 6.109375 34.5625 8.28125 \nQ 37.984375 10.453125 37.984375 14.40625 \nQ 37.984375 18.0625 35.515625 20.015625 \nQ 33.0625 21.96875 24.703125 23.78125 \nL 21.578125 24.515625 \nQ 13.234375 26.265625 9.515625 29.90625 \nQ 5.8125 33.546875 5.8125 39.890625 \nQ 5.8125 47.609375 11.28125 51.796875 \nQ 16.75 56 26.8125 56 \nQ 31.78125 56 36.171875 55.265625 \nQ 40.578125 54.546875 44.28125 53.078125 \nz\n\" id=\"DejaVuSans-115\"/>\n       <path d=\"M 8.5 21.578125 \nL 8.5 54.6875 \nL 17.484375 54.6875 \nL 17.484375 21.921875 \nQ 17.484375 14.15625 20.5 10.265625 \nQ 23.53125 6.390625 29.59375 6.390625 \nQ 36.859375 6.390625 41.078125 11.03125 \nQ 45.3125 15.671875 45.3125 23.6875 \nL 45.3125 54.6875 \nL 54.296875 54.6875 \nL 54.296875 0 \nL 45.3125 0 \nL 45.3125 8.40625 \nQ 42.046875 3.421875 37.71875 1 \nQ 33.40625 -1.421875 27.6875 -1.421875 \nQ 18.265625 -1.421875 13.375 4.4375 \nQ 8.5 10.296875 8.5 21.578125 \nz\nM 31.109375 56 \nz\n\" id=\"DejaVuSans-117\"/>\n       <path d=\"M 9.421875 54.6875 \nL 18.40625 54.6875 \nL 18.40625 0 \nL 9.421875 0 \nz\nM 9.421875 75.984375 \nL 18.40625 75.984375 \nL 18.40625 64.59375 \nL 9.421875 64.59375 \nz\n\" id=\"DejaVuSans-105\"/>\n      </defs>\n      <use xlink:href=\"#DejaVuSans-109\"/>\n      <use x=\"97.412109\" xlink:href=\"#DejaVuSans-97\"/>\n      <use x=\"158.691406\" xlink:href=\"#DejaVuSans-114\"/>\n      <use x=\"199.804688\" xlink:href=\"#DejaVuSans-115\"/>\n      <use x=\"251.904297\" xlink:href=\"#DejaVuSans-117\"/>\n      <use x=\"315.283203\" xlink:href=\"#DejaVuSans-112\"/>\n      <use x=\"378.759766\" xlink:href=\"#DejaVuSans-105\"/>\n      <use x=\"406.542969\" xlink:href=\"#DejaVuSans-97\"/>\n      <use x=\"467.822266\" xlink:href=\"#DejaVuSans-108\"/>\n     </g>\n    </g>\n   </g>\n   <g id=\"text_8\">\n    <g clip-path=\"url(#pb1cd4de249)\">\n     <!-- kangaroo -->\n     <g transform=\"translate(-1.172386 143.046863)scale(0.12 -0.12)\">\n      <defs>\n       <path d=\"M 9.078125 75.984375 \nL 18.109375 75.984375 \nL 18.109375 31.109375 \nL 44.921875 54.6875 \nL 56.390625 54.6875 \nL 27.390625 29.109375 \nL 57.625 0 \nL 45.90625 0 \nL 18.109375 26.703125 \nL 18.109375 0 \nL 9.078125 0 \nz\n\" id=\"DejaVuSans-107\"/>\n       <path d=\"M 45.40625 27.984375 \nQ 45.40625 37.75 41.375 43.109375 \nQ 37.359375 48.484375 30.078125 48.484375 \nQ 22.859375 48.484375 18.828125 43.109375 \nQ 14.796875 37.75 14.796875 27.984375 \nQ 14.796875 18.265625 18.828125 12.890625 \nQ 22.859375 7.515625 30.078125 7.515625 \nQ 37.359375 7.515625 41.375 12.890625 \nQ 45.40625 18.265625 45.40625 27.984375 \nz\nM 54.390625 6.78125 \nQ 54.390625 -7.171875 48.1875 -13.984375 \nQ 42 -20.796875 29.203125 -20.796875 \nQ 24.46875 -20.796875 20.265625 -20.09375 \nQ 16.0625 -19.390625 12.109375 -17.921875 \nL 12.109375 -9.1875 \nQ 16.0625 -11.328125 19.921875 -12.34375 \nQ 23.78125 -13.375 27.78125 -13.375 \nQ 36.625 -13.375 41.015625 -8.765625 \nQ 45.40625 -4.15625 45.40625 5.171875 \nL 45.40625 9.625 \nQ 42.625 4.78125 38.28125 2.390625 \nQ 33.9375 0 27.875 0 \nQ 17.828125 0 11.671875 7.65625 \nQ 5.515625 15.328125 5.515625 27.984375 \nQ 5.515625 40.671875 11.671875 48.328125 \nQ 17.828125 56 27.875 56 \nQ 33.9375 56 38.28125 53.609375 \nQ 42.625 51.21875 45.40625 46.390625 \nL 45.40625 54.6875 \nL 54.390625 54.6875 \nz\n\" id=\"DejaVuSans-103\"/>\n      </defs>\n      <use xlink:href=\"#DejaVuSans-107\"/>\n      <use x=\"56.160156\" xlink:href=\"#DejaVuSans-97\"/>\n      <use x=\"117.439453\" xlink:href=\"#DejaVuSans-110\"/>\n      <use x=\"180.818359\" xlink:href=\"#DejaVuSans-103\"/>\n      <use x=\"244.294922\" xlink:href=\"#DejaVuSans-97\"/>\n      <use x=\"305.574219\" xlink:href=\"#DejaVuSans-114\"/>\n      <use x=\"344.4375\" xlink:href=\"#DejaVuSans-111\"/>\n      <use x=\"405.619141\" xlink:href=\"#DejaVuSans-111\"/>\n     </g>\n    </g>\n   </g>\n   <g id=\"text_9\">\n    <g clip-path=\"url(#pb1cd4de249)\">\n     <!-- reptile -->\n     <g transform=\"translate(269.664072 71.977372)scale(0.12 -0.12)\">\n      <use xlink:href=\"#DejaVuSans-114\"/>\n      <use x=\"38.863281\" xlink:href=\"#DejaVuSans-101\"/>\n      <use x=\"100.386719\" xlink:href=\"#DejaVuSans-112\"/>\n      <use x=\"163.863281\" xlink:href=\"#DejaVuSans-116\"/>\n      <use x=\"203.072266\" xlink:href=\"#DejaVuSans-105\"/>\n      <use x=\"230.855469\" xlink:href=\"#DejaVuSans-108\"/>\n      <use x=\"258.638672\" xlink:href=\"#DejaVuSans-101\"/>\n     </g>\n    </g>\n   </g>\n   <g id=\"text_10\">\n    <g clip-path=\"url(#pb1cd4de249)\">\n     <!-- diapsid -->\n     <g transform=\"translate(347.302116 52.146964)scale(0.12 -0.12)\">\n      <use xlink:href=\"#DejaVuSans-100\"/>\n      <use x=\"63.476562\" xlink:href=\"#DejaVuSans-105\"/>\n      <use x=\"91.259766\" xlink:href=\"#DejaVuSans-97\"/>\n      <use x=\"152.539062\" xlink:href=\"#DejaVuSans-112\"/>\n      <use x=\"216.015625\" xlink:href=\"#DejaVuSans-115\"/>\n      <use x=\"268.115234\" xlink:href=\"#DejaVuSans-105\"/>\n      <use x=\"295.898438\" xlink:href=\"#DejaVuSans-100\"/>\n     </g>\n    </g>\n   </g>\n   <g id=\"text_11\">\n    <g clip-path=\"url(#pb1cd4de249)\">\n     <!-- squirrel -->\n     <g transform=\"translate(163.2845 285.420341)scale(0.12 -0.12)\">\n      <defs>\n       <path d=\"M 14.796875 27.296875 \nQ 14.796875 17.390625 18.875 11.75 \nQ 22.953125 6.109375 30.078125 6.109375 \nQ 37.203125 6.109375 41.296875 11.75 \nQ 45.40625 17.390625 45.40625 27.296875 \nQ 45.40625 37.203125 41.296875 42.84375 \nQ 37.203125 48.484375 30.078125 48.484375 \nQ 22.953125 48.484375 18.875 42.84375 \nQ 14.796875 37.203125 14.796875 27.296875 \nz\nM 45.40625 8.203125 \nQ 42.578125 3.328125 38.25 0.953125 \nQ 33.9375 -1.421875 27.875 -1.421875 \nQ 17.96875 -1.421875 11.734375 6.484375 \nQ 5.515625 14.40625 5.515625 27.296875 \nQ 5.515625 40.1875 11.734375 48.09375 \nQ 17.96875 56 27.875 56 \nQ 33.9375 56 38.25 53.625 \nQ 42.578125 51.265625 45.40625 46.390625 \nL 45.40625 54.6875 \nL 54.390625 54.6875 \nL 54.390625 -20.796875 \nL 45.40625 -20.796875 \nz\n\" id=\"DejaVuSans-113\"/>\n      </defs>\n      <use xlink:href=\"#DejaVuSans-115\"/>\n      <use x=\"52.099609\" xlink:href=\"#DejaVuSans-113\"/>\n      <use x=\"115.576172\" xlink:href=\"#DejaVuSans-117\"/>\n      <use x=\"178.955078\" xlink:href=\"#DejaVuSans-105\"/>\n      <use x=\"206.738281\" xlink:href=\"#DejaVuSans-114\"/>\n      <use x=\"246.101562\" xlink:href=\"#DejaVuSans-114\"/>\n      <use x=\"284.964844\" xlink:href=\"#DejaVuSans-101\"/>\n      <use x=\"346.488281\" xlink:href=\"#DejaVuSans-108\"/>\n     </g>\n    </g>\n   </g>\n   <g id=\"text_12\">\n    <g clip-path=\"url(#pb1cd4de249)\">\n     <!-- snake -->\n     <g transform=\"translate(392.151581 23.602159)scale(0.12 -0.12)\">\n      <use xlink:href=\"#DejaVuSans-115\"/>\n      <use x=\"52.099609\" xlink:href=\"#DejaVuSans-110\"/>\n      <use x=\"115.478516\" xlink:href=\"#DejaVuSans-97\"/>\n      <use x=\"176.757812\" xlink:href=\"#DejaVuSans-107\"/>\n      <use x=\"231.042969\" xlink:href=\"#DejaVuSans-101\"/>\n     </g>\n    </g>\n   </g>\n   <g id=\"text_13\">\n    <g clip-path=\"url(#pb1cd4de249)\">\n     <!-- crocodilian -->\n     <g transform=\"translate(387.002386 70.061587)scale(0.12 -0.12)\">\n      <use xlink:href=\"#DejaVuSans-99\"/>\n      <use x=\"54.980469\" xlink:href=\"#DejaVuSans-114\"/>\n      <use x=\"93.84375\" xlink:href=\"#DejaVuSans-111\"/>\n      <use x=\"155.025391\" xlink:href=\"#DejaVuSans-99\"/>\n      <use x=\"210.005859\" xlink:href=\"#DejaVuSans-111\"/>\n      <use x=\"271.1875\" xlink:href=\"#DejaVuSans-100\"/>\n      <use x=\"334.664062\" xlink:href=\"#DejaVuSans-105\"/>\n      <use x=\"362.447266\" xlink:href=\"#DejaVuSans-108\"/>\n      <use x=\"390.230469\" xlink:href=\"#DejaVuSans-105\"/>\n      <use x=\"418.013672\" xlink:href=\"#DejaVuSans-97\"/>\n      <use x=\"479.292969\" xlink:href=\"#DejaVuSans-110\"/>\n     </g>\n    </g>\n   </g>\n   <g id=\"text_14\">\n    <g clip-path=\"url(#pb1cd4de249)\">\n     <!-- turtle -->\n     <g transform=\"translate(246.691988 41.553634)scale(0.12 -0.12)\">\n      <use xlink:href=\"#DejaVuSans-116\"/>\n      <use x=\"39.208984\" xlink:href=\"#DejaVuSans-117\"/>\n      <use x=\"102.587891\" xlink:href=\"#DejaVuSans-114\"/>\n      <use x=\"143.701172\" xlink:href=\"#DejaVuSans-116\"/>\n      <use x=\"182.910156\" xlink:href=\"#DejaVuSans-108\"/>\n      <use x=\"210.693359\" xlink:href=\"#DejaVuSans-101\"/>\n     </g>\n    </g>\n   </g>\n  </g>\n </g>\n <defs>\n  <clipPath id=\"pb1cd4de249\">\n   <rect height=\"288\" width=\"432\" x=\"7.2\" y=\"7.2\"/>\n  </clipPath>\n </defs>\n</svg>\n",
            "image/png": "[encoded data removed]"
          },
          "metadata": {}
        }
      ]
    },
    {
      "cell_type": "markdown",
      "metadata": {
        "id": "k0gakRZhxeEx"
      },
      "source": [
        "## Training procedure"
      ]
    },
    {
      "cell_type": "code",
      "execution_count": 8,
      "metadata": {},
      "outputs": [],
      "source": [
        "taxonomy_module = TaxonomyModule(nb_features=53)"
      ]
    },
    {
      "cell_type": "code",
      "metadata": {
        "colab": {
          "base_uri": "https://localhost:8080/"
        },
        "id": "xWJaqPBHxf0W",
        "outputId": "e44d9e35-7ad9-46d3-9f26-a16ab04510d9",
        "tags": []
      },
      "source": [
        "# NeverGrad\n",
        "taxonomy_module.train(train_df_graph, nb_epochs=500, lr=None, bal_coef=5, verbose=False)"
      ],
      "execution_count": 10,
      "outputs": [
        {
          "output_type": "stream",
          "name": "stdout",
          "text": [
            "(7_w,15)-aCMA-ES (mu_w=4.5,w_1=34%) in dimension 53 (seed=nan, Mon Mar  8 22:00:01 2021)\n"
          ]
        }
      ]
    },
    {
      "cell_type": "code",
      "execution_count": 12,
      "metadata": {},
      "outputs": [
        {
          "output_type": "display_data",
          "data": {
            "text/plain": "  0%|          | 0/300 [00:00<?, ?it/s]",
            "application/vnd.jupyter.widget-view+json": {
              "version_major": 2,
              "version_minor": 0,
              "model_id": "cef8790528504762a3ffab4f8abff6fe"
            }
          },
          "metadata": {}
        },
        {
          "output_type": "display_data",
          "data": {
            "text/plain": "  0%|          | 0/53 [00:00<?, ?it/s]",
            "application/vnd.jupyter.widget-view+json": {
              "version_major": 2,
              "version_minor": 0,
              "model_id": "a22bb4c2bcd6426e9b5c1bf86d96a50e"
            }
          },
          "metadata": {}
        },
        {
          "output_type": "stream",
          "name": "stdout",
          "text": [
            "[Epoch 1]: -145.16\n"
          ]
        },
        {
          "output_type": "display_data",
          "data": {
            "text/plain": "  0%|          | 0/53 [00:00<?, ?it/s]",
            "application/vnd.jupyter.widget-view+json": {
              "version_major": 2,
              "version_minor": 0,
              "model_id": "a2b35c67e1a34c04a38fa97785b66216"
            }
          },
          "metadata": {}
        },
        {
          "output_type": "stream",
          "name": "stdout",
          "text": [
            "[Epoch 2]: -142.92\n"
          ]
        },
        {
          "output_type": "display_data",
          "data": {
            "text/plain": "  0%|          | 0/53 [00:00<?, ?it/s]",
            "application/vnd.jupyter.widget-view+json": {
              "version_major": 2,
              "version_minor": 0,
              "model_id": "29bed6b398484c53bd11bb91e6335f97"
            }
          },
          "metadata": {}
        },
        {
          "output_type": "stream",
          "name": "stdout",
          "text": [
            "[Epoch 3]: -140.94\n"
          ]
        },
        {
          "output_type": "display_data",
          "data": {
            "text/plain": "  0%|          | 0/53 [00:00<?, ?it/s]",
            "application/vnd.jupyter.widget-view+json": {
              "version_major": 2,
              "version_minor": 0,
              "model_id": "f3b261f5e371415da75a3fa5fdd50aa5"
            }
          },
          "metadata": {}
        },
        {
          "output_type": "stream",
          "name": "stdout",
          "text": [
            "[Epoch 4]: -139.20\n"
          ]
        },
        {
          "output_type": "display_data",
          "data": {
            "text/plain": "  0%|          | 0/53 [00:00<?, ?it/s]",
            "application/vnd.jupyter.widget-view+json": {
              "version_major": 2,
              "version_minor": 0,
              "model_id": "9f07a4cc81214691a80c792878475569"
            }
          },
          "metadata": {}
        },
        {
          "output_type": "stream",
          "name": "stdout",
          "text": [
            "[Epoch 5]: -137.64\n"
          ]
        },
        {
          "output_type": "display_data",
          "data": {
            "text/plain": "  0%|          | 0/53 [00:00<?, ?it/s]",
            "application/vnd.jupyter.widget-view+json": {
              "version_major": 2,
              "version_minor": 0,
              "model_id": "e9c8acf7ff0747d09ae528c8568cd781"
            }
          },
          "metadata": {}
        },
        {
          "output_type": "stream",
          "name": "stdout",
          "text": [
            "[Epoch 6]: -136.24\n"
          ]
        },
        {
          "output_type": "display_data",
          "data": {
            "text/plain": "  0%|          | 0/53 [00:00<?, ?it/s]",
            "application/vnd.jupyter.widget-view+json": {
              "version_major": 2,
              "version_minor": 0,
              "model_id": "3dcbdb9d658340349da79617eab7877f"
            }
          },
          "metadata": {}
        },
        {
          "output_type": "stream",
          "name": "stdout",
          "text": [
            "[Epoch 7]: -134.99\n"
          ]
        },
        {
          "output_type": "display_data",
          "data": {
            "text/plain": "  0%|          | 0/53 [00:00<?, ?it/s]",
            "application/vnd.jupyter.widget-view+json": {
              "version_major": 2,
              "version_minor": 0,
              "model_id": "f651f34e5fd74dac946a2b186d87aa6d"
            }
          },
          "metadata": {}
        },
        {
          "output_type": "stream",
          "name": "stdout",
          "text": [
            "[Epoch 8]: -133.85\n"
          ]
        },
        {
          "output_type": "display_data",
          "data": {
            "text/plain": "  0%|          | 0/53 [00:00<?, ?it/s]",
            "application/vnd.jupyter.widget-view+json": {
              "version_major": 2,
              "version_minor": 0,
              "model_id": "2fc8985241ed466c92bfb142ae7400f6"
            }
          },
          "metadata": {}
        },
        {
          "output_type": "stream",
          "name": "stdout",
          "text": [
            "[Epoch 9]: -132.82\n"
          ]
        },
        {
          "output_type": "display_data",
          "data": {
            "text/plain": "  0%|          | 0/53 [00:00<?, ?it/s]",
            "application/vnd.jupyter.widget-view+json": {
              "version_major": 2,
              "version_minor": 0,
              "model_id": "9029b8ba80c644f79caab11eb19a849b"
            }
          },
          "metadata": {}
        },
        {
          "output_type": "stream",
          "name": "stdout",
          "text": [
            "[Epoch 10]: -131.89\n"
          ]
        },
        {
          "output_type": "display_data",
          "data": {
            "text/plain": "  0%|          | 0/53 [00:00<?, ?it/s]",
            "application/vnd.jupyter.widget-view+json": {
              "version_major": 2,
              "version_minor": 0,
              "model_id": "7dbe909475d147508d1a4477757cee21"
            }
          },
          "metadata": {}
        },
        {
          "output_type": "stream",
          "name": "stdout",
          "text": [
            "[Epoch 11]: -131.04\n"
          ]
        },
        {
          "output_type": "display_data",
          "data": {
            "text/plain": "  0%|          | 0/53 [00:00<?, ?it/s]",
            "application/vnd.jupyter.widget-view+json": {
              "version_major": 2,
              "version_minor": 0,
              "model_id": "bec046b232fe4bb99a0687407025f429"
            }
          },
          "metadata": {}
        },
        {
          "output_type": "stream",
          "name": "stdout",
          "text": [
            "[Epoch 12]: -130.26\n"
          ]
        },
        {
          "output_type": "display_data",
          "data": {
            "text/plain": "  0%|          | 0/53 [00:00<?, ?it/s]",
            "application/vnd.jupyter.widget-view+json": {
              "version_major": 2,
              "version_minor": 0,
              "model_id": "bf3cbbc46d86409894a522a4ed3ff3ea"
            }
          },
          "metadata": {}
        },
        {
          "output_type": "stream",
          "name": "stdout",
          "text": [
            "[Epoch 13]: -129.55\n"
          ]
        },
        {
          "output_type": "display_data",
          "data": {
            "text/plain": "  0%|          | 0/53 [00:00<?, ?it/s]",
            "application/vnd.jupyter.widget-view+json": {
              "version_major": 2,
              "version_minor": 0,
              "model_id": "434fd76eb9944decabc0f6120e305b09"
            }
          },
          "metadata": {}
        },
        {
          "output_type": "stream",
          "name": "stdout",
          "text": [
            "[Epoch 14]: -128.90\n"
          ]
        },
        {
          "output_type": "display_data",
          "data": {
            "text/plain": "  0%|          | 0/53 [00:00<?, ?it/s]",
            "application/vnd.jupyter.widget-view+json": {
              "version_major": 2,
              "version_minor": 0,
              "model_id": "c6e80b58d9ba4b54b92ca402e577b457"
            }
          },
          "metadata": {}
        },
        {
          "output_type": "stream",
          "name": "stdout",
          "text": [
            "[Epoch 15]: -128.30\n"
          ]
        },
        {
          "output_type": "display_data",
          "data": {
            "text/plain": "  0%|          | 0/53 [00:00<?, ?it/s]",
            "application/vnd.jupyter.widget-view+json": {
              "version_major": 2,
              "version_minor": 0,
              "model_id": "d8da71e36d47457db1f804c2f4c374e4"
            }
          },
          "metadata": {}
        },
        {
          "output_type": "stream",
          "name": "stdout",
          "text": [
            "[Epoch 16]: -127.75\n"
          ]
        },
        {
          "output_type": "display_data",
          "data": {
            "text/plain": "  0%|          | 0/53 [00:00<?, ?it/s]",
            "application/vnd.jupyter.widget-view+json": {
              "version_major": 2,
              "version_minor": 0,
              "model_id": "89bb43a5aa804236941611801d3485de"
            }
          },
          "metadata": {}
        },
        {
          "output_type": "stream",
          "name": "stdout",
          "text": [
            "[Epoch 17]: -127.25\n"
          ]
        },
        {
          "output_type": "display_data",
          "data": {
            "text/plain": "  0%|          | 0/53 [00:00<?, ?it/s]",
            "application/vnd.jupyter.widget-view+json": {
              "version_major": 2,
              "version_minor": 0,
              "model_id": "99c3386d8b7d40d386d483e858932fca"
            }
          },
          "metadata": {}
        },
        {
          "output_type": "stream",
          "name": "stdout",
          "text": [
            "[Epoch 18]: -126.78\n"
          ]
        },
        {
          "output_type": "display_data",
          "data": {
            "text/plain": "  0%|          | 0/53 [00:00<?, ?it/s]",
            "application/vnd.jupyter.widget-view+json": {
              "version_major": 2,
              "version_minor": 0,
              "model_id": "73f1ebaa65fe4915be7d44ee5a24a62d"
            }
          },
          "metadata": {}
        },
        {
          "output_type": "stream",
          "name": "stdout",
          "text": [
            "[Epoch 19]: -126.34\n"
          ]
        },
        {
          "output_type": "display_data",
          "data": {
            "text/plain": "  0%|          | 0/53 [00:00<?, ?it/s]",
            "application/vnd.jupyter.widget-view+json": {
              "version_major": 2,
              "version_minor": 0,
              "model_id": "26e85b80b7324436ad92b25efa8d5dfd"
            }
          },
          "metadata": {}
        },
        {
          "output_type": "stream",
          "name": "stdout",
          "text": [
            "[Epoch 20]: -125.94\n"
          ]
        },
        {
          "output_type": "display_data",
          "data": {
            "text/plain": "  0%|          | 0/53 [00:00<?, ?it/s]",
            "application/vnd.jupyter.widget-view+json": {
              "version_major": 2,
              "version_minor": 0,
              "model_id": "c0068d7e34b540c6a9398fac9450f573"
            }
          },
          "metadata": {}
        },
        {
          "output_type": "stream",
          "name": "stdout",
          "text": [
            "[Epoch 21]: -125.57\n"
          ]
        },
        {
          "output_type": "display_data",
          "data": {
            "text/plain": "  0%|          | 0/53 [00:00<?, ?it/s]",
            "application/vnd.jupyter.widget-view+json": {
              "version_major": 2,
              "version_minor": 0,
              "model_id": "afcc2de41bdf46f888fff6508178e529"
            }
          },
          "metadata": {}
        },
        {
          "output_type": "stream",
          "name": "stdout",
          "text": [
            "[Epoch 22]: -125.22\n"
          ]
        },
        {
          "output_type": "display_data",
          "data": {
            "text/plain": "  0%|          | 0/53 [00:00<?, ?it/s]",
            "application/vnd.jupyter.widget-view+json": {
              "version_major": 2,
              "version_minor": 0,
              "model_id": "83432b7b9fb7449f924ee6443713964c"
            }
          },
          "metadata": {}
        },
        {
          "output_type": "stream",
          "name": "stdout",
          "text": [
            "[Epoch 23]: -124.89\n"
          ]
        },
        {
          "output_type": "display_data",
          "data": {
            "text/plain": "  0%|          | 0/53 [00:00<?, ?it/s]",
            "application/vnd.jupyter.widget-view+json": {
              "version_major": 2,
              "version_minor": 0,
              "model_id": "6a96c05b9e044d1993f916dc5ceddb77"
            }
          },
          "metadata": {}
        },
        {
          "output_type": "stream",
          "name": "stdout",
          "text": [
            "[Epoch 24]: -124.58\n"
          ]
        },
        {
          "output_type": "display_data",
          "data": {
            "text/plain": "  0%|          | 0/53 [00:00<?, ?it/s]",
            "application/vnd.jupyter.widget-view+json": {
              "version_major": 2,
              "version_minor": 0,
              "model_id": "c16956c9da5f415893af6e716561b4ff"
            }
          },
          "metadata": {}
        },
        {
          "output_type": "stream",
          "name": "stdout",
          "text": [
            "[Epoch 25]: -124.29\n"
          ]
        },
        {
          "output_type": "display_data",
          "data": {
            "text/plain": "  0%|          | 0/53 [00:00<?, ?it/s]",
            "application/vnd.jupyter.widget-view+json": {
              "version_major": 2,
              "version_minor": 0,
              "model_id": "d4e1a8f04b614813bbbb9190fd094024"
            }
          },
          "metadata": {}
        },
        {
          "output_type": "stream",
          "name": "stdout",
          "text": [
            "[Epoch 26]: -124.02\n"
          ]
        },
        {
          "output_type": "display_data",
          "data": {
            "text/plain": "  0%|          | 0/53 [00:00<?, ?it/s]",
            "application/vnd.jupyter.widget-view+json": {
              "version_major": 2,
              "version_minor": 0,
              "model_id": "3fa9d2b6d8a34b618b0ab4e460690d41"
            }
          },
          "metadata": {}
        },
        {
          "output_type": "stream",
          "name": "stdout",
          "text": [
            "[Epoch 27]: -123.77\n"
          ]
        },
        {
          "output_type": "display_data",
          "data": {
            "text/plain": "  0%|          | 0/53 [00:00<?, ?it/s]",
            "application/vnd.jupyter.widget-view+json": {
              "version_major": 2,
              "version_minor": 0,
              "model_id": "d4612b37cbed496088562b708bb70e0d"
            }
          },
          "metadata": {}
        },
        {
          "output_type": "stream",
          "name": "stdout",
          "text": [
            "[Epoch 28]: -123.53\n"
          ]
        },
        {
          "output_type": "display_data",
          "data": {
            "text/plain": "  0%|          | 0/53 [00:00<?, ?it/s]",
            "application/vnd.jupyter.widget-view+json": {
              "version_major": 2,
              "version_minor": 0,
              "model_id": "1a94cc15ffb448418cb3cb0d317fd96c"
            }
          },
          "metadata": {}
        },
        {
          "output_type": "stream",
          "name": "stdout",
          "text": [
            "[Epoch 29]: -123.30\n"
          ]
        },
        {
          "output_type": "display_data",
          "data": {
            "text/plain": "  0%|          | 0/53 [00:00<?, ?it/s]",
            "application/vnd.jupyter.widget-view+json": {
              "version_major": 2,
              "version_minor": 0,
              "model_id": "d1f8a1ac36d54f8d821ea7828d8d4e99"
            }
          },
          "metadata": {}
        },
        {
          "output_type": "stream",
          "name": "stdout",
          "text": [
            "[Epoch 30]: -123.08\n"
          ]
        },
        {
          "output_type": "display_data",
          "data": {
            "text/plain": "  0%|          | 0/53 [00:00<?, ?it/s]",
            "application/vnd.jupyter.widget-view+json": {
              "version_major": 2,
              "version_minor": 0,
              "model_id": "791d7a7458454ec1b6e6b6c41ea9d051"
            }
          },
          "metadata": {}
        },
        {
          "output_type": "stream",
          "name": "stdout",
          "text": [
            "[Epoch 31]: -122.87\n"
          ]
        },
        {
          "output_type": "display_data",
          "data": {
            "text/plain": "  0%|          | 0/53 [00:00<?, ?it/s]",
            "application/vnd.jupyter.widget-view+json": {
              "version_major": 2,
              "version_minor": 0,
              "model_id": "5f411782046840c6bc38448d9d9e13a3"
            }
          },
          "metadata": {}
        },
        {
          "output_type": "stream",
          "name": "stdout",
          "text": [
            "[Epoch 32]: -122.68\n"
          ]
        },
        {
          "output_type": "display_data",
          "data": {
            "text/plain": "  0%|          | 0/53 [00:00<?, ?it/s]",
            "application/vnd.jupyter.widget-view+json": {
              "version_major": 2,
              "version_minor": 0,
              "model_id": "976f91c2753b4687914c1006d5e78129"
            }
          },
          "metadata": {}
        },
        {
          "output_type": "stream",
          "name": "stdout",
          "text": [
            "[Epoch 33]: -122.49\n"
          ]
        },
        {
          "output_type": "display_data",
          "data": {
            "text/plain": "  0%|          | 0/53 [00:00<?, ?it/s]",
            "application/vnd.jupyter.widget-view+json": {
              "version_major": 2,
              "version_minor": 0,
              "model_id": "3d918d9435e3416b9245054229a407ff"
            }
          },
          "metadata": {}
        },
        {
          "output_type": "stream",
          "name": "stdout",
          "text": [
            "[Epoch 34]: -122.31\n"
          ]
        },
        {
          "output_type": "display_data",
          "data": {
            "text/plain": "  0%|          | 0/53 [00:00<?, ?it/s]",
            "application/vnd.jupyter.widget-view+json": {
              "version_major": 2,
              "version_minor": 0,
              "model_id": "d97028ad124c4ef1858db008644ed7bd"
            }
          },
          "metadata": {}
        },
        {
          "output_type": "stream",
          "name": "stdout",
          "text": [
            "[Epoch 35]: -122.14\n"
          ]
        },
        {
          "output_type": "display_data",
          "data": {
            "text/plain": "  0%|          | 0/53 [00:00<?, ?it/s]",
            "application/vnd.jupyter.widget-view+json": {
              "version_major": 2,
              "version_minor": 0,
              "model_id": "2a6d08951323462eb619dddc426503cc"
            }
          },
          "metadata": {}
        },
        {
          "output_type": "stream",
          "name": "stdout",
          "text": [
            "[Epoch 36]: -121.98\n"
          ]
        },
        {
          "output_type": "display_data",
          "data": {
            "text/plain": "  0%|          | 0/53 [00:00<?, ?it/s]",
            "application/vnd.jupyter.widget-view+json": {
              "version_major": 2,
              "version_minor": 0,
              "model_id": "0471a0c05ffc47a893b8ec165534f047"
            }
          },
          "metadata": {}
        },
        {
          "output_type": "stream",
          "name": "stdout",
          "text": [
            "[Epoch 37]: -121.82\n"
          ]
        },
        {
          "output_type": "display_data",
          "data": {
            "text/plain": "  0%|          | 0/53 [00:00<?, ?it/s]",
            "application/vnd.jupyter.widget-view+json": {
              "version_major": 2,
              "version_minor": 0,
              "model_id": "fb6b732f1d9845a4899aebc9f62a3a17"
            }
          },
          "metadata": {}
        },
        {
          "output_type": "stream",
          "name": "stdout",
          "text": [
            "[Epoch 38]: -121.67\n"
          ]
        },
        {
          "output_type": "display_data",
          "data": {
            "text/plain": "  0%|          | 0/53 [00:00<?, ?it/s]",
            "application/vnd.jupyter.widget-view+json": {
              "version_major": 2,
              "version_minor": 0,
              "model_id": "7427ab23dceb4dab84b855af661cfb3e"
            }
          },
          "metadata": {}
        },
        {
          "output_type": "stream",
          "name": "stdout",
          "text": [
            "[Epoch 39]: -121.53\n"
          ]
        },
        {
          "output_type": "display_data",
          "data": {
            "text/plain": "  0%|          | 0/53 [00:00<?, ?it/s]",
            "application/vnd.jupyter.widget-view+json": {
              "version_major": 2,
              "version_minor": 0,
              "model_id": "c009cda3e5034d83a832a71e231109e9"
            }
          },
          "metadata": {}
        },
        {
          "output_type": "stream",
          "name": "stdout",
          "text": [
            "[Epoch 40]: -121.39\n"
          ]
        },
        {
          "output_type": "display_data",
          "data": {
            "text/plain": "  0%|          | 0/53 [00:00<?, ?it/s]",
            "application/vnd.jupyter.widget-view+json": {
              "version_major": 2,
              "version_minor": 0,
              "model_id": "80150b5f0ed9404c87002376a0aa1d9e"
            }
          },
          "metadata": {}
        },
        {
          "output_type": "stream",
          "name": "stdout",
          "text": [
            "[Epoch 41]: -121.26\n"
          ]
        },
        {
          "output_type": "display_data",
          "data": {
            "text/plain": "  0%|          | 0/53 [00:00<?, ?it/s]",
            "application/vnd.jupyter.widget-view+json": {
              "version_major": 2,
              "version_minor": 0,
              "model_id": "0b814c36db404895821c830cb85c1e72"
            }
          },
          "metadata": {}
        },
        {
          "output_type": "stream",
          "name": "stdout",
          "text": [
            "[Epoch 42]: -121.13\n"
          ]
        },
        {
          "output_type": "display_data",
          "data": {
            "text/plain": "  0%|          | 0/53 [00:00<?, ?it/s]",
            "application/vnd.jupyter.widget-view+json": {
              "version_major": 2,
              "version_minor": 0,
              "model_id": "5c9c1295dc214b609f59bc8bf17bd221"
            }
          },
          "metadata": {}
        },
        {
          "output_type": "stream",
          "name": "stdout",
          "text": [
            "[Epoch 43]: -121.01\n"
          ]
        },
        {
          "output_type": "display_data",
          "data": {
            "text/plain": "  0%|          | 0/53 [00:00<?, ?it/s]",
            "application/vnd.jupyter.widget-view+json": {
              "version_major": 2,
              "version_minor": 0,
              "model_id": "e62618cde2a9422c8bf919faa4105016"
            }
          },
          "metadata": {}
        },
        {
          "output_type": "stream",
          "name": "stdout",
          "text": [
            "[Epoch 44]: -120.89\n"
          ]
        },
        {
          "output_type": "display_data",
          "data": {
            "text/plain": "  0%|          | 0/53 [00:00<?, ?it/s]",
            "application/vnd.jupyter.widget-view+json": {
              "version_major": 2,
              "version_minor": 0,
              "model_id": "c40faa848c2d476faf696764f7e70da4"
            }
          },
          "metadata": {}
        },
        {
          "output_type": "stream",
          "name": "stdout",
          "text": [
            "[Epoch 45]: -120.77\n"
          ]
        },
        {
          "output_type": "display_data",
          "data": {
            "text/plain": "  0%|          | 0/53 [00:00<?, ?it/s]",
            "application/vnd.jupyter.widget-view+json": {
              "version_major": 2,
              "version_minor": 0,
              "model_id": "ed18803a1d6a42e4826ea762ccaee715"
            }
          },
          "metadata": {}
        },
        {
          "output_type": "stream",
          "name": "stdout",
          "text": [
            "[Epoch 46]: -120.66\n"
          ]
        },
        {
          "output_type": "display_data",
          "data": {
            "text/plain": "  0%|          | 0/53 [00:00<?, ?it/s]",
            "application/vnd.jupyter.widget-view+json": {
              "version_major": 2,
              "version_minor": 0,
              "model_id": "eef45d520be24b10bec8d5662144f2f9"
            }
          },
          "metadata": {}
        },
        {
          "output_type": "stream",
          "name": "stdout",
          "text": [
            "[Epoch 47]: -120.56\n"
          ]
        },
        {
          "output_type": "display_data",
          "data": {
            "text/plain": "  0%|          | 0/53 [00:00<?, ?it/s]",
            "application/vnd.jupyter.widget-view+json": {
              "version_major": 2,
              "version_minor": 0,
              "model_id": "7d7fa5ffdc034e71b2abb54869ee9021"
            }
          },
          "metadata": {}
        },
        {
          "output_type": "stream",
          "name": "stdout",
          "text": [
            "[Epoch 48]: -120.45\n"
          ]
        },
        {
          "output_type": "display_data",
          "data": {
            "text/plain": "  0%|          | 0/53 [00:00<?, ?it/s]",
            "application/vnd.jupyter.widget-view+json": {
              "version_major": 2,
              "version_minor": 0,
              "model_id": "66dadb020c4b40e38cef3e14e5738ef7"
            }
          },
          "metadata": {}
        },
        {
          "output_type": "stream",
          "name": "stdout",
          "text": [
            "[Epoch 49]: -120.35\n"
          ]
        },
        {
          "output_type": "display_data",
          "data": {
            "text/plain": "  0%|          | 0/53 [00:00<?, ?it/s]",
            "application/vnd.jupyter.widget-view+json": {
              "version_major": 2,
              "version_minor": 0,
              "model_id": "e98a92cfa3814bb6b1ce8cea32fcae4c"
            }
          },
          "metadata": {}
        },
        {
          "output_type": "stream",
          "name": "stdout",
          "text": [
            "[Epoch 50]: -120.26\n"
          ]
        },
        {
          "output_type": "display_data",
          "data": {
            "text/plain": "  0%|          | 0/53 [00:00<?, ?it/s]",
            "application/vnd.jupyter.widget-view+json": {
              "version_major": 2,
              "version_minor": 0,
              "model_id": "2aefcaaf69cc4a06a751db911109c25f"
            }
          },
          "metadata": {}
        },
        {
          "output_type": "stream",
          "name": "stdout",
          "text": [
            "[Epoch 51]: -120.16\n"
          ]
        },
        {
          "output_type": "display_data",
          "data": {
            "text/plain": "  0%|          | 0/53 [00:00<?, ?it/s]",
            "application/vnd.jupyter.widget-view+json": {
              "version_major": 2,
              "version_minor": 0,
              "model_id": "9d6a55e6bb6943a28ea0eac032a9ba18"
            }
          },
          "metadata": {}
        },
        {
          "output_type": "stream",
          "name": "stdout",
          "text": [
            "[Epoch 52]: -120.07\n"
          ]
        },
        {
          "output_type": "display_data",
          "data": {
            "text/plain": "  0%|          | 0/53 [00:00<?, ?it/s]",
            "application/vnd.jupyter.widget-view+json": {
              "version_major": 2,
              "version_minor": 0,
              "model_id": "b2c5c30d52cd464cae7e0288b73dbfa4"
            }
          },
          "metadata": {}
        },
        {
          "output_type": "stream",
          "name": "stdout",
          "text": [
            "[Epoch 53]: -119.99\n"
          ]
        },
        {
          "output_type": "display_data",
          "data": {
            "text/plain": "  0%|          | 0/53 [00:00<?, ?it/s]",
            "application/vnd.jupyter.widget-view+json": {
              "version_major": 2,
              "version_minor": 0,
              "model_id": "85df00c4f41641459d3bbf2a311f1e49"
            }
          },
          "metadata": {}
        },
        {
          "output_type": "stream",
          "name": "stdout",
          "text": [
            "[Epoch 54]: -119.90\n"
          ]
        },
        {
          "output_type": "display_data",
          "data": {
            "text/plain": "  0%|          | 0/53 [00:00<?, ?it/s]",
            "application/vnd.jupyter.widget-view+json": {
              "version_major": 2,
              "version_minor": 0,
              "model_id": "071af6f4a6d7487e94baebf464865fd3"
            }
          },
          "metadata": {}
        },
        {
          "output_type": "stream",
          "name": "stdout",
          "text": [
            "[Epoch 55]: -119.82\n"
          ]
        },
        {
          "output_type": "display_data",
          "data": {
            "text/plain": "  0%|          | 0/53 [00:00<?, ?it/s]",
            "application/vnd.jupyter.widget-view+json": {
              "version_major": 2,
              "version_minor": 0,
              "model_id": "997e28abed634f49acca44ef923a39ca"
            }
          },
          "metadata": {}
        },
        {
          "output_type": "stream",
          "name": "stdout",
          "text": [
            "[Epoch 56]: -119.74\n"
          ]
        },
        {
          "output_type": "display_data",
          "data": {
            "text/plain": "  0%|          | 0/53 [00:00<?, ?it/s]",
            "application/vnd.jupyter.widget-view+json": {
              "version_major": 2,
              "version_minor": 0,
              "model_id": "371385e5dc0549149023dcb66344b39a"
            }
          },
          "metadata": {}
        },
        {
          "output_type": "stream",
          "name": "stdout",
          "text": [
            "[Epoch 57]: -119.66\n"
          ]
        },
        {
          "output_type": "display_data",
          "data": {
            "text/plain": "  0%|          | 0/53 [00:00<?, ?it/s]",
            "application/vnd.jupyter.widget-view+json": {
              "version_major": 2,
              "version_minor": 0,
              "model_id": "6b374817101347379827f8753b67da4a"
            }
          },
          "metadata": {}
        },
        {
          "output_type": "stream",
          "name": "stdout",
          "text": [
            "[Epoch 58]: -119.59\n"
          ]
        },
        {
          "output_type": "display_data",
          "data": {
            "text/plain": "  0%|          | 0/53 [00:00<?, ?it/s]",
            "application/vnd.jupyter.widget-view+json": {
              "version_major": 2,
              "version_minor": 0,
              "model_id": "4a9a20928f0741d98a3bb5f81a896a02"
            }
          },
          "metadata": {}
        },
        {
          "output_type": "stream",
          "name": "stdout",
          "text": [
            "[Epoch 59]: -119.52\n"
          ]
        },
        {
          "output_type": "display_data",
          "data": {
            "text/plain": "  0%|          | 0/53 [00:00<?, ?it/s]",
            "application/vnd.jupyter.widget-view+json": {
              "version_major": 2,
              "version_minor": 0,
              "model_id": "afa6499666fc4d9f890e79a1c095020d"
            }
          },
          "metadata": {}
        },
        {
          "output_type": "stream",
          "name": "stdout",
          "text": [
            "[Epoch 60]: -119.45\n"
          ]
        },
        {
          "output_type": "display_data",
          "data": {
            "text/plain": "  0%|          | 0/53 [00:00<?, ?it/s]",
            "application/vnd.jupyter.widget-view+json": {
              "version_major": 2,
              "version_minor": 0,
              "model_id": "23ff6608c19746e1b89a57a310053bb8"
            }
          },
          "metadata": {}
        },
        {
          "output_type": "stream",
          "name": "stdout",
          "text": [
            "[Epoch 61]: -119.38\n"
          ]
        },
        {
          "output_type": "display_data",
          "data": {
            "text/plain": "  0%|          | 0/53 [00:00<?, ?it/s]",
            "application/vnd.jupyter.widget-view+json": {
              "version_major": 2,
              "version_minor": 0,
              "model_id": "fc5f073a14244f01a21ca90aacb133da"
            }
          },
          "metadata": {}
        },
        {
          "output_type": "stream",
          "name": "stdout",
          "text": [
            "[Epoch 62]: -119.31\n"
          ]
        },
        {
          "output_type": "display_data",
          "data": {
            "text/plain": "  0%|          | 0/53 [00:00<?, ?it/s]",
            "application/vnd.jupyter.widget-view+json": {
              "version_major": 2,
              "version_minor": 0,
              "model_id": "85752e5a615c4223a556abdc87dfa6e6"
            }
          },
          "metadata": {}
        },
        {
          "output_type": "stream",
          "name": "stdout",
          "text": [
            "[Epoch 63]: -119.25\n"
          ]
        },
        {
          "output_type": "display_data",
          "data": {
            "text/plain": "  0%|          | 0/53 [00:00<?, ?it/s]",
            "application/vnd.jupyter.widget-view+json": {
              "version_major": 2,
              "version_minor": 0,
              "model_id": "7072b76e7c764132b6a49b44e3ab212b"
            }
          },
          "metadata": {}
        },
        {
          "output_type": "stream",
          "name": "stdout",
          "text": [
            "[Epoch 64]: -119.18\n"
          ]
        },
        {
          "output_type": "display_data",
          "data": {
            "text/plain": "  0%|          | 0/53 [00:00<?, ?it/s]",
            "application/vnd.jupyter.widget-view+json": {
              "version_major": 2,
              "version_minor": 0,
              "model_id": "d86c9d3b6f2d4e7c8899430d1a64b412"
            }
          },
          "metadata": {}
        },
        {
          "output_type": "stream",
          "name": "stdout",
          "text": [
            "[Epoch 65]: -119.12\n"
          ]
        },
        {
          "output_type": "display_data",
          "data": {
            "text/plain": "  0%|          | 0/53 [00:00<?, ?it/s]",
            "application/vnd.jupyter.widget-view+json": {
              "version_major": 2,
              "version_minor": 0,
              "model_id": "23239ee7717c4b3192742b9dc7507104"
            }
          },
          "metadata": {}
        },
        {
          "output_type": "stream",
          "name": "stdout",
          "text": [
            "[Epoch 66]: -119.06\n"
          ]
        },
        {
          "output_type": "display_data",
          "data": {
            "text/plain": "  0%|          | 0/53 [00:00<?, ?it/s]",
            "application/vnd.jupyter.widget-view+json": {
              "version_major": 2,
              "version_minor": 0,
              "model_id": "22ceeca796264e73a0e1705a33d38553"
            }
          },
          "metadata": {}
        },
        {
          "output_type": "stream",
          "name": "stdout",
          "text": [
            "[Epoch 67]: -119.01\n"
          ]
        },
        {
          "output_type": "display_data",
          "data": {
            "text/plain": "  0%|          | 0/53 [00:00<?, ?it/s]",
            "application/vnd.jupyter.widget-view+json": {
              "version_major": 2,
              "version_minor": 0,
              "model_id": "2289616e1e8d445189e2aa757e74110a"
            }
          },
          "metadata": {}
        },
        {
          "output_type": "stream",
          "name": "stdout",
          "text": [
            "[Epoch 68]: -118.95\n"
          ]
        },
        {
          "output_type": "display_data",
          "data": {
            "text/plain": "  0%|          | 0/53 [00:00<?, ?it/s]",
            "application/vnd.jupyter.widget-view+json": {
              "version_major": 2,
              "version_minor": 0,
              "model_id": "3d57969ef3d44433a5144dd4394923b4"
            }
          },
          "metadata": {}
        },
        {
          "output_type": "stream",
          "name": "stdout",
          "text": [
            "[Epoch 69]: -118.90\n"
          ]
        },
        {
          "output_type": "display_data",
          "data": {
            "text/plain": "  0%|          | 0/53 [00:00<?, ?it/s]",
            "application/vnd.jupyter.widget-view+json": {
              "version_major": 2,
              "version_minor": 0,
              "model_id": "4c7fee3b6f7942ed8ec89650bf9b1ba3"
            }
          },
          "metadata": {}
        },
        {
          "output_type": "stream",
          "name": "stdout",
          "text": [
            "[Epoch 70]: -118.84\n"
          ]
        },
        {
          "output_type": "display_data",
          "data": {
            "text/plain": "  0%|          | 0/53 [00:00<?, ?it/s]",
            "application/vnd.jupyter.widget-view+json": {
              "version_major": 2,
              "version_minor": 0,
              "model_id": "e43e714fabd345edbb39c517a7141ef9"
            }
          },
          "metadata": {}
        },
        {
          "output_type": "stream",
          "name": "stdout",
          "text": [
            "[Epoch 71]: -118.79\n"
          ]
        },
        {
          "output_type": "display_data",
          "data": {
            "text/plain": "  0%|          | 0/53 [00:00<?, ?it/s]",
            "application/vnd.jupyter.widget-view+json": {
              "version_major": 2,
              "version_minor": 0,
              "model_id": "7b4ca02fe49d4cb0bde2a825be282ab5"
            }
          },
          "metadata": {}
        },
        {
          "output_type": "stream",
          "name": "stdout",
          "text": [
            "[Epoch 72]: -118.74\n"
          ]
        },
        {
          "output_type": "display_data",
          "data": {
            "text/plain": "  0%|          | 0/53 [00:00<?, ?it/s]",
            "application/vnd.jupyter.widget-view+json": {
              "version_major": 2,
              "version_minor": 0,
              "model_id": "759aa71a284e445897023fa4cfca429e"
            }
          },
          "metadata": {}
        },
        {
          "output_type": "stream",
          "name": "stdout",
          "text": [
            "[Epoch 73]: -118.69\n"
          ]
        },
        {
          "output_type": "display_data",
          "data": {
            "text/plain": "  0%|          | 0/53 [00:00<?, ?it/s]",
            "application/vnd.jupyter.widget-view+json": {
              "version_major": 2,
              "version_minor": 0,
              "model_id": "83e1587331b9400e98a341774fc24f75"
            }
          },
          "metadata": {}
        },
        {
          "output_type": "stream",
          "name": "stdout",
          "text": [
            "[Epoch 74]: -118.64\n"
          ]
        },
        {
          "output_type": "display_data",
          "data": {
            "text/plain": "  0%|          | 0/53 [00:00<?, ?it/s]",
            "application/vnd.jupyter.widget-view+json": {
              "version_major": 2,
              "version_minor": 0,
              "model_id": "a496e946c1074a42964f5b60757f55f1"
            }
          },
          "metadata": {}
        },
        {
          "output_type": "stream",
          "name": "stdout",
          "text": [
            "[Epoch 75]: -118.60\n"
          ]
        },
        {
          "output_type": "display_data",
          "data": {
            "text/plain": "  0%|          | 0/53 [00:00<?, ?it/s]",
            "application/vnd.jupyter.widget-view+json": {
              "version_major": 2,
              "version_minor": 0,
              "model_id": "2399308edd5349b5a90d29efafd16711"
            }
          },
          "metadata": {}
        },
        {
          "output_type": "stream",
          "name": "stdout",
          "text": [
            "[Epoch 76]: -118.55\n"
          ]
        },
        {
          "output_type": "display_data",
          "data": {
            "text/plain": "  0%|          | 0/53 [00:00<?, ?it/s]",
            "application/vnd.jupyter.widget-view+json": {
              "version_major": 2,
              "version_minor": 0,
              "model_id": "212de90c38164323a7e4a0f9ab38966b"
            }
          },
          "metadata": {}
        },
        {
          "output_type": "stream",
          "name": "stdout",
          "text": [
            "[Epoch 77]: -118.51\n"
          ]
        },
        {
          "output_type": "display_data",
          "data": {
            "text/plain": "  0%|          | 0/53 [00:00<?, ?it/s]",
            "application/vnd.jupyter.widget-view+json": {
              "version_major": 2,
              "version_minor": 0,
              "model_id": "7ec6244fcdb341909b3b56dbc0c97dd3"
            }
          },
          "metadata": {}
        },
        {
          "output_type": "stream",
          "name": "stdout",
          "text": [
            "[Epoch 78]: -118.46\n"
          ]
        },
        {
          "output_type": "display_data",
          "data": {
            "text/plain": "  0%|          | 0/53 [00:00<?, ?it/s]",
            "application/vnd.jupyter.widget-view+json": {
              "version_major": 2,
              "version_minor": 0,
              "model_id": "e7534b49f170460bb2f3a740130dfa46"
            }
          },
          "metadata": {}
        },
        {
          "output_type": "stream",
          "name": "stdout",
          "text": [
            "[Epoch 79]: -118.42\n"
          ]
        },
        {
          "output_type": "display_data",
          "data": {
            "text/plain": "  0%|          | 0/53 [00:00<?, ?it/s]",
            "application/vnd.jupyter.widget-view+json": {
              "version_major": 2,
              "version_minor": 0,
              "model_id": "ebc32bfc5a8f4e90bdc4f81853a48b82"
            }
          },
          "metadata": {}
        },
        {
          "output_type": "stream",
          "name": "stdout",
          "text": [
            "[Epoch 80]: -118.38\n"
          ]
        },
        {
          "output_type": "display_data",
          "data": {
            "text/plain": "  0%|          | 0/53 [00:00<?, ?it/s]",
            "application/vnd.jupyter.widget-view+json": {
              "version_major": 2,
              "version_minor": 0,
              "model_id": "00574e09c57343fe8465e16f94dddebe"
            }
          },
          "metadata": {}
        },
        {
          "output_type": "stream",
          "name": "stdout",
          "text": [
            "[Epoch 81]: -118.34\n"
          ]
        },
        {
          "output_type": "display_data",
          "data": {
            "text/plain": "  0%|          | 0/53 [00:00<?, ?it/s]",
            "application/vnd.jupyter.widget-view+json": {
              "version_major": 2,
              "version_minor": 0,
              "model_id": "e2f21e31549347eaafe74e2f786edbd5"
            }
          },
          "metadata": {}
        },
        {
          "output_type": "stream",
          "name": "stdout",
          "text": [
            "[Epoch 82]: -118.30\n"
          ]
        },
        {
          "output_type": "display_data",
          "data": {
            "text/plain": "  0%|          | 0/53 [00:00<?, ?it/s]",
            "application/vnd.jupyter.widget-view+json": {
              "version_major": 2,
              "version_minor": 0,
              "model_id": "1574cd3b17064096aae7ad5bd1e15d8d"
            }
          },
          "metadata": {}
        },
        {
          "output_type": "stream",
          "name": "stdout",
          "text": [
            "[Epoch 83]: -118.26\n"
          ]
        },
        {
          "output_type": "display_data",
          "data": {
            "text/plain": "  0%|          | 0/53 [00:00<?, ?it/s]",
            "application/vnd.jupyter.widget-view+json": {
              "version_major": 2,
              "version_minor": 0,
              "model_id": "e6ec9c77bd664a73bd8c1bd91a689bbe"
            }
          },
          "metadata": {}
        },
        {
          "output_type": "stream",
          "name": "stdout",
          "text": [
            "[Epoch 84]: -118.23\n"
          ]
        },
        {
          "output_type": "display_data",
          "data": {
            "text/plain": "  0%|          | 0/53 [00:00<?, ?it/s]",
            "application/vnd.jupyter.widget-view+json": {
              "version_major": 2,
              "version_minor": 0,
              "model_id": "d2ea79f0c1964950b380ff3c7a41f836"
            }
          },
          "metadata": {}
        },
        {
          "output_type": "stream",
          "name": "stdout",
          "text": [
            "[Epoch 85]: -118.19\n"
          ]
        },
        {
          "output_type": "display_data",
          "data": {
            "text/plain": "  0%|          | 0/53 [00:00<?, ?it/s]",
            "application/vnd.jupyter.widget-view+json": {
              "version_major": 2,
              "version_minor": 0,
              "model_id": "67adb379b3a7418f88dd9d06600d485e"
            }
          },
          "metadata": {}
        },
        {
          "output_type": "stream",
          "name": "stdout",
          "text": [
            "[Epoch 86]: -118.15\n"
          ]
        },
        {
          "output_type": "display_data",
          "data": {
            "text/plain": "  0%|          | 0/53 [00:00<?, ?it/s]",
            "application/vnd.jupyter.widget-view+json": {
              "version_major": 2,
              "version_minor": 0,
              "model_id": "61da59c2e7f34d6a9b6b93fe0eca8ed1"
            }
          },
          "metadata": {}
        },
        {
          "output_type": "stream",
          "name": "stdout",
          "text": [
            "[Epoch 87]: -118.12\n"
          ]
        },
        {
          "output_type": "display_data",
          "data": {
            "text/plain": "  0%|          | 0/53 [00:00<?, ?it/s]",
            "application/vnd.jupyter.widget-view+json": {
              "version_major": 2,
              "version_minor": 0,
              "model_id": "56226926134e4ac9a56bf85a742a0587"
            }
          },
          "metadata": {}
        },
        {
          "output_type": "stream",
          "name": "stdout",
          "text": [
            "[Epoch 88]: -118.09\n"
          ]
        },
        {
          "output_type": "display_data",
          "data": {
            "text/plain": "  0%|          | 0/53 [00:00<?, ?it/s]",
            "application/vnd.jupyter.widget-view+json": {
              "version_major": 2,
              "version_minor": 0,
              "model_id": "f1ac435efc7e4234b712c968915d570b"
            }
          },
          "metadata": {}
        },
        {
          "output_type": "stream",
          "name": "stdout",
          "text": [
            "[Epoch 89]: -118.05\n"
          ]
        },
        {
          "output_type": "display_data",
          "data": {
            "text/plain": "  0%|          | 0/53 [00:00<?, ?it/s]",
            "application/vnd.jupyter.widget-view+json": {
              "version_major": 2,
              "version_minor": 0,
              "model_id": "8c56c2ed354c490198520e9b3bd70e6a"
            }
          },
          "metadata": {}
        },
        {
          "output_type": "stream",
          "name": "stdout",
          "text": [
            "[Epoch 90]: -118.02\n"
          ]
        },
        {
          "output_type": "display_data",
          "data": {
            "text/plain": "  0%|          | 0/53 [00:00<?, ?it/s]",
            "application/vnd.jupyter.widget-view+json": {
              "version_major": 2,
              "version_minor": 0,
              "model_id": "bf8c2a46365045c8899499e80eeb96b8"
            }
          },
          "metadata": {}
        },
        {
          "output_type": "stream",
          "name": "stdout",
          "text": [
            "[Epoch 91]: -117.99\n"
          ]
        },
        {
          "output_type": "display_data",
          "data": {
            "text/plain": "  0%|          | 0/53 [00:00<?, ?it/s]",
            "application/vnd.jupyter.widget-view+json": {
              "version_major": 2,
              "version_minor": 0,
              "model_id": "964975770de64558bf4cfcecc3239478"
            }
          },
          "metadata": {}
        },
        {
          "output_type": "stream",
          "name": "stdout",
          "text": [
            "[Epoch 92]: -117.96\n"
          ]
        },
        {
          "output_type": "display_data",
          "data": {
            "text/plain": "  0%|          | 0/53 [00:00<?, ?it/s]",
            "application/vnd.jupyter.widget-view+json": {
              "version_major": 2,
              "version_minor": 0,
              "model_id": "f7d774daf02240b1a948e5bfe463417b"
            }
          },
          "metadata": {}
        },
        {
          "output_type": "stream",
          "name": "stdout",
          "text": [
            "[Epoch 93]: -117.93\n"
          ]
        },
        {
          "output_type": "display_data",
          "data": {
            "text/plain": "  0%|          | 0/53 [00:00<?, ?it/s]",
            "application/vnd.jupyter.widget-view+json": {
              "version_major": 2,
              "version_minor": 0,
              "model_id": "90cbe28bbd8647a595bb78d594413a03"
            }
          },
          "metadata": {}
        },
        {
          "output_type": "stream",
          "name": "stdout",
          "text": [
            "[Epoch 94]: -117.90\n"
          ]
        },
        {
          "output_type": "display_data",
          "data": {
            "text/plain": "  0%|          | 0/53 [00:00<?, ?it/s]",
            "application/vnd.jupyter.widget-view+json": {
              "version_major": 2,
              "version_minor": 0,
              "model_id": "9d5f7e1876b74bb4a108f6d7efe20a70"
            }
          },
          "metadata": {}
        },
        {
          "output_type": "stream",
          "name": "stdout",
          "text": [
            "[Epoch 95]: -117.87\n"
          ]
        },
        {
          "output_type": "display_data",
          "data": {
            "text/plain": "  0%|          | 0/53 [00:00<?, ?it/s]",
            "application/vnd.jupyter.widget-view+json": {
              "version_major": 2,
              "version_minor": 0,
              "model_id": "c3c259b6115047f8b09e297ceb5b3b3e"
            }
          },
          "metadata": {}
        },
        {
          "output_type": "stream",
          "name": "stdout",
          "text": [
            "[Epoch 96]: -117.84\n"
          ]
        },
        {
          "output_type": "display_data",
          "data": {
            "text/plain": "  0%|          | 0/53 [00:00<?, ?it/s]",
            "application/vnd.jupyter.widget-view+json": {
              "version_major": 2,
              "version_minor": 0,
              "model_id": "2bb34e6310154135a8fcd1e431f38275"
            }
          },
          "metadata": {}
        },
        {
          "output_type": "stream",
          "name": "stdout",
          "text": [
            "[Epoch 97]: -117.81\n"
          ]
        },
        {
          "output_type": "display_data",
          "data": {
            "text/plain": "  0%|          | 0/53 [00:00<?, ?it/s]",
            "application/vnd.jupyter.widget-view+json": {
              "version_major": 2,
              "version_minor": 0,
              "model_id": "6d2e9c687ad54c8dafadb0e58ab5f6f9"
            }
          },
          "metadata": {}
        },
        {
          "output_type": "stream",
          "name": "stdout",
          "text": [
            "[Epoch 98]: -117.78\n"
          ]
        },
        {
          "output_type": "display_data",
          "data": {
            "text/plain": "  0%|          | 0/53 [00:00<?, ?it/s]",
            "application/vnd.jupyter.widget-view+json": {
              "version_major": 2,
              "version_minor": 0,
              "model_id": "379f8b32378b4d63af09f155beace3d2"
            }
          },
          "metadata": {}
        },
        {
          "output_type": "stream",
          "name": "stdout",
          "text": [
            "[Epoch 99]: -117.76\n"
          ]
        },
        {
          "output_type": "display_data",
          "data": {
            "text/plain": "  0%|          | 0/53 [00:00<?, ?it/s]",
            "application/vnd.jupyter.widget-view+json": {
              "version_major": 2,
              "version_minor": 0,
              "model_id": "329b7a14e8374125ac075e063884fbe7"
            }
          },
          "metadata": {}
        },
        {
          "output_type": "stream",
          "name": "stdout",
          "text": [
            "[Epoch 100]: -117.73\n"
          ]
        },
        {
          "output_type": "display_data",
          "data": {
            "text/plain": "  0%|          | 0/53 [00:00<?, ?it/s]",
            "application/vnd.jupyter.widget-view+json": {
              "version_major": 2,
              "version_minor": 0,
              "model_id": "e971f1442710401e87ed687fc2da804e"
            }
          },
          "metadata": {}
        },
        {
          "output_type": "stream",
          "name": "stdout",
          "text": [
            "[Epoch 101]: -117.70\n"
          ]
        },
        {
          "output_type": "display_data",
          "data": {
            "text/plain": "  0%|          | 0/53 [00:00<?, ?it/s]",
            "application/vnd.jupyter.widget-view+json": {
              "version_major": 2,
              "version_minor": 0,
              "model_id": "0926231e1c38425f8a33329448227293"
            }
          },
          "metadata": {}
        },
        {
          "output_type": "stream",
          "name": "stdout",
          "text": [
            "[Epoch 102]: -117.68\n"
          ]
        },
        {
          "output_type": "display_data",
          "data": {
            "text/plain": "  0%|          | 0/53 [00:00<?, ?it/s]",
            "application/vnd.jupyter.widget-view+json": {
              "version_major": 2,
              "version_minor": 0,
              "model_id": "06115de3592244439e3353445d025468"
            }
          },
          "metadata": {}
        },
        {
          "output_type": "stream",
          "name": "stdout",
          "text": [
            "[Epoch 103]: -117.66\n"
          ]
        },
        {
          "output_type": "display_data",
          "data": {
            "text/plain": "  0%|          | 0/53 [00:00<?, ?it/s]",
            "application/vnd.jupyter.widget-view+json": {
              "version_major": 2,
              "version_minor": 0,
              "model_id": "cd4f784cf8b247b2b004ddabe2d9b8ba"
            }
          },
          "metadata": {}
        },
        {
          "output_type": "stream",
          "name": "stdout",
          "text": [
            "[Epoch 104]: -117.63\n"
          ]
        },
        {
          "output_type": "display_data",
          "data": {
            "text/plain": "  0%|          | 0/53 [00:00<?, ?it/s]",
            "application/vnd.jupyter.widget-view+json": {
              "version_major": 2,
              "version_minor": 0,
              "model_id": "fa2bf80d93ba4451b6b97389c08783d5"
            }
          },
          "metadata": {}
        },
        {
          "output_type": "stream",
          "name": "stdout",
          "text": [
            "[Epoch 105]: -117.61\n"
          ]
        },
        {
          "output_type": "display_data",
          "data": {
            "text/plain": "  0%|          | 0/53 [00:00<?, ?it/s]",
            "application/vnd.jupyter.widget-view+json": {
              "version_major": 2,
              "version_minor": 0,
              "model_id": "82bf4a5e79834647adb94f2903ae0876"
            }
          },
          "metadata": {}
        },
        {
          "output_type": "stream",
          "name": "stdout",
          "text": [
            "[Epoch 106]: -117.58\n"
          ]
        },
        {
          "output_type": "display_data",
          "data": {
            "text/plain": "  0%|          | 0/53 [00:00<?, ?it/s]",
            "application/vnd.jupyter.widget-view+json": {
              "version_major": 2,
              "version_minor": 0,
              "model_id": "3d25010d87e04d1e983f244db20ab5fd"
            }
          },
          "metadata": {}
        },
        {
          "output_type": "stream",
          "name": "stdout",
          "text": [
            "[Epoch 107]: -117.56\n"
          ]
        },
        {
          "output_type": "display_data",
          "data": {
            "text/plain": "  0%|          | 0/53 [00:00<?, ?it/s]",
            "application/vnd.jupyter.widget-view+json": {
              "version_major": 2,
              "version_minor": 0,
              "model_id": "ea4db1eec714407b95a8dffb2bef2c57"
            }
          },
          "metadata": {}
        },
        {
          "output_type": "stream",
          "name": "stdout",
          "text": [
            "[Epoch 108]: -117.54\n"
          ]
        },
        {
          "output_type": "display_data",
          "data": {
            "text/plain": "  0%|          | 0/53 [00:00<?, ?it/s]",
            "application/vnd.jupyter.widget-view+json": {
              "version_major": 2,
              "version_minor": 0,
              "model_id": "1d4bbf9765d44cf686720174c3d893c2"
            }
          },
          "metadata": {}
        },
        {
          "output_type": "stream",
          "name": "stdout",
          "text": [
            "[Epoch 109]: -117.52\n"
          ]
        },
        {
          "output_type": "display_data",
          "data": {
            "text/plain": "  0%|          | 0/53 [00:00<?, ?it/s]",
            "application/vnd.jupyter.widget-view+json": {
              "version_major": 2,
              "version_minor": 0,
              "model_id": "6a4f867931754873a1e7cd2d7e2ff60f"
            }
          },
          "metadata": {}
        },
        {
          "output_type": "stream",
          "name": "stdout",
          "text": [
            "[Epoch 110]: -117.50\n"
          ]
        },
        {
          "output_type": "display_data",
          "data": {
            "text/plain": "  0%|          | 0/53 [00:00<?, ?it/s]",
            "application/vnd.jupyter.widget-view+json": {
              "version_major": 2,
              "version_minor": 0,
              "model_id": "a692a0d05a3e47128b3d881dcf3c1508"
            }
          },
          "metadata": {}
        },
        {
          "output_type": "stream",
          "name": "stdout",
          "text": [
            "[Epoch 111]: -117.47\n"
          ]
        },
        {
          "output_type": "display_data",
          "data": {
            "text/plain": "  0%|          | 0/53 [00:00<?, ?it/s]",
            "application/vnd.jupyter.widget-view+json": {
              "version_major": 2,
              "version_minor": 0,
              "model_id": "fde8d6e85d3a4eb29d44c54ecb33dcb1"
            }
          },
          "metadata": {}
        },
        {
          "output_type": "stream",
          "name": "stdout",
          "text": [
            "[Epoch 112]: -117.45\n"
          ]
        },
        {
          "output_type": "display_data",
          "data": {
            "text/plain": "  0%|          | 0/53 [00:00<?, ?it/s]",
            "application/vnd.jupyter.widget-view+json": {
              "version_major": 2,
              "version_minor": 0,
              "model_id": "d223e75649564b11ac8004869638c928"
            }
          },
          "metadata": {}
        },
        {
          "output_type": "stream",
          "name": "stdout",
          "text": [
            "[Epoch 113]: -117.43\n"
          ]
        },
        {
          "output_type": "display_data",
          "data": {
            "text/plain": "  0%|          | 0/53 [00:00<?, ?it/s]",
            "application/vnd.jupyter.widget-view+json": {
              "version_major": 2,
              "version_minor": 0,
              "model_id": "64c77b6954c0459081d0294b26d8d8c5"
            }
          },
          "metadata": {}
        },
        {
          "output_type": "stream",
          "name": "stdout",
          "text": [
            "[Epoch 114]: -117.41\n"
          ]
        },
        {
          "output_type": "display_data",
          "data": {
            "text/plain": "  0%|          | 0/53 [00:00<?, ?it/s]",
            "application/vnd.jupyter.widget-view+json": {
              "version_major": 2,
              "version_minor": 0,
              "model_id": "b05a04dae0284b018b39fa5db7558b41"
            }
          },
          "metadata": {}
        },
        {
          "output_type": "stream",
          "name": "stdout",
          "text": [
            "[Epoch 115]: -117.39\n"
          ]
        },
        {
          "output_type": "display_data",
          "data": {
            "text/plain": "  0%|          | 0/53 [00:00<?, ?it/s]",
            "application/vnd.jupyter.widget-view+json": {
              "version_major": 2,
              "version_minor": 0,
              "model_id": "eed9a844e7c7440ab9b01203be8ed0ec"
            }
          },
          "metadata": {}
        },
        {
          "output_type": "stream",
          "name": "stdout",
          "text": [
            "[Epoch 116]: -117.38\n"
          ]
        },
        {
          "output_type": "display_data",
          "data": {
            "text/plain": "  0%|          | 0/53 [00:00<?, ?it/s]",
            "application/vnd.jupyter.widget-view+json": {
              "version_major": 2,
              "version_minor": 0,
              "model_id": "1a943c519e544ad2a93f7dc07f170d8d"
            }
          },
          "metadata": {}
        },
        {
          "output_type": "stream",
          "name": "stdout",
          "text": [
            "[Epoch 117]: -117.36\n"
          ]
        },
        {
          "output_type": "display_data",
          "data": {
            "text/plain": "  0%|          | 0/53 [00:00<?, ?it/s]",
            "application/vnd.jupyter.widget-view+json": {
              "version_major": 2,
              "version_minor": 0,
              "model_id": "1d9327f4e0b647ebb6277101063ac8fd"
            }
          },
          "metadata": {}
        },
        {
          "output_type": "stream",
          "name": "stdout",
          "text": [
            "[Epoch 118]: -117.34\n"
          ]
        },
        {
          "output_type": "display_data",
          "data": {
            "text/plain": "  0%|          | 0/53 [00:00<?, ?it/s]",
            "application/vnd.jupyter.widget-view+json": {
              "version_major": 2,
              "version_minor": 0,
              "model_id": "d21baf4e90c448d48bf2c4cf3c9a601f"
            }
          },
          "metadata": {}
        },
        {
          "output_type": "stream",
          "name": "stdout",
          "text": [
            "[Epoch 119]: -117.32\n"
          ]
        },
        {
          "output_type": "display_data",
          "data": {
            "text/plain": "  0%|          | 0/53 [00:00<?, ?it/s]",
            "application/vnd.jupyter.widget-view+json": {
              "version_major": 2,
              "version_minor": 0,
              "model_id": "9c3d07268bdc4aa1875d45c4626699fa"
            }
          },
          "metadata": {}
        },
        {
          "output_type": "stream",
          "name": "stdout",
          "text": [
            "[Epoch 120]: -117.30\n"
          ]
        },
        {
          "output_type": "display_data",
          "data": {
            "text/plain": "  0%|          | 0/53 [00:00<?, ?it/s]",
            "application/vnd.jupyter.widget-view+json": {
              "version_major": 2,
              "version_minor": 0,
              "model_id": "11bd1433fb4f429c9664c9ac82c77c42"
            }
          },
          "metadata": {}
        },
        {
          "output_type": "stream",
          "name": "stdout",
          "text": [
            "[Epoch 121]: -117.29\n"
          ]
        },
        {
          "output_type": "display_data",
          "data": {
            "text/plain": "  0%|          | 0/53 [00:00<?, ?it/s]",
            "application/vnd.jupyter.widget-view+json": {
              "version_major": 2,
              "version_minor": 0,
              "model_id": "41554c83533149a4947a3a3d561a07e5"
            }
          },
          "metadata": {}
        },
        {
          "output_type": "stream",
          "name": "stdout",
          "text": [
            "[Epoch 122]: -117.27\n"
          ]
        },
        {
          "output_type": "display_data",
          "data": {
            "text/plain": "  0%|          | 0/53 [00:00<?, ?it/s]",
            "application/vnd.jupyter.widget-view+json": {
              "version_major": 2,
              "version_minor": 0,
              "model_id": "16c793cd6ba84392bd246cbb095588f9"
            }
          },
          "metadata": {}
        },
        {
          "output_type": "stream",
          "name": "stdout",
          "text": [
            "[Epoch 123]: -117.25\n"
          ]
        },
        {
          "output_type": "display_data",
          "data": {
            "text/plain": "  0%|          | 0/53 [00:00<?, ?it/s]",
            "application/vnd.jupyter.widget-view+json": {
              "version_major": 2,
              "version_minor": 0,
              "model_id": "5d49b261d8d8458ea556428948eaec1b"
            }
          },
          "metadata": {}
        },
        {
          "output_type": "stream",
          "name": "stdout",
          "text": [
            "[Epoch 124]: -117.23\n"
          ]
        },
        {
          "output_type": "display_data",
          "data": {
            "text/plain": "  0%|          | 0/53 [00:00<?, ?it/s]",
            "application/vnd.jupyter.widget-view+json": {
              "version_major": 2,
              "version_minor": 0,
              "model_id": "d5730e98dbbd4cc396b047ba9d28000d"
            }
          },
          "metadata": {}
        },
        {
          "output_type": "stream",
          "name": "stdout",
          "text": [
            "[Epoch 125]: -117.22\n"
          ]
        },
        {
          "output_type": "display_data",
          "data": {
            "text/plain": "  0%|          | 0/53 [00:00<?, ?it/s]",
            "application/vnd.jupyter.widget-view+json": {
              "version_major": 2,
              "version_minor": 0,
              "model_id": "4527fef741244964b25cf06087e2be95"
            }
          },
          "metadata": {}
        },
        {
          "output_type": "stream",
          "name": "stdout",
          "text": [
            "[Epoch 126]: -117.20\n"
          ]
        },
        {
          "output_type": "display_data",
          "data": {
            "text/plain": "  0%|          | 0/53 [00:00<?, ?it/s]",
            "application/vnd.jupyter.widget-view+json": {
              "version_major": 2,
              "version_minor": 0,
              "model_id": "aa2e9f9fddce4b82a371dcb696d6f234"
            }
          },
          "metadata": {}
        },
        {
          "output_type": "stream",
          "name": "stdout",
          "text": [
            "[Epoch 127]: -117.19\n"
          ]
        },
        {
          "output_type": "display_data",
          "data": {
            "text/plain": "  0%|          | 0/53 [00:00<?, ?it/s]",
            "application/vnd.jupyter.widget-view+json": {
              "version_major": 2,
              "version_minor": 0,
              "model_id": "d263ee769f814784887551c8e1d1f102"
            }
          },
          "metadata": {}
        },
        {
          "output_type": "stream",
          "name": "stdout",
          "text": [
            "[Epoch 128]: -117.17\n"
          ]
        },
        {
          "output_type": "display_data",
          "data": {
            "text/plain": "  0%|          | 0/53 [00:00<?, ?it/s]",
            "application/vnd.jupyter.widget-view+json": {
              "version_major": 2,
              "version_minor": 0,
              "model_id": "7ae731fa31d64cae87d039bc7745f617"
            }
          },
          "metadata": {}
        },
        {
          "output_type": "stream",
          "name": "stdout",
          "text": [
            "[Epoch 129]: -117.16\n"
          ]
        },
        {
          "output_type": "display_data",
          "data": {
            "text/plain": "  0%|          | 0/53 [00:00<?, ?it/s]",
            "application/vnd.jupyter.widget-view+json": {
              "version_major": 2,
              "version_minor": 0,
              "model_id": "47996ad1612746f89d7793633e6b65c0"
            }
          },
          "metadata": {}
        },
        {
          "output_type": "stream",
          "name": "stdout",
          "text": [
            "[Epoch 130]: -117.14\n"
          ]
        },
        {
          "output_type": "display_data",
          "data": {
            "text/plain": "  0%|          | 0/53 [00:00<?, ?it/s]",
            "application/vnd.jupyter.widget-view+json": {
              "version_major": 2,
              "version_minor": 0,
              "model_id": "15cb71b89b0e4705acc18c137f39adfc"
            }
          },
          "metadata": {}
        },
        {
          "output_type": "stream",
          "name": "stdout",
          "text": [
            "[Epoch 131]: -117.13\n"
          ]
        },
        {
          "output_type": "display_data",
          "data": {
            "text/plain": "  0%|          | 0/53 [00:00<?, ?it/s]",
            "application/vnd.jupyter.widget-view+json": {
              "version_major": 2,
              "version_minor": 0,
              "model_id": "888211402bb54ac3bdaf5e1f85d617b2"
            }
          },
          "metadata": {}
        },
        {
          "output_type": "stream",
          "name": "stdout",
          "text": [
            "[Epoch 132]: -117.11\n"
          ]
        },
        {
          "output_type": "display_data",
          "data": {
            "text/plain": "  0%|          | 0/53 [00:00<?, ?it/s]",
            "application/vnd.jupyter.widget-view+json": {
              "version_major": 2,
              "version_minor": 0,
              "model_id": "f212908358d6413bb10b21bdcc006282"
            }
          },
          "metadata": {}
        },
        {
          "output_type": "stream",
          "name": "stdout",
          "text": [
            "[Epoch 133]: -117.10\n"
          ]
        },
        {
          "output_type": "display_data",
          "data": {
            "text/plain": "  0%|          | 0/53 [00:00<?, ?it/s]",
            "application/vnd.jupyter.widget-view+json": {
              "version_major": 2,
              "version_minor": 0,
              "model_id": "725665c8fa034e1886d4a8717d332cca"
            }
          },
          "metadata": {}
        },
        {
          "output_type": "stream",
          "name": "stdout",
          "text": [
            "[Epoch 134]: -117.09\n"
          ]
        },
        {
          "output_type": "display_data",
          "data": {
            "text/plain": "  0%|          | 0/53 [00:00<?, ?it/s]",
            "application/vnd.jupyter.widget-view+json": {
              "version_major": 2,
              "version_minor": 0,
              "model_id": "b6cf257746e54203b051d35e3994e5d7"
            }
          },
          "metadata": {}
        },
        {
          "output_type": "stream",
          "name": "stdout",
          "text": [
            "[Epoch 135]: -117.07\n"
          ]
        },
        {
          "output_type": "display_data",
          "data": {
            "text/plain": "  0%|          | 0/53 [00:00<?, ?it/s]",
            "application/vnd.jupyter.widget-view+json": {
              "version_major": 2,
              "version_minor": 0,
              "model_id": "d23192d448f246bd9e466409b96ba9d2"
            }
          },
          "metadata": {}
        },
        {
          "output_type": "stream",
          "name": "stdout",
          "text": [
            "[Epoch 136]: -117.06\n"
          ]
        },
        {
          "output_type": "display_data",
          "data": {
            "text/plain": "  0%|          | 0/53 [00:00<?, ?it/s]",
            "application/vnd.jupyter.widget-view+json": {
              "version_major": 2,
              "version_minor": 0,
              "model_id": "bdf248864c1646108335c906bca1b99d"
            }
          },
          "metadata": {}
        },
        {
          "output_type": "stream",
          "name": "stdout",
          "text": [
            "[Epoch 137]: -117.04\n"
          ]
        },
        {
          "output_type": "display_data",
          "data": {
            "text/plain": "  0%|          | 0/53 [00:00<?, ?it/s]",
            "application/vnd.jupyter.widget-view+json": {
              "version_major": 2,
              "version_minor": 0,
              "model_id": "5b4e556fe8424f5cae3bc81d61c2e4dc"
            }
          },
          "metadata": {}
        },
        {
          "output_type": "stream",
          "name": "stdout",
          "text": [
            "[Epoch 138]: -117.03\n"
          ]
        },
        {
          "output_type": "display_data",
          "data": {
            "text/plain": "  0%|          | 0/53 [00:00<?, ?it/s]",
            "application/vnd.jupyter.widget-view+json": {
              "version_major": 2,
              "version_minor": 0,
              "model_id": "3662416a0d8e4361980eb09aba85e55e"
            }
          },
          "metadata": {}
        },
        {
          "output_type": "stream",
          "name": "stdout",
          "text": [
            "[Epoch 139]: -117.02\n"
          ]
        },
        {
          "output_type": "display_data",
          "data": {
            "text/plain": "  0%|          | 0/53 [00:00<?, ?it/s]",
            "application/vnd.jupyter.widget-view+json": {
              "version_major": 2,
              "version_minor": 0,
              "model_id": "84774fee28ac4aed94b0d50978977663"
            }
          },
          "metadata": {}
        },
        {
          "output_type": "stream",
          "name": "stdout",
          "text": [
            "[Epoch 140]: -117.01\n"
          ]
        },
        {
          "output_type": "display_data",
          "data": {
            "text/plain": "  0%|          | 0/53 [00:00<?, ?it/s]",
            "application/vnd.jupyter.widget-view+json": {
              "version_major": 2,
              "version_minor": 0,
              "model_id": "9946e220aad7417587bda1925119e881"
            }
          },
          "metadata": {}
        },
        {
          "output_type": "stream",
          "name": "stdout",
          "text": [
            "[Epoch 141]: -116.99\n"
          ]
        },
        {
          "output_type": "display_data",
          "data": {
            "text/plain": "  0%|          | 0/53 [00:00<?, ?it/s]",
            "application/vnd.jupyter.widget-view+json": {
              "version_major": 2,
              "version_minor": 0,
              "model_id": "d19640d1286a4a039ba9c532812ec1ae"
            }
          },
          "metadata": {}
        },
        {
          "output_type": "stream",
          "name": "stdout",
          "text": [
            "[Epoch 142]: -116.98\n"
          ]
        },
        {
          "output_type": "display_data",
          "data": {
            "text/plain": "  0%|          | 0/53 [00:00<?, ?it/s]",
            "application/vnd.jupyter.widget-view+json": {
              "version_major": 2,
              "version_minor": 0,
              "model_id": "60b0ebc3552e4a04bc429a65d56bc412"
            }
          },
          "metadata": {}
        },
        {
          "output_type": "stream",
          "name": "stdout",
          "text": [
            "[Epoch 143]: -116.97\n"
          ]
        },
        {
          "output_type": "display_data",
          "data": {
            "text/plain": "  0%|          | 0/53 [00:00<?, ?it/s]",
            "application/vnd.jupyter.widget-view+json": {
              "version_major": 2,
              "version_minor": 0,
              "model_id": "d203f8be828346b3a61e33a5ea471f6f"
            }
          },
          "metadata": {}
        },
        {
          "output_type": "stream",
          "name": "stdout",
          "text": [
            "[Epoch 144]: -116.96\n"
          ]
        },
        {
          "output_type": "display_data",
          "data": {
            "text/plain": "  0%|          | 0/53 [00:00<?, ?it/s]",
            "application/vnd.jupyter.widget-view+json": {
              "version_major": 2,
              "version_minor": 0,
              "model_id": "82665f97704c46efa9d77eb0d73bc473"
            }
          },
          "metadata": {}
        },
        {
          "output_type": "stream",
          "name": "stdout",
          "text": [
            "[Epoch 145]: -116.95\n"
          ]
        },
        {
          "output_type": "display_data",
          "data": {
            "text/plain": "  0%|          | 0/53 [00:00<?, ?it/s]",
            "application/vnd.jupyter.widget-view+json": {
              "version_major": 2,
              "version_minor": 0,
              "model_id": "acdb3406a89743fe890d87c309c9d5ec"
            }
          },
          "metadata": {}
        },
        {
          "output_type": "stream",
          "name": "stdout",
          "text": [
            "[Epoch 146]: -116.94\n"
          ]
        },
        {
          "output_type": "display_data",
          "data": {
            "text/plain": "  0%|          | 0/53 [00:00<?, ?it/s]",
            "application/vnd.jupyter.widget-view+json": {
              "version_major": 2,
              "version_minor": 0,
              "model_id": "9fa808a7ac2f480398237b62a07263b9"
            }
          },
          "metadata": {}
        },
        {
          "output_type": "stream",
          "name": "stdout",
          "text": [
            "[Epoch 147]: -116.92\n"
          ]
        },
        {
          "output_type": "display_data",
          "data": {
            "text/plain": "  0%|          | 0/53 [00:00<?, ?it/s]",
            "application/vnd.jupyter.widget-view+json": {
              "version_major": 2,
              "version_minor": 0,
              "model_id": "4678f82eb97745cc812557788e354d14"
            }
          },
          "metadata": {}
        },
        {
          "output_type": "stream",
          "name": "stdout",
          "text": [
            "[Epoch 148]: -116.91\n"
          ]
        },
        {
          "output_type": "display_data",
          "data": {
            "text/plain": "  0%|          | 0/53 [00:00<?, ?it/s]",
            "application/vnd.jupyter.widget-view+json": {
              "version_major": 2,
              "version_minor": 0,
              "model_id": "25383cc40d91474083bfdb5368ec2b6f"
            }
          },
          "metadata": {}
        },
        {
          "output_type": "stream",
          "name": "stdout",
          "text": [
            "[Epoch 149]: -116.90\n"
          ]
        },
        {
          "output_type": "display_data",
          "data": {
            "text/plain": "  0%|          | 0/53 [00:00<?, ?it/s]",
            "application/vnd.jupyter.widget-view+json": {
              "version_major": 2,
              "version_minor": 0,
              "model_id": "2bdd2986e1384abfa9a3dae13334cd6b"
            }
          },
          "metadata": {}
        },
        {
          "output_type": "stream",
          "name": "stdout",
          "text": [
            "[Epoch 150]: -116.89\n"
          ]
        },
        {
          "output_type": "display_data",
          "data": {
            "text/plain": "  0%|          | 0/53 [00:00<?, ?it/s]",
            "application/vnd.jupyter.widget-view+json": {
              "version_major": 2,
              "version_minor": 0,
              "model_id": "a63c11a4a89043acb2ca9c727fd2fe27"
            }
          },
          "metadata": {}
        },
        {
          "output_type": "stream",
          "name": "stdout",
          "text": [
            "[Epoch 151]: -116.88\n"
          ]
        },
        {
          "output_type": "display_data",
          "data": {
            "text/plain": "  0%|          | 0/53 [00:00<?, ?it/s]",
            "application/vnd.jupyter.widget-view+json": {
              "version_major": 2,
              "version_minor": 0,
              "model_id": "c901cb6bc4494021a48774e0d69b8ade"
            }
          },
          "metadata": {}
        },
        {
          "output_type": "stream",
          "name": "stdout",
          "text": [
            "[Epoch 152]: -116.87\n"
          ]
        },
        {
          "output_type": "display_data",
          "data": {
            "text/plain": "  0%|          | 0/53 [00:00<?, ?it/s]",
            "application/vnd.jupyter.widget-view+json": {
              "version_major": 2,
              "version_minor": 0,
              "model_id": "86072942fd1d4bf9868fef6401540bf7"
            }
          },
          "metadata": {}
        },
        {
          "output_type": "stream",
          "name": "stdout",
          "text": [
            "[Epoch 153]: -116.86\n"
          ]
        },
        {
          "output_type": "display_data",
          "data": {
            "text/plain": "  0%|          | 0/53 [00:00<?, ?it/s]",
            "application/vnd.jupyter.widget-view+json": {
              "version_major": 2,
              "version_minor": 0,
              "model_id": "43ecb920c1844375b8291398f3e94dcf"
            }
          },
          "metadata": {}
        },
        {
          "output_type": "stream",
          "name": "stdout",
          "text": [
            "[Epoch 154]: -116.85\n"
          ]
        },
        {
          "output_type": "display_data",
          "data": {
            "text/plain": "  0%|          | 0/53 [00:00<?, ?it/s]",
            "application/vnd.jupyter.widget-view+json": {
              "version_major": 2,
              "version_minor": 0,
              "model_id": "a48886ac5ae44048b31442b645fdd742"
            }
          },
          "metadata": {}
        },
        {
          "output_type": "stream",
          "name": "stdout",
          "text": [
            "[Epoch 155]: -116.84\n"
          ]
        },
        {
          "output_type": "display_data",
          "data": {
            "text/plain": "  0%|          | 0/53 [00:00<?, ?it/s]",
            "application/vnd.jupyter.widget-view+json": {
              "version_major": 2,
              "version_minor": 0,
              "model_id": "cef38f81ddd847bf9f8a49e111ed16e1"
            }
          },
          "metadata": {}
        },
        {
          "output_type": "stream",
          "name": "stdout",
          "text": [
            "[Epoch 156]: -116.83\n"
          ]
        },
        {
          "output_type": "display_data",
          "data": {
            "text/plain": "  0%|          | 0/53 [00:00<?, ?it/s]",
            "application/vnd.jupyter.widget-view+json": {
              "version_major": 2,
              "version_minor": 0,
              "model_id": "e6e0b8861cee4be889afc0f45a51bcea"
            }
          },
          "metadata": {}
        },
        {
          "output_type": "stream",
          "name": "stdout",
          "text": [
            "[Epoch 157]: -116.82\n"
          ]
        },
        {
          "output_type": "display_data",
          "data": {
            "text/plain": "  0%|          | 0/53 [00:00<?, ?it/s]",
            "application/vnd.jupyter.widget-view+json": {
              "version_major": 2,
              "version_minor": 0,
              "model_id": "178e9f9d209c43c8a62a591b4a899d4f"
            }
          },
          "metadata": {}
        },
        {
          "output_type": "stream",
          "name": "stdout",
          "text": [
            "[Epoch 158]: -116.81\n"
          ]
        },
        {
          "output_type": "display_data",
          "data": {
            "text/plain": "  0%|          | 0/53 [00:00<?, ?it/s]",
            "application/vnd.jupyter.widget-view+json": {
              "version_major": 2,
              "version_minor": 0,
              "model_id": "0df0000508a44b78a12a1645a8e53d21"
            }
          },
          "metadata": {}
        },
        {
          "output_type": "stream",
          "name": "stdout",
          "text": [
            "[Epoch 159]: -116.80\n"
          ]
        },
        {
          "output_type": "display_data",
          "data": {
            "text/plain": "  0%|          | 0/53 [00:00<?, ?it/s]",
            "application/vnd.jupyter.widget-view+json": {
              "version_major": 2,
              "version_minor": 0,
              "model_id": "c26aa399561144579dc757de277de879"
            }
          },
          "metadata": {}
        },
        {
          "output_type": "stream",
          "name": "stdout",
          "text": [
            "[Epoch 160]: -116.80\n"
          ]
        },
        {
          "output_type": "display_data",
          "data": {
            "text/plain": "  0%|          | 0/53 [00:00<?, ?it/s]",
            "application/vnd.jupyter.widget-view+json": {
              "version_major": 2,
              "version_minor": 0,
              "model_id": "2e385e61f13f49bfb69e06de8748a287"
            }
          },
          "metadata": {}
        },
        {
          "output_type": "stream",
          "name": "stdout",
          "text": [
            "[Epoch 161]: -116.79\n"
          ]
        },
        {
          "output_type": "display_data",
          "data": {
            "text/plain": "  0%|          | 0/53 [00:00<?, ?it/s]",
            "application/vnd.jupyter.widget-view+json": {
              "version_major": 2,
              "version_minor": 0,
              "model_id": "a92d340583614f8da09b72e2fc5e11d5"
            }
          },
          "metadata": {}
        },
        {
          "output_type": "stream",
          "name": "stdout",
          "text": [
            "[Epoch 162]: -116.78\n"
          ]
        },
        {
          "output_type": "display_data",
          "data": {
            "text/plain": "  0%|          | 0/53 [00:00<?, ?it/s]",
            "application/vnd.jupyter.widget-view+json": {
              "version_major": 2,
              "version_minor": 0,
              "model_id": "9cc3276ad8294f1ba64e427aaa3b5f46"
            }
          },
          "metadata": {}
        },
        {
          "output_type": "stream",
          "name": "stdout",
          "text": [
            "[Epoch 163]: -116.77\n"
          ]
        },
        {
          "output_type": "display_data",
          "data": {
            "text/plain": "  0%|          | 0/53 [00:00<?, ?it/s]",
            "application/vnd.jupyter.widget-view+json": {
              "version_major": 2,
              "version_minor": 0,
              "model_id": "9a3d4b730c3b440d865cd7d8f08c46fe"
            }
          },
          "metadata": {}
        },
        {
          "output_type": "stream",
          "name": "stdout",
          "text": [
            "[Epoch 164]: -116.76\n"
          ]
        },
        {
          "output_type": "display_data",
          "data": {
            "text/plain": "  0%|          | 0/53 [00:00<?, ?it/s]",
            "application/vnd.jupyter.widget-view+json": {
              "version_major": 2,
              "version_minor": 0,
              "model_id": "8243b2d0c4e94bd8bbde8d00af0c2df4"
            }
          },
          "metadata": {}
        },
        {
          "output_type": "stream",
          "name": "stdout",
          "text": [
            "[Epoch 165]: -116.75\n"
          ]
        },
        {
          "output_type": "display_data",
          "data": {
            "text/plain": "  0%|          | 0/53 [00:00<?, ?it/s]",
            "application/vnd.jupyter.widget-view+json": {
              "version_major": 2,
              "version_minor": 0,
              "model_id": "9d7c3baa25f340058e164eb07815bd16"
            }
          },
          "metadata": {}
        },
        {
          "output_type": "stream",
          "name": "stdout",
          "text": [
            "[Epoch 166]: -116.74\n"
          ]
        },
        {
          "output_type": "display_data",
          "data": {
            "text/plain": "  0%|          | 0/53 [00:00<?, ?it/s]",
            "application/vnd.jupyter.widget-view+json": {
              "version_major": 2,
              "version_minor": 0,
              "model_id": "0608db3db3ce412f8063ae250fb1bad3"
            }
          },
          "metadata": {}
        },
        {
          "output_type": "stream",
          "name": "stdout",
          "text": [
            "[Epoch 167]: -116.74\n"
          ]
        },
        {
          "output_type": "display_data",
          "data": {
            "text/plain": "  0%|          | 0/53 [00:00<?, ?it/s]",
            "application/vnd.jupyter.widget-view+json": {
              "version_major": 2,
              "version_minor": 0,
              "model_id": "6e43ff11aee4428ca74df827bdde2db0"
            }
          },
          "metadata": {}
        },
        {
          "output_type": "stream",
          "name": "stdout",
          "text": [
            "[Epoch 168]: -116.73\n"
          ]
        },
        {
          "output_type": "display_data",
          "data": {
            "text/plain": "  0%|          | 0/53 [00:00<?, ?it/s]",
            "application/vnd.jupyter.widget-view+json": {
              "version_major": 2,
              "version_minor": 0,
              "model_id": "06020a8cd1044b0e9d49ba1d626e6bdb"
            }
          },
          "metadata": {}
        },
        {
          "output_type": "stream",
          "name": "stdout",
          "text": [
            "[Epoch 169]: -116.72\n"
          ]
        },
        {
          "output_type": "display_data",
          "data": {
            "text/plain": "  0%|          | 0/53 [00:00<?, ?it/s]",
            "application/vnd.jupyter.widget-view+json": {
              "version_major": 2,
              "version_minor": 0,
              "model_id": "b595c7ee1db742ecab63e6c5f543a96a"
            }
          },
          "metadata": {}
        },
        {
          "output_type": "stream",
          "name": "stdout",
          "text": [
            "[Epoch 170]: -116.71\n"
          ]
        },
        {
          "output_type": "display_data",
          "data": {
            "text/plain": "  0%|          | 0/53 [00:00<?, ?it/s]",
            "application/vnd.jupyter.widget-view+json": {
              "version_major": 2,
              "version_minor": 0,
              "model_id": "b22cae60a4ed468b9fb708726e38e10f"
            }
          },
          "metadata": {}
        },
        {
          "output_type": "stream",
          "name": "stdout",
          "text": [
            "[Epoch 171]: -116.70\n"
          ]
        },
        {
          "output_type": "display_data",
          "data": {
            "text/plain": "  0%|          | 0/53 [00:00<?, ?it/s]",
            "application/vnd.jupyter.widget-view+json": {
              "version_major": 2,
              "version_minor": 0,
              "model_id": "00e466cf178346829b5b05f1155b1143"
            }
          },
          "metadata": {}
        },
        {
          "output_type": "stream",
          "name": "stdout",
          "text": [
            "[Epoch 172]: -116.70\n"
          ]
        },
        {
          "output_type": "display_data",
          "data": {
            "text/plain": "  0%|          | 0/53 [00:00<?, ?it/s]",
            "application/vnd.jupyter.widget-view+json": {
              "version_major": 2,
              "version_minor": 0,
              "model_id": "5ca00a5b14e24d998b413bdd2dfc7208"
            }
          },
          "metadata": {}
        },
        {
          "output_type": "stream",
          "name": "stdout",
          "text": [
            "[Epoch 173]: -116.69\n"
          ]
        },
        {
          "output_type": "display_data",
          "data": {
            "text/plain": "  0%|          | 0/53 [00:00<?, ?it/s]",
            "application/vnd.jupyter.widget-view+json": {
              "version_major": 2,
              "version_minor": 0,
              "model_id": "4d30a8168eda4a4abfa60625400b49f9"
            }
          },
          "metadata": {}
        },
        {
          "output_type": "stream",
          "name": "stdout",
          "text": [
            "[Epoch 174]: -116.68\n"
          ]
        },
        {
          "output_type": "display_data",
          "data": {
            "text/plain": "  0%|          | 0/53 [00:00<?, ?it/s]",
            "application/vnd.jupyter.widget-view+json": {
              "version_major": 2,
              "version_minor": 0,
              "model_id": "2ce5cce3906e4126a331c6e1cbdffd3b"
            }
          },
          "metadata": {}
        },
        {
          "output_type": "stream",
          "name": "stdout",
          "text": [
            "[Epoch 175]: -116.68\n"
          ]
        },
        {
          "output_type": "display_data",
          "data": {
            "text/plain": "  0%|          | 0/53 [00:00<?, ?it/s]",
            "application/vnd.jupyter.widget-view+json": {
              "version_major": 2,
              "version_minor": 0,
              "model_id": "ab133ab9a4e24ea6930d0ca98164c027"
            }
          },
          "metadata": {}
        },
        {
          "output_type": "stream",
          "name": "stdout",
          "text": [
            "[Epoch 176]: -116.67\n"
          ]
        },
        {
          "output_type": "display_data",
          "data": {
            "text/plain": "  0%|          | 0/53 [00:00<?, ?it/s]",
            "application/vnd.jupyter.widget-view+json": {
              "version_major": 2,
              "version_minor": 0,
              "model_id": "e0eccbe81c264b4dbe2380fbd375f190"
            }
          },
          "metadata": {}
        },
        {
          "output_type": "stream",
          "name": "stdout",
          "text": [
            "[Epoch 177]: -116.66\n"
          ]
        },
        {
          "output_type": "display_data",
          "data": {
            "text/plain": "  0%|          | 0/53 [00:00<?, ?it/s]",
            "application/vnd.jupyter.widget-view+json": {
              "version_major": 2,
              "version_minor": 0,
              "model_id": "69d4b8818c4d4b5092d7042212ecf429"
            }
          },
          "metadata": {}
        },
        {
          "output_type": "stream",
          "name": "stdout",
          "text": [
            "[Epoch 178]: -116.65\n"
          ]
        },
        {
          "output_type": "display_data",
          "data": {
            "text/plain": "  0%|          | 0/53 [00:00<?, ?it/s]",
            "application/vnd.jupyter.widget-view+json": {
              "version_major": 2,
              "version_minor": 0,
              "model_id": "a5ad9f35e3cf4784b34e0fd149ac1cdd"
            }
          },
          "metadata": {}
        },
        {
          "output_type": "stream",
          "name": "stdout",
          "text": [
            "[Epoch 179]: -116.65\n"
          ]
        },
        {
          "output_type": "display_data",
          "data": {
            "text/plain": "  0%|          | 0/53 [00:00<?, ?it/s]",
            "application/vnd.jupyter.widget-view+json": {
              "version_major": 2,
              "version_minor": 0,
              "model_id": "9161c44738434ae8bb9db1c23608b126"
            }
          },
          "metadata": {}
        },
        {
          "output_type": "stream",
          "name": "stdout",
          "text": [
            "[Epoch 180]: -116.64\n"
          ]
        },
        {
          "output_type": "display_data",
          "data": {
            "text/plain": "  0%|          | 0/53 [00:00<?, ?it/s]",
            "application/vnd.jupyter.widget-view+json": {
              "version_major": 2,
              "version_minor": 0,
              "model_id": "3f71e16efaae4e379205c5d59165d0df"
            }
          },
          "metadata": {}
        },
        {
          "output_type": "stream",
          "name": "stdout",
          "text": [
            "[Epoch 181]: -116.63\n"
          ]
        },
        {
          "output_type": "display_data",
          "data": {
            "text/plain": "  0%|          | 0/53 [00:00<?, ?it/s]",
            "application/vnd.jupyter.widget-view+json": {
              "version_major": 2,
              "version_minor": 0,
              "model_id": "a03d1db22c3749bebb7243418e6d4d3d"
            }
          },
          "metadata": {}
        },
        {
          "output_type": "stream",
          "name": "stdout",
          "text": [
            "[Epoch 182]: -116.63\n"
          ]
        },
        {
          "output_type": "display_data",
          "data": {
            "text/plain": "  0%|          | 0/53 [00:00<?, ?it/s]",
            "application/vnd.jupyter.widget-view+json": {
              "version_major": 2,
              "version_minor": 0,
              "model_id": "44a8fb30324140b190e3dcbbe570a981"
            }
          },
          "metadata": {}
        },
        {
          "output_type": "stream",
          "name": "stdout",
          "text": [
            "[Epoch 183]: -116.62\n"
          ]
        },
        {
          "output_type": "display_data",
          "data": {
            "text/plain": "  0%|          | 0/53 [00:00<?, ?it/s]",
            "application/vnd.jupyter.widget-view+json": {
              "version_major": 2,
              "version_minor": 0,
              "model_id": "9da249f6854a45b397ca5db2fb51bbbb"
            }
          },
          "metadata": {}
        },
        {
          "output_type": "stream",
          "name": "stdout",
          "text": [
            "[Epoch 184]: -116.61\n"
          ]
        },
        {
          "output_type": "display_data",
          "data": {
            "text/plain": "  0%|          | 0/53 [00:00<?, ?it/s]",
            "application/vnd.jupyter.widget-view+json": {
              "version_major": 2,
              "version_minor": 0,
              "model_id": "14a26bc04c0348c59831553dc7e6ad32"
            }
          },
          "metadata": {}
        },
        {
          "output_type": "stream",
          "name": "stdout",
          "text": [
            "[Epoch 185]: -116.61\n"
          ]
        },
        {
          "output_type": "display_data",
          "data": {
            "text/plain": "  0%|          | 0/53 [00:00<?, ?it/s]",
            "application/vnd.jupyter.widget-view+json": {
              "version_major": 2,
              "version_minor": 0,
              "model_id": "d96f99496d934142bd1d2d3b944cde5c"
            }
          },
          "metadata": {}
        },
        {
          "output_type": "stream",
          "name": "stdout",
          "text": [
            "[Epoch 186]: -116.60\n"
          ]
        },
        {
          "output_type": "display_data",
          "data": {
            "text/plain": "  0%|          | 0/53 [00:00<?, ?it/s]",
            "application/vnd.jupyter.widget-view+json": {
              "version_major": 2,
              "version_minor": 0,
              "model_id": "0682d30859354e91b212ec070a3bbbeb"
            }
          },
          "metadata": {}
        },
        {
          "output_type": "stream",
          "name": "stdout",
          "text": [
            "[Epoch 187]: -116.60\n"
          ]
        },
        {
          "output_type": "display_data",
          "data": {
            "text/plain": "  0%|          | 0/53 [00:00<?, ?it/s]",
            "application/vnd.jupyter.widget-view+json": {
              "version_major": 2,
              "version_minor": 0,
              "model_id": "85fd5f50f2d142aa95da8a596b1d1c99"
            }
          },
          "metadata": {}
        },
        {
          "output_type": "stream",
          "name": "stdout",
          "text": [
            "[Epoch 188]: -116.59\n"
          ]
        },
        {
          "output_type": "display_data",
          "data": {
            "text/plain": "  0%|          | 0/53 [00:00<?, ?it/s]",
            "application/vnd.jupyter.widget-view+json": {
              "version_major": 2,
              "version_minor": 0,
              "model_id": "367eb1a896a849419d8601bc178dc985"
            }
          },
          "metadata": {}
        },
        {
          "output_type": "stream",
          "name": "stdout",
          "text": [
            "[Epoch 189]: -116.58\n"
          ]
        },
        {
          "output_type": "display_data",
          "data": {
            "text/plain": "  0%|          | 0/53 [00:00<?, ?it/s]",
            "application/vnd.jupyter.widget-view+json": {
              "version_major": 2,
              "version_minor": 0,
              "model_id": "d957c633f1114fbf96250cb149af6c74"
            }
          },
          "metadata": {}
        },
        {
          "output_type": "stream",
          "name": "stdout",
          "text": [
            "[Epoch 190]: -116.58\n"
          ]
        },
        {
          "output_type": "display_data",
          "data": {
            "text/plain": "  0%|          | 0/53 [00:00<?, ?it/s]",
            "application/vnd.jupyter.widget-view+json": {
              "version_major": 2,
              "version_minor": 0,
              "model_id": "1f930f0e1ad148da8c1bfcdc2b622405"
            }
          },
          "metadata": {}
        },
        {
          "output_type": "stream",
          "name": "stdout",
          "text": [
            "[Epoch 191]: -116.57\n"
          ]
        },
        {
          "output_type": "display_data",
          "data": {
            "text/plain": "  0%|          | 0/53 [00:00<?, ?it/s]",
            "application/vnd.jupyter.widget-view+json": {
              "version_major": 2,
              "version_minor": 0,
              "model_id": "4bd2e56c6b6348759e2c5396598afc2d"
            }
          },
          "metadata": {}
        },
        {
          "output_type": "stream",
          "name": "stdout",
          "text": [
            "[Epoch 192]: -116.57\n"
          ]
        },
        {
          "output_type": "display_data",
          "data": {
            "text/plain": "  0%|          | 0/53 [00:00<?, ?it/s]",
            "application/vnd.jupyter.widget-view+json": {
              "version_major": 2,
              "version_minor": 0,
              "model_id": "d4cf56a423ac432b898216e22443dee3"
            }
          },
          "metadata": {}
        },
        {
          "output_type": "stream",
          "name": "stdout",
          "text": [
            "[Epoch 193]: -116.56\n"
          ]
        },
        {
          "output_type": "display_data",
          "data": {
            "text/plain": "  0%|          | 0/53 [00:00<?, ?it/s]",
            "application/vnd.jupyter.widget-view+json": {
              "version_major": 2,
              "version_minor": 0,
              "model_id": "c307d16c429543c2ba0bf11225446fdd"
            }
          },
          "metadata": {}
        },
        {
          "output_type": "stream",
          "name": "stdout",
          "text": [
            "[Epoch 194]: -116.56\n"
          ]
        },
        {
          "output_type": "display_data",
          "data": {
            "text/plain": "  0%|          | 0/53 [00:00<?, ?it/s]",
            "application/vnd.jupyter.widget-view+json": {
              "version_major": 2,
              "version_minor": 0,
              "model_id": "93a5092537ad4f879ceaf7fd9b34fdac"
            }
          },
          "metadata": {}
        },
        {
          "output_type": "stream",
          "name": "stdout",
          "text": [
            "[Epoch 195]: -116.55\n"
          ]
        },
        {
          "output_type": "display_data",
          "data": {
            "text/plain": "  0%|          | 0/53 [00:00<?, ?it/s]",
            "application/vnd.jupyter.widget-view+json": {
              "version_major": 2,
              "version_minor": 0,
              "model_id": "dee848bd83034ad39571fdaa56009429"
            }
          },
          "metadata": {}
        },
        {
          "output_type": "stream",
          "name": "stdout",
          "text": [
            "[Epoch 196]: -116.55\n"
          ]
        },
        {
          "output_type": "display_data",
          "data": {
            "text/plain": "  0%|          | 0/53 [00:00<?, ?it/s]",
            "application/vnd.jupyter.widget-view+json": {
              "version_major": 2,
              "version_minor": 0,
              "model_id": "c532b5fb15904abbae6b7dcf6fad9338"
            }
          },
          "metadata": {}
        },
        {
          "output_type": "stream",
          "name": "stdout",
          "text": [
            "[Epoch 197]: -116.54\n"
          ]
        },
        {
          "output_type": "display_data",
          "data": {
            "text/plain": "  0%|          | 0/53 [00:00<?, ?it/s]",
            "application/vnd.jupyter.widget-view+json": {
              "version_major": 2,
              "version_minor": 0,
              "model_id": "761939d3fccf479aaf0e44a61a0f03d2"
            }
          },
          "metadata": {}
        },
        {
          "output_type": "stream",
          "name": "stdout",
          "text": [
            "[Epoch 198]: -116.54\n"
          ]
        },
        {
          "output_type": "display_data",
          "data": {
            "text/plain": "  0%|          | 0/53 [00:00<?, ?it/s]",
            "application/vnd.jupyter.widget-view+json": {
              "version_major": 2,
              "version_minor": 0,
              "model_id": "b326091719944e31a3d195cfc1dcfa66"
            }
          },
          "metadata": {}
        },
        {
          "output_type": "stream",
          "name": "stdout",
          "text": [
            "[Epoch 199]: -116.53\n"
          ]
        },
        {
          "output_type": "display_data",
          "data": {
            "text/plain": "  0%|          | 0/53 [00:00<?, ?it/s]",
            "application/vnd.jupyter.widget-view+json": {
              "version_major": 2,
              "version_minor": 0,
              "model_id": "58a4ee4b42b2450183bce94a5bdf9d8b"
            }
          },
          "metadata": {}
        },
        {
          "output_type": "stream",
          "name": "stdout",
          "text": [
            "[Epoch 200]: -116.53\n"
          ]
        },
        {
          "output_type": "display_data",
          "data": {
            "text/plain": "  0%|          | 0/53 [00:00<?, ?it/s]",
            "application/vnd.jupyter.widget-view+json": {
              "version_major": 2,
              "version_minor": 0,
              "model_id": "5b2fab70ea0c4526a6e8262035d7ce83"
            }
          },
          "metadata": {}
        },
        {
          "output_type": "stream",
          "name": "stdout",
          "text": [
            "[Epoch 201]: -116.52\n"
          ]
        },
        {
          "output_type": "display_data",
          "data": {
            "text/plain": "  0%|          | 0/53 [00:00<?, ?it/s]",
            "application/vnd.jupyter.widget-view+json": {
              "version_major": 2,
              "version_minor": 0,
              "model_id": "0607070ebfcb4225880a2313c89c7bd5"
            }
          },
          "metadata": {}
        },
        {
          "output_type": "stream",
          "name": "stdout",
          "text": [
            "[Epoch 202]: -116.52\n"
          ]
        },
        {
          "output_type": "display_data",
          "data": {
            "text/plain": "  0%|          | 0/53 [00:00<?, ?it/s]",
            "application/vnd.jupyter.widget-view+json": {
              "version_major": 2,
              "version_minor": 0,
              "model_id": "08b1222f783942ae94bf7317e0f3bbd7"
            }
          },
          "metadata": {}
        },
        {
          "output_type": "stream",
          "name": "stdout",
          "text": [
            "[Epoch 203]: -116.51\n"
          ]
        },
        {
          "output_type": "display_data",
          "data": {
            "text/plain": "  0%|          | 0/53 [00:00<?, ?it/s]",
            "application/vnd.jupyter.widget-view+json": {
              "version_major": 2,
              "version_minor": 0,
              "model_id": "7c9d4b9810774c4b983c4e1d6ec53af3"
            }
          },
          "metadata": {}
        },
        {
          "output_type": "stream",
          "name": "stdout",
          "text": [
            "[Epoch 204]: -116.51\n"
          ]
        },
        {
          "output_type": "display_data",
          "data": {
            "text/plain": "  0%|          | 0/53 [00:00<?, ?it/s]",
            "application/vnd.jupyter.widget-view+json": {
              "version_major": 2,
              "version_minor": 0,
              "model_id": "f39402a5ded14c23b5c338aa3719153a"
            }
          },
          "metadata": {}
        },
        {
          "output_type": "stream",
          "name": "stdout",
          "text": [
            "[Epoch 205]: -116.50\n"
          ]
        },
        {
          "output_type": "display_data",
          "data": {
            "text/plain": "  0%|          | 0/53 [00:00<?, ?it/s]",
            "application/vnd.jupyter.widget-view+json": {
              "version_major": 2,
              "version_minor": 0,
              "model_id": "8b8f63e47db240829783f5897cdeb1d4"
            }
          },
          "metadata": {}
        },
        {
          "output_type": "stream",
          "name": "stdout",
          "text": [
            "[Epoch 206]: -116.50\n"
          ]
        },
        {
          "output_type": "display_data",
          "data": {
            "text/plain": "  0%|          | 0/53 [00:00<?, ?it/s]",
            "application/vnd.jupyter.widget-view+json": {
              "version_major": 2,
              "version_minor": 0,
              "model_id": "599cb2ae3a9b446d8d1a9091ecba8b42"
            }
          },
          "metadata": {}
        },
        {
          "output_type": "stream",
          "name": "stdout",
          "text": [
            "[Epoch 207]: -116.49\n"
          ]
        },
        {
          "output_type": "display_data",
          "data": {
            "text/plain": "  0%|          | 0/53 [00:00<?, ?it/s]",
            "application/vnd.jupyter.widget-view+json": {
              "version_major": 2,
              "version_minor": 0,
              "model_id": "74cfa2ecfbd4402bba49c5da8057d550"
            }
          },
          "metadata": {}
        },
        {
          "output_type": "stream",
          "name": "stdout",
          "text": [
            "[Epoch 208]: -116.49\n"
          ]
        },
        {
          "output_type": "display_data",
          "data": {
            "text/plain": "  0%|          | 0/53 [00:00<?, ?it/s]",
            "application/vnd.jupyter.widget-view+json": {
              "version_major": 2,
              "version_minor": 0,
              "model_id": "ddb762a0e9794162b35c43fc687e0d00"
            }
          },
          "metadata": {}
        },
        {
          "output_type": "stream",
          "name": "stdout",
          "text": [
            "[Epoch 209]: -116.48\n"
          ]
        },
        {
          "output_type": "display_data",
          "data": {
            "text/plain": "  0%|          | 0/53 [00:00<?, ?it/s]",
            "application/vnd.jupyter.widget-view+json": {
              "version_major": 2,
              "version_minor": 0,
              "model_id": "49ca158f67e449e8814c678322ce63dc"
            }
          },
          "metadata": {}
        },
        {
          "output_type": "stream",
          "name": "stdout",
          "text": [
            "[Epoch 210]: -116.48\n"
          ]
        },
        {
          "output_type": "display_data",
          "data": {
            "text/plain": "  0%|          | 0/53 [00:00<?, ?it/s]",
            "application/vnd.jupyter.widget-view+json": {
              "version_major": 2,
              "version_minor": 0,
              "model_id": "7ab8e98b43cd46d7b596961eaa52afe0"
            }
          },
          "metadata": {}
        },
        {
          "output_type": "stream",
          "name": "stdout",
          "text": [
            "[Epoch 211]: -116.48\n"
          ]
        },
        {
          "output_type": "display_data",
          "data": {
            "text/plain": "  0%|          | 0/53 [00:00<?, ?it/s]",
            "application/vnd.jupyter.widget-view+json": {
              "version_major": 2,
              "version_minor": 0,
              "model_id": "50432022f6224403badd95ca0dce286e"
            }
          },
          "metadata": {}
        },
        {
          "output_type": "stream",
          "name": "stdout",
          "text": [
            "[Epoch 212]: -116.47\n"
          ]
        },
        {
          "output_type": "display_data",
          "data": {
            "text/plain": "  0%|          | 0/53 [00:00<?, ?it/s]",
            "application/vnd.jupyter.widget-view+json": {
              "version_major": 2,
              "version_minor": 0,
              "model_id": "1213a7e51e7947f8a2476a7f4bf8d722"
            }
          },
          "metadata": {}
        },
        {
          "output_type": "stream",
          "name": "stdout",
          "text": [
            "[Epoch 213]: -116.47\n"
          ]
        },
        {
          "output_type": "display_data",
          "data": {
            "text/plain": "  0%|          | 0/53 [00:00<?, ?it/s]",
            "application/vnd.jupyter.widget-view+json": {
              "version_major": 2,
              "version_minor": 0,
              "model_id": "a473a06e05e84878b3a88abcc8b6794e"
            }
          },
          "metadata": {}
        },
        {
          "output_type": "stream",
          "name": "stdout",
          "text": [
            "[Epoch 214]: -116.46\n"
          ]
        },
        {
          "output_type": "display_data",
          "data": {
            "text/plain": "  0%|          | 0/53 [00:00<?, ?it/s]",
            "application/vnd.jupyter.widget-view+json": {
              "version_major": 2,
              "version_minor": 0,
              "model_id": "203a2f83df1f4d0ea3a2b9120366137c"
            }
          },
          "metadata": {}
        },
        {
          "output_type": "stream",
          "name": "stdout",
          "text": [
            "[Epoch 215]: -116.46\n"
          ]
        },
        {
          "output_type": "display_data",
          "data": {
            "text/plain": "  0%|          | 0/53 [00:00<?, ?it/s]",
            "application/vnd.jupyter.widget-view+json": {
              "version_major": 2,
              "version_minor": 0,
              "model_id": "f5cac585084f4b2d87c4c324d755b5cb"
            }
          },
          "metadata": {}
        },
        {
          "output_type": "stream",
          "name": "stdout",
          "text": [
            "[Epoch 216]: -116.45\n"
          ]
        },
        {
          "output_type": "display_data",
          "data": {
            "text/plain": "  0%|          | 0/53 [00:00<?, ?it/s]",
            "application/vnd.jupyter.widget-view+json": {
              "version_major": 2,
              "version_minor": 0,
              "model_id": "23cefa548f1e48e9a67defbf4f7f9171"
            }
          },
          "metadata": {}
        },
        {
          "output_type": "stream",
          "name": "stdout",
          "text": [
            "[Epoch 217]: -116.45\n"
          ]
        },
        {
          "output_type": "display_data",
          "data": {
            "text/plain": "  0%|          | 0/53 [00:00<?, ?it/s]",
            "application/vnd.jupyter.widget-view+json": {
              "version_major": 2,
              "version_minor": 0,
              "model_id": "b362f63f3a4e4b9a832b58bbc97940c9"
            }
          },
          "metadata": {}
        },
        {
          "output_type": "stream",
          "name": "stdout",
          "text": [
            "[Epoch 218]: -116.45\n"
          ]
        },
        {
          "output_type": "display_data",
          "data": {
            "text/plain": "  0%|          | 0/53 [00:00<?, ?it/s]",
            "application/vnd.jupyter.widget-view+json": {
              "version_major": 2,
              "version_minor": 0,
              "model_id": "cf409a5959d547dbae864cb20652a6e1"
            }
          },
          "metadata": {}
        },
        {
          "output_type": "stream",
          "name": "stdout",
          "text": [
            "[Epoch 219]: -116.44\n"
          ]
        },
        {
          "output_type": "display_data",
          "data": {
            "text/plain": "  0%|          | 0/53 [00:00<?, ?it/s]",
            "application/vnd.jupyter.widget-view+json": {
              "version_major": 2,
              "version_minor": 0,
              "model_id": "4d100c87668c47a6a102d53d2e2ba650"
            }
          },
          "metadata": {}
        },
        {
          "output_type": "stream",
          "name": "stdout",
          "text": [
            "[Epoch 220]: -116.44\n"
          ]
        },
        {
          "output_type": "display_data",
          "data": {
            "text/plain": "  0%|          | 0/53 [00:00<?, ?it/s]",
            "application/vnd.jupyter.widget-view+json": {
              "version_major": 2,
              "version_minor": 0,
              "model_id": "a84a5d53bdfa4cf58d02bd28c3bb81e8"
            }
          },
          "metadata": {}
        },
        {
          "output_type": "stream",
          "name": "stdout",
          "text": [
            "[Epoch 221]: -116.44\n"
          ]
        },
        {
          "output_type": "display_data",
          "data": {
            "text/plain": "  0%|          | 0/53 [00:00<?, ?it/s]",
            "application/vnd.jupyter.widget-view+json": {
              "version_major": 2,
              "version_minor": 0,
              "model_id": "85ee873ca2d749d0b88b9f0711eec281"
            }
          },
          "metadata": {}
        },
        {
          "output_type": "stream",
          "name": "stdout",
          "text": [
            "[Epoch 222]: -116.43\n"
          ]
        },
        {
          "output_type": "display_data",
          "data": {
            "text/plain": "  0%|          | 0/53 [00:00<?, ?it/s]",
            "application/vnd.jupyter.widget-view+json": {
              "version_major": 2,
              "version_minor": 0,
              "model_id": "fcbb0e4bcb284dda87b9a097ad9c6c19"
            }
          },
          "metadata": {}
        },
        {
          "output_type": "stream",
          "name": "stdout",
          "text": [
            "[Epoch 223]: -116.43\n"
          ]
        },
        {
          "output_type": "display_data",
          "data": {
            "text/plain": "  0%|          | 0/53 [00:00<?, ?it/s]",
            "application/vnd.jupyter.widget-view+json": {
              "version_major": 2,
              "version_minor": 0,
              "model_id": "9fac1d491a0943f3b34df82b9835224c"
            }
          },
          "metadata": {}
        },
        {
          "output_type": "stream",
          "name": "stdout",
          "text": [
            "[Epoch 224]: -116.42\n"
          ]
        },
        {
          "output_type": "display_data",
          "data": {
            "text/plain": "  0%|          | 0/53 [00:00<?, ?it/s]",
            "application/vnd.jupyter.widget-view+json": {
              "version_major": 2,
              "version_minor": 0,
              "model_id": "b28ba109f78d42edb8ece3ff1304f405"
            }
          },
          "metadata": {}
        },
        {
          "output_type": "stream",
          "name": "stdout",
          "text": [
            "[Epoch 225]: -116.42\n"
          ]
        },
        {
          "output_type": "display_data",
          "data": {
            "text/plain": "  0%|          | 0/53 [00:00<?, ?it/s]",
            "application/vnd.jupyter.widget-view+json": {
              "version_major": 2,
              "version_minor": 0,
              "model_id": "f7e5b7c98889458c9ee07f9f2810d02f"
            }
          },
          "metadata": {}
        },
        {
          "output_type": "stream",
          "name": "stdout",
          "text": [
            "[Epoch 226]: -116.42\n"
          ]
        },
        {
          "output_type": "display_data",
          "data": {
            "text/plain": "  0%|          | 0/53 [00:00<?, ?it/s]",
            "application/vnd.jupyter.widget-view+json": {
              "version_major": 2,
              "version_minor": 0,
              "model_id": "a31bbe1a0d3542108203babf3cfba6e8"
            }
          },
          "metadata": {}
        },
        {
          "output_type": "stream",
          "name": "stdout",
          "text": [
            "[Epoch 227]: -116.41\n"
          ]
        },
        {
          "output_type": "display_data",
          "data": {
            "text/plain": "  0%|          | 0/53 [00:00<?, ?it/s]",
            "application/vnd.jupyter.widget-view+json": {
              "version_major": 2,
              "version_minor": 0,
              "model_id": "ea0db559fb1949d4aa01aae86b3415a8"
            }
          },
          "metadata": {}
        },
        {
          "output_type": "stream",
          "name": "stdout",
          "text": [
            "[Epoch 228]: -116.41\n"
          ]
        },
        {
          "output_type": "display_data",
          "data": {
            "text/plain": "  0%|          | 0/53 [00:00<?, ?it/s]",
            "application/vnd.jupyter.widget-view+json": {
              "version_major": 2,
              "version_minor": 0,
              "model_id": "9ceb48f98c6a46c092196a147b7eb7b9"
            }
          },
          "metadata": {}
        },
        {
          "output_type": "stream",
          "name": "stdout",
          "text": [
            "[Epoch 229]: -116.41\n"
          ]
        },
        {
          "output_type": "display_data",
          "data": {
            "text/plain": "  0%|          | 0/53 [00:00<?, ?it/s]",
            "application/vnd.jupyter.widget-view+json": {
              "version_major": 2,
              "version_minor": 0,
              "model_id": "3a2ed69c53eb4460b9ab7675b0fd18c6"
            }
          },
          "metadata": {}
        },
        {
          "output_type": "stream",
          "name": "stdout",
          "text": [
            "[Epoch 230]: -116.40\n"
          ]
        },
        {
          "output_type": "display_data",
          "data": {
            "text/plain": "  0%|          | 0/53 [00:00<?, ?it/s]",
            "application/vnd.jupyter.widget-view+json": {
              "version_major": 2,
              "version_minor": 0,
              "model_id": "5f0b3959181442449a31169b182ea6be"
            }
          },
          "metadata": {}
        },
        {
          "output_type": "stream",
          "name": "stdout",
          "text": [
            "[Epoch 231]: -116.40\n"
          ]
        },
        {
          "output_type": "display_data",
          "data": {
            "text/plain": "  0%|          | 0/53 [00:00<?, ?it/s]",
            "application/vnd.jupyter.widget-view+json": {
              "version_major": 2,
              "version_minor": 0,
              "model_id": "441fc3cd8af5492fbc359b8273339d41"
            }
          },
          "metadata": {}
        },
        {
          "output_type": "stream",
          "name": "stdout",
          "text": [
            "[Epoch 232]: -116.40\n"
          ]
        },
        {
          "output_type": "display_data",
          "data": {
            "text/plain": "  0%|          | 0/53 [00:00<?, ?it/s]",
            "application/vnd.jupyter.widget-view+json": {
              "version_major": 2,
              "version_minor": 0,
              "model_id": "2a112844402742529f65ebe51e2c8324"
            }
          },
          "metadata": {}
        },
        {
          "output_type": "stream",
          "name": "stdout",
          "text": [
            "[Epoch 233]: -116.39\n"
          ]
        },
        {
          "output_type": "display_data",
          "data": {
            "text/plain": "  0%|          | 0/53 [00:00<?, ?it/s]",
            "application/vnd.jupyter.widget-view+json": {
              "version_major": 2,
              "version_minor": 0,
              "model_id": "6bc8a6ad97e6488ba22335876883ecc9"
            }
          },
          "metadata": {}
        },
        {
          "output_type": "stream",
          "name": "stdout",
          "text": [
            "[Epoch 234]: -116.39\n"
          ]
        },
        {
          "output_type": "display_data",
          "data": {
            "text/plain": "  0%|          | 0/53 [00:00<?, ?it/s]",
            "application/vnd.jupyter.widget-view+json": {
              "version_major": 2,
              "version_minor": 0,
              "model_id": "1b5ec51b341a4503b1ae3911365fe869"
            }
          },
          "metadata": {}
        },
        {
          "output_type": "stream",
          "name": "stdout",
          "text": [
            "[Epoch 235]: -116.39\n"
          ]
        },
        {
          "output_type": "display_data",
          "data": {
            "text/plain": "  0%|          | 0/53 [00:00<?, ?it/s]",
            "application/vnd.jupyter.widget-view+json": {
              "version_major": 2,
              "version_minor": 0,
              "model_id": "0167973479f3465ca00ae83db759d5b1"
            }
          },
          "metadata": {}
        },
        {
          "output_type": "stream",
          "name": "stdout",
          "text": [
            "[Epoch 236]: -116.39\n"
          ]
        },
        {
          "output_type": "display_data",
          "data": {
            "text/plain": "  0%|          | 0/53 [00:00<?, ?it/s]",
            "application/vnd.jupyter.widget-view+json": {
              "version_major": 2,
              "version_minor": 0,
              "model_id": "d95347a3951e4ee2bee8782a35d9e142"
            }
          },
          "metadata": {}
        },
        {
          "output_type": "stream",
          "name": "stdout",
          "text": [
            "[Epoch 237]: -116.38\n"
          ]
        },
        {
          "output_type": "display_data",
          "data": {
            "text/plain": "  0%|          | 0/53 [00:00<?, ?it/s]",
            "application/vnd.jupyter.widget-view+json": {
              "version_major": 2,
              "version_minor": 0,
              "model_id": "60a12fa930cb46fbaae91efe888dd519"
            }
          },
          "metadata": {}
        },
        {
          "output_type": "stream",
          "name": "stdout",
          "text": [
            "[Epoch 238]: -116.38\n"
          ]
        },
        {
          "output_type": "display_data",
          "data": {
            "text/plain": "  0%|          | 0/53 [00:00<?, ?it/s]",
            "application/vnd.jupyter.widget-view+json": {
              "version_major": 2,
              "version_minor": 0,
              "model_id": "d59366dc7b3b4dc088a5ace38cc3bed0"
            }
          },
          "metadata": {}
        },
        {
          "output_type": "stream",
          "name": "stdout",
          "text": [
            "[Epoch 239]: -116.38\n"
          ]
        },
        {
          "output_type": "display_data",
          "data": {
            "text/plain": "  0%|          | 0/53 [00:00<?, ?it/s]",
            "application/vnd.jupyter.widget-view+json": {
              "version_major": 2,
              "version_minor": 0,
              "model_id": "5438ae17b9384977a88913d787ba6ab7"
            }
          },
          "metadata": {}
        },
        {
          "output_type": "stream",
          "name": "stdout",
          "text": [
            "[Epoch 240]: -116.37\n"
          ]
        },
        {
          "output_type": "display_data",
          "data": {
            "text/plain": "  0%|          | 0/53 [00:00<?, ?it/s]",
            "application/vnd.jupyter.widget-view+json": {
              "version_major": 2,
              "version_minor": 0,
              "model_id": "985c7292c0be44c4b08ac72333cff828"
            }
          },
          "metadata": {}
        },
        {
          "output_type": "stream",
          "name": "stdout",
          "text": [
            "[Epoch 241]: -116.37\n"
          ]
        },
        {
          "output_type": "display_data",
          "data": {
            "text/plain": "  0%|          | 0/53 [00:00<?, ?it/s]",
            "application/vnd.jupyter.widget-view+json": {
              "version_major": 2,
              "version_minor": 0,
              "model_id": "7e4c9e71d4ce48029d9c9445d8189f74"
            }
          },
          "metadata": {}
        },
        {
          "output_type": "stream",
          "name": "stdout",
          "text": [
            "[Epoch 242]: -116.37\n"
          ]
        },
        {
          "output_type": "display_data",
          "data": {
            "text/plain": "  0%|          | 0/53 [00:00<?, ?it/s]",
            "application/vnd.jupyter.widget-view+json": {
              "version_major": 2,
              "version_minor": 0,
              "model_id": "82e835fe2db7488b9907e3d01caf747d"
            }
          },
          "metadata": {}
        },
        {
          "output_type": "stream",
          "name": "stdout",
          "text": [
            "[Epoch 243]: -116.36\n"
          ]
        },
        {
          "output_type": "display_data",
          "data": {
            "text/plain": "  0%|          | 0/53 [00:00<?, ?it/s]",
            "application/vnd.jupyter.widget-view+json": {
              "version_major": 2,
              "version_minor": 0,
              "model_id": "211189fb78c2479db04d6101d310fd46"
            }
          },
          "metadata": {}
        },
        {
          "output_type": "stream",
          "name": "stdout",
          "text": [
            "[Epoch 244]: -116.36\n"
          ]
        },
        {
          "output_type": "display_data",
          "data": {
            "text/plain": "  0%|          | 0/53 [00:00<?, ?it/s]",
            "application/vnd.jupyter.widget-view+json": {
              "version_major": 2,
              "version_minor": 0,
              "model_id": "74b8035bbe97479c8a8066add01bc967"
            }
          },
          "metadata": {}
        },
        {
          "output_type": "stream",
          "name": "stdout",
          "text": [
            "[Epoch 245]: -116.36\n"
          ]
        },
        {
          "output_type": "display_data",
          "data": {
            "text/plain": "  0%|          | 0/53 [00:00<?, ?it/s]",
            "application/vnd.jupyter.widget-view+json": {
              "version_major": 2,
              "version_minor": 0,
              "model_id": "7e6d5f7f4aab4144910b4fd690623a24"
            }
          },
          "metadata": {}
        },
        {
          "output_type": "stream",
          "name": "stdout",
          "text": [
            "[Epoch 246]: -116.36\n"
          ]
        },
        {
          "output_type": "display_data",
          "data": {
            "text/plain": "  0%|          | 0/53 [00:00<?, ?it/s]",
            "application/vnd.jupyter.widget-view+json": {
              "version_major": 2,
              "version_minor": 0,
              "model_id": "5aac76fff5544f62b954a6191fdadfde"
            }
          },
          "metadata": {}
        },
        {
          "output_type": "stream",
          "name": "stdout",
          "text": [
            "[Epoch 247]: -116.35\n"
          ]
        },
        {
          "output_type": "display_data",
          "data": {
            "text/plain": "  0%|          | 0/53 [00:00<?, ?it/s]",
            "application/vnd.jupyter.widget-view+json": {
              "version_major": 2,
              "version_minor": 0,
              "model_id": "e566a3eb53c84563a20e89b0c16db75f"
            }
          },
          "metadata": {}
        },
        {
          "output_type": "stream",
          "name": "stdout",
          "text": [
            "[Epoch 248]: -116.35\n"
          ]
        },
        {
          "output_type": "display_data",
          "data": {
            "text/plain": "  0%|          | 0/53 [00:00<?, ?it/s]",
            "application/vnd.jupyter.widget-view+json": {
              "version_major": 2,
              "version_minor": 0,
              "model_id": "ea7d86849b5241d0943d062007fe76bf"
            }
          },
          "metadata": {}
        },
        {
          "output_type": "stream",
          "name": "stdout",
          "text": [
            "[Epoch 249]: -116.35\n"
          ]
        },
        {
          "output_type": "display_data",
          "data": {
            "text/plain": "  0%|          | 0/53 [00:00<?, ?it/s]",
            "application/vnd.jupyter.widget-view+json": {
              "version_major": 2,
              "version_minor": 0,
              "model_id": "0e021b7d68294133be17ec06a7aedfca"
            }
          },
          "metadata": {}
        },
        {
          "output_type": "stream",
          "name": "stdout",
          "text": [
            "[Epoch 250]: -116.35\n"
          ]
        },
        {
          "output_type": "display_data",
          "data": {
            "text/plain": "  0%|          | 0/53 [00:00<?, ?it/s]",
            "application/vnd.jupyter.widget-view+json": {
              "version_major": 2,
              "version_minor": 0,
              "model_id": "8aefd42de89a4c1d949b22469545851f"
            }
          },
          "metadata": {}
        },
        {
          "output_type": "stream",
          "name": "stdout",
          "text": [
            "[Epoch 251]: -116.34\n"
          ]
        },
        {
          "output_type": "display_data",
          "data": {
            "text/plain": "  0%|          | 0/53 [00:00<?, ?it/s]",
            "application/vnd.jupyter.widget-view+json": {
              "version_major": 2,
              "version_minor": 0,
              "model_id": "40670e9640484350bdde0600dfcebb8a"
            }
          },
          "metadata": {}
        },
        {
          "output_type": "stream",
          "name": "stdout",
          "text": [
            "[Epoch 252]: -116.34\n"
          ]
        },
        {
          "output_type": "display_data",
          "data": {
            "text/plain": "  0%|          | 0/53 [00:00<?, ?it/s]",
            "application/vnd.jupyter.widget-view+json": {
              "version_major": 2,
              "version_minor": 0,
              "model_id": "9fefb03d77824ce99930cfd8aa28f7fa"
            }
          },
          "metadata": {}
        },
        {
          "output_type": "stream",
          "name": "stdout",
          "text": [
            "[Epoch 253]: -116.34\n"
          ]
        },
        {
          "output_type": "display_data",
          "data": {
            "text/plain": "  0%|          | 0/53 [00:00<?, ?it/s]",
            "application/vnd.jupyter.widget-view+json": {
              "version_major": 2,
              "version_minor": 0,
              "model_id": "505e76d5d04840fca1462c809860b5ad"
            }
          },
          "metadata": {}
        },
        {
          "output_type": "stream",
          "name": "stdout",
          "text": [
            "[Epoch 254]: -116.34\n"
          ]
        },
        {
          "output_type": "display_data",
          "data": {
            "text/plain": "  0%|          | 0/53 [00:00<?, ?it/s]",
            "application/vnd.jupyter.widget-view+json": {
              "version_major": 2,
              "version_minor": 0,
              "model_id": "4e53d50572454e38bab18b7289fa0be0"
            }
          },
          "metadata": {}
        },
        {
          "output_type": "stream",
          "name": "stdout",
          "text": [
            "[Epoch 255]: -116.33\n"
          ]
        },
        {
          "output_type": "display_data",
          "data": {
            "text/plain": "  0%|          | 0/53 [00:00<?, ?it/s]",
            "application/vnd.jupyter.widget-view+json": {
              "version_major": 2,
              "version_minor": 0,
              "model_id": "ea0ccb9885e2486e9c9d0ea8ef06bc62"
            }
          },
          "metadata": {}
        },
        {
          "output_type": "stream",
          "name": "stdout",
          "text": [
            "[Epoch 256]: -116.33\n"
          ]
        },
        {
          "output_type": "display_data",
          "data": {
            "text/plain": "  0%|          | 0/53 [00:00<?, ?it/s]",
            "application/vnd.jupyter.widget-view+json": {
              "version_major": 2,
              "version_minor": 0,
              "model_id": "84ac4b96f6454e04a313407c9e56e7eb"
            }
          },
          "metadata": {}
        },
        {
          "output_type": "stream",
          "name": "stdout",
          "text": [
            "[Epoch 257]: -116.33\n"
          ]
        },
        {
          "output_type": "display_data",
          "data": {
            "text/plain": "  0%|          | 0/53 [00:00<?, ?it/s]",
            "application/vnd.jupyter.widget-view+json": {
              "version_major": 2,
              "version_minor": 0,
              "model_id": "34e0952c3fbe461289000c23aaa9d209"
            }
          },
          "metadata": {}
        },
        {
          "output_type": "stream",
          "name": "stdout",
          "text": [
            "[Epoch 258]: -116.33\n"
          ]
        },
        {
          "output_type": "display_data",
          "data": {
            "text/plain": "  0%|          | 0/53 [00:00<?, ?it/s]",
            "application/vnd.jupyter.widget-view+json": {
              "version_major": 2,
              "version_minor": 0,
              "model_id": "6551f98dad614709a8ccc206f3715bad"
            }
          },
          "metadata": {}
        },
        {
          "output_type": "stream",
          "name": "stdout",
          "text": [
            "[Epoch 259]: -116.32\n"
          ]
        },
        {
          "output_type": "display_data",
          "data": {
            "text/plain": "  0%|          | 0/53 [00:00<?, ?it/s]",
            "application/vnd.jupyter.widget-view+json": {
              "version_major": 2,
              "version_minor": 0,
              "model_id": "f854031f68f3416986d7d573855221c0"
            }
          },
          "metadata": {}
        },
        {
          "output_type": "stream",
          "name": "stdout",
          "text": [
            "[Epoch 260]: -116.32\n"
          ]
        },
        {
          "output_type": "display_data",
          "data": {
            "text/plain": "  0%|          | 0/53 [00:00<?, ?it/s]",
            "application/vnd.jupyter.widget-view+json": {
              "version_major": 2,
              "version_minor": 0,
              "model_id": "17d0c4ae3a4e4cb0adcbeea508a1b81a"
            }
          },
          "metadata": {}
        },
        {
          "output_type": "stream",
          "name": "stdout",
          "text": [
            "[Epoch 261]: -116.32\n"
          ]
        },
        {
          "output_type": "display_data",
          "data": {
            "text/plain": "  0%|          | 0/53 [00:00<?, ?it/s]",
            "application/vnd.jupyter.widget-view+json": {
              "version_major": 2,
              "version_minor": 0,
              "model_id": "c632242c0a054f2582b6a3263d317d27"
            }
          },
          "metadata": {}
        },
        {
          "output_type": "stream",
          "name": "stdout",
          "text": [
            "[Epoch 262]: -116.32\n"
          ]
        },
        {
          "output_type": "display_data",
          "data": {
            "text/plain": "  0%|          | 0/53 [00:00<?, ?it/s]",
            "application/vnd.jupyter.widget-view+json": {
              "version_major": 2,
              "version_minor": 0,
              "model_id": "6ea906d76db046f888b6b855f99767d9"
            }
          },
          "metadata": {}
        },
        {
          "output_type": "stream",
          "name": "stdout",
          "text": [
            "[Epoch 263]: -116.32\n"
          ]
        },
        {
          "output_type": "display_data",
          "data": {
            "text/plain": "  0%|          | 0/53 [00:00<?, ?it/s]",
            "application/vnd.jupyter.widget-view+json": {
              "version_major": 2,
              "version_minor": 0,
              "model_id": "7eb754e6e8f944df8db8271059706259"
            }
          },
          "metadata": {}
        },
        {
          "output_type": "stream",
          "name": "stdout",
          "text": [
            "[Epoch 264]: -116.31\n"
          ]
        },
        {
          "output_type": "display_data",
          "data": {
            "text/plain": "  0%|          | 0/53 [00:00<?, ?it/s]",
            "application/vnd.jupyter.widget-view+json": {
              "version_major": 2,
              "version_minor": 0,
              "model_id": "f801fefd68c4470ba30077b7ff836f65"
            }
          },
          "metadata": {}
        },
        {
          "output_type": "stream",
          "name": "stdout",
          "text": [
            "[Epoch 265]: -116.31\n"
          ]
        },
        {
          "output_type": "display_data",
          "data": {
            "text/plain": "  0%|          | 0/53 [00:00<?, ?it/s]",
            "application/vnd.jupyter.widget-view+json": {
              "version_major": 2,
              "version_minor": 0,
              "model_id": "09ccc0b8c4de42f1a978c1cf2c92e932"
            }
          },
          "metadata": {}
        },
        {
          "output_type": "stream",
          "name": "stdout",
          "text": [
            "[Epoch 266]: -116.31\n"
          ]
        },
        {
          "output_type": "display_data",
          "data": {
            "text/plain": "  0%|          | 0/53 [00:00<?, ?it/s]",
            "application/vnd.jupyter.widget-view+json": {
              "version_major": 2,
              "version_minor": 0,
              "model_id": "807e46b4bee34169a747b496eeb7a00b"
            }
          },
          "metadata": {}
        },
        {
          "output_type": "stream",
          "name": "stdout",
          "text": [
            "[Epoch 267]: -116.31\n"
          ]
        },
        {
          "output_type": "display_data",
          "data": {
            "text/plain": "  0%|          | 0/53 [00:00<?, ?it/s]",
            "application/vnd.jupyter.widget-view+json": {
              "version_major": 2,
              "version_minor": 0,
              "model_id": "8f3c5c0c67364d7599759b50e2e416cf"
            }
          },
          "metadata": {}
        },
        {
          "output_type": "stream",
          "name": "stdout",
          "text": [
            "[Epoch 268]: -116.31\n"
          ]
        },
        {
          "output_type": "display_data",
          "data": {
            "text/plain": "  0%|          | 0/53 [00:00<?, ?it/s]",
            "application/vnd.jupyter.widget-view+json": {
              "version_major": 2,
              "version_minor": 0,
              "model_id": "431fdcd49ab945e29490c1e291c39cb0"
            }
          },
          "metadata": {}
        },
        {
          "output_type": "stream",
          "name": "stdout",
          "text": [
            "[Epoch 269]: -116.30\n"
          ]
        },
        {
          "output_type": "display_data",
          "data": {
            "text/plain": "  0%|          | 0/53 [00:00<?, ?it/s]",
            "application/vnd.jupyter.widget-view+json": {
              "version_major": 2,
              "version_minor": 0,
              "model_id": "c5fbbb281d6a4ad29b8b1b71310b6935"
            }
          },
          "metadata": {}
        },
        {
          "output_type": "stream",
          "name": "stdout",
          "text": [
            "[Epoch 270]: -116.30\n"
          ]
        },
        {
          "output_type": "display_data",
          "data": {
            "text/plain": "  0%|          | 0/53 [00:00<?, ?it/s]",
            "application/vnd.jupyter.widget-view+json": {
              "version_major": 2,
              "version_minor": 0,
              "model_id": "f0bf0a684cdf44e8866feee022efc9ef"
            }
          },
          "metadata": {}
        },
        {
          "output_type": "stream",
          "name": "stdout",
          "text": [
            "[Epoch 271]: -116.30\n"
          ]
        },
        {
          "output_type": "display_data",
          "data": {
            "text/plain": "  0%|          | 0/53 [00:00<?, ?it/s]",
            "application/vnd.jupyter.widget-view+json": {
              "version_major": 2,
              "version_minor": 0,
              "model_id": "0ba78db6a7364e92b0c4525aefabf18a"
            }
          },
          "metadata": {}
        },
        {
          "output_type": "stream",
          "name": "stdout",
          "text": [
            "[Epoch 272]: -116.30\n"
          ]
        },
        {
          "output_type": "display_data",
          "data": {
            "text/plain": "  0%|          | 0/53 [00:00<?, ?it/s]",
            "application/vnd.jupyter.widget-view+json": {
              "version_major": 2,
              "version_minor": 0,
              "model_id": "b290a8774b614f1eac8cde5ab6057948"
            }
          },
          "metadata": {}
        },
        {
          "output_type": "stream",
          "name": "stdout",
          "text": [
            "[Epoch 273]: -116.30\n"
          ]
        },
        {
          "output_type": "display_data",
          "data": {
            "text/plain": "  0%|          | 0/53 [00:00<?, ?it/s]",
            "application/vnd.jupyter.widget-view+json": {
              "version_major": 2,
              "version_minor": 0,
              "model_id": "3748c19fb4f542d082b57037168999fe"
            }
          },
          "metadata": {}
        },
        {
          "output_type": "stream",
          "name": "stdout",
          "text": [
            "[Epoch 274]: -116.29\n"
          ]
        },
        {
          "output_type": "display_data",
          "data": {
            "text/plain": "  0%|          | 0/53 [00:00<?, ?it/s]",
            "application/vnd.jupyter.widget-view+json": {
              "version_major": 2,
              "version_minor": 0,
              "model_id": "34f70c546b654fb1913d6aebacae27f9"
            }
          },
          "metadata": {}
        },
        {
          "output_type": "stream",
          "name": "stdout",
          "text": [
            "[Epoch 275]: -116.29\n"
          ]
        },
        {
          "output_type": "display_data",
          "data": {
            "text/plain": "  0%|          | 0/53 [00:00<?, ?it/s]",
            "application/vnd.jupyter.widget-view+json": {
              "version_major": 2,
              "version_minor": 0,
              "model_id": "2471e7db4ef643bf9107d91fdfb8f6c7"
            }
          },
          "metadata": {}
        },
        {
          "output_type": "stream",
          "name": "stdout",
          "text": [
            "[Epoch 276]: -116.29\n"
          ]
        },
        {
          "output_type": "display_data",
          "data": {
            "text/plain": "  0%|          | 0/53 [00:00<?, ?it/s]",
            "application/vnd.jupyter.widget-view+json": {
              "version_major": 2,
              "version_minor": 0,
              "model_id": "7bcd4ed593be44c9a38b1fc5643aa038"
            }
          },
          "metadata": {}
        },
        {
          "output_type": "stream",
          "name": "stdout",
          "text": [
            "[Epoch 277]: -116.29\n"
          ]
        },
        {
          "output_type": "display_data",
          "data": {
            "text/plain": "  0%|          | 0/53 [00:00<?, ?it/s]",
            "application/vnd.jupyter.widget-view+json": {
              "version_major": 2,
              "version_minor": 0,
              "model_id": "24a8344c568342788449ec210b7217df"
            }
          },
          "metadata": {}
        },
        {
          "output_type": "stream",
          "name": "stdout",
          "text": [
            "[Epoch 278]: -116.29\n"
          ]
        },
        {
          "output_type": "display_data",
          "data": {
            "text/plain": "  0%|          | 0/53 [00:00<?, ?it/s]",
            "application/vnd.jupyter.widget-view+json": {
              "version_major": 2,
              "version_minor": 0,
              "model_id": "9c358a245c9a4b9f8817f41c5060c21f"
            }
          },
          "metadata": {}
        },
        {
          "output_type": "stream",
          "name": "stdout",
          "text": [
            "[Epoch 279]: -116.28\n"
          ]
        },
        {
          "output_type": "display_data",
          "data": {
            "text/plain": "  0%|          | 0/53 [00:00<?, ?it/s]",
            "application/vnd.jupyter.widget-view+json": {
              "version_major": 2,
              "version_minor": 0,
              "model_id": "317d77e6c7fa496fa8a7e5cd67b79185"
            }
          },
          "metadata": {}
        },
        {
          "output_type": "stream",
          "name": "stdout",
          "text": [
            "[Epoch 280]: -116.28\n"
          ]
        },
        {
          "output_type": "display_data",
          "data": {
            "text/plain": "  0%|          | 0/53 [00:00<?, ?it/s]",
            "application/vnd.jupyter.widget-view+json": {
              "version_major": 2,
              "version_minor": 0,
              "model_id": "0e67075a281f40f0843d9f60af484656"
            }
          },
          "metadata": {}
        },
        {
          "output_type": "stream",
          "name": "stdout",
          "text": [
            "[Epoch 281]: -116.28\n"
          ]
        },
        {
          "output_type": "display_data",
          "data": {
            "text/plain": "  0%|          | 0/53 [00:00<?, ?it/s]",
            "application/vnd.jupyter.widget-view+json": {
              "version_major": 2,
              "version_minor": 0,
              "model_id": "d38c748554a84e5281e5adadb4c34697"
            }
          },
          "metadata": {}
        },
        {
          "output_type": "stream",
          "name": "stdout",
          "text": [
            "[Epoch 282]: -116.28\n"
          ]
        },
        {
          "output_type": "display_data",
          "data": {
            "text/plain": "  0%|          | 0/53 [00:00<?, ?it/s]",
            "application/vnd.jupyter.widget-view+json": {
              "version_major": 2,
              "version_minor": 0,
              "model_id": "4ff5120e99f746fca8cc363a1857a9fa"
            }
          },
          "metadata": {}
        },
        {
          "output_type": "stream",
          "name": "stdout",
          "text": [
            "[Epoch 283]: -116.28\n"
          ]
        },
        {
          "output_type": "display_data",
          "data": {
            "text/plain": "  0%|          | 0/53 [00:00<?, ?it/s]",
            "application/vnd.jupyter.widget-view+json": {
              "version_major": 2,
              "version_minor": 0,
              "model_id": "75363d75a1de4484b4902525cca90ecd"
            }
          },
          "metadata": {}
        },
        {
          "output_type": "stream",
          "name": "stdout",
          "text": [
            "[Epoch 284]: -116.28\n"
          ]
        },
        {
          "output_type": "display_data",
          "data": {
            "text/plain": "  0%|          | 0/53 [00:00<?, ?it/s]",
            "application/vnd.jupyter.widget-view+json": {
              "version_major": 2,
              "version_minor": 0,
              "model_id": "ee8c500ee89c4561b4d95f46b8437e3c"
            }
          },
          "metadata": {}
        },
        {
          "output_type": "stream",
          "name": "stdout",
          "text": [
            "[Epoch 285]: -116.27\n"
          ]
        },
        {
          "output_type": "display_data",
          "data": {
            "text/plain": "  0%|          | 0/53 [00:00<?, ?it/s]",
            "application/vnd.jupyter.widget-view+json": {
              "version_major": 2,
              "version_minor": 0,
              "model_id": "ce88d25cd9984df7ab6721be4d84fd1c"
            }
          },
          "metadata": {}
        },
        {
          "output_type": "stream",
          "name": "stdout",
          "text": [
            "[Epoch 286]: -116.27\n"
          ]
        },
        {
          "output_type": "display_data",
          "data": {
            "text/plain": "  0%|          | 0/53 [00:00<?, ?it/s]",
            "application/vnd.jupyter.widget-view+json": {
              "version_major": 2,
              "version_minor": 0,
              "model_id": "a802119ec8d14dabb3418472e97dc08e"
            }
          },
          "metadata": {}
        },
        {
          "output_type": "stream",
          "name": "stdout",
          "text": [
            "[Epoch 287]: -116.27\n"
          ]
        },
        {
          "output_type": "display_data",
          "data": {
            "text/plain": "  0%|          | 0/53 [00:00<?, ?it/s]",
            "application/vnd.jupyter.widget-view+json": {
              "version_major": 2,
              "version_minor": 0,
              "model_id": "ef6ceceacdeb4fa58b6d9105db71e15c"
            }
          },
          "metadata": {}
        },
        {
          "output_type": "stream",
          "name": "stdout",
          "text": [
            "[Epoch 288]: -116.27\n"
          ]
        },
        {
          "output_type": "display_data",
          "data": {
            "text/plain": "  0%|          | 0/53 [00:00<?, ?it/s]",
            "application/vnd.jupyter.widget-view+json": {
              "version_major": 2,
              "version_minor": 0,
              "model_id": "1e335bc5bae142eea03757a0d0ddff2a"
            }
          },
          "metadata": {}
        },
        {
          "output_type": "stream",
          "name": "stdout",
          "text": [
            "[Epoch 289]: -116.27\n"
          ]
        },
        {
          "output_type": "display_data",
          "data": {
            "text/plain": "  0%|          | 0/53 [00:00<?, ?it/s]",
            "application/vnd.jupyter.widget-view+json": {
              "version_major": 2,
              "version_minor": 0,
              "model_id": "41c4f5d5e1bf4de286447e327cf6aec1"
            }
          },
          "metadata": {}
        },
        {
          "output_type": "stream",
          "name": "stdout",
          "text": [
            "[Epoch 290]: -116.27\n"
          ]
        },
        {
          "output_type": "display_data",
          "data": {
            "text/plain": "  0%|          | 0/53 [00:00<?, ?it/s]",
            "application/vnd.jupyter.widget-view+json": {
              "version_major": 2,
              "version_minor": 0,
              "model_id": "f23980e5940f4e65a8ca1cd124492745"
            }
          },
          "metadata": {}
        },
        {
          "output_type": "stream",
          "name": "stdout",
          "text": [
            "[Epoch 291]: -116.26\n"
          ]
        },
        {
          "output_type": "display_data",
          "data": {
            "text/plain": "  0%|          | 0/53 [00:00<?, ?it/s]",
            "application/vnd.jupyter.widget-view+json": {
              "version_major": 2,
              "version_minor": 0,
              "model_id": "6cecbce553494fbcbf7f71fbe2810a21"
            }
          },
          "metadata": {}
        },
        {
          "output_type": "stream",
          "name": "stdout",
          "text": [
            "[Epoch 292]: -116.26\n"
          ]
        },
        {
          "output_type": "display_data",
          "data": {
            "text/plain": "  0%|          | 0/53 [00:00<?, ?it/s]",
            "application/vnd.jupyter.widget-view+json": {
              "version_major": 2,
              "version_minor": 0,
              "model_id": "2b8020bf524a4369bb8fb3ea990708ee"
            }
          },
          "metadata": {}
        },
        {
          "output_type": "stream",
          "name": "stdout",
          "text": [
            "[Epoch 293]: -116.26\n"
          ]
        },
        {
          "output_type": "display_data",
          "data": {
            "text/plain": "  0%|          | 0/53 [00:00<?, ?it/s]",
            "application/vnd.jupyter.widget-view+json": {
              "version_major": 2,
              "version_minor": 0,
              "model_id": "13a4b658fcd846339d989f405dd90f25"
            }
          },
          "metadata": {}
        },
        {
          "output_type": "stream",
          "name": "stdout",
          "text": [
            "[Epoch 294]: -116.26\n"
          ]
        },
        {
          "output_type": "display_data",
          "data": {
            "text/plain": "  0%|          | 0/53 [00:00<?, ?it/s]",
            "application/vnd.jupyter.widget-view+json": {
              "version_major": 2,
              "version_minor": 0,
              "model_id": "b56311b388814fec93aa72d29af93947"
            }
          },
          "metadata": {}
        },
        {
          "output_type": "stream",
          "name": "stdout",
          "text": [
            "[Epoch 295]: -116.26\n"
          ]
        },
        {
          "output_type": "display_data",
          "data": {
            "text/plain": "  0%|          | 0/53 [00:00<?, ?it/s]",
            "application/vnd.jupyter.widget-view+json": {
              "version_major": 2,
              "version_minor": 0,
              "model_id": "f3f83b763e7f4d1d85df164d15cf7025"
            }
          },
          "metadata": {}
        },
        {
          "output_type": "stream",
          "name": "stdout",
          "text": [
            "[Epoch 296]: -116.26\n"
          ]
        },
        {
          "output_type": "display_data",
          "data": {
            "text/plain": "  0%|          | 0/53 [00:00<?, ?it/s]",
            "application/vnd.jupyter.widget-view+json": {
              "version_major": 2,
              "version_minor": 0,
              "model_id": "3155a03b4c7f4543bc9c1b88ebf2f43a"
            }
          },
          "metadata": {}
        },
        {
          "output_type": "stream",
          "name": "stdout",
          "text": [
            "[Epoch 297]: -116.26\n"
          ]
        },
        {
          "output_type": "display_data",
          "data": {
            "text/plain": "  0%|          | 0/53 [00:00<?, ?it/s]",
            "application/vnd.jupyter.widget-view+json": {
              "version_major": 2,
              "version_minor": 0,
              "model_id": "d046cfe42eff4ad88b770a505a12588a"
            }
          },
          "metadata": {}
        },
        {
          "output_type": "stream",
          "name": "stdout",
          "text": [
            "[Epoch 298]: -116.25\n"
          ]
        },
        {
          "output_type": "display_data",
          "data": {
            "text/plain": "  0%|          | 0/53 [00:00<?, ?it/s]",
            "application/vnd.jupyter.widget-view+json": {
              "version_major": 2,
              "version_minor": 0,
              "model_id": "d1a35645d1e843e6adb7914d34c24786"
            }
          },
          "metadata": {}
        },
        {
          "output_type": "stream",
          "name": "stdout",
          "text": [
            "[Epoch 299]: -116.25\n"
          ]
        },
        {
          "output_type": "display_data",
          "data": {
            "text/plain": "  0%|          | 0/53 [00:00<?, ?it/s]",
            "application/vnd.jupyter.widget-view+json": {
              "version_major": 2,
              "version_minor": 0,
              "model_id": "5fc9327838a843b48d6bcf5c5ded4620"
            }
          },
          "metadata": {}
        },
        {
          "output_type": "stream",
          "name": "stdout",
          "text": [
            "[Epoch 300]: -116.25\n"
          ]
        }
      ],
      "source": [
        "# Gradient Descent\n",
        "nb_epochs = 300\n",
        "lr = 0.001\n",
        "taxonomy_module.train(train_df_graph, nb_epochs, lr=lr, bal_coef=5, verbose=True)"
      ]
    },
    {
      "cell_type": "code",
      "execution_count": null,
      "metadata": {},
      "outputs": [],
      "source": [
        "plt.plot(taxonomy_module.losses);"
      ]
    },
    {
      "cell_type": "code",
      "metadata": {
        "colab": {
          "base_uri": "https://localhost:8080/"
        },
        "id": "I-xdd3GwHEeT",
        "outputId": "b4e9ad7b-0840-4371-9373-daf9062d55a2"
      },
      "source": [
        "print('f1_score: {:.3f}'.format(taxonomy_module.f1_score(train_df_graph)))"
      ],
      "execution_count": 26,
      "outputs": [
        {
          "output_type": "stream",
          "name": "stdout",
          "text": [
            "f1_score: 0.049\n"
          ]
        }
      ]
    },
    {
      "cell_type": "code",
      "metadata": {
        "colab": {
          "base_uri": "https://localhost:8080/",
          "height": 319
        },
        "id": "aRiK75LZAwoa",
        "outputId": "89b56d25-c771-475b-a139-d4ef460e48d1"
      },
      "source": [
        "taxonomy_module.infer_graph(train_words, verbose=True);"
      ],
      "execution_count": 14,
      "outputs": [
        {
          "output_type": "stream",
          "name": "stdout",
          "text": [
            "V_vertebrate_mammal 0.4898545843705258\nV_vertebrate_placental 0.5158416466237002\nV_vertebrate_cow 0.7588281223519827\nV_vertebrate_rodent 0.3439367819534665\nV_vertebrate_rat 0.7210155185447057\nV_vertebrate_marsupial 0.49291203162526137\nV_vertebrate_kangaroo 0.7204380236077863\nV_vertebrate_reptile 0.29491822060003514\nV_vertebrate_diapsid 0.3540284511888433\nV_vertebrate_squirrel 0.7128388155679172\nV_vertebrate_snake 0.6918738108939614\nV_vertebrate_crocodilian 0.7156164413235118\nV_vertebrate_turtle 0.6828708220105469\nV_mammal_vertebrate 0.0962300642862935\nV_mammal_placental 0.4018504091716907\nV_mammal_cow 0.664879737116402\nV_mammal_rodent 0.24844030030116462\nV_mammal_rat 0.6197190326538834\nV_mammal_marsupial 0.38001076740010786\nV_mammal_kangaroo 0.6190426774532644\nV_mammal_reptile 0.2087025266533324\nV_mammal_diapsid 0.2568268676533809\nV_mammal_squirrel 0.6101786487780618\nV_mammal_snake 0.5860707704404737\nV_mammal_crocodilian 0.6134107873760785\nV_mammal_turtle 0.5758715099053797\nV_placental_vertebrate 0.0875592024160918\nV_placental_mammal 0.35303830840780653\nV_placental_cow 0.6413301333385996\nV_placental_rodent 0.2295378363078538\nV_placental_rat 0.5949293502520376\nV_placental_marsupial 0.35583737992569114\nV_placental_kangaroo 0.5942377256235573\nV_placental_reptile 0.19205085891754448\nV_placental_diapsid 0.23748790482413573\nV_placental_squirrel 0.5851832636096648\nV_placental_snake 0.5606427053426563\nV_placental_crocodilian 0.5884828796057636\nV_placental_turtle 0.5502975752311209\nV_cow_vertebrate 0.03147180062261507\nV_cow_mammal 0.15596159600108456\nV_cow_placental 0.17014309546891268\nV_cow_rodent 0.09163772081843619\nV_cow_rat 0.33214567799417366\nV_cow_marsupial 0.15757875160253915\nV_cow_kangaroo 0.33150950533892426\nV_cow_reptile 0.07449438171722086\nV_cow_diapsid 0.09540301158760421\nV_cow_squirrel 0.3232688987806737\nV_cow_snake 0.30172293859953947\nV_cow_crocodilian 0.3262532045151702\nV_cow_turtle 0.2929696963946795\nV_rodent_vertebrate 0.05158458559214268\nV_rodent_mammal 0.2362279471887915\nV_rodent_placental 0.25549864409216616\nV_rodent_cow 0.5033449652676748\nV_rodent_rat 0.4542829038088797\nV_rodent_marsupial 0.2384422148142734\nV_rodent_kangaroo 0.4535716774298883\nV_rodent_reptile 0.11873119546057427\nV_rodent_diapsid 0.15004304673471824\nV_rodent_squirrel 0.4443135896120055\nV_rodent_snake 0.4197034111225055\nV_rodent_crocodilian 0.4476761430507308\nV_rodent_turtle 0.40953488165912216\nV_rat_vertebrate 0.010912504134144473\nV_rat_mammal 0.059034965734009175\nV_rat_placental 0.0650825725619098\nV_rat_cow 0.17052319319045087\nV_rat_rodent 0.033118355056850006\nV_rat_marsupial 0.0597181922551091\nV_rat_kangaroo 0.14021366580728561\nV_rat_reptile 0.026602050261286564\nV_rat_diapsid 0.03457067435412729\nV_rat_squirrel 0.13955663861321604\nV_rat_snake 0.1279402097226958\nV_rat_crocodilian 0.14119883991203583\nV_rat_turtle 0.12333806723023216\nV_marsupial_vertebrate 0.02849783933194881\nV_marsupial_mammal 0.14296024585961312\nV_marsupial_placental 0.15617830743452008\nV_marsupial_cow 0.3534141466489052\nV_marsupial_rodent 0.08346828463840383\nV_marsupial_rat 0.30984884215235475\nV_marsupial_kangaroo 0.30923561122948606\nV_marsupial_reptile 0.0677392800158776\nV_marsupial_diapsid 0.08693004961366539\nV_marsupial_squirrel 0.3012991745746363\nV_marsupial_snake 0.2806102741566168\nV_marsupial_crocodilian 0.30417182790008296\nV_marsupial_turtle 0.27223075185192375\nV_kangaroo_vertebrate 0.010943515223657323\nV_kangaroo_mammal 0.05919453850930016\nV_kangaroo_placental 0.0652573704632717\nV_kangaroo_cow 0.1709294234128714\nV_kangaroo_rodent 0.033210356600841644\nV_kangaroo_rat 0.1448206170050782\nV_kangaroo_marsupial 0.05810530272286587\nV_kangaroo_reptile 0.026676451461112454\nV_kangaroo_diapsid 0.034666555553311204\nV_kangaroo_squirrel 0.13990151891152744\nV_kangaroo_snake 0.12826066213983242\nV_kangaroo_crocodilian 0.14154707996670768\nV_kangaroo_turtle 0.12364861189366126\nV_reptile_vertebrate 0.06381927384954507\nV_reptile_mammal 0.2793564254851336\nV_reptile_placental 0.30076001548585735\nV_reptile_cow 0.5595155694990674\nV_reptile_rodent 0.17467237125778845\nV_reptile_rat 0.5106073348795406\nV_reptile_marsupial 0.28182586345279137\nV_reptile_kangaroo 0.5098902974892815\nV_reptile_diapsid 0.18116903113985908\nV_reptile_squirrel 0.5005356756203975\nV_reptile_snake 0.47547599669713236\nV_reptile_crocodilian 0.5039378132046924\nV_reptile_turtle 0.4650390492794103\nV_diapsid_vertebrate 0.04945413151545273\nV_diapsid_mammal 0.22830738662524594\nV_diapsid_placental 0.24714106941730904\nV_diapsid_cow 0.49224040901770616\nV_diapsid_rodent 0.13906165223173908\nV_diapsid_rat 0.4432945455478022\nV_diapsid_marsupial 0.2304698170216751\nV_diapsid_kangaroo 0.44258664534804215\nV_diapsid_reptile 0.11416137393409766\nV_diapsid_squirrel 0.4333749503300738\nV_diapsid_snake 0.40892474619775837\nV_diapsid_crocodilian 0.43671971909705526\nV_diapsid_turtle 0.39883787024765543\nV_squirrel_vertebrate 0.01135608331595992\nV_squirrel_mammal 0.061313387874676745\nV_squirrel_placental 0.06757765545323931\nV_squirrel_cow 0.17629834161589036\nV_squirrel_rodent 0.03443315365003931\nV_squirrel_rat 0.1495173297111394\nV_squirrel_marsupial 0.06202126000436625\nV_squirrel_kangaroo 0.14915285554965185\nV_squirrel_reptile 0.02766555471260623\nV_squirrel_diapsid 0.035940975890495615\nV_squirrel_snake 0.13250354043953863\nV_squirrel_crocodilian 0.14615580826389069\nV_squirrel_turtle 0.12776127354204067\nV_snake_vertebrate 0.012539371953956118\nV_snake_mammal 0.06734757044707117\nV_snake_placental 0.07417959979085294\nV_snake_cow 0.19134203534766484\nV_snake_rodent 0.03792879209213836\nV_snake_rat 0.16272729742563743\nV_snake_marsupial 0.06812004244239583\nV_snake_kangaroo 0.16233676807716374\nV_snake_reptile 0.030495848301139446\nV_snake_diapsid 0.03958341953052903\nV_snake_squirrel 0.1573118355129905\nV_snake_crocodilian 0.1591243232476752\nV_snake_turtle 0.13936404090636664\nV_crocodilian_vertebrate 0.01120430741463645\nV_crocodilian_mammal 0.06053479763316241\nV_crocodilian_placental 0.06672517197673114\nV_crocodilian_cow 0.17433078739552013\nV_crocodilian_rodent 0.0339835427892085\nV_crocodilian_rat 0.1477950306334094\nV_crocodilian_marsupial 0.06123426715286639\nV_crocodilian_kangaroo 0.14743405906513\nV_crocodilian_reptile 0.027301817328056668\nV_crocodilian_diapsid 0.035472408514115504\nV_crocodilian_squirrel 0.1427917644197821\nV_crocodilian_snake 0.13094705403682028\nV_crocodilian_turtle 0.12625242147905416\nV_turtle_vertebrate 0.01306889171013641\nV_turtle_mammal 0.07002741176118688\nV_turtle_placental 0.07710884337261305\nV_turtle_cow 0.19790881737093513\nV_turtle_rodent 0.039487587898968106\nV_turtle_rat 0.1685166583450478\nV_turtle_marsupial 0.07082829233783225\nV_turtle_kangaroo 0.16811504439883\nV_turtle_reptile 0.03175925384931033\nV_turtle_diapsid 0.041207305537543856\nV_turtle_squirrel 0.16294605672675144\nV_turtle_snake 0.149721517992673\nV_turtle_crocodilian 0.16481071969571545\n"
          ]
        },
        {
          "output_type": "display_data",
          "data": {
            "text/plain": "<Figure size 432x288 with 1 Axes>",
            "image/svg+xml": "<?xml version=\"1.0\" encoding=\"utf-8\" standalone=\"no\"?>\n<!DOCTYPE svg PUBLIC \"-//W3C//DTD SVG 1.1//EN\"\n  \"http://www.w3.org/Graphics/SVG/1.1/DTD/svg11.dtd\">\n<!-- Created with matplotlib (https://matplotlib.org/) -->\n<svg height=\"302.4pt\" version=\"1.1\" viewBox=\"0 0 446.4 302.4\" width=\"446.4pt\" xmlns=\"http://www.w3.org/2000/svg\" xmlns:xlink=\"http://www.w3.org/1999/xlink\">\n <metadata>\n  <rdf:RDF xmlns:cc=\"http://creativecommons.org/ns#\" xmlns:dc=\"http://purl.org/dc/elements/1.1/\" xmlns:rdf=\"http://www.w3.org/1999/02/22-rdf-syntax-ns#\">\n   <cc:Work>\n    <dc:type rdf:resource=\"http://purl.org/dc/dcmitype/StillImage\"/>\n    <dc:date>2021-03-08T22:43:33.522818</dc:date>\n    <dc:format>image/svg+xml</dc:format>\n    <dc:creator>\n     <cc:Agent>\n      <dc:title>Matplotlib v3.3.4, https://matplotlib.org/</dc:title>\n     </cc:Agent>\n    </dc:creator>\n   </cc:Work>\n  </rdf:RDF>\n </metadata>\n <defs>\n  <style type=\"text/css\">*{stroke-linecap:butt;stroke-linejoin:round;}</style>\n </defs>\n <g id=\"figure_1\">\n  <g id=\"patch_1\">\n   <path d=\"M 0 302.4 \nL 446.4 302.4 \nL 446.4 0 \nL 0 0 \nz\n\" style=\"fill:#ffffff;\"/>\n  </g>\n  <g id=\"axes_1\">\n   <g id=\"LineCollection_1\">\n    <path clip-path=\"url(#p2c27f9a22d)\" d=\"M 278.209341 235.503298 \nL 290.986821 242.029318 \n\" style=\"fill:none;stroke:#000000;\"/>\n    <path clip-path=\"url(#p2c27f9a22d)\" d=\"M 278.209341 235.503298 \nL 323.607048 257.441947 \n\" style=\"fill:none;stroke:#000000;\"/>\n    <path clip-path=\"url(#p2c27f9a22d)\" d=\"M 278.209341 235.503298 \nL 294.585991 215.53986 \n\" style=\"fill:none;stroke:#000000;\"/>\n    <path clip-path=\"url(#p2c27f9a22d)\" d=\"M 278.209341 235.503298 \nL 327.186357 234.707151 \n\" style=\"fill:none;stroke:#000000;\"/>\n    <path clip-path=\"url(#p2c27f9a22d)\" d=\"M 278.209341 235.503298 \nL 249.150144 233.194501 \n\" style=\"fill:none;stroke:#000000;\"/>\n    <path clip-path=\"url(#p2c27f9a22d)\" d=\"M 278.209341 235.503298 \nL 271.548536 267.459689 \n\" style=\"fill:none;stroke:#000000;\"/>\n    <path clip-path=\"url(#p2c27f9a22d)\" d=\"M 278.209341 235.503298 \nL 252.253728 250.583513 \n\" style=\"fill:none;stroke:#000000;\"/>\n    <path clip-path=\"url(#p2c27f9a22d)\" d=\"M 278.209341 235.503298 \nL 252.407331 218.715782 \n\" style=\"fill:none;stroke:#000000;\"/>\n    <path clip-path=\"url(#p2c27f9a22d)\" d=\"M 277.977767 246.392714 \nL 323.607048 257.441947 \n\" style=\"fill:none;stroke:#000000;\"/>\n    <path clip-path=\"url(#p2c27f9a22d)\" d=\"M 277.977767 246.392714 \nL 294.585991 215.53986 \n\" style=\"fill:none;stroke:#000000;\"/>\n    <path clip-path=\"url(#p2c27f9a22d)\" d=\"M 277.977767 246.392714 \nL 327.186357 234.707151 \n\" style=\"fill:none;stroke:#000000;\"/>\n    <path clip-path=\"url(#p2c27f9a22d)\" d=\"M 277.977767 246.392714 \nL 249.150144 233.194501 \n\" style=\"fill:none;stroke:#000000;\"/>\n    <path clip-path=\"url(#p2c27f9a22d)\" d=\"M 277.977767 246.392714 \nL 271.548536 267.459689 \n\" style=\"fill:none;stroke:#000000;\"/>\n    <path clip-path=\"url(#p2c27f9a22d)\" d=\"M 277.977767 246.392714 \nL 252.253728 250.583513 \n\" style=\"fill:none;stroke:#000000;\"/>\n    <path clip-path=\"url(#p2c27f9a22d)\" d=\"M 277.977767 246.392714 \nL 252.407331 218.715782 \n\" style=\"fill:none;stroke:#000000;\"/>\n    <path clip-path=\"url(#p2c27f9a22d)\" d=\"M 290.986821 242.029318 \nL 323.607048 257.441947 \n\" style=\"fill:none;stroke:#000000;\"/>\n    <path clip-path=\"url(#p2c27f9a22d)\" d=\"M 290.986821 242.029318 \nL 294.585991 215.53986 \n\" style=\"fill:none;stroke:#000000;\"/>\n    <path clip-path=\"url(#p2c27f9a22d)\" d=\"M 290.986821 242.029318 \nL 327.186357 234.707151 \n\" style=\"fill:none;stroke:#000000;\"/>\n    <path clip-path=\"url(#p2c27f9a22d)\" d=\"M 290.986821 242.029318 \nL 249.150144 233.194501 \n\" style=\"fill:none;stroke:#000000;\"/>\n    <path clip-path=\"url(#p2c27f9a22d)\" d=\"M 290.986821 242.029318 \nL 271.548536 267.459689 \n\" style=\"fill:none;stroke:#000000;\"/>\n    <path clip-path=\"url(#p2c27f9a22d)\" d=\"M 290.986821 242.029318 \nL 252.253728 250.583513 \n\" style=\"fill:none;stroke:#000000;\"/>\n    <path clip-path=\"url(#p2c27f9a22d)\" d=\"M 290.986821 242.029318 \nL 252.407331 218.715782 \n\" style=\"fill:none;stroke:#000000;\"/>\n    <path clip-path=\"url(#p2c27f9a22d)\" d=\"M 323.607048 257.441947 \nL 372.483138 282.109091 \n\" style=\"fill:none;stroke:#000000;\"/>\n    <path clip-path=\"url(#p2c27f9a22d)\" d=\"M 323.607048 257.441947 \nL 301.568508 231.367445 \n\" style=\"fill:none;stroke:#000000;\"/>\n    <path clip-path=\"url(#p2c27f9a22d)\" d=\"M 294.585991 215.53986 \nL 301.568508 231.367445 \n\" style=\"fill:none;stroke:#000000;\"/>\n    <path clip-path=\"url(#p2c27f9a22d)\" d=\"M 327.186357 234.707151 \nL 301.568508 231.367445 \n\" style=\"fill:none;stroke:#000000;\"/>\n    <path clip-path=\"url(#p2c27f9a22d)\" d=\"M 301.568508 231.367445 \nL 249.150144 233.194501 \n\" style=\"fill:none;stroke:#000000;\"/>\n    <path clip-path=\"url(#p2c27f9a22d)\" d=\"M 301.568508 231.367445 \nL 252.253728 250.583513 \n\" style=\"fill:none;stroke:#000000;\"/>\n   </g>\n   <g id=\"PathCollection_1\">\n    <defs>\n     <path d=\"M 0 8.660254 \nC 2.296726 8.660254 4.499694 7.747755 6.123724 6.123724 \nC 7.747755 4.499694 8.660254 2.296726 8.660254 0 \nC 8.660254 -2.296726 7.747755 -4.499694 6.123724 -6.123724 \nC 4.499694 -7.747755 2.296726 -8.660254 0 -8.660254 \nC -2.296726 -8.660254 -4.499694 -7.747755 -6.123724 -6.123724 \nC -7.747755 -4.499694 -8.660254 -2.296726 -8.660254 0 \nC -8.660254 2.296726 -7.747755 4.499694 -6.123724 6.123724 \nC -4.499694 7.747755 -2.296726 8.660254 0 8.660254 \nz\n\" id=\"mf116c4bfea\" style=\"stroke:#1f78b4;\"/>\n    </defs>\n    <g clip-path=\"url(#p2c27f9a22d)\">\n     <use style=\"fill:#1f78b4;stroke:#1f78b4;\" x=\"278.209341\" xlink:href=\"#mf116c4bfea\" y=\"235.503298\"/>\n     <use style=\"fill:#1f78b4;stroke:#1f78b4;\" x=\"277.977767\" xlink:href=\"#mf116c4bfea\" y=\"246.392714\"/>\n     <use style=\"fill:#1f78b4;stroke:#1f78b4;\" x=\"290.986821\" xlink:href=\"#mf116c4bfea\" y=\"242.029318\"/>\n     <use style=\"fill:#1f78b4;stroke:#1f78b4;\" x=\"323.607048\" xlink:href=\"#mf116c4bfea\" y=\"257.441947\"/>\n     <use style=\"fill:#1f78b4;stroke:#1f78b4;\" x=\"372.483138\" xlink:href=\"#mf116c4bfea\" y=\"282.109091\"/>\n     <use style=\"fill:#1f78b4;stroke:#1f78b4;\" x=\"294.585991\" xlink:href=\"#mf116c4bfea\" y=\"215.53986\"/>\n     <use style=\"fill:#1f78b4;stroke:#1f78b4;\" x=\"26.836364\" xlink:href=\"#mf116c4bfea\" y=\"79.057346\"/>\n     <use style=\"fill:#1f78b4;stroke:#1f78b4;\" x=\"327.186357\" xlink:href=\"#mf116c4bfea\" y=\"234.707151\"/>\n     <use style=\"fill:#1f78b4;stroke:#1f78b4;\" x=\"301.568508\" xlink:href=\"#mf116c4bfea\" y=\"231.367445\"/>\n     <use style=\"fill:#1f78b4;stroke:#1f78b4;\" x=\"419.563636\" xlink:href=\"#mf116c4bfea\" y=\"20.290909\"/>\n     <use style=\"fill:#1f78b4;stroke:#1f78b4;\" x=\"249.150144\" xlink:href=\"#mf116c4bfea\" y=\"233.194501\"/>\n     <use style=\"fill:#1f78b4;stroke:#1f78b4;\" x=\"271.548536\" xlink:href=\"#mf116c4bfea\" y=\"267.459689\"/>\n     <use style=\"fill:#1f78b4;stroke:#1f78b4;\" x=\"252.253728\" xlink:href=\"#mf116c4bfea\" y=\"250.583513\"/>\n     <use style=\"fill:#1f78b4;stroke:#1f78b4;\" x=\"252.407331\" xlink:href=\"#mf116c4bfea\" y=\"218.715782\"/>\n    </g>\n   </g>\n   <g id=\"text_1\">\n    <g clip-path=\"url(#p2c27f9a22d)\">\n     <!-- vertebrate -->\n     <g transform=\"translate(246.459028 238.814548)scale(0.12 -0.12)\">\n      <defs>\n       <path d=\"M 2.984375 54.6875 \nL 12.5 54.6875 \nL 29.59375 8.796875 \nL 46.6875 54.6875 \nL 56.203125 54.6875 \nL 35.6875 0 \nL 23.484375 0 \nz\n\" id=\"DejaVuSans-118\"/>\n       <path d=\"M 56.203125 29.59375 \nL 56.203125 25.203125 \nL 14.890625 25.203125 \nQ 15.484375 15.921875 20.484375 11.0625 \nQ 25.484375 6.203125 34.421875 6.203125 \nQ 39.59375 6.203125 44.453125 7.46875 \nQ 49.3125 8.734375 54.109375 11.28125 \nL 54.109375 2.78125 \nQ 49.265625 0.734375 44.1875 -0.34375 \nQ 39.109375 -1.421875 33.890625 -1.421875 \nQ 20.796875 -1.421875 13.15625 6.1875 \nQ 5.515625 13.8125 5.515625 26.8125 \nQ 5.515625 40.234375 12.765625 48.109375 \nQ 20.015625 56 32.328125 56 \nQ 43.359375 56 49.78125 48.890625 \nQ 56.203125 41.796875 56.203125 29.59375 \nz\nM 47.21875 32.234375 \nQ 47.125 39.59375 43.09375 43.984375 \nQ 39.0625 48.390625 32.421875 48.390625 \nQ 24.90625 48.390625 20.390625 44.140625 \nQ 15.875 39.890625 15.1875 32.171875 \nz\n\" id=\"DejaVuSans-101\"/>\n       <path d=\"M 41.109375 46.296875 \nQ 39.59375 47.171875 37.8125 47.578125 \nQ 36.03125 48 33.890625 48 \nQ 26.265625 48 22.1875 43.046875 \nQ 18.109375 38.09375 18.109375 28.8125 \nL 18.109375 0 \nL 9.078125 0 \nL 9.078125 54.6875 \nL 18.109375 54.6875 \nL 18.109375 46.1875 \nQ 20.953125 51.171875 25.484375 53.578125 \nQ 30.03125 56 36.53125 56 \nQ 37.453125 56 38.578125 55.875 \nQ 39.703125 55.765625 41.0625 55.515625 \nz\n\" id=\"DejaVuSans-114\"/>\n       <path d=\"M 18.3125 70.21875 \nL 18.3125 54.6875 \nL 36.8125 54.6875 \nL 36.8125 47.703125 \nL 18.3125 47.703125 \nL 18.3125 18.015625 \nQ 18.3125 11.328125 20.140625 9.421875 \nQ 21.96875 7.515625 27.59375 7.515625 \nL 36.8125 7.515625 \nL 36.8125 0 \nL 27.59375 0 \nQ 17.1875 0 13.234375 3.875 \nQ 9.28125 7.765625 9.28125 18.015625 \nL 9.28125 47.703125 \nL 2.6875 47.703125 \nL 2.6875 54.6875 \nL 9.28125 54.6875 \nL 9.28125 70.21875 \nz\n\" id=\"DejaVuSans-116\"/>\n       <path d=\"M 48.6875 27.296875 \nQ 48.6875 37.203125 44.609375 42.84375 \nQ 40.53125 48.484375 33.40625 48.484375 \nQ 26.265625 48.484375 22.1875 42.84375 \nQ 18.109375 37.203125 18.109375 27.296875 \nQ 18.109375 17.390625 22.1875 11.75 \nQ 26.265625 6.109375 33.40625 6.109375 \nQ 40.53125 6.109375 44.609375 11.75 \nQ 48.6875 17.390625 48.6875 27.296875 \nz\nM 18.109375 46.390625 \nQ 20.953125 51.265625 25.265625 53.625 \nQ 29.59375 56 35.59375 56 \nQ 45.5625 56 51.78125 48.09375 \nQ 58.015625 40.1875 58.015625 27.296875 \nQ 58.015625 14.40625 51.78125 6.484375 \nQ 45.5625 -1.421875 35.59375 -1.421875 \nQ 29.59375 -1.421875 25.265625 0.953125 \nQ 20.953125 3.328125 18.109375 8.203125 \nL 18.109375 0 \nL 9.078125 0 \nL 9.078125 75.984375 \nL 18.109375 75.984375 \nz\n\" id=\"DejaVuSans-98\"/>\n       <path d=\"M 34.28125 27.484375 \nQ 23.390625 27.484375 19.1875 25 \nQ 14.984375 22.515625 14.984375 16.5 \nQ 14.984375 11.71875 18.140625 8.90625 \nQ 21.296875 6.109375 26.703125 6.109375 \nQ 34.1875 6.109375 38.703125 11.40625 \nQ 43.21875 16.703125 43.21875 25.484375 \nL 43.21875 27.484375 \nz\nM 52.203125 31.203125 \nL 52.203125 0 \nL 43.21875 0 \nL 43.21875 8.296875 \nQ 40.140625 3.328125 35.546875 0.953125 \nQ 30.953125 -1.421875 24.3125 -1.421875 \nQ 15.921875 -1.421875 10.953125 3.296875 \nQ 6 8.015625 6 15.921875 \nQ 6 25.140625 12.171875 29.828125 \nQ 18.359375 34.515625 30.609375 34.515625 \nL 43.21875 34.515625 \nL 43.21875 35.40625 \nQ 43.21875 41.609375 39.140625 45 \nQ 35.0625 48.390625 27.6875 48.390625 \nQ 23 48.390625 18.546875 47.265625 \nQ 14.109375 46.140625 10.015625 43.890625 \nL 10.015625 52.203125 \nQ 14.9375 54.109375 19.578125 55.046875 \nQ 24.21875 56 28.609375 56 \nQ 40.484375 56 46.34375 49.84375 \nQ 52.203125 43.703125 52.203125 31.203125 \nz\n\" id=\"DejaVuSans-97\"/>\n      </defs>\n      <use xlink:href=\"#DejaVuSans-118\"/>\n      <use x=\"59.179688\" xlink:href=\"#DejaVuSans-101\"/>\n      <use x=\"120.703125\" xlink:href=\"#DejaVuSans-114\"/>\n      <use x=\"161.816406\" xlink:href=\"#DejaVuSans-116\"/>\n      <use x=\"201.025391\" xlink:href=\"#DejaVuSans-101\"/>\n      <use x=\"262.548828\" xlink:href=\"#DejaVuSans-98\"/>\n      <use x=\"326.025391\" xlink:href=\"#DejaVuSans-114\"/>\n      <use x=\"367.138672\" xlink:href=\"#DejaVuSans-97\"/>\n      <use x=\"428.417969\" xlink:href=\"#DejaVuSans-116\"/>\n      <use x=\"467.626953\" xlink:href=\"#DejaVuSans-101\"/>\n     </g>\n    </g>\n   </g>\n   <g id=\"text_2\">\n    <g clip-path=\"url(#p2c27f9a22d)\">\n     <!-- mammal -->\n     <g transform=\"translate(251.424017 249.703964)scale(0.12 -0.12)\">\n      <defs>\n       <path d=\"M 52 44.1875 \nQ 55.375 50.25 60.0625 53.125 \nQ 64.75 56 71.09375 56 \nQ 79.640625 56 84.28125 50.015625 \nQ 88.921875 44.046875 88.921875 33.015625 \nL 88.921875 0 \nL 79.890625 0 \nL 79.890625 32.71875 \nQ 79.890625 40.578125 77.09375 44.375 \nQ 74.3125 48.1875 68.609375 48.1875 \nQ 61.625 48.1875 57.5625 43.546875 \nQ 53.515625 38.921875 53.515625 30.90625 \nL 53.515625 0 \nL 44.484375 0 \nL 44.484375 32.71875 \nQ 44.484375 40.625 41.703125 44.40625 \nQ 38.921875 48.1875 33.109375 48.1875 \nQ 26.21875 48.1875 22.15625 43.53125 \nQ 18.109375 38.875 18.109375 30.90625 \nL 18.109375 0 \nL 9.078125 0 \nL 9.078125 54.6875 \nL 18.109375 54.6875 \nL 18.109375 46.1875 \nQ 21.1875 51.21875 25.484375 53.609375 \nQ 29.78125 56 35.6875 56 \nQ 41.65625 56 45.828125 52.96875 \nQ 50 49.953125 52 44.1875 \nz\n\" id=\"DejaVuSans-109\"/>\n       <path d=\"M 9.421875 75.984375 \nL 18.40625 75.984375 \nL 18.40625 0 \nL 9.421875 0 \nz\n\" id=\"DejaVuSans-108\"/>\n      </defs>\n      <use xlink:href=\"#DejaVuSans-109\"/>\n      <use x=\"97.412109\" xlink:href=\"#DejaVuSans-97\"/>\n      <use x=\"158.691406\" xlink:href=\"#DejaVuSans-109\"/>\n      <use x=\"256.103516\" xlink:href=\"#DejaVuSans-109\"/>\n      <use x=\"353.515625\" xlink:href=\"#DejaVuSans-97\"/>\n      <use x=\"414.794922\" xlink:href=\"#DejaVuSans-108\"/>\n     </g>\n    </g>\n   </g>\n   <g id=\"text_3\">\n    <g clip-path=\"url(#p2c27f9a22d)\">\n     <!-- placental -->\n     <g transform=\"translate(263.344634 245.340568)scale(0.12 -0.12)\">\n      <defs>\n       <path d=\"M 18.109375 8.203125 \nL 18.109375 -20.796875 \nL 9.078125 -20.796875 \nL 9.078125 54.6875 \nL 18.109375 54.6875 \nL 18.109375 46.390625 \nQ 20.953125 51.265625 25.265625 53.625 \nQ 29.59375 56 35.59375 56 \nQ 45.5625 56 51.78125 48.09375 \nQ 58.015625 40.1875 58.015625 27.296875 \nQ 58.015625 14.40625 51.78125 6.484375 \nQ 45.5625 -1.421875 35.59375 -1.421875 \nQ 29.59375 -1.421875 25.265625 0.953125 \nQ 20.953125 3.328125 18.109375 8.203125 \nz\nM 48.6875 27.296875 \nQ 48.6875 37.203125 44.609375 42.84375 \nQ 40.53125 48.484375 33.40625 48.484375 \nQ 26.265625 48.484375 22.1875 42.84375 \nQ 18.109375 37.203125 18.109375 27.296875 \nQ 18.109375 17.390625 22.1875 11.75 \nQ 26.265625 6.109375 33.40625 6.109375 \nQ 40.53125 6.109375 44.609375 11.75 \nQ 48.6875 17.390625 48.6875 27.296875 \nz\n\" id=\"DejaVuSans-112\"/>\n       <path d=\"M 48.78125 52.59375 \nL 48.78125 44.1875 \nQ 44.96875 46.296875 41.140625 47.34375 \nQ 37.3125 48.390625 33.40625 48.390625 \nQ 24.65625 48.390625 19.8125 42.84375 \nQ 14.984375 37.3125 14.984375 27.296875 \nQ 14.984375 17.28125 19.8125 11.734375 \nQ 24.65625 6.203125 33.40625 6.203125 \nQ 37.3125 6.203125 41.140625 7.25 \nQ 44.96875 8.296875 48.78125 10.40625 \nL 48.78125 2.09375 \nQ 45.015625 0.34375 40.984375 -0.53125 \nQ 36.96875 -1.421875 32.421875 -1.421875 \nQ 20.0625 -1.421875 12.78125 6.34375 \nQ 5.515625 14.109375 5.515625 27.296875 \nQ 5.515625 40.671875 12.859375 48.328125 \nQ 20.21875 56 33.015625 56 \nQ 37.15625 56 41.109375 55.140625 \nQ 45.0625 54.296875 48.78125 52.59375 \nz\n\" id=\"DejaVuSans-99\"/>\n       <path d=\"M 54.890625 33.015625 \nL 54.890625 0 \nL 45.90625 0 \nL 45.90625 32.71875 \nQ 45.90625 40.484375 42.875 44.328125 \nQ 39.84375 48.1875 33.796875 48.1875 \nQ 26.515625 48.1875 22.3125 43.546875 \nQ 18.109375 38.921875 18.109375 30.90625 \nL 18.109375 0 \nL 9.078125 0 \nL 9.078125 54.6875 \nL 18.109375 54.6875 \nL 18.109375 46.1875 \nQ 21.34375 51.125 25.703125 53.5625 \nQ 30.078125 56 35.796875 56 \nQ 45.21875 56 50.046875 50.171875 \nQ 54.890625 44.34375 54.890625 33.015625 \nz\n\" id=\"DejaVuSans-110\"/>\n      </defs>\n      <use xlink:href=\"#DejaVuSans-112\"/>\n      <use x=\"63.476562\" xlink:href=\"#DejaVuSans-108\"/>\n      <use x=\"91.259766\" xlink:href=\"#DejaVuSans-97\"/>\n      <use x=\"152.539062\" xlink:href=\"#DejaVuSans-99\"/>\n      <use x=\"207.519531\" xlink:href=\"#DejaVuSans-101\"/>\n      <use x=\"269.042969\" xlink:href=\"#DejaVuSans-110\"/>\n      <use x=\"332.421875\" xlink:href=\"#DejaVuSans-116\"/>\n      <use x=\"371.630859\" xlink:href=\"#DejaVuSans-97\"/>\n      <use x=\"432.910156\" xlink:href=\"#DejaVuSans-108\"/>\n     </g>\n    </g>\n   </g>\n   <g id=\"text_4\">\n    <g clip-path=\"url(#p2c27f9a22d)\">\n     <!-- cow -->\n     <g transform=\"translate(311.72986 260.753197)scale(0.12 -0.12)\">\n      <defs>\n       <path d=\"M 30.609375 48.390625 \nQ 23.390625 48.390625 19.1875 42.75 \nQ 14.984375 37.109375 14.984375 27.296875 \nQ 14.984375 17.484375 19.15625 11.84375 \nQ 23.34375 6.203125 30.609375 6.203125 \nQ 37.796875 6.203125 41.984375 11.859375 \nQ 46.1875 17.53125 46.1875 27.296875 \nQ 46.1875 37.015625 41.984375 42.703125 \nQ 37.796875 48.390625 30.609375 48.390625 \nz\nM 30.609375 56 \nQ 42.328125 56 49.015625 48.375 \nQ 55.71875 40.765625 55.71875 27.296875 \nQ 55.71875 13.875 49.015625 6.21875 \nQ 42.328125 -1.421875 30.609375 -1.421875 \nQ 18.84375 -1.421875 12.171875 6.21875 \nQ 5.515625 13.875 5.515625 27.296875 \nQ 5.515625 40.765625 12.171875 48.375 \nQ 18.84375 56 30.609375 56 \nz\n\" id=\"DejaVuSans-111\"/>\n       <path d=\"M 4.203125 54.6875 \nL 13.1875 54.6875 \nL 24.421875 12.015625 \nL 35.59375 54.6875 \nL 46.1875 54.6875 \nL 57.421875 12.015625 \nL 68.609375 54.6875 \nL 77.59375 54.6875 \nL 63.28125 0 \nL 52.6875 0 \nL 40.921875 44.828125 \nL 29.109375 0 \nL 18.5 0 \nz\n\" id=\"DejaVuSans-119\"/>\n      </defs>\n      <use xlink:href=\"#DejaVuSans-99\"/>\n      <use x=\"54.980469\" xlink:href=\"#DejaVuSans-111\"/>\n      <use x=\"116.162109\" xlink:href=\"#DejaVuSans-119\"/>\n     </g>\n    </g>\n   </g>\n   <g id=\"text_5\">\n    <g clip-path=\"url(#p2c27f9a22d)\">\n     <!-- rodent -->\n     <g transform=\"translate(352.8247 285.420341)scale(0.12 -0.12)\">\n      <defs>\n       <path d=\"M 45.40625 46.390625 \nL 45.40625 75.984375 \nL 54.390625 75.984375 \nL 54.390625 0 \nL 45.40625 0 \nL 45.40625 8.203125 \nQ 42.578125 3.328125 38.25 0.953125 \nQ 33.9375 -1.421875 27.875 -1.421875 \nQ 17.96875 -1.421875 11.734375 6.484375 \nQ 5.515625 14.40625 5.515625 27.296875 \nQ 5.515625 40.1875 11.734375 48.09375 \nQ 17.96875 56 27.875 56 \nQ 33.9375 56 38.25 53.625 \nQ 42.578125 51.265625 45.40625 46.390625 \nz\nM 14.796875 27.296875 \nQ 14.796875 17.390625 18.875 11.75 \nQ 22.953125 6.109375 30.078125 6.109375 \nQ 37.203125 6.109375 41.296875 11.75 \nQ 45.40625 17.390625 45.40625 27.296875 \nQ 45.40625 37.203125 41.296875 42.84375 \nQ 37.203125 48.484375 30.078125 48.484375 \nQ 22.953125 48.484375 18.875 42.84375 \nQ 14.796875 37.203125 14.796875 27.296875 \nz\n\" id=\"DejaVuSans-100\"/>\n      </defs>\n      <use xlink:href=\"#DejaVuSans-114\"/>\n      <use x=\"38.863281\" xlink:href=\"#DejaVuSans-111\"/>\n      <use x=\"100.044922\" xlink:href=\"#DejaVuSans-100\"/>\n      <use x=\"163.521484\" xlink:href=\"#DejaVuSans-101\"/>\n      <use x=\"225.044922\" xlink:href=\"#DejaVuSans-110\"/>\n      <use x=\"288.423828\" xlink:href=\"#DejaVuSans-116\"/>\n     </g>\n    </g>\n   </g>\n   <g id=\"text_6\">\n    <g clip-path=\"url(#p2c27f9a22d)\">\n     <!-- rat -->\n     <g transform=\"translate(286.090366 218.85111)scale(0.12 -0.12)\">\n      <use xlink:href=\"#DejaVuSans-114\"/>\n      <use x=\"41.113281\" xlink:href=\"#DejaVuSans-97\"/>\n      <use x=\"102.392578\" xlink:href=\"#DejaVuSans-116\"/>\n     </g>\n    </g>\n   </g>\n   <g id=\"text_7\">\n    <g clip-path=\"url(#p2c27f9a22d)\">\n     <!-- marsupial -->\n     <g transform=\"translate(-2.899261 82.368596)scale(0.12 -0.12)\">\n      <defs>\n       <path d=\"M 44.28125 53.078125 \nL 44.28125 44.578125 \nQ 40.484375 46.53125 36.375 47.5 \nQ 32.28125 48.484375 27.875 48.484375 \nQ 21.1875 48.484375 17.84375 46.4375 \nQ 14.5 44.390625 14.5 40.28125 \nQ 14.5 37.15625 16.890625 35.375 \nQ 19.28125 33.59375 26.515625 31.984375 \nL 29.59375 31.296875 \nQ 39.15625 29.25 43.1875 25.515625 \nQ 47.21875 21.78125 47.21875 15.09375 \nQ 47.21875 7.46875 41.1875 3.015625 \nQ 35.15625 -1.421875 24.609375 -1.421875 \nQ 20.21875 -1.421875 15.453125 -0.5625 \nQ 10.6875 0.296875 5.421875 2 \nL 5.421875 11.28125 \nQ 10.40625 8.6875 15.234375 7.390625 \nQ 20.0625 6.109375 24.8125 6.109375 \nQ 31.15625 6.109375 34.5625 8.28125 \nQ 37.984375 10.453125 37.984375 14.40625 \nQ 37.984375 18.0625 35.515625 20.015625 \nQ 33.0625 21.96875 24.703125 23.78125 \nL 21.578125 24.515625 \nQ 13.234375 26.265625 9.515625 29.90625 \nQ 5.8125 33.546875 5.8125 39.890625 \nQ 5.8125 47.609375 11.28125 51.796875 \nQ 16.75 56 26.8125 56 \nQ 31.78125 56 36.171875 55.265625 \nQ 40.578125 54.546875 44.28125 53.078125 \nz\n\" id=\"DejaVuSans-115\"/>\n       <path d=\"M 8.5 21.578125 \nL 8.5 54.6875 \nL 17.484375 54.6875 \nL 17.484375 21.921875 \nQ 17.484375 14.15625 20.5 10.265625 \nQ 23.53125 6.390625 29.59375 6.390625 \nQ 36.859375 6.390625 41.078125 11.03125 \nQ 45.3125 15.671875 45.3125 23.6875 \nL 45.3125 54.6875 \nL 54.296875 54.6875 \nL 54.296875 0 \nL 45.3125 0 \nL 45.3125 8.40625 \nQ 42.046875 3.421875 37.71875 1 \nQ 33.40625 -1.421875 27.6875 -1.421875 \nQ 18.265625 -1.421875 13.375 4.4375 \nQ 8.5 10.296875 8.5 21.578125 \nz\nM 31.109375 56 \nz\n\" id=\"DejaVuSans-117\"/>\n       <path d=\"M 9.421875 54.6875 \nL 18.40625 54.6875 \nL 18.40625 0 \nL 9.421875 0 \nz\nM 9.421875 75.984375 \nL 18.40625 75.984375 \nL 18.40625 64.59375 \nL 9.421875 64.59375 \nz\n\" id=\"DejaVuSans-105\"/>\n      </defs>\n      <use xlink:href=\"#DejaVuSans-109\"/>\n      <use x=\"97.412109\" xlink:href=\"#DejaVuSans-97\"/>\n      <use x=\"158.691406\" xlink:href=\"#DejaVuSans-114\"/>\n      <use x=\"199.804688\" xlink:href=\"#DejaVuSans-115\"/>\n      <use x=\"251.904297\" xlink:href=\"#DejaVuSans-117\"/>\n      <use x=\"315.283203\" xlink:href=\"#DejaVuSans-112\"/>\n      <use x=\"378.759766\" xlink:href=\"#DejaVuSans-105\"/>\n      <use x=\"406.542969\" xlink:href=\"#DejaVuSans-97\"/>\n      <use x=\"467.822266\" xlink:href=\"#DejaVuSans-108\"/>\n     </g>\n    </g>\n   </g>\n   <g id=\"text_8\">\n    <g clip-path=\"url(#p2c27f9a22d)\">\n     <!-- kangaroo -->\n     <g transform=\"translate(299.177607 238.018401)scale(0.12 -0.12)\">\n      <defs>\n       <path d=\"M 9.078125 75.984375 \nL 18.109375 75.984375 \nL 18.109375 31.109375 \nL 44.921875 54.6875 \nL 56.390625 54.6875 \nL 27.390625 29.109375 \nL 57.625 0 \nL 45.90625 0 \nL 18.109375 26.703125 \nL 18.109375 0 \nL 9.078125 0 \nz\n\" id=\"DejaVuSans-107\"/>\n       <path d=\"M 45.40625 27.984375 \nQ 45.40625 37.75 41.375 43.109375 \nQ 37.359375 48.484375 30.078125 48.484375 \nQ 22.859375 48.484375 18.828125 43.109375 \nQ 14.796875 37.75 14.796875 27.984375 \nQ 14.796875 18.265625 18.828125 12.890625 \nQ 22.859375 7.515625 30.078125 7.515625 \nQ 37.359375 7.515625 41.375 12.890625 \nQ 45.40625 18.265625 45.40625 27.984375 \nz\nM 54.390625 6.78125 \nQ 54.390625 -7.171875 48.1875 -13.984375 \nQ 42 -20.796875 29.203125 -20.796875 \nQ 24.46875 -20.796875 20.265625 -20.09375 \nQ 16.0625 -19.390625 12.109375 -17.921875 \nL 12.109375 -9.1875 \nQ 16.0625 -11.328125 19.921875 -12.34375 \nQ 23.78125 -13.375 27.78125 -13.375 \nQ 36.625 -13.375 41.015625 -8.765625 \nQ 45.40625 -4.15625 45.40625 5.171875 \nL 45.40625 9.625 \nQ 42.625 4.78125 38.28125 2.390625 \nQ 33.9375 0 27.875 0 \nQ 17.828125 0 11.671875 7.65625 \nQ 5.515625 15.328125 5.515625 27.984375 \nQ 5.515625 40.671875 11.671875 48.328125 \nQ 17.828125 56 27.875 56 \nQ 33.9375 56 38.28125 53.609375 \nQ 42.625 51.21875 45.40625 46.390625 \nL 45.40625 54.6875 \nL 54.390625 54.6875 \nz\n\" id=\"DejaVuSans-103\"/>\n      </defs>\n      <use xlink:href=\"#DejaVuSans-107\"/>\n      <use x=\"56.160156\" xlink:href=\"#DejaVuSans-97\"/>\n      <use x=\"117.439453\" xlink:href=\"#DejaVuSans-110\"/>\n      <use x=\"180.818359\" xlink:href=\"#DejaVuSans-103\"/>\n      <use x=\"244.294922\" xlink:href=\"#DejaVuSans-97\"/>\n      <use x=\"305.574219\" xlink:href=\"#DejaVuSans-114\"/>\n      <use x=\"344.4375\" xlink:href=\"#DejaVuSans-111\"/>\n      <use x=\"405.619141\" xlink:href=\"#DejaVuSans-111\"/>\n     </g>\n    </g>\n   </g>\n   <g id=\"text_9\">\n    <g clip-path=\"url(#p2c27f9a22d)\">\n     <!-- reptile -->\n     <g transform=\"translate(282.358196 234.678695)scale(0.12 -0.12)\">\n      <use xlink:href=\"#DejaVuSans-114\"/>\n      <use x=\"38.863281\" xlink:href=\"#DejaVuSans-101\"/>\n      <use x=\"100.386719\" xlink:href=\"#DejaVuSans-112\"/>\n      <use x=\"163.863281\" xlink:href=\"#DejaVuSans-116\"/>\n      <use x=\"203.072266\" xlink:href=\"#DejaVuSans-105\"/>\n      <use x=\"230.855469\" xlink:href=\"#DejaVuSans-108\"/>\n      <use x=\"258.638672\" xlink:href=\"#DejaVuSans-101\"/>\n     </g>\n    </g>\n   </g>\n   <g id=\"text_10\">\n    <g clip-path=\"url(#p2c27f9a22d)\">\n     <!-- diapsid -->\n     <g transform=\"translate(398.000199 23.602159)scale(0.12 -0.12)\">\n      <use xlink:href=\"#DejaVuSans-100\"/>\n      <use x=\"63.476562\" xlink:href=\"#DejaVuSans-105\"/>\n      <use x=\"91.259766\" xlink:href=\"#DejaVuSans-97\"/>\n      <use x=\"152.539062\" xlink:href=\"#DejaVuSans-112\"/>\n      <use x=\"216.015625\" xlink:href=\"#DejaVuSans-115\"/>\n      <use x=\"268.115234\" xlink:href=\"#DejaVuSans-105\"/>\n      <use x=\"295.898438\" xlink:href=\"#DejaVuSans-100\"/>\n     </g>\n    </g>\n   </g>\n   <g id=\"text_11\">\n    <g clip-path=\"url(#p2c27f9a22d)\">\n     <!-- squirrel -->\n     <g transform=\"translate(226.694207 236.505751)scale(0.12 -0.12)\">\n      <defs>\n       <path d=\"M 14.796875 27.296875 \nQ 14.796875 17.390625 18.875 11.75 \nQ 22.953125 6.109375 30.078125 6.109375 \nQ 37.203125 6.109375 41.296875 11.75 \nQ 45.40625 17.390625 45.40625 27.296875 \nQ 45.40625 37.203125 41.296875 42.84375 \nQ 37.203125 48.484375 30.078125 48.484375 \nQ 22.953125 48.484375 18.875 42.84375 \nQ 14.796875 37.203125 14.796875 27.296875 \nz\nM 45.40625 8.203125 \nQ 42.578125 3.328125 38.25 0.953125 \nQ 33.9375 -1.421875 27.875 -1.421875 \nQ 17.96875 -1.421875 11.734375 6.484375 \nQ 5.515625 14.40625 5.515625 27.296875 \nQ 5.515625 40.1875 11.734375 48.09375 \nQ 17.96875 56 27.875 56 \nQ 33.9375 56 38.25 53.625 \nQ 42.578125 51.265625 45.40625 46.390625 \nL 45.40625 54.6875 \nL 54.390625 54.6875 \nL 54.390625 -20.796875 \nL 45.40625 -20.796875 \nz\n\" id=\"DejaVuSans-113\"/>\n      </defs>\n      <use xlink:href=\"#DejaVuSans-115\"/>\n      <use x=\"52.099609\" xlink:href=\"#DejaVuSans-113\"/>\n      <use x=\"115.576172\" xlink:href=\"#DejaVuSans-117\"/>\n      <use x=\"178.955078\" xlink:href=\"#DejaVuSans-105\"/>\n      <use x=\"206.738281\" xlink:href=\"#DejaVuSans-114\"/>\n      <use x=\"246.101562\" xlink:href=\"#DejaVuSans-114\"/>\n      <use x=\"284.964844\" xlink:href=\"#DejaVuSans-101\"/>\n      <use x=\"346.488281\" xlink:href=\"#DejaVuSans-108\"/>\n     </g>\n    </g>\n   </g>\n   <g id=\"text_12\">\n    <g clip-path=\"url(#p2c27f9a22d)\">\n     <!-- snake -->\n     <g transform=\"translate(253.994786 270.770939)scale(0.12 -0.12)\">\n      <use xlink:href=\"#DejaVuSans-115\"/>\n      <use x=\"52.099609\" xlink:href=\"#DejaVuSans-110\"/>\n      <use x=\"115.478516\" xlink:href=\"#DejaVuSans-97\"/>\n      <use x=\"176.757812\" xlink:href=\"#DejaVuSans-107\"/>\n      <use x=\"231.042969\" xlink:href=\"#DejaVuSans-101\"/>\n     </g>\n    </g>\n   </g>\n   <g id=\"text_13\">\n    <g clip-path=\"url(#p2c27f9a22d)\">\n     <!-- crocodilian -->\n     <g transform=\"translate(219.692478 253.894763)scale(0.12 -0.12)\">\n      <use xlink:href=\"#DejaVuSans-99\"/>\n      <use x=\"54.980469\" xlink:href=\"#DejaVuSans-114\"/>\n      <use x=\"93.84375\" xlink:href=\"#DejaVuSans-111\"/>\n      <use x=\"155.025391\" xlink:href=\"#DejaVuSans-99\"/>\n      <use x=\"210.005859\" xlink:href=\"#DejaVuSans-111\"/>\n      <use x=\"271.1875\" xlink:href=\"#DejaVuSans-100\"/>\n      <use x=\"334.664062\" xlink:href=\"#DejaVuSans-105\"/>\n      <use x=\"362.447266\" xlink:href=\"#DejaVuSans-108\"/>\n      <use x=\"390.230469\" xlink:href=\"#DejaVuSans-105\"/>\n      <use x=\"418.013672\" xlink:href=\"#DejaVuSans-97\"/>\n      <use x=\"479.292969\" xlink:href=\"#DejaVuSans-110\"/>\n     </g>\n    </g>\n   </g>\n   <g id=\"text_14\">\n    <g clip-path=\"url(#p2c27f9a22d)\">\n     <!-- turtle -->\n     <g transform=\"translate(236.075144 222.027032)scale(0.12 -0.12)\">\n      <use xlink:href=\"#DejaVuSans-116\"/>\n      <use x=\"39.208984\" xlink:href=\"#DejaVuSans-117\"/>\n      <use x=\"102.587891\" xlink:href=\"#DejaVuSans-114\"/>\n      <use x=\"143.701172\" xlink:href=\"#DejaVuSans-116\"/>\n      <use x=\"182.910156\" xlink:href=\"#DejaVuSans-108\"/>\n      <use x=\"210.693359\" xlink:href=\"#DejaVuSans-101\"/>\n     </g>\n    </g>\n   </g>\n  </g>\n </g>\n <defs>\n  <clipPath id=\"p2c27f9a22d\">\n   <rect height=\"288\" width=\"432\" x=\"7.2\" y=\"7.2\"/>\n  </clipPath>\n </defs>\n</svg>\n",
            "image/png": "[encoded data removed]"
          },
          "metadata": {}
        }
      ]
    },
    {
      "cell_type": "code",
      "metadata": {
        "colab": {
          "base_uri": "https://localhost:8080/",
          "height": 319
        },
        "id": "qCM_bPzuK9B1",
        "outputId": "bdda0ee9-27e1-414e-fb88-0ed6fc91ab04"
      },
      "source": [
        "taxonomy_module.infer_graph(train_df_graph);"
      ],
      "execution_count": 15,
      "outputs": [
        {
          "output_type": "display_data",
          "data": {
            "text/plain": "<Figure size 432x288 with 1 Axes>",
            "image/svg+xml": "<?xml version=\"1.0\" encoding=\"utf-8\" standalone=\"no\"?>\n<!DOCTYPE svg PUBLIC \"-//W3C//DTD SVG 1.1//EN\"\n  \"http://www.w3.org/Graphics/SVG/1.1/DTD/svg11.dtd\">\n<!-- Created with matplotlib (https://matplotlib.org/) -->\n<svg height=\"302.4pt\" version=\"1.1\" viewBox=\"0 0 446.4 302.4\" width=\"446.4pt\" xmlns=\"http://www.w3.org/2000/svg\" xmlns:xlink=\"http://www.w3.org/1999/xlink\">\n <metadata>\n  <rdf:RDF xmlns:cc=\"http://creativecommons.org/ns#\" xmlns:dc=\"http://purl.org/dc/elements/1.1/\" xmlns:rdf=\"http://www.w3.org/1999/02/22-rdf-syntax-ns#\">\n   <cc:Work>\n    <dc:type rdf:resource=\"http://purl.org/dc/dcmitype/StillImage\"/>\n    <dc:date>2021-03-08T21:35:10.863206</dc:date>\n    <dc:format>image/svg+xml</dc:format>\n    <dc:creator>\n     <cc:Agent>\n      <dc:title>Matplotlib v3.3.4, https://matplotlib.org/</dc:title>\n     </cc:Agent>\n    </dc:creator>\n   </cc:Work>\n  </rdf:RDF>\n </metadata>\n <defs>\n  <style type=\"text/css\">*{stroke-linecap:butt;stroke-linejoin:round;}</style>\n </defs>\n <g id=\"figure_1\">\n  <g id=\"patch_1\">\n   <path d=\"M 0 302.4 \nL 446.4 302.4 \nL 446.4 0 \nL 0 0 \nz\n\" style=\"fill:#ffffff;\"/>\n  </g>\n  <g id=\"axes_1\">\n   <g id=\"LineCollection_1\">\n    <path clip-path=\"url(#p3178116612)\" d=\"M 142.015417 254.635392 \nL 105.516875 252.009388 \n\" style=\"fill:none;stroke:#000000;\"/>\n    <path clip-path=\"url(#p3178116612)\" d=\"M 142.015417 254.635392 \nL 192.462482 282.109091 \n\" style=\"fill:none;stroke:#000000;\"/>\n    <path clip-path=\"url(#p3178116612)\" d=\"M 142.015417 254.635392 \nL 100.516237 228.093856 \n\" style=\"fill:none;stroke:#000000;\"/>\n    <path clip-path=\"url(#p3178116612)\" d=\"M 142.015417 254.635392 \nL 97.495032 239.260687 \n\" style=\"fill:none;stroke:#000000;\"/>\n    <path clip-path=\"url(#p3178116612)\" d=\"M 142.015417 254.635392 \nL 127.824321 223.78108 \n\" style=\"fill:none;stroke:#000000;\"/>\n    <path clip-path=\"url(#p3178116612)\" d=\"M 142.015417 254.635392 \nL 171.59664 238.082643 \n\" style=\"fill:none;stroke:#000000;\"/>\n    <path clip-path=\"url(#p3178116612)\" d=\"M 142.015417 254.635392 \nL 132.837018 240.756132 \n\" style=\"fill:none;stroke:#000000;\"/>\n    <path clip-path=\"url(#p3178116612)\" d=\"M 142.015417 254.635392 \nL 125.3908 249.342916 \n\" style=\"fill:none;stroke:#000000;\"/>\n    <path clip-path=\"url(#p3178116612)\" d=\"M 142.015417 254.635392 \nL 99.73982 267.977156 \n\" style=\"fill:none;stroke:#000000;\"/>\n    <path clip-path=\"url(#p3178116612)\" d=\"M 142.015417 254.635392 \nL 135.079175 274.522174 \n\" style=\"fill:none;stroke:#000000;\"/>\n    <path clip-path=\"url(#p3178116612)\" d=\"M 66.243528 248.694466 \nL 105.516875 252.009388 \n\" style=\"fill:none;stroke:#000000;\"/>\n    <path clip-path=\"url(#p3178116612)\" d=\"M 66.243528 248.694466 \nL 100.516237 228.093856 \n\" style=\"fill:none;stroke:#000000;\"/>\n    <path clip-path=\"url(#p3178116612)\" d=\"M 66.243528 248.694466 \nL 97.495032 239.260687 \n\" style=\"fill:none;stroke:#000000;\"/>\n    <path clip-path=\"url(#p3178116612)\" d=\"M 66.243528 248.694466 \nL 99.73982 267.977156 \n\" style=\"fill:none;stroke:#000000;\"/>\n    <path clip-path=\"url(#p3178116612)\" d=\"M 105.516875 252.009388 \nL 100.516237 228.093856 \n\" style=\"fill:none;stroke:#000000;\"/>\n    <path clip-path=\"url(#p3178116612)\" d=\"M 105.516875 252.009388 \nL 97.495032 239.260687 \n\" style=\"fill:none;stroke:#000000;\"/>\n    <path clip-path=\"url(#p3178116612)\" d=\"M 105.516875 252.009388 \nL 125.3908 249.342916 \n\" style=\"fill:none;stroke:#000000;\"/>\n    <path clip-path=\"url(#p3178116612)\" d=\"M 105.516875 252.009388 \nL 99.73982 267.977156 \n\" style=\"fill:none;stroke:#000000;\"/>\n    <path clip-path=\"url(#p3178116612)\" d=\"M 105.516875 252.009388 \nL 135.079175 274.522174 \n\" style=\"fill:none;stroke:#000000;\"/>\n    <path clip-path=\"url(#p3178116612)\" d=\"M 105.516875 252.009388 \nL 127.824321 223.78108 \n\" style=\"fill:none;stroke:#000000;\"/>\n    <path clip-path=\"url(#p3178116612)\" d=\"M 105.516875 252.009388 \nL 132.837018 240.756132 \n\" style=\"fill:none;stroke:#000000;\"/>\n    <path clip-path=\"url(#p3178116612)\" d=\"M 100.516237 228.093856 \nL 132.837018 240.756132 \n\" style=\"fill:none;stroke:#000000;\"/>\n    <path clip-path=\"url(#p3178116612)\" d=\"M 100.516237 228.093856 \nL 125.3908 249.342916 \n\" style=\"fill:none;stroke:#000000;\"/>\n    <path clip-path=\"url(#p3178116612)\" d=\"M 97.495032 239.260687 \nL 127.824321 223.78108 \n\" style=\"fill:none;stroke:#000000;\"/>\n    <path clip-path=\"url(#p3178116612)\" d=\"M 97.495032 239.260687 \nL 132.837018 240.756132 \n\" style=\"fill:none;stroke:#000000;\"/>\n    <path clip-path=\"url(#p3178116612)\" d=\"M 97.495032 239.260687 \nL 125.3908 249.342916 \n\" style=\"fill:none;stroke:#000000;\"/>\n    <path clip-path=\"url(#p3178116612)\" d=\"M 127.824321 223.78108 \nL 132.837018 240.756132 \n\" style=\"fill:none;stroke:#000000;\"/>\n    <path clip-path=\"url(#p3178116612)\" d=\"M 127.824321 223.78108 \nL 125.3908 249.342916 \n\" style=\"fill:none;stroke:#000000;\"/>\n    <path clip-path=\"url(#p3178116612)\" d=\"M 171.59664 238.082643 \nL 132.837018 240.756132 \n\" style=\"fill:none;stroke:#000000;\"/>\n    <path clip-path=\"url(#p3178116612)\" d=\"M 171.59664 238.082643 \nL 125.3908 249.342916 \n\" style=\"fill:none;stroke:#000000;\"/>\n    <path clip-path=\"url(#p3178116612)\" d=\"M 132.837018 240.756132 \nL 125.3908 249.342916 \n\" style=\"fill:none;stroke:#000000;\"/>\n    <path clip-path=\"url(#p3178116612)\" d=\"M 132.837018 240.756132 \nL 99.73982 267.977156 \n\" style=\"fill:none;stroke:#000000;\"/>\n    <path clip-path=\"url(#p3178116612)\" d=\"M 132.837018 240.756132 \nL 135.079175 274.522174 \n\" style=\"fill:none;stroke:#000000;\"/>\n    <path clip-path=\"url(#p3178116612)\" d=\"M 125.3908 249.342916 \nL 99.73982 267.977156 \n\" style=\"fill:none;stroke:#000000;\"/>\n    <path clip-path=\"url(#p3178116612)\" d=\"M 125.3908 249.342916 \nL 135.079175 274.522174 \n\" style=\"fill:none;stroke:#000000;\"/>\n   </g>\n   <g id=\"PathCollection_1\">\n    <defs>\n     <path d=\"M 0 8.660254 \nC 2.296726 8.660254 4.499694 7.747755 6.123724 6.123724 \nC 7.747755 4.499694 8.660254 2.296726 8.660254 0 \nC 8.660254 -2.296726 7.747755 -4.499694 6.123724 -6.123724 \nC 4.499694 -7.747755 2.296726 -8.660254 0 -8.660254 \nC -2.296726 -8.660254 -4.499694 -7.747755 -6.123724 -6.123724 \nC -7.747755 -4.499694 -8.660254 -2.296726 -8.660254 0 \nC -8.660254 2.296726 -7.747755 4.499694 -6.123724 6.123724 \nC -4.499694 7.747755 -2.296726 8.660254 0 8.660254 \nz\n\" id=\"m8d67ebd611\" style=\"stroke:#1f78b4;\"/>\n    </defs>\n    <g clip-path=\"url(#p3178116612)\">\n     <use style=\"fill:#1f78b4;stroke:#1f78b4;\" x=\"142.015417\" xlink:href=\"#m8d67ebd611\" y=\"254.635392\"/>\n     <use style=\"fill:#1f78b4;stroke:#1f78b4;\" x=\"66.243528\" xlink:href=\"#m8d67ebd611\" y=\"248.694466\"/>\n     <use style=\"fill:#1f78b4;stroke:#1f78b4;\" x=\"105.516875\" xlink:href=\"#m8d67ebd611\" y=\"252.009388\"/>\n     <use style=\"fill:#1f78b4;stroke:#1f78b4;\" x=\"192.462482\" xlink:href=\"#m8d67ebd611\" y=\"282.109091\"/>\n     <use style=\"fill:#1f78b4;stroke:#1f78b4;\" x=\"100.516237\" xlink:href=\"#m8d67ebd611\" y=\"228.093856\"/>\n     <use style=\"fill:#1f78b4;stroke:#1f78b4;\" x=\"97.495032\" xlink:href=\"#m8d67ebd611\" y=\"239.260687\"/>\n     <use style=\"fill:#1f78b4;stroke:#1f78b4;\" x=\"127.824321\" xlink:href=\"#m8d67ebd611\" y=\"223.78108\"/>\n     <use style=\"fill:#1f78b4;stroke:#1f78b4;\" x=\"171.59664\" xlink:href=\"#m8d67ebd611\" y=\"238.082643\"/>\n     <use style=\"fill:#1f78b4;stroke:#1f78b4;\" x=\"132.837018\" xlink:href=\"#m8d67ebd611\" y=\"240.756132\"/>\n     <use style=\"fill:#1f78b4;stroke:#1f78b4;\" x=\"125.3908\" xlink:href=\"#m8d67ebd611\" y=\"249.342916\"/>\n     <use style=\"fill:#1f78b4;stroke:#1f78b4;\" x=\"99.73982\" xlink:href=\"#m8d67ebd611\" y=\"267.977156\"/>\n     <use style=\"fill:#1f78b4;stroke:#1f78b4;\" x=\"135.079175\" xlink:href=\"#m8d67ebd611\" y=\"274.522174\"/>\n     <use style=\"fill:#1f78b4;stroke:#1f78b4;\" x=\"26.836364\" xlink:href=\"#m8d67ebd611\" y=\"20.290909\"/>\n     <use style=\"fill:#1f78b4;stroke:#1f78b4;\" x=\"419.563636\" xlink:href=\"#m8d67ebd611\" y=\"200.013975\"/>\n    </g>\n   </g>\n   <g id=\"text_1\">\n    <g clip-path=\"url(#p3178116612)\">\n     <!-- vertebrate -->\n     <g transform=\"translate(110.265104 257.946642)scale(0.12 -0.12)\">\n      <defs>\n       <path d=\"M 2.984375 54.6875 \nL 12.5 54.6875 \nL 29.59375 8.796875 \nL 46.6875 54.6875 \nL 56.203125 54.6875 \nL 35.6875 0 \nL 23.484375 0 \nz\n\" id=\"DejaVuSans-118\"/>\n       <path d=\"M 56.203125 29.59375 \nL 56.203125 25.203125 \nL 14.890625 25.203125 \nQ 15.484375 15.921875 20.484375 11.0625 \nQ 25.484375 6.203125 34.421875 6.203125 \nQ 39.59375 6.203125 44.453125 7.46875 \nQ 49.3125 8.734375 54.109375 11.28125 \nL 54.109375 2.78125 \nQ 49.265625 0.734375 44.1875 -0.34375 \nQ 39.109375 -1.421875 33.890625 -1.421875 \nQ 20.796875 -1.421875 13.15625 6.1875 \nQ 5.515625 13.8125 5.515625 26.8125 \nQ 5.515625 40.234375 12.765625 48.109375 \nQ 20.015625 56 32.328125 56 \nQ 43.359375 56 49.78125 48.890625 \nQ 56.203125 41.796875 56.203125 29.59375 \nz\nM 47.21875 32.234375 \nQ 47.125 39.59375 43.09375 43.984375 \nQ 39.0625 48.390625 32.421875 48.390625 \nQ 24.90625 48.390625 20.390625 44.140625 \nQ 15.875 39.890625 15.1875 32.171875 \nz\n\" id=\"DejaVuSans-101\"/>\n       <path d=\"M 41.109375 46.296875 \nQ 39.59375 47.171875 37.8125 47.578125 \nQ 36.03125 48 33.890625 48 \nQ 26.265625 48 22.1875 43.046875 \nQ 18.109375 38.09375 18.109375 28.8125 \nL 18.109375 0 \nL 9.078125 0 \nL 9.078125 54.6875 \nL 18.109375 54.6875 \nL 18.109375 46.1875 \nQ 20.953125 51.171875 25.484375 53.578125 \nQ 30.03125 56 36.53125 56 \nQ 37.453125 56 38.578125 55.875 \nQ 39.703125 55.765625 41.0625 55.515625 \nz\n\" id=\"DejaVuSans-114\"/>\n       <path d=\"M 18.3125 70.21875 \nL 18.3125 54.6875 \nL 36.8125 54.6875 \nL 36.8125 47.703125 \nL 18.3125 47.703125 \nL 18.3125 18.015625 \nQ 18.3125 11.328125 20.140625 9.421875 \nQ 21.96875 7.515625 27.59375 7.515625 \nL 36.8125 7.515625 \nL 36.8125 0 \nL 27.59375 0 \nQ 17.1875 0 13.234375 3.875 \nQ 9.28125 7.765625 9.28125 18.015625 \nL 9.28125 47.703125 \nL 2.6875 47.703125 \nL 2.6875 54.6875 \nL 9.28125 54.6875 \nL 9.28125 70.21875 \nz\n\" id=\"DejaVuSans-116\"/>\n       <path d=\"M 48.6875 27.296875 \nQ 48.6875 37.203125 44.609375 42.84375 \nQ 40.53125 48.484375 33.40625 48.484375 \nQ 26.265625 48.484375 22.1875 42.84375 \nQ 18.109375 37.203125 18.109375 27.296875 \nQ 18.109375 17.390625 22.1875 11.75 \nQ 26.265625 6.109375 33.40625 6.109375 \nQ 40.53125 6.109375 44.609375 11.75 \nQ 48.6875 17.390625 48.6875 27.296875 \nz\nM 18.109375 46.390625 \nQ 20.953125 51.265625 25.265625 53.625 \nQ 29.59375 56 35.59375 56 \nQ 45.5625 56 51.78125 48.09375 \nQ 58.015625 40.1875 58.015625 27.296875 \nQ 58.015625 14.40625 51.78125 6.484375 \nQ 45.5625 -1.421875 35.59375 -1.421875 \nQ 29.59375 -1.421875 25.265625 0.953125 \nQ 20.953125 3.328125 18.109375 8.203125 \nL 18.109375 0 \nL 9.078125 0 \nL 9.078125 75.984375 \nL 18.109375 75.984375 \nz\n\" id=\"DejaVuSans-98\"/>\n       <path d=\"M 34.28125 27.484375 \nQ 23.390625 27.484375 19.1875 25 \nQ 14.984375 22.515625 14.984375 16.5 \nQ 14.984375 11.71875 18.140625 8.90625 \nQ 21.296875 6.109375 26.703125 6.109375 \nQ 34.1875 6.109375 38.703125 11.40625 \nQ 43.21875 16.703125 43.21875 25.484375 \nL 43.21875 27.484375 \nz\nM 52.203125 31.203125 \nL 52.203125 0 \nL 43.21875 0 \nL 43.21875 8.296875 \nQ 40.140625 3.328125 35.546875 0.953125 \nQ 30.953125 -1.421875 24.3125 -1.421875 \nQ 15.921875 -1.421875 10.953125 3.296875 \nQ 6 8.015625 6 15.921875 \nQ 6 25.140625 12.171875 29.828125 \nQ 18.359375 34.515625 30.609375 34.515625 \nL 43.21875 34.515625 \nL 43.21875 35.40625 \nQ 43.21875 41.609375 39.140625 45 \nQ 35.0625 48.390625 27.6875 48.390625 \nQ 23 48.390625 18.546875 47.265625 \nQ 14.109375 46.140625 10.015625 43.890625 \nL 10.015625 52.203125 \nQ 14.9375 54.109375 19.578125 55.046875 \nQ 24.21875 56 28.609375 56 \nQ 40.484375 56 46.34375 49.84375 \nQ 52.203125 43.703125 52.203125 31.203125 \nz\n\" id=\"DejaVuSans-97\"/>\n      </defs>\n      <use xlink:href=\"#DejaVuSans-118\"/>\n      <use x=\"59.179688\" xlink:href=\"#DejaVuSans-101\"/>\n      <use x=\"120.703125\" xlink:href=\"#DejaVuSans-114\"/>\n      <use x=\"161.816406\" xlink:href=\"#DejaVuSans-116\"/>\n      <use x=\"201.025391\" xlink:href=\"#DejaVuSans-101\"/>\n      <use x=\"262.548828\" xlink:href=\"#DejaVuSans-98\"/>\n      <use x=\"326.025391\" xlink:href=\"#DejaVuSans-114\"/>\n      <use x=\"367.138672\" xlink:href=\"#DejaVuSans-97\"/>\n      <use x=\"428.417969\" xlink:href=\"#DejaVuSans-116\"/>\n      <use x=\"467.626953\" xlink:href=\"#DejaVuSans-101\"/>\n     </g>\n    </g>\n   </g>\n   <g id=\"text_2\">\n    <g clip-path=\"url(#p3178116612)\">\n     <!-- mammal -->\n     <g transform=\"translate(39.689778 252.005716)scale(0.12 -0.12)\">\n      <defs>\n       <path d=\"M 52 44.1875 \nQ 55.375 50.25 60.0625 53.125 \nQ 64.75 56 71.09375 56 \nQ 79.640625 56 84.28125 50.015625 \nQ 88.921875 44.046875 88.921875 33.015625 \nL 88.921875 0 \nL 79.890625 0 \nL 79.890625 32.71875 \nQ 79.890625 40.578125 77.09375 44.375 \nQ 74.3125 48.1875 68.609375 48.1875 \nQ 61.625 48.1875 57.5625 43.546875 \nQ 53.515625 38.921875 53.515625 30.90625 \nL 53.515625 0 \nL 44.484375 0 \nL 44.484375 32.71875 \nQ 44.484375 40.625 41.703125 44.40625 \nQ 38.921875 48.1875 33.109375 48.1875 \nQ 26.21875 48.1875 22.15625 43.53125 \nQ 18.109375 38.875 18.109375 30.90625 \nL 18.109375 0 \nL 9.078125 0 \nL 9.078125 54.6875 \nL 18.109375 54.6875 \nL 18.109375 46.1875 \nQ 21.1875 51.21875 25.484375 53.609375 \nQ 29.78125 56 35.6875 56 \nQ 41.65625 56 45.828125 52.96875 \nQ 50 49.953125 52 44.1875 \nz\n\" id=\"DejaVuSans-109\"/>\n       <path d=\"M 9.421875 75.984375 \nL 18.40625 75.984375 \nL 18.40625 0 \nL 9.421875 0 \nz\n\" id=\"DejaVuSans-108\"/>\n      </defs>\n      <use xlink:href=\"#DejaVuSans-109\"/>\n      <use x=\"97.412109\" xlink:href=\"#DejaVuSans-97\"/>\n      <use x=\"158.691406\" xlink:href=\"#DejaVuSans-109\"/>\n      <use x=\"256.103516\" xlink:href=\"#DejaVuSans-109\"/>\n      <use x=\"353.515625\" xlink:href=\"#DejaVuSans-97\"/>\n      <use x=\"414.794922\" xlink:href=\"#DejaVuSans-108\"/>\n     </g>\n    </g>\n   </g>\n   <g id=\"text_3\">\n    <g clip-path=\"url(#p3178116612)\">\n     <!-- placental -->\n     <g transform=\"translate(77.874687 255.320638)scale(0.12 -0.12)\">\n      <defs>\n       <path d=\"M 18.109375 8.203125 \nL 18.109375 -20.796875 \nL 9.078125 -20.796875 \nL 9.078125 54.6875 \nL 18.109375 54.6875 \nL 18.109375 46.390625 \nQ 20.953125 51.265625 25.265625 53.625 \nQ 29.59375 56 35.59375 56 \nQ 45.5625 56 51.78125 48.09375 \nQ 58.015625 40.1875 58.015625 27.296875 \nQ 58.015625 14.40625 51.78125 6.484375 \nQ 45.5625 -1.421875 35.59375 -1.421875 \nQ 29.59375 -1.421875 25.265625 0.953125 \nQ 20.953125 3.328125 18.109375 8.203125 \nz\nM 48.6875 27.296875 \nQ 48.6875 37.203125 44.609375 42.84375 \nQ 40.53125 48.484375 33.40625 48.484375 \nQ 26.265625 48.484375 22.1875 42.84375 \nQ 18.109375 37.203125 18.109375 27.296875 \nQ 18.109375 17.390625 22.1875 11.75 \nQ 26.265625 6.109375 33.40625 6.109375 \nQ 40.53125 6.109375 44.609375 11.75 \nQ 48.6875 17.390625 48.6875 27.296875 \nz\n\" id=\"DejaVuSans-112\"/>\n       <path d=\"M 48.78125 52.59375 \nL 48.78125 44.1875 \nQ 44.96875 46.296875 41.140625 47.34375 \nQ 37.3125 48.390625 33.40625 48.390625 \nQ 24.65625 48.390625 19.8125 42.84375 \nQ 14.984375 37.3125 14.984375 27.296875 \nQ 14.984375 17.28125 19.8125 11.734375 \nQ 24.65625 6.203125 33.40625 6.203125 \nQ 37.3125 6.203125 41.140625 7.25 \nQ 44.96875 8.296875 48.78125 10.40625 \nL 48.78125 2.09375 \nQ 45.015625 0.34375 40.984375 -0.53125 \nQ 36.96875 -1.421875 32.421875 -1.421875 \nQ 20.0625 -1.421875 12.78125 6.34375 \nQ 5.515625 14.109375 5.515625 27.296875 \nQ 5.515625 40.671875 12.859375 48.328125 \nQ 20.21875 56 33.015625 56 \nQ 37.15625 56 41.109375 55.140625 \nQ 45.0625 54.296875 48.78125 52.59375 \nz\n\" id=\"DejaVuSans-99\"/>\n       <path d=\"M 54.890625 33.015625 \nL 54.890625 0 \nL 45.90625 0 \nL 45.90625 32.71875 \nQ 45.90625 40.484375 42.875 44.328125 \nQ 39.84375 48.1875 33.796875 48.1875 \nQ 26.515625 48.1875 22.3125 43.546875 \nQ 18.109375 38.921875 18.109375 30.90625 \nL 18.109375 0 \nL 9.078125 0 \nL 9.078125 54.6875 \nL 18.109375 54.6875 \nL 18.109375 46.1875 \nQ 21.34375 51.125 25.703125 53.5625 \nQ 30.078125 56 35.796875 56 \nQ 45.21875 56 50.046875 50.171875 \nQ 54.890625 44.34375 54.890625 33.015625 \nz\n\" id=\"DejaVuSans-110\"/>\n      </defs>\n      <use xlink:href=\"#DejaVuSans-112\"/>\n      <use x=\"63.476562\" xlink:href=\"#DejaVuSans-108\"/>\n      <use x=\"91.259766\" xlink:href=\"#DejaVuSans-97\"/>\n      <use x=\"152.539062\" xlink:href=\"#DejaVuSans-99\"/>\n      <use x=\"207.519531\" xlink:href=\"#DejaVuSans-101\"/>\n      <use x=\"269.042969\" xlink:href=\"#DejaVuSans-110\"/>\n      <use x=\"332.421875\" xlink:href=\"#DejaVuSans-116\"/>\n      <use x=\"371.630859\" xlink:href=\"#DejaVuSans-97\"/>\n      <use x=\"432.910156\" xlink:href=\"#DejaVuSans-108\"/>\n     </g>\n    </g>\n   </g>\n   <g id=\"text_4\">\n    <g clip-path=\"url(#p3178116612)\">\n     <!-- cow -->\n     <g transform=\"translate(180.585295 285.420341)scale(0.12 -0.12)\">\n      <defs>\n       <path d=\"M 30.609375 48.390625 \nQ 23.390625 48.390625 19.1875 42.75 \nQ 14.984375 37.109375 14.984375 27.296875 \nQ 14.984375 17.484375 19.15625 11.84375 \nQ 23.34375 6.203125 30.609375 6.203125 \nQ 37.796875 6.203125 41.984375 11.859375 \nQ 46.1875 17.53125 46.1875 27.296875 \nQ 46.1875 37.015625 41.984375 42.703125 \nQ 37.796875 48.390625 30.609375 48.390625 \nz\nM 30.609375 56 \nQ 42.328125 56 49.015625 48.375 \nQ 55.71875 40.765625 55.71875 27.296875 \nQ 55.71875 13.875 49.015625 6.21875 \nQ 42.328125 -1.421875 30.609375 -1.421875 \nQ 18.84375 -1.421875 12.171875 6.21875 \nQ 5.515625 13.875 5.515625 27.296875 \nQ 5.515625 40.765625 12.171875 48.375 \nQ 18.84375 56 30.609375 56 \nz\n\" id=\"DejaVuSans-111\"/>\n       <path d=\"M 4.203125 54.6875 \nL 13.1875 54.6875 \nL 24.421875 12.015625 \nL 35.59375 54.6875 \nL 46.1875 54.6875 \nL 57.421875 12.015625 \nL 68.609375 54.6875 \nL 77.59375 54.6875 \nL 63.28125 0 \nL 52.6875 0 \nL 40.921875 44.828125 \nL 29.109375 0 \nL 18.5 0 \nz\n\" id=\"DejaVuSans-119\"/>\n      </defs>\n      <use xlink:href=\"#DejaVuSans-99\"/>\n      <use x=\"54.980469\" xlink:href=\"#DejaVuSans-111\"/>\n      <use x=\"116.162109\" xlink:href=\"#DejaVuSans-119\"/>\n     </g>\n    </g>\n   </g>\n   <g id=\"text_5\">\n    <g clip-path=\"url(#p3178116612)\">\n     <!-- rodent -->\n     <g transform=\"translate(80.857799 231.405106)scale(0.12 -0.12)\">\n      <defs>\n       <path d=\"M 45.40625 46.390625 \nL 45.40625 75.984375 \nL 54.390625 75.984375 \nL 54.390625 0 \nL 45.40625 0 \nL 45.40625 8.203125 \nQ 42.578125 3.328125 38.25 0.953125 \nQ 33.9375 -1.421875 27.875 -1.421875 \nQ 17.96875 -1.421875 11.734375 6.484375 \nQ 5.515625 14.40625 5.515625 27.296875 \nQ 5.515625 40.1875 11.734375 48.09375 \nQ 17.96875 56 27.875 56 \nQ 33.9375 56 38.25 53.625 \nQ 42.578125 51.265625 45.40625 46.390625 \nz\nM 14.796875 27.296875 \nQ 14.796875 17.390625 18.875 11.75 \nQ 22.953125 6.109375 30.078125 6.109375 \nQ 37.203125 6.109375 41.296875 11.75 \nQ 45.40625 17.390625 45.40625 27.296875 \nQ 45.40625 37.203125 41.296875 42.84375 \nQ 37.203125 48.484375 30.078125 48.484375 \nQ 22.953125 48.484375 18.875 42.84375 \nQ 14.796875 37.203125 14.796875 27.296875 \nz\n\" id=\"DejaVuSans-100\"/>\n      </defs>\n      <use xlink:href=\"#DejaVuSans-114\"/>\n      <use x=\"38.863281\" xlink:href=\"#DejaVuSans-111\"/>\n      <use x=\"100.044922\" xlink:href=\"#DejaVuSans-100\"/>\n      <use x=\"163.521484\" xlink:href=\"#DejaVuSans-101\"/>\n      <use x=\"225.044922\" xlink:href=\"#DejaVuSans-110\"/>\n      <use x=\"288.423828\" xlink:href=\"#DejaVuSans-116\"/>\n     </g>\n    </g>\n   </g>\n   <g id=\"text_6\">\n    <g clip-path=\"url(#p3178116612)\">\n     <!-- rat -->\n     <g transform=\"translate(88.999407 242.571937)scale(0.12 -0.12)\">\n      <use xlink:href=\"#DejaVuSans-114\"/>\n      <use x=\"41.113281\" xlink:href=\"#DejaVuSans-97\"/>\n      <use x=\"102.392578\" xlink:href=\"#DejaVuSans-116\"/>\n     </g>\n    </g>\n   </g>\n   <g id=\"text_7\">\n    <g clip-path=\"url(#p3178116612)\">\n     <!-- marsupial -->\n     <g transform=\"translate(98.088696 227.09233)scale(0.12 -0.12)\">\n      <defs>\n       <path d=\"M 44.28125 53.078125 \nL 44.28125 44.578125 \nQ 40.484375 46.53125 36.375 47.5 \nQ 32.28125 48.484375 27.875 48.484375 \nQ 21.1875 48.484375 17.84375 46.4375 \nQ 14.5 44.390625 14.5 40.28125 \nQ 14.5 37.15625 16.890625 35.375 \nQ 19.28125 33.59375 26.515625 31.984375 \nL 29.59375 31.296875 \nQ 39.15625 29.25 43.1875 25.515625 \nQ 47.21875 21.78125 47.21875 15.09375 \nQ 47.21875 7.46875 41.1875 3.015625 \nQ 35.15625 -1.421875 24.609375 -1.421875 \nQ 20.21875 -1.421875 15.453125 -0.5625 \nQ 10.6875 0.296875 5.421875 2 \nL 5.421875 11.28125 \nQ 10.40625 8.6875 15.234375 7.390625 \nQ 20.0625 6.109375 24.8125 6.109375 \nQ 31.15625 6.109375 34.5625 8.28125 \nQ 37.984375 10.453125 37.984375 14.40625 \nQ 37.984375 18.0625 35.515625 20.015625 \nQ 33.0625 21.96875 24.703125 23.78125 \nL 21.578125 24.515625 \nQ 13.234375 26.265625 9.515625 29.90625 \nQ 5.8125 33.546875 5.8125 39.890625 \nQ 5.8125 47.609375 11.28125 51.796875 \nQ 16.75 56 26.8125 56 \nQ 31.78125 56 36.171875 55.265625 \nQ 40.578125 54.546875 44.28125 53.078125 \nz\n\" id=\"DejaVuSans-115\"/>\n       <path d=\"M 8.5 21.578125 \nL 8.5 54.6875 \nL 17.484375 54.6875 \nL 17.484375 21.921875 \nQ 17.484375 14.15625 20.5 10.265625 \nQ 23.53125 6.390625 29.59375 6.390625 \nQ 36.859375 6.390625 41.078125 11.03125 \nQ 45.3125 15.671875 45.3125 23.6875 \nL 45.3125 54.6875 \nL 54.296875 54.6875 \nL 54.296875 0 \nL 45.3125 0 \nL 45.3125 8.40625 \nQ 42.046875 3.421875 37.71875 1 \nQ 33.40625 -1.421875 27.6875 -1.421875 \nQ 18.265625 -1.421875 13.375 4.4375 \nQ 8.5 10.296875 8.5 21.578125 \nz\nM 31.109375 56 \nz\n\" id=\"DejaVuSans-117\"/>\n       <path d=\"M 9.421875 54.6875 \nL 18.40625 54.6875 \nL 18.40625 0 \nL 9.421875 0 \nz\nM 9.421875 75.984375 \nL 18.40625 75.984375 \nL 18.40625 64.59375 \nL 9.421875 64.59375 \nz\n\" id=\"DejaVuSans-105\"/>\n      </defs>\n      <use xlink:href=\"#DejaVuSans-109\"/>\n      <use x=\"97.412109\" xlink:href=\"#DejaVuSans-97\"/>\n      <use x=\"158.691406\" xlink:href=\"#DejaVuSans-114\"/>\n      <use x=\"199.804688\" xlink:href=\"#DejaVuSans-115\"/>\n      <use x=\"251.904297\" xlink:href=\"#DejaVuSans-117\"/>\n      <use x=\"315.283203\" xlink:href=\"#DejaVuSans-112\"/>\n      <use x=\"378.759766\" xlink:href=\"#DejaVuSans-105\"/>\n      <use x=\"406.542969\" xlink:href=\"#DejaVuSans-97\"/>\n      <use x=\"467.822266\" xlink:href=\"#DejaVuSans-108\"/>\n     </g>\n    </g>\n   </g>\n   <g id=\"text_8\">\n    <g clip-path=\"url(#p3178116612)\">\n     <!-- kangaroo -->\n     <g transform=\"translate(143.58789 241.393893)scale(0.12 -0.12)\">\n      <defs>\n       <path d=\"M 9.078125 75.984375 \nL 18.109375 75.984375 \nL 18.109375 31.109375 \nL 44.921875 54.6875 \nL 56.390625 54.6875 \nL 27.390625 29.109375 \nL 57.625 0 \nL 45.90625 0 \nL 18.109375 26.703125 \nL 18.109375 0 \nL 9.078125 0 \nz\n\" id=\"DejaVuSans-107\"/>\n       <path d=\"M 45.40625 27.984375 \nQ 45.40625 37.75 41.375 43.109375 \nQ 37.359375 48.484375 30.078125 48.484375 \nQ 22.859375 48.484375 18.828125 43.109375 \nQ 14.796875 37.75 14.796875 27.984375 \nQ 14.796875 18.265625 18.828125 12.890625 \nQ 22.859375 7.515625 30.078125 7.515625 \nQ 37.359375 7.515625 41.375 12.890625 \nQ 45.40625 18.265625 45.40625 27.984375 \nz\nM 54.390625 6.78125 \nQ 54.390625 -7.171875 48.1875 -13.984375 \nQ 42 -20.796875 29.203125 -20.796875 \nQ 24.46875 -20.796875 20.265625 -20.09375 \nQ 16.0625 -19.390625 12.109375 -17.921875 \nL 12.109375 -9.1875 \nQ 16.0625 -11.328125 19.921875 -12.34375 \nQ 23.78125 -13.375 27.78125 -13.375 \nQ 36.625 -13.375 41.015625 -8.765625 \nQ 45.40625 -4.15625 45.40625 5.171875 \nL 45.40625 9.625 \nQ 42.625 4.78125 38.28125 2.390625 \nQ 33.9375 0 27.875 0 \nQ 17.828125 0 11.671875 7.65625 \nQ 5.515625 15.328125 5.515625 27.984375 \nQ 5.515625 40.671875 11.671875 48.328125 \nQ 17.828125 56 27.875 56 \nQ 33.9375 56 38.28125 53.609375 \nQ 42.625 51.21875 45.40625 46.390625 \nL 45.40625 54.6875 \nL 54.390625 54.6875 \nz\n\" id=\"DejaVuSans-103\"/>\n      </defs>\n      <use xlink:href=\"#DejaVuSans-107\"/>\n      <use x=\"56.160156\" xlink:href=\"#DejaVuSans-97\"/>\n      <use x=\"117.439453\" xlink:href=\"#DejaVuSans-110\"/>\n      <use x=\"180.818359\" xlink:href=\"#DejaVuSans-103\"/>\n      <use x=\"244.294922\" xlink:href=\"#DejaVuSans-97\"/>\n      <use x=\"305.574219\" xlink:href=\"#DejaVuSans-114\"/>\n      <use x=\"344.4375\" xlink:href=\"#DejaVuSans-111\"/>\n      <use x=\"405.619141\" xlink:href=\"#DejaVuSans-111\"/>\n     </g>\n    </g>\n   </g>\n   <g id=\"text_9\">\n    <g clip-path=\"url(#p3178116612)\">\n     <!-- reptile -->\n     <g transform=\"translate(113.626705 244.067382)scale(0.12 -0.12)\">\n      <use xlink:href=\"#DejaVuSans-114\"/>\n      <use x=\"38.863281\" xlink:href=\"#DejaVuSans-101\"/>\n      <use x=\"100.386719\" xlink:href=\"#DejaVuSans-112\"/>\n      <use x=\"163.863281\" xlink:href=\"#DejaVuSans-116\"/>\n      <use x=\"203.072266\" xlink:href=\"#DejaVuSans-105\"/>\n      <use x=\"230.855469\" xlink:href=\"#DejaVuSans-108\"/>\n      <use x=\"258.638672\" xlink:href=\"#DejaVuSans-101\"/>\n     </g>\n    </g>\n   </g>\n   <g id=\"text_10\">\n    <g clip-path=\"url(#p3178116612)\">\n     <!-- diapsid -->\n     <g transform=\"translate(103.827363 252.654166)scale(0.12 -0.12)\">\n      <use xlink:href=\"#DejaVuSans-100\"/>\n      <use x=\"63.476562\" xlink:href=\"#DejaVuSans-105\"/>\n      <use x=\"91.259766\" xlink:href=\"#DejaVuSans-97\"/>\n      <use x=\"152.539062\" xlink:href=\"#DejaVuSans-112\"/>\n      <use x=\"216.015625\" xlink:href=\"#DejaVuSans-115\"/>\n      <use x=\"268.115234\" xlink:href=\"#DejaVuSans-105\"/>\n      <use x=\"295.898438\" xlink:href=\"#DejaVuSans-100\"/>\n     </g>\n    </g>\n   </g>\n   <g id=\"text_11\">\n    <g clip-path=\"url(#p3178116612)\">\n     <!-- squirrel -->\n     <g transform=\"translate(77.283883 271.288406)scale(0.12 -0.12)\">\n      <defs>\n       <path d=\"M 14.796875 27.296875 \nQ 14.796875 17.390625 18.875 11.75 \nQ 22.953125 6.109375 30.078125 6.109375 \nQ 37.203125 6.109375 41.296875 11.75 \nQ 45.40625 17.390625 45.40625 27.296875 \nQ 45.40625 37.203125 41.296875 42.84375 \nQ 37.203125 48.484375 30.078125 48.484375 \nQ 22.953125 48.484375 18.875 42.84375 \nQ 14.796875 37.203125 14.796875 27.296875 \nz\nM 45.40625 8.203125 \nQ 42.578125 3.328125 38.25 0.953125 \nQ 33.9375 -1.421875 27.875 -1.421875 \nQ 17.96875 -1.421875 11.734375 6.484375 \nQ 5.515625 14.40625 5.515625 27.296875 \nQ 5.515625 40.1875 11.734375 48.09375 \nQ 17.96875 56 27.875 56 \nQ 33.9375 56 38.25 53.625 \nQ 42.578125 51.265625 45.40625 46.390625 \nL 45.40625 54.6875 \nL 54.390625 54.6875 \nL 54.390625 -20.796875 \nL 45.40625 -20.796875 \nz\n\" id=\"DejaVuSans-113\"/>\n      </defs>\n      <use xlink:href=\"#DejaVuSans-115\"/>\n      <use x=\"52.099609\" xlink:href=\"#DejaVuSans-113\"/>\n      <use x=\"115.576172\" xlink:href=\"#DejaVuSans-117\"/>\n      <use x=\"178.955078\" xlink:href=\"#DejaVuSans-105\"/>\n      <use x=\"206.738281\" xlink:href=\"#DejaVuSans-114\"/>\n      <use x=\"246.101562\" xlink:href=\"#DejaVuSans-114\"/>\n      <use x=\"284.964844\" xlink:href=\"#DejaVuSans-101\"/>\n      <use x=\"346.488281\" xlink:href=\"#DejaVuSans-108\"/>\n     </g>\n    </g>\n   </g>\n   <g id=\"text_12\">\n    <g clip-path=\"url(#p3178116612)\">\n     <!-- snake -->\n     <g transform=\"translate(117.525425 277.833424)scale(0.12 -0.12)\">\n      <use xlink:href=\"#DejaVuSans-115\"/>\n      <use x=\"52.099609\" xlink:href=\"#DejaVuSans-110\"/>\n      <use x=\"115.478516\" xlink:href=\"#DejaVuSans-97\"/>\n      <use x=\"176.757812\" xlink:href=\"#DejaVuSans-107\"/>\n      <use x=\"231.042969\" xlink:href=\"#DejaVuSans-101\"/>\n     </g>\n    </g>\n   </g>\n   <g id=\"text_13\">\n    <g clip-path=\"url(#p3178116612)\">\n     <!-- crocodilian -->\n     <g transform=\"translate(-5.724886 23.602159)scale(0.12 -0.12)\">\n      <use xlink:href=\"#DejaVuSans-99\"/>\n      <use x=\"54.980469\" xlink:href=\"#DejaVuSans-114\"/>\n      <use x=\"93.84375\" xlink:href=\"#DejaVuSans-111\"/>\n      <use x=\"155.025391\" xlink:href=\"#DejaVuSans-99\"/>\n      <use x=\"210.005859\" xlink:href=\"#DejaVuSans-111\"/>\n      <use x=\"271.1875\" xlink:href=\"#DejaVuSans-100\"/>\n      <use x=\"334.664062\" xlink:href=\"#DejaVuSans-105\"/>\n      <use x=\"362.447266\" xlink:href=\"#DejaVuSans-108\"/>\n      <use x=\"390.230469\" xlink:href=\"#DejaVuSans-105\"/>\n      <use x=\"418.013672\" xlink:href=\"#DejaVuSans-97\"/>\n      <use x=\"479.292969\" xlink:href=\"#DejaVuSans-110\"/>\n     </g>\n    </g>\n   </g>\n   <g id=\"text_14\">\n    <g clip-path=\"url(#p3178116612)\">\n     <!-- turtle -->\n     <g transform=\"translate(403.231449 203.325225)scale(0.12 -0.12)\">\n      <use xlink:href=\"#DejaVuSans-116\"/>\n      <use x=\"39.208984\" xlink:href=\"#DejaVuSans-117\"/>\n      <use x=\"102.587891\" xlink:href=\"#DejaVuSans-114\"/>\n      <use x=\"143.701172\" xlink:href=\"#DejaVuSans-116\"/>\n      <use x=\"182.910156\" xlink:href=\"#DejaVuSans-108\"/>\n      <use x=\"210.693359\" xlink:href=\"#DejaVuSans-101\"/>\n     </g>\n    </g>\n   </g>\n  </g>\n </g>\n <defs>\n  <clipPath id=\"p3178116612\">\n   <rect height=\"288\" width=\"432\" x=\"7.2\" y=\"7.2\"/>\n  </clipPath>\n </defs>\n</svg>\n",
            "image/png": "[encoded data removed]"
          },
          "metadata": {}
        }
      ]
    },
    {
      "source": [
        "### Profiling"
      ],
      "cell_type": "markdown",
      "metadata": {}
    },
    {
      "cell_type": "code",
      "execution_count": 23,
      "metadata": {},
      "outputs": [
        {
          "output_type": "stream",
          "text": [
            "Timer unit: 1e-06 s\n",
            "\n",
            "Total time: 14.919 s\n",
            "File: /home/clement/Desktop/taxonomy-project/graph.py\n",
            "Function: __init__ at line 56\n",
            "\n",
            "Line #      Hits         Time  Per Hit   % Time  Line Contents\n",
            "==============================================================\n",
            "    56                                               def __init__(self, dic_nodes, edge_names):\n",
            "    57                                                   \"\"\"\n",
            "    58                                                   dic_nodes : dictionnary mapping the name of each node to the node.\n",
            "    59                                                   edge_name : list containing the list of the form [node_name_1,node_name_2]\n",
            "    60                                                               There is no need to put the nodes in both directions.\n",
            "    61                                                   \"\"\"\n",
            "    62                                                   # We work with node NAMES and edge POINTERS\n",
            "    63        54        173.0      3.2      0.0          self.dic_nodes = dic_nodes  # Maps names to nodes\n",
            "    64       108      49983.0    462.8      0.3          self.edges = [Edge(dic_nodes[node_name_1], dic_nodes[node_name_2])\n",
            "    65        54         51.0      0.9      0.0                        for (node_name_1, node_name_2) in edge_names]\n",
            "    66       108      52630.0    487.3      0.4          self.edges += [Edge(dic_nodes[node_name_2], dic_nodes[node_name_1])\n",
            "    67        54         52.0      1.0      0.0                         for (node_name_1, node_name_2) in edge_names]\n",
            "    68                                           \n",
            "    69                                                   # Construction of the neighboring_nodes for all nodes\n",
            "    70                                                   # Because the graph is bipartite, the neighboring nodes of\n",
            "    71                                                   # V nodes are F nodes and reciprocaly.\n",
            "    72                                           \n",
            "    73                                                   # Vocab : INCOMING of a NODE\n",
            "    74                                                   # and ANTECEDENT of an EDGE\n",
            "    75                                           \n",
            "    76                                                   # self.incoming_edges = {}  # maps name of the node to list of incoming edges\n",
            "    77                                                   # for name, node in dic_nodes.items():\n",
            "    78                                                   #     incoming = [e for e in self.edges if e.nodes[1].name == name]\n",
            "    79                                                   #     self.incoming_edges[name] = incoming\n",
            "    80       108    2646842.0  24507.8     17.7          self.incoming_edges = {\n",
            "    81                                                       name: [e for e in self.edges if e.nodes[1].name == name]\n",
            "    82        54         93.0      1.7      0.0              for name, _ in dic_nodes.items()}\n",
            "    83       108   12169106.0 112676.9     81.6          self.antecedant_edges = [\n",
            "    84                                                       [\n",
            "    85                                                           ant_edge for ant_edge in self.edges\n",
            "    86                                                               if (# antecedent property\n",
            "    87                                                                   ant_edge.nodes[1].name == edge.nodes[0].name and\n",
            "    88                                                                   # Not inverse edge\n",
            "    89                                                                   ant_edge.nodes[0].name != edge.nodes[1].name)\n",
            "    90                                                       ]\n",
            "    91        54         57.0      1.1      0.0              for edge in self.edges\n",
            "    92                                                   ]"
          ],
          "name": "stdout"
        }
      ],
      "source": [
        "from graph import Graph\n",
        "%load_ext line_profiler\n",
        "taxonomy_module_lprun = TaxonomyModule(nb_features=53)\n",
        "%lprun -f Graph.__init__ taxonomy_module_lprun.train(train_df_graph, nb_epochs=1, lr=1e-3, bal_coef=5, verbose=False)"
      ]
    },
    {
      "cell_type": "markdown",
      "metadata": {
        "id": "_Ho9uO3M1T0z"
      },
      "source": [
        "### Kirchhoff’s Matrix Tree Theorem (MTT)"
      ]
    },
    {
      "cell_type": "code",
      "metadata": {
        "colab": {
          "base_uri": "https://localhost:8080/"
        },
        "id": "s1wlYjm41VL9",
        "outputId": "d7d25ec4-8865-4520-b65c-86b4de0cf406"
      },
      "source": [
        "from networkx.linalg.laplacianmatrix import laplacian_matrix\n",
        "L_matrix = laplacian_matrix(G).todense()\n",
        "nb_covering_trees = np.linalg.det(L_matrix[1:,1:])\n",
        "nb_covering_trees"
      ],
      "execution_count": 28,
      "outputs": []
    }
  ]
}